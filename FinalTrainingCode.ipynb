{
  "nbformat": 4,
  "nbformat_minor": 0,
  "metadata": {
    "colab": {
      "provenance": [],
      "gpuType": "T4"
    },
    "kernelspec": {
      "name": "python3",
      "display_name": "Python 3"
    },
    "language_info": {
      "name": "python"
    },
    "accelerator": "GPU"
  },
  "cells": [
    {
      "cell_type": "code",
      "execution_count": null,
      "metadata": {
        "colab": {
          "base_uri": "https://localhost:8080/"
        },
        "id": "Ap3mnH64v1Cw",
        "outputId": "d7f98f56-df72-4754-af02-87a6ba4283d9"
      },
      "outputs": [
        {
          "output_type": "stream",
          "name": "stdout",
          "text": [
            "Mounted at /content/drive\n"
          ]
        }
      ],
      "source": [
        "import requests\n",
        "import json\n",
        "import torch\n",
        "import os\n",
        "from tqdm import tqdm\n",
        "\n",
        "from google.colab import drive\n",
        "drive.mount('/content/drive')"
      ]
    },
    {
      "cell_type": "markdown",
      "source": [
        "## connect google drive in order to save the model"
      ],
      "metadata": {
        "id": "XnYZkzJ7wczR"
      }
    },
    {
      "cell_type": "code",
      "source": [
        "if not os.path.exists('/content/drive/MyDrive/BERT-SQuAD'):\n",
        "  os.mkdir('/content/drive/MyDrive/BERT-SQuAD')\n"
      ],
      "metadata": {
        "id": "PHSraWJEwKJl"
      },
      "execution_count": null,
      "outputs": []
    },
    {
      "cell_type": "code",
      "source": [
        "!pip install transformers"
      ],
      "metadata": {
        "colab": {
          "base_uri": "https://localhost:8080/"
        },
        "id": "1BnHfJQ5wnKM",
        "outputId": "89b29258-3d6f-46d5-885b-48a86f2a25d4"
      },
      "execution_count": null,
      "outputs": [
        {
          "output_type": "stream",
          "name": "stdout",
          "text": [
            "Requirement already satisfied: transformers in /usr/local/lib/python3.10/dist-packages (4.35.2)\n",
            "Requirement already satisfied: filelock in /usr/local/lib/python3.10/dist-packages (from transformers) (3.13.1)\n",
            "Requirement already satisfied: huggingface-hub<1.0,>=0.16.4 in /usr/local/lib/python3.10/dist-packages (from transformers) (0.19.4)\n",
            "Requirement already satisfied: numpy>=1.17 in /usr/local/lib/python3.10/dist-packages (from transformers) (1.23.5)\n",
            "Requirement already satisfied: packaging>=20.0 in /usr/local/lib/python3.10/dist-packages (from transformers) (23.2)\n",
            "Requirement already satisfied: pyyaml>=5.1 in /usr/local/lib/python3.10/dist-packages (from transformers) (6.0.1)\n",
            "Requirement already satisfied: regex!=2019.12.17 in /usr/local/lib/python3.10/dist-packages (from transformers) (2023.6.3)\n",
            "Requirement already satisfied: requests in /usr/local/lib/python3.10/dist-packages (from transformers) (2.31.0)\n",
            "Requirement already satisfied: tokenizers<0.19,>=0.14 in /usr/local/lib/python3.10/dist-packages (from transformers) (0.15.0)\n",
            "Requirement already satisfied: safetensors>=0.3.1 in /usr/local/lib/python3.10/dist-packages (from transformers) (0.4.1)\n",
            "Requirement already satisfied: tqdm>=4.27 in /usr/local/lib/python3.10/dist-packages (from transformers) (4.66.1)\n",
            "Requirement already satisfied: fsspec>=2023.5.0 in /usr/local/lib/python3.10/dist-packages (from huggingface-hub<1.0,>=0.16.4->transformers) (2023.6.0)\n",
            "Requirement already satisfied: typing-extensions>=3.7.4.3 in /usr/local/lib/python3.10/dist-packages (from huggingface-hub<1.0,>=0.16.4->transformers) (4.5.0)\n",
            "Requirement already satisfied: charset-normalizer<4,>=2 in /usr/local/lib/python3.10/dist-packages (from requests->transformers) (3.3.2)\n",
            "Requirement already satisfied: idna<4,>=2.5 in /usr/local/lib/python3.10/dist-packages (from requests->transformers) (3.6)\n",
            "Requirement already satisfied: urllib3<3,>=1.21.1 in /usr/local/lib/python3.10/dist-packages (from requests->transformers) (2.0.7)\n",
            "Requirement already satisfied: certifi>=2017.4.17 in /usr/local/lib/python3.10/dist-packages (from requests->transformers) (2023.11.17)\n"
          ]
        }
      ]
    },
    {
      "cell_type": "markdown",
      "source": [
        "## Download Squad 2.0"
      ],
      "metadata": {
        "id": "MlpZTPiswsJd"
      }
    },
    {
      "cell_type": "code",
      "source": [
        "#loading training dataset and take a look at it\n",
        "with open('/content/drive/MyDrive/chatbot/bertN_B_train.json','rb') as f:\n",
        "  squad = json.load(f)"
      ],
      "metadata": {
        "id": "R7DlTW0VwqDc"
      },
      "execution_count": null,
      "outputs": []
    },
    {
      "cell_type": "code",
      "source": [
        "#each 'data has two keys(title and paragraphs)\n",
        "squad['data'][0].keys()"
      ],
      "metadata": {
        "colab": {
          "base_uri": "https://localhost:8080/"
        },
        "id": "nN1ov0Oew4-r",
        "outputId": "b83d6d53-d11a-4dd6-9da8-b35eb8c36ab0"
      },
      "execution_count": null,
      "outputs": [
        {
          "output_type": "execute_result",
          "data": {
            "text/plain": [
              "dict_keys(['title', 'paragraphs'])"
            ]
          },
          "metadata": {},
          "execution_count": 5
        }
      ]
    },
    {
      "cell_type": "markdown",
      "source": [
        "After we got a taste of the jsons files data format let's extract our data and store them into some data structures."
      ],
      "metadata": {
        "id": "D7oZ64AszVAL"
      }
    },
    {
      "cell_type": "code",
      "source": [
        "def read_data(path):\n",
        "  # load the json file\n",
        "  with open(path, 'rb') as f:\n",
        "    squad = json.load(f)\n",
        "\n",
        "  contexts = []\n",
        "  questions = []\n",
        "  answers = []\n",
        "\n",
        "  for group in squad['data']:\n",
        "    for passage in group['paragraphs']:\n",
        "      context = passage['context']\n",
        "      for qa in passage['qas']:\n",
        "        question = qa['question']\n",
        "        for answer in qa['answers']:\n",
        "          contexts.append(context)\n",
        "          questions.append(question)\n",
        "          answers.append(answer)\n",
        "\n",
        "  return contexts, questions, answers"
      ],
      "metadata": {
        "id": "-q5pvPWZxYOL"
      },
      "execution_count": null,
      "outputs": []
    },
    {
      "cell_type": "markdown",
      "source": [
        "Put the contexts, questions and answers for training and validation into the appropriate lists."
      ],
      "metadata": {
        "id": "tVG4MoKN0ACD"
      }
    },
    {
      "cell_type": "code",
      "source": [
        "train_contexts, train_questions, train_answers = read_data('/content/drive/MyDrive/chatbot/bertN_B_train.json')\n",
        "valid_contexts, valid_questions, valid_answers = read_data('/content/drive/MyDrive/chatbot/bertN_B_test.json')"
      ],
      "metadata": {
        "id": "UpxfEM_iz-We"
      },
      "execution_count": null,
      "outputs": []
    },
    {
      "cell_type": "code",
      "source": [
        "# print a random question and answer\n",
        "print(f'There are {len(valid_questions)} questions')\n",
        "print(valid_questions[2])\n",
        "print(valid_contexts[2])"
      ],
      "metadata": {
        "colab": {
          "base_uri": "https://localhost:8080/"
        },
        "id": "UedRGKGU0KiM",
        "outputId": "6ed49246-e10f-454b-89dd-aaa413ccebfc"
      },
      "execution_count": null,
      "outputs": [
        {
          "output_type": "stream",
          "name": "stdout",
          "text": [
            "There are 65 questions\n",
            "Can you pinpoint where exactly the Bhairavanath Temple is situated within Bhaktapur?\n",
            "Bhairavanath temple is one of the temples that lies at the central of Bhaktapur, Taumadhii Square and Bhairavanath Temple is built in the pagoda style and It is three-storey. It is one of the temple devoted to Lord Bhairava is one of the rectangular based temples of Bhaktapur. Curiously, there is no entrance on the temple's lengthy west facade that faces the square. Instead, priests access the interior from the south. The west facade is largely symmetrical and features a ground-level shrine with Bhairav depicted in miniature on a small metal throne. Michael Hutt notes that this small statue is frequently stolen and replaced. To either side of the deity are hammered copper plates depicting Bhairav's eyes, two pairs of hands, and two dogs and his faithful companions. At present, perhaps to discourage theft, the ground-level shrine is blocked from casual access by a makeshift wooden barricade. The temple is dedicated to lord Bhairav, which is supposed to be the most ferocious form of Lord Shiva. The Bhairavanath established in this temple is a formidable incarnation of lord shiva, who also prefers to name Kasi Vishwanath and Aakash bhairava. He is somehow famous for his obstreperous and stubborn character. Bhairav has a particular fascination with machines and is often thought to inhabit wheels, with different versions of the god inhabiting different wheels on the same chariot. At the Bhairavanath temple, a chariot used in the annual Bisket-Jatra festival is stored, dismantled, against the temple's north wall. Bhairavanath's association with the chariot used in the festival highlights his connection to the annual Bisket-Jatra festival. The statue of Lord Bhairav is about 12 feet long and is one of the largest statues in Kathmandu Valley. Thousands of people visit Bhairavanath temple during Bhairav Ashtami or Bhairav Jayanthi as it is celebrated religiously.  Even though the temple was slightly damaged during the earthquake in November 2015, it still has retrained most of structure. The Renovative history of Bhairavanath Temple says that The temple was first inaugurated by King Ananda Deva in the 13th century. However, that area, before the establishment of the temple was already popular for the Shaivism pilgrims. It was well known as Lalitmaheshwor. Regarding which there are inscriptions found in the temple. But, it was definitely not triple-roofed, then. During the reign of King Vishwa Malla, the temple was gracefully restored in a one-storeyed temple.After, King Jagatjyoti Malla decorated it with golden roofs. Likewise, in N.S. 788, King Jagat Prakash Malla established his own image along with his minister Chandrashekhar in the temple while having a grand worshipping. Later on, King Bhupatindra Malla modified it into a triple roofed temple at around N.S. 837-38 (1718 AD) and added the seven golden pinnacles in it. The reconstruction took time after the engineering of the Nyatapola temple. By worse luck, the devasting earthquake of 1934AD collapsed it.  And optimistically reassembled in the same structure. The ruinous earthquake of April 2015 again, made this temple renovated. It also destroyed the tiny way, passing through the betal temple. That ultimately leads toward the interior part of the Bhairavanath temple. There are legends about the temple. The inner part of the temple consists of the head of Lord Bhairav. There are many stories as to why and how Lord Bhairav’s head was cut off and worshipped here. According to legend, long ago, Kasi Bhairabnath  traveled to Nepal to view either the Bisket Jatra  or the Bal Kaumari Jatra. A tantric priestess in the crowd recognized him for what he was and attempted to immobilize him, but Vishvanath sought to escape by sinking into the ground. As his body descended into the earth, the priestess realized the god was her own husband. To prevent his escape, she ordered his head cut off where it protruded from the ground. Being a god, this was far from a fatal wound, and the priestess enshrined the head in the temple that now stands here. The body, meanwhile, returned to Benares whence it came. Dowman notes that a headless image of Bhairav is still worshipped there even today. Another story about this temple is also interesting, passed orally by our ancestors. According to this, the lord bhairava of Varanasi once visited Bhaktapur to see Bisket jatra. Bisket jatra is one of the biggest jatras of the newar people. During the festival, the lord Bhairava somehow was recognized by a priest and he just cast a decoy spell on him.  As a quick reaction, he started to sink into the terra firma to go back to Varanasi. But the priest didnot let him go. As if, he grabs the head of Bhairava in his hand and decollates him with his sword. That is why people say that the head doesnot match the body of Kasi Vishwanath. It is also believed that the head is still treasured in a box of this temple.\n"
          ]
        }
      ]
    },
    {
      "cell_type": "markdown",
      "source": [
        "As you can see above, the answers are dictionaries whith the answer text and an integer which indicates the start index of the answer in the context. As the SQuAD does not give us the end index of the answer in the context we have to find it ourselves. So, let's get the character position at which the answer ends in the passage. Note that sometimes SQuAD answers are off by one or two characters, so we will also adjust for that."
      ],
      "metadata": {
        "id": "sFzZCE2E0Yqz"
      }
    },
    {
      "cell_type": "code",
      "source": [
        "def add_end_idx(answers, contexts):\n",
        "  for answer, context in zip(answers, contexts):\n",
        "    gold_text = answer['text']\n",
        "    start_idx = answer['answer_start']\n",
        "    end_idx = start_idx + len(gold_text)\n",
        "\n",
        "    # sometimes squad answers are off by a character or two so we fix this\n",
        "    if context[start_idx:end_idx] == gold_text:\n",
        "      answer['answer_end'] = end_idx\n",
        "    elif context[start_idx-1:end_idx-1] == gold_text:\n",
        "      answer['answer_start'] = start_idx - 1\n",
        "      answer['answer_end'] = end_idx - 1     # When the gold label is off by one character\n",
        "    elif context[start_idx-2:end_idx-2] == gold_text:\n",
        "      answer['answer_start'] = start_idx - 2\n",
        "      answer['answer_end'] = end_idx - 2     # When the gold label is off by two characters\n",
        "\n",
        "add_end_idx(train_answers, train_contexts)\n",
        "add_end_idx(valid_answers, valid_contexts)"
      ],
      "metadata": {
        "id": "TsnXo1fA0OBC"
      },
      "execution_count": null,
      "outputs": []
    },
    {
      "cell_type": "code",
      "source": [
        "# You can see that now we get the answer_end also\n",
        "print(valid_questions[40])\n",
        "print(valid_answers[40])\n",
        "print(valid_contexts)"
      ],
      "metadata": {
        "colab": {
          "base_uri": "https://localhost:8080/"
        },
        "id": "uxG7Aqro0k5L",
        "outputId": "8cb64d00-726c-4c2e-a069-9da7d1a67578"
      },
      "execution_count": null,
      "outputs": [
        {
          "output_type": "stream",
          "name": "stdout",
          "text": [
            "What do those etched stones represent?\n",
            "{'text': 'The lowest are statues of Jayalla Malla and Patta. Two champions of Bhatgaon Raja, which of whom is said to have had the strength of ten men, The next are elephants, ten times as strong as the men, The third are lions, ten times as strong as the elephants, The fourth are sarduls or griffins, ten times as strong as the lions, And the fifth are stone Byaghrini, two goddesses of supernatural power.', 'answer_start': 4461, 'answer_end': 4859}\n",
            "[\"Bhairavanath temple is one of the temples that lies at the central of Bhaktapur, Taumadhii Square and Bhairavanath Temple is built in the pagoda style and It is three-storey. It is one of the temple devoted to Lord Bhairava is one of the rectangular based temples of Bhaktapur. Curiously, there is no entrance on the temple's lengthy west facade that faces the square. Instead, priests access the interior from the south. The west facade is largely symmetrical and features a ground-level shrine with Bhairav depicted in miniature on a small metal throne. Michael Hutt notes that this small statue is frequently stolen and replaced. To either side of the deity are hammered copper plates depicting Bhairav's eyes, two pairs of hands, and two dogs and his faithful companions. At present, perhaps to discourage theft, the ground-level shrine is blocked from casual access by a makeshift wooden barricade. The temple is dedicated to lord Bhairav, which is supposed to be the most ferocious form of Lord Shiva. The Bhairavanath established in this temple is a formidable incarnation of lord shiva, who also prefers to name Kasi Vishwanath and Aakash bhairava. He is somehow famous for his obstreperous and stubborn character. Bhairav has a particular fascination with machines and is often thought to inhabit wheels, with different versions of the god inhabiting different wheels on the same chariot. At the Bhairavanath temple, a chariot used in the annual Bisket-Jatra festival is stored, dismantled, against the temple's north wall. Bhairavanath's association with the chariot used in the festival highlights his connection to the annual Bisket-Jatra festival. The statue of Lord Bhairav is about 12 feet long and is one of the largest statues in Kathmandu Valley. Thousands of people visit Bhairavanath temple during Bhairav Ashtami or Bhairav Jayanthi as it is celebrated religiously.  Even though the temple was slightly damaged during the earthquake in November 2015, it still has retrained most of structure. The Renovative history of Bhairavanath Temple says that The temple was first inaugurated by King Ananda Deva in the 13th century. However, that area, before the establishment of the temple was already popular for the Shaivism pilgrims. It was well known as Lalitmaheshwor. Regarding which there are inscriptions found in the temple. But, it was definitely not triple-roofed, then. During the reign of King Vishwa Malla, the temple was gracefully restored in a one-storeyed temple.After, King Jagatjyoti Malla decorated it with golden roofs. Likewise, in N.S. 788, King Jagat Prakash Malla established his own image along with his minister Chandrashekhar in the temple while having a grand worshipping. Later on, King Bhupatindra Malla modified it into a triple roofed temple at around N.S. 837-38 (1718 AD) and added the seven golden pinnacles in it. The reconstruction took time after the engineering of the Nyatapola temple. By worse luck, the devasting earthquake of 1934AD collapsed it.  And optimistically reassembled in the same structure. The ruinous earthquake of April 2015 again, made this temple renovated. It also destroyed the tiny way, passing through the betal temple. That ultimately leads toward the interior part of the Bhairavanath temple. There are legends about the temple. The inner part of the temple consists of the head of Lord Bhairav. There are many stories as to why and how Lord Bhairav’s head was cut off and worshipped here. According to legend, long ago, Kasi Bhairabnath  traveled to Nepal to view either the Bisket Jatra  or the Bal Kaumari Jatra. A tantric priestess in the crowd recognized him for what he was and attempted to immobilize him, but Vishvanath sought to escape by sinking into the ground. As his body descended into the earth, the priestess realized the god was her own husband. To prevent his escape, she ordered his head cut off where it protruded from the ground. Being a god, this was far from a fatal wound, and the priestess enshrined the head in the temple that now stands here. The body, meanwhile, returned to Benares whence it came. Dowman notes that a headless image of Bhairav is still worshipped there even today. Another story about this temple is also interesting, passed orally by our ancestors. According to this, the lord bhairava of Varanasi once visited Bhaktapur to see Bisket jatra. Bisket jatra is one of the biggest jatras of the newar people. During the festival, the lord Bhairava somehow was recognized by a priest and he just cast a decoy spell on him.  As a quick reaction, he started to sink into the terra firma to go back to Varanasi. But the priest didnot let him go. As if, he grabs the head of Bhairava in his hand and decollates him with his sword. That is why people say that the head doesnot match the body of Kasi Vishwanath. It is also believed that the head is still treasured in a box of this temple.\", \"Bhairavanath temple is one of the temples that lies at the central of Bhaktapur, Taumadhii Square and Bhairavanath Temple is built in the pagoda style and It is three-storey. It is one of the temple devoted to Lord Bhairava is one of the rectangular based temples of Bhaktapur. Curiously, there is no entrance on the temple's lengthy west facade that faces the square. Instead, priests access the interior from the south. The west facade is largely symmetrical and features a ground-level shrine with Bhairav depicted in miniature on a small metal throne. Michael Hutt notes that this small statue is frequently stolen and replaced. To either side of the deity are hammered copper plates depicting Bhairav's eyes, two pairs of hands, and two dogs and his faithful companions. At present, perhaps to discourage theft, the ground-level shrine is blocked from casual access by a makeshift wooden barricade. The temple is dedicated to lord Bhairav, which is supposed to be the most ferocious form of Lord Shiva. The Bhairavanath established in this temple is a formidable incarnation of lord shiva, who also prefers to name Kasi Vishwanath and Aakash bhairava. He is somehow famous for his obstreperous and stubborn character. Bhairav has a particular fascination with machines and is often thought to inhabit wheels, with different versions of the god inhabiting different wheels on the same chariot. At the Bhairavanath temple, a chariot used in the annual Bisket-Jatra festival is stored, dismantled, against the temple's north wall. Bhairavanath's association with the chariot used in the festival highlights his connection to the annual Bisket-Jatra festival. The statue of Lord Bhairav is about 12 feet long and is one of the largest statues in Kathmandu Valley. Thousands of people visit Bhairavanath temple during Bhairav Ashtami or Bhairav Jayanthi as it is celebrated religiously.  Even though the temple was slightly damaged during the earthquake in November 2015, it still has retrained most of structure. The Renovative history of Bhairavanath Temple says that The temple was first inaugurated by King Ananda Deva in the 13th century. However, that area, before the establishment of the temple was already popular for the Shaivism pilgrims. It was well known as Lalitmaheshwor. Regarding which there are inscriptions found in the temple. But, it was definitely not triple-roofed, then. During the reign of King Vishwa Malla, the temple was gracefully restored in a one-storeyed temple.After, King Jagatjyoti Malla decorated it with golden roofs. Likewise, in N.S. 788, King Jagat Prakash Malla established his own image along with his minister Chandrashekhar in the temple while having a grand worshipping. Later on, King Bhupatindra Malla modified it into a triple roofed temple at around N.S. 837-38 (1718 AD) and added the seven golden pinnacles in it. The reconstruction took time after the engineering of the Nyatapola temple. By worse luck, the devasting earthquake of 1934AD collapsed it.  And optimistically reassembled in the same structure. The ruinous earthquake of April 2015 again, made this temple renovated. It also destroyed the tiny way, passing through the betal temple. That ultimately leads toward the interior part of the Bhairavanath temple. There are legends about the temple. The inner part of the temple consists of the head of Lord Bhairav. There are many stories as to why and how Lord Bhairav’s head was cut off and worshipped here. According to legend, long ago, Kasi Bhairabnath  traveled to Nepal to view either the Bisket Jatra  or the Bal Kaumari Jatra. A tantric priestess in the crowd recognized him for what he was and attempted to immobilize him, but Vishvanath sought to escape by sinking into the ground. As his body descended into the earth, the priestess realized the god was her own husband. To prevent his escape, she ordered his head cut off where it protruded from the ground. Being a god, this was far from a fatal wound, and the priestess enshrined the head in the temple that now stands here. The body, meanwhile, returned to Benares whence it came. Dowman notes that a headless image of Bhairav is still worshipped there even today. Another story about this temple is also interesting, passed orally by our ancestors. According to this, the lord bhairava of Varanasi once visited Bhaktapur to see Bisket jatra. Bisket jatra is one of the biggest jatras of the newar people. During the festival, the lord Bhairava somehow was recognized by a priest and he just cast a decoy spell on him.  As a quick reaction, he started to sink into the terra firma to go back to Varanasi. But the priest didnot let him go. As if, he grabs the head of Bhairava in his hand and decollates him with his sword. That is why people say that the head doesnot match the body of Kasi Vishwanath. It is also believed that the head is still treasured in a box of this temple.\", \"Bhairavanath temple is one of the temples that lies at the central of Bhaktapur, Taumadhii Square and Bhairavanath Temple is built in the pagoda style and It is three-storey. It is one of the temple devoted to Lord Bhairava is one of the rectangular based temples of Bhaktapur. Curiously, there is no entrance on the temple's lengthy west facade that faces the square. Instead, priests access the interior from the south. The west facade is largely symmetrical and features a ground-level shrine with Bhairav depicted in miniature on a small metal throne. Michael Hutt notes that this small statue is frequently stolen and replaced. To either side of the deity are hammered copper plates depicting Bhairav's eyes, two pairs of hands, and two dogs and his faithful companions. At present, perhaps to discourage theft, the ground-level shrine is blocked from casual access by a makeshift wooden barricade. The temple is dedicated to lord Bhairav, which is supposed to be the most ferocious form of Lord Shiva. The Bhairavanath established in this temple is a formidable incarnation of lord shiva, who also prefers to name Kasi Vishwanath and Aakash bhairava. He is somehow famous for his obstreperous and stubborn character. Bhairav has a particular fascination with machines and is often thought to inhabit wheels, with different versions of the god inhabiting different wheels on the same chariot. At the Bhairavanath temple, a chariot used in the annual Bisket-Jatra festival is stored, dismantled, against the temple's north wall. Bhairavanath's association with the chariot used in the festival highlights his connection to the annual Bisket-Jatra festival. The statue of Lord Bhairav is about 12 feet long and is one of the largest statues in Kathmandu Valley. Thousands of people visit Bhairavanath temple during Bhairav Ashtami or Bhairav Jayanthi as it is celebrated religiously.  Even though the temple was slightly damaged during the earthquake in November 2015, it still has retrained most of structure. The Renovative history of Bhairavanath Temple says that The temple was first inaugurated by King Ananda Deva in the 13th century. However, that area, before the establishment of the temple was already popular for the Shaivism pilgrims. It was well known as Lalitmaheshwor. Regarding which there are inscriptions found in the temple. But, it was definitely not triple-roofed, then. During the reign of King Vishwa Malla, the temple was gracefully restored in a one-storeyed temple.After, King Jagatjyoti Malla decorated it with golden roofs. Likewise, in N.S. 788, King Jagat Prakash Malla established his own image along with his minister Chandrashekhar in the temple while having a grand worshipping. Later on, King Bhupatindra Malla modified it into a triple roofed temple at around N.S. 837-38 (1718 AD) and added the seven golden pinnacles in it. The reconstruction took time after the engineering of the Nyatapola temple. By worse luck, the devasting earthquake of 1934AD collapsed it.  And optimistically reassembled in the same structure. The ruinous earthquake of April 2015 again, made this temple renovated. It also destroyed the tiny way, passing through the betal temple. That ultimately leads toward the interior part of the Bhairavanath temple. There are legends about the temple. The inner part of the temple consists of the head of Lord Bhairav. There are many stories as to why and how Lord Bhairav’s head was cut off and worshipped here. According to legend, long ago, Kasi Bhairabnath  traveled to Nepal to view either the Bisket Jatra  or the Bal Kaumari Jatra. A tantric priestess in the crowd recognized him for what he was and attempted to immobilize him, but Vishvanath sought to escape by sinking into the ground. As his body descended into the earth, the priestess realized the god was her own husband. To prevent his escape, she ordered his head cut off where it protruded from the ground. Being a god, this was far from a fatal wound, and the priestess enshrined the head in the temple that now stands here. The body, meanwhile, returned to Benares whence it came. Dowman notes that a headless image of Bhairav is still worshipped there even today. Another story about this temple is also interesting, passed orally by our ancestors. According to this, the lord bhairava of Varanasi once visited Bhaktapur to see Bisket jatra. Bisket jatra is one of the biggest jatras of the newar people. During the festival, the lord Bhairava somehow was recognized by a priest and he just cast a decoy spell on him.  As a quick reaction, he started to sink into the terra firma to go back to Varanasi. But the priest didnot let him go. As if, he grabs the head of Bhairava in his hand and decollates him with his sword. That is why people say that the head doesnot match the body of Kasi Vishwanath. It is also believed that the head is still treasured in a box of this temple.\", \"Bhairavanath temple is one of the temples that lies at the central of Bhaktapur, Taumadhii Square and Bhairavanath Temple is built in the pagoda style and It is three-storey. It is one of the temple devoted to Lord Bhairava is one of the rectangular based temples of Bhaktapur. Curiously, there is no entrance on the temple's lengthy west facade that faces the square. Instead, priests access the interior from the south. The west facade is largely symmetrical and features a ground-level shrine with Bhairav depicted in miniature on a small metal throne. Michael Hutt notes that this small statue is frequently stolen and replaced. To either side of the deity are hammered copper plates depicting Bhairav's eyes, two pairs of hands, and two dogs and his faithful companions. At present, perhaps to discourage theft, the ground-level shrine is blocked from casual access by a makeshift wooden barricade. The temple is dedicated to lord Bhairav, which is supposed to be the most ferocious form of Lord Shiva. The Bhairavanath established in this temple is a formidable incarnation of lord shiva, who also prefers to name Kasi Vishwanath and Aakash bhairava. He is somehow famous for his obstreperous and stubborn character. Bhairav has a particular fascination with machines and is often thought to inhabit wheels, with different versions of the god inhabiting different wheels on the same chariot. At the Bhairavanath temple, a chariot used in the annual Bisket-Jatra festival is stored, dismantled, against the temple's north wall. Bhairavanath's association with the chariot used in the festival highlights his connection to the annual Bisket-Jatra festival. The statue of Lord Bhairav is about 12 feet long and is one of the largest statues in Kathmandu Valley. Thousands of people visit Bhairavanath temple during Bhairav Ashtami or Bhairav Jayanthi as it is celebrated religiously.  Even though the temple was slightly damaged during the earthquake in November 2015, it still has retrained most of structure. The Renovative history of Bhairavanath Temple says that The temple was first inaugurated by King Ananda Deva in the 13th century. However, that area, before the establishment of the temple was already popular for the Shaivism pilgrims. It was well known as Lalitmaheshwor. Regarding which there are inscriptions found in the temple. But, it was definitely not triple-roofed, then. During the reign of King Vishwa Malla, the temple was gracefully restored in a one-storeyed temple.After, King Jagatjyoti Malla decorated it with golden roofs. Likewise, in N.S. 788, King Jagat Prakash Malla established his own image along with his minister Chandrashekhar in the temple while having a grand worshipping. Later on, King Bhupatindra Malla modified it into a triple roofed temple at around N.S. 837-38 (1718 AD) and added the seven golden pinnacles in it. The reconstruction took time after the engineering of the Nyatapola temple. By worse luck, the devasting earthquake of 1934AD collapsed it.  And optimistically reassembled in the same structure. The ruinous earthquake of April 2015 again, made this temple renovated. It also destroyed the tiny way, passing through the betal temple. That ultimately leads toward the interior part of the Bhairavanath temple. There are legends about the temple. The inner part of the temple consists of the head of Lord Bhairav. There are many stories as to why and how Lord Bhairav’s head was cut off and worshipped here. According to legend, long ago, Kasi Bhairabnath  traveled to Nepal to view either the Bisket Jatra  or the Bal Kaumari Jatra. A tantric priestess in the crowd recognized him for what he was and attempted to immobilize him, but Vishvanath sought to escape by sinking into the ground. As his body descended into the earth, the priestess realized the god was her own husband. To prevent his escape, she ordered his head cut off where it protruded from the ground. Being a god, this was far from a fatal wound, and the priestess enshrined the head in the temple that now stands here. The body, meanwhile, returned to Benares whence it came. Dowman notes that a headless image of Bhairav is still worshipped there even today. Another story about this temple is also interesting, passed orally by our ancestors. According to this, the lord bhairava of Varanasi once visited Bhaktapur to see Bisket jatra. Bisket jatra is one of the biggest jatras of the newar people. During the festival, the lord Bhairava somehow was recognized by a priest and he just cast a decoy spell on him.  As a quick reaction, he started to sink into the terra firma to go back to Varanasi. But the priest didnot let him go. As if, he grabs the head of Bhairava in his hand and decollates him with his sword. That is why people say that the head doesnot match the body of Kasi Vishwanath. It is also believed that the head is still treasured in a box of this temple.\", \"Bhairavanath temple is one of the temples that lies at the central of Bhaktapur, Taumadhii Square and Bhairavanath Temple is built in the pagoda style and It is three-storey. It is one of the temple devoted to Lord Bhairava is one of the rectangular based temples of Bhaktapur. Curiously, there is no entrance on the temple's lengthy west facade that faces the square. Instead, priests access the interior from the south. The west facade is largely symmetrical and features a ground-level shrine with Bhairav depicted in miniature on a small metal throne. Michael Hutt notes that this small statue is frequently stolen and replaced. To either side of the deity are hammered copper plates depicting Bhairav's eyes, two pairs of hands, and two dogs and his faithful companions. At present, perhaps to discourage theft, the ground-level shrine is blocked from casual access by a makeshift wooden barricade. The temple is dedicated to lord Bhairav, which is supposed to be the most ferocious form of Lord Shiva. The Bhairavanath established in this temple is a formidable incarnation of lord shiva, who also prefers to name Kasi Vishwanath and Aakash bhairava. He is somehow famous for his obstreperous and stubborn character. Bhairav has a particular fascination with machines and is often thought to inhabit wheels, with different versions of the god inhabiting different wheels on the same chariot. At the Bhairavanath temple, a chariot used in the annual Bisket-Jatra festival is stored, dismantled, against the temple's north wall. Bhairavanath's association with the chariot used in the festival highlights his connection to the annual Bisket-Jatra festival. The statue of Lord Bhairav is about 12 feet long and is one of the largest statues in Kathmandu Valley. Thousands of people visit Bhairavanath temple during Bhairav Ashtami or Bhairav Jayanthi as it is celebrated religiously.  Even though the temple was slightly damaged during the earthquake in November 2015, it still has retrained most of structure. The Renovative history of Bhairavanath Temple says that The temple was first inaugurated by King Ananda Deva in the 13th century. However, that area, before the establishment of the temple was already popular for the Shaivism pilgrims. It was well known as Lalitmaheshwor. Regarding which there are inscriptions found in the temple. But, it was definitely not triple-roofed, then. During the reign of King Vishwa Malla, the temple was gracefully restored in a one-storeyed temple.After, King Jagatjyoti Malla decorated it with golden roofs. Likewise, in N.S. 788, King Jagat Prakash Malla established his own image along with his minister Chandrashekhar in the temple while having a grand worshipping. Later on, King Bhupatindra Malla modified it into a triple roofed temple at around N.S. 837-38 (1718 AD) and added the seven golden pinnacles in it. The reconstruction took time after the engineering of the Nyatapola temple. By worse luck, the devasting earthquake of 1934AD collapsed it.  And optimistically reassembled in the same structure. The ruinous earthquake of April 2015 again, made this temple renovated. It also destroyed the tiny way, passing through the betal temple. That ultimately leads toward the interior part of the Bhairavanath temple. There are legends about the temple. The inner part of the temple consists of the head of Lord Bhairav. There are many stories as to why and how Lord Bhairav’s head was cut off and worshipped here. According to legend, long ago, Kasi Bhairabnath  traveled to Nepal to view either the Bisket Jatra  or the Bal Kaumari Jatra. A tantric priestess in the crowd recognized him for what he was and attempted to immobilize him, but Vishvanath sought to escape by sinking into the ground. As his body descended into the earth, the priestess realized the god was her own husband. To prevent his escape, she ordered his head cut off where it protruded from the ground. Being a god, this was far from a fatal wound, and the priestess enshrined the head in the temple that now stands here. The body, meanwhile, returned to Benares whence it came. Dowman notes that a headless image of Bhairav is still worshipped there even today. Another story about this temple is also interesting, passed orally by our ancestors. According to this, the lord bhairava of Varanasi once visited Bhaktapur to see Bisket jatra. Bisket jatra is one of the biggest jatras of the newar people. During the festival, the lord Bhairava somehow was recognized by a priest and he just cast a decoy spell on him.  As a quick reaction, he started to sink into the terra firma to go back to Varanasi. But the priest didnot let him go. As if, he grabs the head of Bhairava in his hand and decollates him with his sword. That is why people say that the head doesnot match the body of Kasi Vishwanath. It is also believed that the head is still treasured in a box of this temple.\", \"Bhairavanath temple is one of the temples that lies at the central of Bhaktapur, Taumadhii Square and Bhairavanath Temple is built in the pagoda style and It is three-storey. It is one of the temple devoted to Lord Bhairava is one of the rectangular based temples of Bhaktapur. Curiously, there is no entrance on the temple's lengthy west facade that faces the square. Instead, priests access the interior from the south. The west facade is largely symmetrical and features a ground-level shrine with Bhairav depicted in miniature on a small metal throne. Michael Hutt notes that this small statue is frequently stolen and replaced. To either side of the deity are hammered copper plates depicting Bhairav's eyes, two pairs of hands, and two dogs and his faithful companions. At present, perhaps to discourage theft, the ground-level shrine is blocked from casual access by a makeshift wooden barricade. The temple is dedicated to lord Bhairav, which is supposed to be the most ferocious form of Lord Shiva. The Bhairavanath established in this temple is a formidable incarnation of lord shiva, who also prefers to name Kasi Vishwanath and Aakash bhairava. He is somehow famous for his obstreperous and stubborn character. Bhairav has a particular fascination with machines and is often thought to inhabit wheels, with different versions of the god inhabiting different wheels on the same chariot. At the Bhairavanath temple, a chariot used in the annual Bisket-Jatra festival is stored, dismantled, against the temple's north wall. Bhairavanath's association with the chariot used in the festival highlights his connection to the annual Bisket-Jatra festival. The statue of Lord Bhairav is about 12 feet long and is one of the largest statues in Kathmandu Valley. Thousands of people visit Bhairavanath temple during Bhairav Ashtami or Bhairav Jayanthi as it is celebrated religiously.  Even though the temple was slightly damaged during the earthquake in November 2015, it still has retrained most of structure. The Renovative history of Bhairavanath Temple says that The temple was first inaugurated by King Ananda Deva in the 13th century. However, that area, before the establishment of the temple was already popular for the Shaivism pilgrims. It was well known as Lalitmaheshwor. Regarding which there are inscriptions found in the temple. But, it was definitely not triple-roofed, then. During the reign of King Vishwa Malla, the temple was gracefully restored in a one-storeyed temple.After, King Jagatjyoti Malla decorated it with golden roofs. Likewise, in N.S. 788, King Jagat Prakash Malla established his own image along with his minister Chandrashekhar in the temple while having a grand worshipping. Later on, King Bhupatindra Malla modified it into a triple roofed temple at around N.S. 837-38 (1718 AD) and added the seven golden pinnacles in it. The reconstruction took time after the engineering of the Nyatapola temple. By worse luck, the devasting earthquake of 1934AD collapsed it.  And optimistically reassembled in the same structure. The ruinous earthquake of April 2015 again, made this temple renovated. It also destroyed the tiny way, passing through the betal temple. That ultimately leads toward the interior part of the Bhairavanath temple. There are legends about the temple. The inner part of the temple consists of the head of Lord Bhairav. There are many stories as to why and how Lord Bhairav’s head was cut off and worshipped here. According to legend, long ago, Kasi Bhairabnath  traveled to Nepal to view either the Bisket Jatra  or the Bal Kaumari Jatra. A tantric priestess in the crowd recognized him for what he was and attempted to immobilize him, but Vishvanath sought to escape by sinking into the ground. As his body descended into the earth, the priestess realized the god was her own husband. To prevent his escape, she ordered his head cut off where it protruded from the ground. Being a god, this was far from a fatal wound, and the priestess enshrined the head in the temple that now stands here. The body, meanwhile, returned to Benares whence it came. Dowman notes that a headless image of Bhairav is still worshipped there even today. Another story about this temple is also interesting, passed orally by our ancestors. According to this, the lord bhairava of Varanasi once visited Bhaktapur to see Bisket jatra. Bisket jatra is one of the biggest jatras of the newar people. During the festival, the lord Bhairava somehow was recognized by a priest and he just cast a decoy spell on him.  As a quick reaction, he started to sink into the terra firma to go back to Varanasi. But the priest didnot let him go. As if, he grabs the head of Bhairava in his hand and decollates him with his sword. That is why people say that the head doesnot match the body of Kasi Vishwanath. It is also believed that the head is still treasured in a box of this temple.\", \"Bhairavanath temple is one of the temples that lies at the central of Bhaktapur, Taumadhii Square and Bhairavanath Temple is built in the pagoda style and It is three-storey. It is one of the temple devoted to Lord Bhairava is one of the rectangular based temples of Bhaktapur. Curiously, there is no entrance on the temple's lengthy west facade that faces the square. Instead, priests access the interior from the south. The west facade is largely symmetrical and features a ground-level shrine with Bhairav depicted in miniature on a small metal throne. Michael Hutt notes that this small statue is frequently stolen and replaced. To either side of the deity are hammered copper plates depicting Bhairav's eyes, two pairs of hands, and two dogs and his faithful companions. At present, perhaps to discourage theft, the ground-level shrine is blocked from casual access by a makeshift wooden barricade. The temple is dedicated to lord Bhairav, which is supposed to be the most ferocious form of Lord Shiva. The Bhairavanath established in this temple is a formidable incarnation of lord shiva, who also prefers to name Kasi Vishwanath and Aakash bhairava. He is somehow famous for his obstreperous and stubborn character. Bhairav has a particular fascination with machines and is often thought to inhabit wheels, with different versions of the god inhabiting different wheels on the same chariot. At the Bhairavanath temple, a chariot used in the annual Bisket-Jatra festival is stored, dismantled, against the temple's north wall. Bhairavanath's association with the chariot used in the festival highlights his connection to the annual Bisket-Jatra festival. The statue of Lord Bhairav is about 12 feet long and is one of the largest statues in Kathmandu Valley. Thousands of people visit Bhairavanath temple during Bhairav Ashtami or Bhairav Jayanthi as it is celebrated religiously.  Even though the temple was slightly damaged during the earthquake in November 2015, it still has retrained most of structure. The Renovative history of Bhairavanath Temple says that The temple was first inaugurated by King Ananda Deva in the 13th century. However, that area, before the establishment of the temple was already popular for the Shaivism pilgrims. It was well known as Lalitmaheshwor. Regarding which there are inscriptions found in the temple. But, it was definitely not triple-roofed, then. During the reign of King Vishwa Malla, the temple was gracefully restored in a one-storeyed temple.After, King Jagatjyoti Malla decorated it with golden roofs. Likewise, in N.S. 788, King Jagat Prakash Malla established his own image along with his minister Chandrashekhar in the temple while having a grand worshipping. Later on, King Bhupatindra Malla modified it into a triple roofed temple at around N.S. 837-38 (1718 AD) and added the seven golden pinnacles in it. The reconstruction took time after the engineering of the Nyatapola temple. By worse luck, the devasting earthquake of 1934AD collapsed it.  And optimistically reassembled in the same structure. The ruinous earthquake of April 2015 again, made this temple renovated. It also destroyed the tiny way, passing through the betal temple. That ultimately leads toward the interior part of the Bhairavanath temple. There are legends about the temple. The inner part of the temple consists of the head of Lord Bhairav. There are many stories as to why and how Lord Bhairav’s head was cut off and worshipped here. According to legend, long ago, Kasi Bhairabnath  traveled to Nepal to view either the Bisket Jatra  or the Bal Kaumari Jatra. A tantric priestess in the crowd recognized him for what he was and attempted to immobilize him, but Vishvanath sought to escape by sinking into the ground. As his body descended into the earth, the priestess realized the god was her own husband. To prevent his escape, she ordered his head cut off where it protruded from the ground. Being a god, this was far from a fatal wound, and the priestess enshrined the head in the temple that now stands here. The body, meanwhile, returned to Benares whence it came. Dowman notes that a headless image of Bhairav is still worshipped there even today. Another story about this temple is also interesting, passed orally by our ancestors. According to this, the lord bhairava of Varanasi once visited Bhaktapur to see Bisket jatra. Bisket jatra is one of the biggest jatras of the newar people. During the festival, the lord Bhairava somehow was recognized by a priest and he just cast a decoy spell on him.  As a quick reaction, he started to sink into the terra firma to go back to Varanasi. But the priest didnot let him go. As if, he grabs the head of Bhairava in his hand and decollates him with his sword. That is why people say that the head doesnot match the body of Kasi Vishwanath. It is also believed that the head is still treasured in a box of this temple.\", \"Bhairavanath temple is one of the temples that lies at the central of Bhaktapur, Taumadhii Square and Bhairavanath Temple is built in the pagoda style and It is three-storey. It is one of the temple devoted to Lord Bhairava is one of the rectangular based temples of Bhaktapur. Curiously, there is no entrance on the temple's lengthy west facade that faces the square. Instead, priests access the interior from the south. The west facade is largely symmetrical and features a ground-level shrine with Bhairav depicted in miniature on a small metal throne. Michael Hutt notes that this small statue is frequently stolen and replaced. To either side of the deity are hammered copper plates depicting Bhairav's eyes, two pairs of hands, and two dogs and his faithful companions. At present, perhaps to discourage theft, the ground-level shrine is blocked from casual access by a makeshift wooden barricade. The temple is dedicated to lord Bhairav, which is supposed to be the most ferocious form of Lord Shiva. The Bhairavanath established in this temple is a formidable incarnation of lord shiva, who also prefers to name Kasi Vishwanath and Aakash bhairava. He is somehow famous for his obstreperous and stubborn character. Bhairav has a particular fascination with machines and is often thought to inhabit wheels, with different versions of the god inhabiting different wheels on the same chariot. At the Bhairavanath temple, a chariot used in the annual Bisket-Jatra festival is stored, dismantled, against the temple's north wall. Bhairavanath's association with the chariot used in the festival highlights his connection to the annual Bisket-Jatra festival. The statue of Lord Bhairav is about 12 feet long and is one of the largest statues in Kathmandu Valley. Thousands of people visit Bhairavanath temple during Bhairav Ashtami or Bhairav Jayanthi as it is celebrated religiously.  Even though the temple was slightly damaged during the earthquake in November 2015, it still has retrained most of structure. The Renovative history of Bhairavanath Temple says that The temple was first inaugurated by King Ananda Deva in the 13th century. However, that area, before the establishment of the temple was already popular for the Shaivism pilgrims. It was well known as Lalitmaheshwor. Regarding which there are inscriptions found in the temple. But, it was definitely not triple-roofed, then. During the reign of King Vishwa Malla, the temple was gracefully restored in a one-storeyed temple.After, King Jagatjyoti Malla decorated it with golden roofs. Likewise, in N.S. 788, King Jagat Prakash Malla established his own image along with his minister Chandrashekhar in the temple while having a grand worshipping. Later on, King Bhupatindra Malla modified it into a triple roofed temple at around N.S. 837-38 (1718 AD) and added the seven golden pinnacles in it. The reconstruction took time after the engineering of the Nyatapola temple. By worse luck, the devasting earthquake of 1934AD collapsed it.  And optimistically reassembled in the same structure. The ruinous earthquake of April 2015 again, made this temple renovated. It also destroyed the tiny way, passing through the betal temple. That ultimately leads toward the interior part of the Bhairavanath temple. There are legends about the temple. The inner part of the temple consists of the head of Lord Bhairav. There are many stories as to why and how Lord Bhairav’s head was cut off and worshipped here. According to legend, long ago, Kasi Bhairabnath  traveled to Nepal to view either the Bisket Jatra  or the Bal Kaumari Jatra. A tantric priestess in the crowd recognized him for what he was and attempted to immobilize him, but Vishvanath sought to escape by sinking into the ground. As his body descended into the earth, the priestess realized the god was her own husband. To prevent his escape, she ordered his head cut off where it protruded from the ground. Being a god, this was far from a fatal wound, and the priestess enshrined the head in the temple that now stands here. The body, meanwhile, returned to Benares whence it came. Dowman notes that a headless image of Bhairav is still worshipped there even today. Another story about this temple is also interesting, passed orally by our ancestors. According to this, the lord bhairava of Varanasi once visited Bhaktapur to see Bisket jatra. Bisket jatra is one of the biggest jatras of the newar people. During the festival, the lord Bhairava somehow was recognized by a priest and he just cast a decoy spell on him.  As a quick reaction, he started to sink into the terra firma to go back to Varanasi. But the priest didnot let him go. As if, he grabs the head of Bhairava in his hand and decollates him with his sword. That is why people say that the head doesnot match the body of Kasi Vishwanath. It is also believed that the head is still treasured in a box of this temple.\", \"Bhairavanath temple is one of the temples that lies at the central of Bhaktapur, Taumadhii Square and Bhairavanath Temple is built in the pagoda style and It is three-storey. It is one of the temple devoted to Lord Bhairava is one of the rectangular based temples of Bhaktapur. Curiously, there is no entrance on the temple's lengthy west facade that faces the square. Instead, priests access the interior from the south. The west facade is largely symmetrical and features a ground-level shrine with Bhairav depicted in miniature on a small metal throne. Michael Hutt notes that this small statue is frequently stolen and replaced. To either side of the deity are hammered copper plates depicting Bhairav's eyes, two pairs of hands, and two dogs and his faithful companions. At present, perhaps to discourage theft, the ground-level shrine is blocked from casual access by a makeshift wooden barricade. The temple is dedicated to lord Bhairav, which is supposed to be the most ferocious form of Lord Shiva. The Bhairavanath established in this temple is a formidable incarnation of lord shiva, who also prefers to name Kasi Vishwanath and Aakash bhairava. He is somehow famous for his obstreperous and stubborn character. Bhairav has a particular fascination with machines and is often thought to inhabit wheels, with different versions of the god inhabiting different wheels on the same chariot. At the Bhairavanath temple, a chariot used in the annual Bisket-Jatra festival is stored, dismantled, against the temple's north wall. Bhairavanath's association with the chariot used in the festival highlights his connection to the annual Bisket-Jatra festival. The statue of Lord Bhairav is about 12 feet long and is one of the largest statues in Kathmandu Valley. Thousands of people visit Bhairavanath temple during Bhairav Ashtami or Bhairav Jayanthi as it is celebrated religiously.  Even though the temple was slightly damaged during the earthquake in November 2015, it still has retrained most of structure. The Renovative history of Bhairavanath Temple says that The temple was first inaugurated by King Ananda Deva in the 13th century. However, that area, before the establishment of the temple was already popular for the Shaivism pilgrims. It was well known as Lalitmaheshwor. Regarding which there are inscriptions found in the temple. But, it was definitely not triple-roofed, then. During the reign of King Vishwa Malla, the temple was gracefully restored in a one-storeyed temple.After, King Jagatjyoti Malla decorated it with golden roofs. Likewise, in N.S. 788, King Jagat Prakash Malla established his own image along with his minister Chandrashekhar in the temple while having a grand worshipping. Later on, King Bhupatindra Malla modified it into a triple roofed temple at around N.S. 837-38 (1718 AD) and added the seven golden pinnacles in it. The reconstruction took time after the engineering of the Nyatapola temple. By worse luck, the devasting earthquake of 1934AD collapsed it.  And optimistically reassembled in the same structure. The ruinous earthquake of April 2015 again, made this temple renovated. It also destroyed the tiny way, passing through the betal temple. That ultimately leads toward the interior part of the Bhairavanath temple. There are legends about the temple. The inner part of the temple consists of the head of Lord Bhairav. There are many stories as to why and how Lord Bhairav’s head was cut off and worshipped here. According to legend, long ago, Kasi Bhairabnath  traveled to Nepal to view either the Bisket Jatra  or the Bal Kaumari Jatra. A tantric priestess in the crowd recognized him for what he was and attempted to immobilize him, but Vishvanath sought to escape by sinking into the ground. As his body descended into the earth, the priestess realized the god was her own husband. To prevent his escape, she ordered his head cut off where it protruded from the ground. Being a god, this was far from a fatal wound, and the priestess enshrined the head in the temple that now stands here. The body, meanwhile, returned to Benares whence it came. Dowman notes that a headless image of Bhairav is still worshipped there even today. Another story about this temple is also interesting, passed orally by our ancestors. According to this, the lord bhairava of Varanasi once visited Bhaktapur to see Bisket jatra. Bisket jatra is one of the biggest jatras of the newar people. During the festival, the lord Bhairava somehow was recognized by a priest and he just cast a decoy spell on him.  As a quick reaction, he started to sink into the terra firma to go back to Varanasi. But the priest didnot let him go. As if, he grabs the head of Bhairava in his hand and decollates him with his sword. That is why people say that the head doesnot match the body of Kasi Vishwanath. It is also believed that the head is still treasured in a box of this temple.\", \"Bhairavanath temple is one of the temples that lies at the central of Bhaktapur, Taumadhii Square and Bhairavanath Temple is built in the pagoda style and It is three-storey. It is one of the temple devoted to Lord Bhairava is one of the rectangular based temples of Bhaktapur. Curiously, there is no entrance on the temple's lengthy west facade that faces the square. Instead, priests access the interior from the south. The west facade is largely symmetrical and features a ground-level shrine with Bhairav depicted in miniature on a small metal throne. Michael Hutt notes that this small statue is frequently stolen and replaced. To either side of the deity are hammered copper plates depicting Bhairav's eyes, two pairs of hands, and two dogs and his faithful companions. At present, perhaps to discourage theft, the ground-level shrine is blocked from casual access by a makeshift wooden barricade. The temple is dedicated to lord Bhairav, which is supposed to be the most ferocious form of Lord Shiva. The Bhairavanath established in this temple is a formidable incarnation of lord shiva, who also prefers to name Kasi Vishwanath and Aakash bhairava. He is somehow famous for his obstreperous and stubborn character. Bhairav has a particular fascination with machines and is often thought to inhabit wheels, with different versions of the god inhabiting different wheels on the same chariot. At the Bhairavanath temple, a chariot used in the annual Bisket-Jatra festival is stored, dismantled, against the temple's north wall. Bhairavanath's association with the chariot used in the festival highlights his connection to the annual Bisket-Jatra festival. The statue of Lord Bhairav is about 12 feet long and is one of the largest statues in Kathmandu Valley. Thousands of people visit Bhairavanath temple during Bhairav Ashtami or Bhairav Jayanthi as it is celebrated religiously.  Even though the temple was slightly damaged during the earthquake in November 2015, it still has retrained most of structure. The Renovative history of Bhairavanath Temple says that The temple was first inaugurated by King Ananda Deva in the 13th century. However, that area, before the establishment of the temple was already popular for the Shaivism pilgrims. It was well known as Lalitmaheshwor. Regarding which there are inscriptions found in the temple. But, it was definitely not triple-roofed, then. During the reign of King Vishwa Malla, the temple was gracefully restored in a one-storeyed temple.After, King Jagatjyoti Malla decorated it with golden roofs. Likewise, in N.S. 788, King Jagat Prakash Malla established his own image along with his minister Chandrashekhar in the temple while having a grand worshipping. Later on, King Bhupatindra Malla modified it into a triple roofed temple at around N.S. 837-38 (1718 AD) and added the seven golden pinnacles in it. The reconstruction took time after the engineering of the Nyatapola temple. By worse luck, the devasting earthquake of 1934AD collapsed it.  And optimistically reassembled in the same structure. The ruinous earthquake of April 2015 again, made this temple renovated. It also destroyed the tiny way, passing through the betal temple. That ultimately leads toward the interior part of the Bhairavanath temple. There are legends about the temple. The inner part of the temple consists of the head of Lord Bhairav. There are many stories as to why and how Lord Bhairav’s head was cut off and worshipped here. According to legend, long ago, Kasi Bhairabnath  traveled to Nepal to view either the Bisket Jatra  or the Bal Kaumari Jatra. A tantric priestess in the crowd recognized him for what he was and attempted to immobilize him, but Vishvanath sought to escape by sinking into the ground. As his body descended into the earth, the priestess realized the god was her own husband. To prevent his escape, she ordered his head cut off where it protruded from the ground. Being a god, this was far from a fatal wound, and the priestess enshrined the head in the temple that now stands here. The body, meanwhile, returned to Benares whence it came. Dowman notes that a headless image of Bhairav is still worshipped there even today. Another story about this temple is also interesting, passed orally by our ancestors. According to this, the lord bhairava of Varanasi once visited Bhaktapur to see Bisket jatra. Bisket jatra is one of the biggest jatras of the newar people. During the festival, the lord Bhairava somehow was recognized by a priest and he just cast a decoy spell on him.  As a quick reaction, he started to sink into the terra firma to go back to Varanasi. But the priest didnot let him go. As if, he grabs the head of Bhairava in his hand and decollates him with his sword. That is why people say that the head doesnot match the body of Kasi Vishwanath. It is also believed that the head is still treasured in a box of this temple.\", \"Bhairavanath temple is one of the temples that lies at the central of Bhaktapur, Taumadhii Square and Bhairavanath Temple is built in the pagoda style and It is three-storey. It is one of the temple devoted to Lord Bhairava is one of the rectangular based temples of Bhaktapur. Curiously, there is no entrance on the temple's lengthy west facade that faces the square. Instead, priests access the interior from the south. The west facade is largely symmetrical and features a ground-level shrine with Bhairav depicted in miniature on a small metal throne. Michael Hutt notes that this small statue is frequently stolen and replaced. To either side of the deity are hammered copper plates depicting Bhairav's eyes, two pairs of hands, and two dogs and his faithful companions. At present, perhaps to discourage theft, the ground-level shrine is blocked from casual access by a makeshift wooden barricade. The temple is dedicated to lord Bhairav, which is supposed to be the most ferocious form of Lord Shiva. The Bhairavanath established in this temple is a formidable incarnation of lord shiva, who also prefers to name Kasi Vishwanath and Aakash bhairava. He is somehow famous for his obstreperous and stubborn character. Bhairav has a particular fascination with machines and is often thought to inhabit wheels, with different versions of the god inhabiting different wheels on the same chariot. At the Bhairavanath temple, a chariot used in the annual Bisket-Jatra festival is stored, dismantled, against the temple's north wall. Bhairavanath's association with the chariot used in the festival highlights his connection to the annual Bisket-Jatra festival. The statue of Lord Bhairav is about 12 feet long and is one of the largest statues in Kathmandu Valley. Thousands of people visit Bhairavanath temple during Bhairav Ashtami or Bhairav Jayanthi as it is celebrated religiously.  Even though the temple was slightly damaged during the earthquake in November 2015, it still has retrained most of structure. The Renovative history of Bhairavanath Temple says that The temple was first inaugurated by King Ananda Deva in the 13th century. However, that area, before the establishment of the temple was already popular for the Shaivism pilgrims. It was well known as Lalitmaheshwor. Regarding which there are inscriptions found in the temple. But, it was definitely not triple-roofed, then. During the reign of King Vishwa Malla, the temple was gracefully restored in a one-storeyed temple.After, King Jagatjyoti Malla decorated it with golden roofs. Likewise, in N.S. 788, King Jagat Prakash Malla established his own image along with his minister Chandrashekhar in the temple while having a grand worshipping. Later on, King Bhupatindra Malla modified it into a triple roofed temple at around N.S. 837-38 (1718 AD) and added the seven golden pinnacles in it. The reconstruction took time after the engineering of the Nyatapola temple. By worse luck, the devasting earthquake of 1934AD collapsed it.  And optimistically reassembled in the same structure. The ruinous earthquake of April 2015 again, made this temple renovated. It also destroyed the tiny way, passing through the betal temple. That ultimately leads toward the interior part of the Bhairavanath temple. There are legends about the temple. The inner part of the temple consists of the head of Lord Bhairav. There are many stories as to why and how Lord Bhairav’s head was cut off and worshipped here. According to legend, long ago, Kasi Bhairabnath  traveled to Nepal to view either the Bisket Jatra  or the Bal Kaumari Jatra. A tantric priestess in the crowd recognized him for what he was and attempted to immobilize him, but Vishvanath sought to escape by sinking into the ground. As his body descended into the earth, the priestess realized the god was her own husband. To prevent his escape, she ordered his head cut off where it protruded from the ground. Being a god, this was far from a fatal wound, and the priestess enshrined the head in the temple that now stands here. The body, meanwhile, returned to Benares whence it came. Dowman notes that a headless image of Bhairav is still worshipped there even today. Another story about this temple is also interesting, passed orally by our ancestors. According to this, the lord bhairava of Varanasi once visited Bhaktapur to see Bisket jatra. Bisket jatra is one of the biggest jatras of the newar people. During the festival, the lord Bhairava somehow was recognized by a priest and he just cast a decoy spell on him.  As a quick reaction, he started to sink into the terra firma to go back to Varanasi. But the priest didnot let him go. As if, he grabs the head of Bhairava in his hand and decollates him with his sword. That is why people say that the head doesnot match the body of Kasi Vishwanath. It is also believed that the head is still treasured in a box of this temple.\", \"Bhairavanath temple is one of the temples that lies at the central of Bhaktapur, Taumadhii Square and Bhairavanath Temple is built in the pagoda style and It is three-storey. It is one of the temple devoted to Lord Bhairava is one of the rectangular based temples of Bhaktapur. Curiously, there is no entrance on the temple's lengthy west facade that faces the square. Instead, priests access the interior from the south. The west facade is largely symmetrical and features a ground-level shrine with Bhairav depicted in miniature on a small metal throne. Michael Hutt notes that this small statue is frequently stolen and replaced. To either side of the deity are hammered copper plates depicting Bhairav's eyes, two pairs of hands, and two dogs and his faithful companions. At present, perhaps to discourage theft, the ground-level shrine is blocked from casual access by a makeshift wooden barricade. The temple is dedicated to lord Bhairav, which is supposed to be the most ferocious form of Lord Shiva. The Bhairavanath established in this temple is a formidable incarnation of lord shiva, who also prefers to name Kasi Vishwanath and Aakash bhairava. He is somehow famous for his obstreperous and stubborn character. Bhairav has a particular fascination with machines and is often thought to inhabit wheels, with different versions of the god inhabiting different wheels on the same chariot. At the Bhairavanath temple, a chariot used in the annual Bisket-Jatra festival is stored, dismantled, against the temple's north wall. Bhairavanath's association with the chariot used in the festival highlights his connection to the annual Bisket-Jatra festival. The statue of Lord Bhairav is about 12 feet long and is one of the largest statues in Kathmandu Valley. Thousands of people visit Bhairavanath temple during Bhairav Ashtami or Bhairav Jayanthi as it is celebrated religiously.  Even though the temple was slightly damaged during the earthquake in November 2015, it still has retrained most of structure. The Renovative history of Bhairavanath Temple says that The temple was first inaugurated by King Ananda Deva in the 13th century. However, that area, before the establishment of the temple was already popular for the Shaivism pilgrims. It was well known as Lalitmaheshwor. Regarding which there are inscriptions found in the temple. But, it was definitely not triple-roofed, then. During the reign of King Vishwa Malla, the temple was gracefully restored in a one-storeyed temple.After, King Jagatjyoti Malla decorated it with golden roofs. Likewise, in N.S. 788, King Jagat Prakash Malla established his own image along with his minister Chandrashekhar in the temple while having a grand worshipping. Later on, King Bhupatindra Malla modified it into a triple roofed temple at around N.S. 837-38 (1718 AD) and added the seven golden pinnacles in it. The reconstruction took time after the engineering of the Nyatapola temple. By worse luck, the devasting earthquake of 1934AD collapsed it.  And optimistically reassembled in the same structure. The ruinous earthquake of April 2015 again, made this temple renovated. It also destroyed the tiny way, passing through the betal temple. That ultimately leads toward the interior part of the Bhairavanath temple. There are legends about the temple. The inner part of the temple consists of the head of Lord Bhairav. There are many stories as to why and how Lord Bhairav’s head was cut off and worshipped here. According to legend, long ago, Kasi Bhairabnath  traveled to Nepal to view either the Bisket Jatra  or the Bal Kaumari Jatra. A tantric priestess in the crowd recognized him for what he was and attempted to immobilize him, but Vishvanath sought to escape by sinking into the ground. As his body descended into the earth, the priestess realized the god was her own husband. To prevent his escape, she ordered his head cut off where it protruded from the ground. Being a god, this was far from a fatal wound, and the priestess enshrined the head in the temple that now stands here. The body, meanwhile, returned to Benares whence it came. Dowman notes that a headless image of Bhairav is still worshipped there even today. Another story about this temple is also interesting, passed orally by our ancestors. According to this, the lord bhairava of Varanasi once visited Bhaktapur to see Bisket jatra. Bisket jatra is one of the biggest jatras of the newar people. During the festival, the lord Bhairava somehow was recognized by a priest and he just cast a decoy spell on him.  As a quick reaction, he started to sink into the terra firma to go back to Varanasi. But the priest didnot let him go. As if, he grabs the head of Bhairava in his hand and decollates him with his sword. That is why people say that the head doesnot match the body of Kasi Vishwanath. It is also believed that the head is still treasured in a box of this temple.\", \"Bhairavanath temple is one of the temples that lies at the central of Bhaktapur, Taumadhii Square and Bhairavanath Temple is built in the pagoda style and It is three-storey. It is one of the temple devoted to Lord Bhairava is one of the rectangular based temples of Bhaktapur. Curiously, there is no entrance on the temple's lengthy west facade that faces the square. Instead, priests access the interior from the south. The west facade is largely symmetrical and features a ground-level shrine with Bhairav depicted in miniature on a small metal throne. Michael Hutt notes that this small statue is frequently stolen and replaced. To either side of the deity are hammered copper plates depicting Bhairav's eyes, two pairs of hands, and two dogs and his faithful companions. At present, perhaps to discourage theft, the ground-level shrine is blocked from casual access by a makeshift wooden barricade. The temple is dedicated to lord Bhairav, which is supposed to be the most ferocious form of Lord Shiva. The Bhairavanath established in this temple is a formidable incarnation of lord shiva, who also prefers to name Kasi Vishwanath and Aakash bhairava. He is somehow famous for his obstreperous and stubborn character. Bhairav has a particular fascination with machines and is often thought to inhabit wheels, with different versions of the god inhabiting different wheels on the same chariot. At the Bhairavanath temple, a chariot used in the annual Bisket-Jatra festival is stored, dismantled, against the temple's north wall. Bhairavanath's association with the chariot used in the festival highlights his connection to the annual Bisket-Jatra festival. The statue of Lord Bhairav is about 12 feet long and is one of the largest statues in Kathmandu Valley. Thousands of people visit Bhairavanath temple during Bhairav Ashtami or Bhairav Jayanthi as it is celebrated religiously.  Even though the temple was slightly damaged during the earthquake in November 2015, it still has retrained most of structure. The Renovative history of Bhairavanath Temple says that The temple was first inaugurated by King Ananda Deva in the 13th century. However, that area, before the establishment of the temple was already popular for the Shaivism pilgrims. It was well known as Lalitmaheshwor. Regarding which there are inscriptions found in the temple. But, it was definitely not triple-roofed, then. During the reign of King Vishwa Malla, the temple was gracefully restored in a one-storeyed temple.After, King Jagatjyoti Malla decorated it with golden roofs. Likewise, in N.S. 788, King Jagat Prakash Malla established his own image along with his minister Chandrashekhar in the temple while having a grand worshipping. Later on, King Bhupatindra Malla modified it into a triple roofed temple at around N.S. 837-38 (1718 AD) and added the seven golden pinnacles in it. The reconstruction took time after the engineering of the Nyatapola temple. By worse luck, the devasting earthquake of 1934AD collapsed it.  And optimistically reassembled in the same structure. The ruinous earthquake of April 2015 again, made this temple renovated. It also destroyed the tiny way, passing through the betal temple. That ultimately leads toward the interior part of the Bhairavanath temple. There are legends about the temple. The inner part of the temple consists of the head of Lord Bhairav. There are many stories as to why and how Lord Bhairav’s head was cut off and worshipped here. According to legend, long ago, Kasi Bhairabnath  traveled to Nepal to view either the Bisket Jatra  or the Bal Kaumari Jatra. A tantric priestess in the crowd recognized him for what he was and attempted to immobilize him, but Vishvanath sought to escape by sinking into the ground. As his body descended into the earth, the priestess realized the god was her own husband. To prevent his escape, she ordered his head cut off where it protruded from the ground. Being a god, this was far from a fatal wound, and the priestess enshrined the head in the temple that now stands here. The body, meanwhile, returned to Benares whence it came. Dowman notes that a headless image of Bhairav is still worshipped there even today. Another story about this temple is also interesting, passed orally by our ancestors. According to this, the lord bhairava of Varanasi once visited Bhaktapur to see Bisket jatra. Bisket jatra is one of the biggest jatras of the newar people. During the festival, the lord Bhairava somehow was recognized by a priest and he just cast a decoy spell on him.  As a quick reaction, he started to sink into the terra firma to go back to Varanasi. But the priest didnot let him go. As if, he grabs the head of Bhairava in his hand and decollates him with his sword. That is why people say that the head doesnot match the body of Kasi Vishwanath. It is also believed that the head is still treasured in a box of this temple.\", \"Bhairavanath temple is one of the temples that lies at the central of Bhaktapur, Taumadhii Square and Bhairavanath Temple is built in the pagoda style and It is three-storey. It is one of the temple devoted to Lord Bhairava is one of the rectangular based temples of Bhaktapur. Curiously, there is no entrance on the temple's lengthy west facade that faces the square. Instead, priests access the interior from the south. The west facade is largely symmetrical and features a ground-level shrine with Bhairav depicted in miniature on a small metal throne. Michael Hutt notes that this small statue is frequently stolen and replaced. To either side of the deity are hammered copper plates depicting Bhairav's eyes, two pairs of hands, and two dogs and his faithful companions. At present, perhaps to discourage theft, the ground-level shrine is blocked from casual access by a makeshift wooden barricade. The temple is dedicated to lord Bhairav, which is supposed to be the most ferocious form of Lord Shiva. The Bhairavanath established in this temple is a formidable incarnation of lord shiva, who also prefers to name Kasi Vishwanath and Aakash bhairava. He is somehow famous for his obstreperous and stubborn character. Bhairav has a particular fascination with machines and is often thought to inhabit wheels, with different versions of the god inhabiting different wheels on the same chariot. At the Bhairavanath temple, a chariot used in the annual Bisket-Jatra festival is stored, dismantled, against the temple's north wall. Bhairavanath's association with the chariot used in the festival highlights his connection to the annual Bisket-Jatra festival. The statue of Lord Bhairav is about 12 feet long and is one of the largest statues in Kathmandu Valley. Thousands of people visit Bhairavanath temple during Bhairav Ashtami or Bhairav Jayanthi as it is celebrated religiously.  Even though the temple was slightly damaged during the earthquake in November 2015, it still has retrained most of structure. The Renovative history of Bhairavanath Temple says that The temple was first inaugurated by King Ananda Deva in the 13th century. However, that area, before the establishment of the temple was already popular for the Shaivism pilgrims. It was well known as Lalitmaheshwor. Regarding which there are inscriptions found in the temple. But, it was definitely not triple-roofed, then. During the reign of King Vishwa Malla, the temple was gracefully restored in a one-storeyed temple.After, King Jagatjyoti Malla decorated it with golden roofs. Likewise, in N.S. 788, King Jagat Prakash Malla established his own image along with his minister Chandrashekhar in the temple while having a grand worshipping. Later on, King Bhupatindra Malla modified it into a triple roofed temple at around N.S. 837-38 (1718 AD) and added the seven golden pinnacles in it. The reconstruction took time after the engineering of the Nyatapola temple. By worse luck, the devasting earthquake of 1934AD collapsed it.  And optimistically reassembled in the same structure. The ruinous earthquake of April 2015 again, made this temple renovated. It also destroyed the tiny way, passing through the betal temple. That ultimately leads toward the interior part of the Bhairavanath temple. There are legends about the temple. The inner part of the temple consists of the head of Lord Bhairav. There are many stories as to why and how Lord Bhairav’s head was cut off and worshipped here. According to legend, long ago, Kasi Bhairabnath  traveled to Nepal to view either the Bisket Jatra  or the Bal Kaumari Jatra. A tantric priestess in the crowd recognized him for what he was and attempted to immobilize him, but Vishvanath sought to escape by sinking into the ground. As his body descended into the earth, the priestess realized the god was her own husband. To prevent his escape, she ordered his head cut off where it protruded from the ground. Being a god, this was far from a fatal wound, and the priestess enshrined the head in the temple that now stands here. The body, meanwhile, returned to Benares whence it came. Dowman notes that a headless image of Bhairav is still worshipped there even today. Another story about this temple is also interesting, passed orally by our ancestors. According to this, the lord bhairava of Varanasi once visited Bhaktapur to see Bisket jatra. Bisket jatra is one of the biggest jatras of the newar people. During the festival, the lord Bhairava somehow was recognized by a priest and he just cast a decoy spell on him.  As a quick reaction, he started to sink into the terra firma to go back to Varanasi. But the priest didnot let him go. As if, he grabs the head of Bhairava in his hand and decollates him with his sword. That is why people say that the head doesnot match the body of Kasi Vishwanath. It is also believed that the head is still treasured in a box of this temple.\", \"Bhairavanath temple is one of the temples that lies at the central of Bhaktapur, Taumadhii Square and Bhairavanath Temple is built in the pagoda style and It is three-storey. It is one of the temple devoted to Lord Bhairava is one of the rectangular based temples of Bhaktapur. Curiously, there is no entrance on the temple's lengthy west facade that faces the square. Instead, priests access the interior from the south. The west facade is largely symmetrical and features a ground-level shrine with Bhairav depicted in miniature on a small metal throne. Michael Hutt notes that this small statue is frequently stolen and replaced. To either side of the deity are hammered copper plates depicting Bhairav's eyes, two pairs of hands, and two dogs and his faithful companions. At present, perhaps to discourage theft, the ground-level shrine is blocked from casual access by a makeshift wooden barricade. The temple is dedicated to lord Bhairav, which is supposed to be the most ferocious form of Lord Shiva. The Bhairavanath established in this temple is a formidable incarnation of lord shiva, who also prefers to name Kasi Vishwanath and Aakash bhairava. He is somehow famous for his obstreperous and stubborn character. Bhairav has a particular fascination with machines and is often thought to inhabit wheels, with different versions of the god inhabiting different wheels on the same chariot. At the Bhairavanath temple, a chariot used in the annual Bisket-Jatra festival is stored, dismantled, against the temple's north wall. Bhairavanath's association with the chariot used in the festival highlights his connection to the annual Bisket-Jatra festival. The statue of Lord Bhairav is about 12 feet long and is one of the largest statues in Kathmandu Valley. Thousands of people visit Bhairavanath temple during Bhairav Ashtami or Bhairav Jayanthi as it is celebrated religiously.  Even though the temple was slightly damaged during the earthquake in November 2015, it still has retrained most of structure. The Renovative history of Bhairavanath Temple says that The temple was first inaugurated by King Ananda Deva in the 13th century. However, that area, before the establishment of the temple was already popular for the Shaivism pilgrims. It was well known as Lalitmaheshwor. Regarding which there are inscriptions found in the temple. But, it was definitely not triple-roofed, then. During the reign of King Vishwa Malla, the temple was gracefully restored in a one-storeyed temple.After, King Jagatjyoti Malla decorated it with golden roofs. Likewise, in N.S. 788, King Jagat Prakash Malla established his own image along with his minister Chandrashekhar in the temple while having a grand worshipping. Later on, King Bhupatindra Malla modified it into a triple roofed temple at around N.S. 837-38 (1718 AD) and added the seven golden pinnacles in it. The reconstruction took time after the engineering of the Nyatapola temple. By worse luck, the devasting earthquake of 1934AD collapsed it.  And optimistically reassembled in the same structure. The ruinous earthquake of April 2015 again, made this temple renovated. It also destroyed the tiny way, passing through the betal temple. That ultimately leads toward the interior part of the Bhairavanath temple. There are legends about the temple. The inner part of the temple consists of the head of Lord Bhairav. There are many stories as to why and how Lord Bhairav’s head was cut off and worshipped here. According to legend, long ago, Kasi Bhairabnath  traveled to Nepal to view either the Bisket Jatra  or the Bal Kaumari Jatra. A tantric priestess in the crowd recognized him for what he was and attempted to immobilize him, but Vishvanath sought to escape by sinking into the ground. As his body descended into the earth, the priestess realized the god was her own husband. To prevent his escape, she ordered his head cut off where it protruded from the ground. Being a god, this was far from a fatal wound, and the priestess enshrined the head in the temple that now stands here. The body, meanwhile, returned to Benares whence it came. Dowman notes that a headless image of Bhairav is still worshipped there even today. Another story about this temple is also interesting, passed orally by our ancestors. According to this, the lord bhairava of Varanasi once visited Bhaktapur to see Bisket jatra. Bisket jatra is one of the biggest jatras of the newar people. During the festival, the lord Bhairava somehow was recognized by a priest and he just cast a decoy spell on him.  As a quick reaction, he started to sink into the terra firma to go back to Varanasi. But the priest didnot let him go. As if, he grabs the head of Bhairava in his hand and decollates him with his sword. That is why people say that the head doesnot match the body of Kasi Vishwanath. It is also believed that the head is still treasured in a box of this temple.\", \"Bhairavanath temple is one of the temples that lies at the central of Bhaktapur, Taumadhii Square and Bhairavanath Temple is built in the pagoda style and It is three-storey. It is one of the temple devoted to Lord Bhairava is one of the rectangular based temples of Bhaktapur. Curiously, there is no entrance on the temple's lengthy west facade that faces the square. Instead, priests access the interior from the south. The west facade is largely symmetrical and features a ground-level shrine with Bhairav depicted in miniature on a small metal throne. Michael Hutt notes that this small statue is frequently stolen and replaced. To either side of the deity are hammered copper plates depicting Bhairav's eyes, two pairs of hands, and two dogs and his faithful companions. At present, perhaps to discourage theft, the ground-level shrine is blocked from casual access by a makeshift wooden barricade. The temple is dedicated to lord Bhairav, which is supposed to be the most ferocious form of Lord Shiva. The Bhairavanath established in this temple is a formidable incarnation of lord shiva, who also prefers to name Kasi Vishwanath and Aakash bhairava. He is somehow famous for his obstreperous and stubborn character. Bhairav has a particular fascination with machines and is often thought to inhabit wheels, with different versions of the god inhabiting different wheels on the same chariot. At the Bhairavanath temple, a chariot used in the annual Bisket-Jatra festival is stored, dismantled, against the temple's north wall. Bhairavanath's association with the chariot used in the festival highlights his connection to the annual Bisket-Jatra festival. The statue of Lord Bhairav is about 12 feet long and is one of the largest statues in Kathmandu Valley. Thousands of people visit Bhairavanath temple during Bhairav Ashtami or Bhairav Jayanthi as it is celebrated religiously.  Even though the temple was slightly damaged during the earthquake in November 2015, it still has retrained most of structure. The Renovative history of Bhairavanath Temple says that The temple was first inaugurated by King Ananda Deva in the 13th century. However, that area, before the establishment of the temple was already popular for the Shaivism pilgrims. It was well known as Lalitmaheshwor. Regarding which there are inscriptions found in the temple. But, it was definitely not triple-roofed, then. During the reign of King Vishwa Malla, the temple was gracefully restored in a one-storeyed temple.After, King Jagatjyoti Malla decorated it with golden roofs. Likewise, in N.S. 788, King Jagat Prakash Malla established his own image along with his minister Chandrashekhar in the temple while having a grand worshipping. Later on, King Bhupatindra Malla modified it into a triple roofed temple at around N.S. 837-38 (1718 AD) and added the seven golden pinnacles in it. The reconstruction took time after the engineering of the Nyatapola temple. By worse luck, the devasting earthquake of 1934AD collapsed it.  And optimistically reassembled in the same structure. The ruinous earthquake of April 2015 again, made this temple renovated. It also destroyed the tiny way, passing through the betal temple. That ultimately leads toward the interior part of the Bhairavanath temple. There are legends about the temple. The inner part of the temple consists of the head of Lord Bhairav. There are many stories as to why and how Lord Bhairav’s head was cut off and worshipped here. According to legend, long ago, Kasi Bhairabnath  traveled to Nepal to view either the Bisket Jatra  or the Bal Kaumari Jatra. A tantric priestess in the crowd recognized him for what he was and attempted to immobilize him, but Vishvanath sought to escape by sinking into the ground. As his body descended into the earth, the priestess realized the god was her own husband. To prevent his escape, she ordered his head cut off where it protruded from the ground. Being a god, this was far from a fatal wound, and the priestess enshrined the head in the temple that now stands here. The body, meanwhile, returned to Benares whence it came. Dowman notes that a headless image of Bhairav is still worshipped there even today. Another story about this temple is also interesting, passed orally by our ancestors. According to this, the lord bhairava of Varanasi once visited Bhaktapur to see Bisket jatra. Bisket jatra is one of the biggest jatras of the newar people. During the festival, the lord Bhairava somehow was recognized by a priest and he just cast a decoy spell on him.  As a quick reaction, he started to sink into the terra firma to go back to Varanasi. But the priest didnot let him go. As if, he grabs the head of Bhairava in his hand and decollates him with his sword. That is why people say that the head doesnot match the body of Kasi Vishwanath. It is also believed that the head is still treasured in a box of this temple.\", \"Bhairavanath temple is one of the temples that lies at the central of Bhaktapur, Taumadhii Square and Bhairavanath Temple is built in the pagoda style and It is three-storey. It is one of the temple devoted to Lord Bhairava is one of the rectangular based temples of Bhaktapur. Curiously, there is no entrance on the temple's lengthy west facade that faces the square. Instead, priests access the interior from the south. The west facade is largely symmetrical and features a ground-level shrine with Bhairav depicted in miniature on a small metal throne. Michael Hutt notes that this small statue is frequently stolen and replaced. To either side of the deity are hammered copper plates depicting Bhairav's eyes, two pairs of hands, and two dogs and his faithful companions. At present, perhaps to discourage theft, the ground-level shrine is blocked from casual access by a makeshift wooden barricade. The temple is dedicated to lord Bhairav, which is supposed to be the most ferocious form of Lord Shiva. The Bhairavanath established in this temple is a formidable incarnation of lord shiva, who also prefers to name Kasi Vishwanath and Aakash bhairava. He is somehow famous for his obstreperous and stubborn character. Bhairav has a particular fascination with machines and is often thought to inhabit wheels, with different versions of the god inhabiting different wheels on the same chariot. At the Bhairavanath temple, a chariot used in the annual Bisket-Jatra festival is stored, dismantled, against the temple's north wall. Bhairavanath's association with the chariot used in the festival highlights his connection to the annual Bisket-Jatra festival. The statue of Lord Bhairav is about 12 feet long and is one of the largest statues in Kathmandu Valley. Thousands of people visit Bhairavanath temple during Bhairav Ashtami or Bhairav Jayanthi as it is celebrated religiously.  Even though the temple was slightly damaged during the earthquake in November 2015, it still has retrained most of structure. The Renovative history of Bhairavanath Temple says that The temple was first inaugurated by King Ananda Deva in the 13th century. However, that area, before the establishment of the temple was already popular for the Shaivism pilgrims. It was well known as Lalitmaheshwor. Regarding which there are inscriptions found in the temple. But, it was definitely not triple-roofed, then. During the reign of King Vishwa Malla, the temple was gracefully restored in a one-storeyed temple.After, King Jagatjyoti Malla decorated it with golden roofs. Likewise, in N.S. 788, King Jagat Prakash Malla established his own image along with his minister Chandrashekhar in the temple while having a grand worshipping. Later on, King Bhupatindra Malla modified it into a triple roofed temple at around N.S. 837-38 (1718 AD) and added the seven golden pinnacles in it. The reconstruction took time after the engineering of the Nyatapola temple. By worse luck, the devasting earthquake of 1934AD collapsed it.  And optimistically reassembled in the same structure. The ruinous earthquake of April 2015 again, made this temple renovated. It also destroyed the tiny way, passing through the betal temple. That ultimately leads toward the interior part of the Bhairavanath temple. There are legends about the temple. The inner part of the temple consists of the head of Lord Bhairav. There are many stories as to why and how Lord Bhairav’s head was cut off and worshipped here. According to legend, long ago, Kasi Bhairabnath  traveled to Nepal to view either the Bisket Jatra  or the Bal Kaumari Jatra. A tantric priestess in the crowd recognized him for what he was and attempted to immobilize him, but Vishvanath sought to escape by sinking into the ground. As his body descended into the earth, the priestess realized the god was her own husband. To prevent his escape, she ordered his head cut off where it protruded from the ground. Being a god, this was far from a fatal wound, and the priestess enshrined the head in the temple that now stands here. The body, meanwhile, returned to Benares whence it came. Dowman notes that a headless image of Bhairav is still worshipped there even today. Another story about this temple is also interesting, passed orally by our ancestors. According to this, the lord bhairava of Varanasi once visited Bhaktapur to see Bisket jatra. Bisket jatra is one of the biggest jatras of the newar people. During the festival, the lord Bhairava somehow was recognized by a priest and he just cast a decoy spell on him.  As a quick reaction, he started to sink into the terra firma to go back to Varanasi. But the priest didnot let him go. As if, he grabs the head of Bhairava in his hand and decollates him with his sword. That is why people say that the head doesnot match the body of Kasi Vishwanath. It is also believed that the head is still treasured in a box of this temple.\", \"Bhairavanath temple is one of the temples that lies at the central of Bhaktapur, Taumadhii Square and Bhairavanath Temple is built in the pagoda style and It is three-storey. It is one of the temple devoted to Lord Bhairava is one of the rectangular based temples of Bhaktapur. Curiously, there is no entrance on the temple's lengthy west facade that faces the square. Instead, priests access the interior from the south. The west facade is largely symmetrical and features a ground-level shrine with Bhairav depicted in miniature on a small metal throne. Michael Hutt notes that this small statue is frequently stolen and replaced. To either side of the deity are hammered copper plates depicting Bhairav's eyes, two pairs of hands, and two dogs and his faithful companions. At present, perhaps to discourage theft, the ground-level shrine is blocked from casual access by a makeshift wooden barricade. The temple is dedicated to lord Bhairav, which is supposed to be the most ferocious form of Lord Shiva. The Bhairavanath established in this temple is a formidable incarnation of lord shiva, who also prefers to name Kasi Vishwanath and Aakash bhairava. He is somehow famous for his obstreperous and stubborn character. Bhairav has a particular fascination with machines and is often thought to inhabit wheels, with different versions of the god inhabiting different wheels on the same chariot. At the Bhairavanath temple, a chariot used in the annual Bisket-Jatra festival is stored, dismantled, against the temple's north wall. Bhairavanath's association with the chariot used in the festival highlights his connection to the annual Bisket-Jatra festival. The statue of Lord Bhairav is about 12 feet long and is one of the largest statues in Kathmandu Valley. Thousands of people visit Bhairavanath temple during Bhairav Ashtami or Bhairav Jayanthi as it is celebrated religiously.  Even though the temple was slightly damaged during the earthquake in November 2015, it still has retrained most of structure. The Renovative history of Bhairavanath Temple says that The temple was first inaugurated by King Ananda Deva in the 13th century. However, that area, before the establishment of the temple was already popular for the Shaivism pilgrims. It was well known as Lalitmaheshwor. Regarding which there are inscriptions found in the temple. But, it was definitely not triple-roofed, then. During the reign of King Vishwa Malla, the temple was gracefully restored in a one-storeyed temple.After, King Jagatjyoti Malla decorated it with golden roofs. Likewise, in N.S. 788, King Jagat Prakash Malla established his own image along with his minister Chandrashekhar in the temple while having a grand worshipping. Later on, King Bhupatindra Malla modified it into a triple roofed temple at around N.S. 837-38 (1718 AD) and added the seven golden pinnacles in it. The reconstruction took time after the engineering of the Nyatapola temple. By worse luck, the devasting earthquake of 1934AD collapsed it.  And optimistically reassembled in the same structure. The ruinous earthquake of April 2015 again, made this temple renovated. It also destroyed the tiny way, passing through the betal temple. That ultimately leads toward the interior part of the Bhairavanath temple. There are legends about the temple. The inner part of the temple consists of the head of Lord Bhairav. There are many stories as to why and how Lord Bhairav’s head was cut off and worshipped here. According to legend, long ago, Kasi Bhairabnath  traveled to Nepal to view either the Bisket Jatra  or the Bal Kaumari Jatra. A tantric priestess in the crowd recognized him for what he was and attempted to immobilize him, but Vishvanath sought to escape by sinking into the ground. As his body descended into the earth, the priestess realized the god was her own husband. To prevent his escape, she ordered his head cut off where it protruded from the ground. Being a god, this was far from a fatal wound, and the priestess enshrined the head in the temple that now stands here. The body, meanwhile, returned to Benares whence it came. Dowman notes that a headless image of Bhairav is still worshipped there even today. Another story about this temple is also interesting, passed orally by our ancestors. According to this, the lord bhairava of Varanasi once visited Bhaktapur to see Bisket jatra. Bisket jatra is one of the biggest jatras of the newar people. During the festival, the lord Bhairava somehow was recognized by a priest and he just cast a decoy spell on him.  As a quick reaction, he started to sink into the terra firma to go back to Varanasi. But the priest didnot let him go. As if, he grabs the head of Bhairava in his hand and decollates him with his sword. That is why people say that the head doesnot match the body of Kasi Vishwanath. It is also believed that the head is still treasured in a box of this temple.\", \"Bhairavanath temple is one of the temples that lies at the central of Bhaktapur, Taumadhii Square and Bhairavanath Temple is built in the pagoda style and It is three-storey. It is one of the temple devoted to Lord Bhairava is one of the rectangular based temples of Bhaktapur. Curiously, there is no entrance on the temple's lengthy west facade that faces the square. Instead, priests access the interior from the south. The west facade is largely symmetrical and features a ground-level shrine with Bhairav depicted in miniature on a small metal throne. Michael Hutt notes that this small statue is frequently stolen and replaced. To either side of the deity are hammered copper plates depicting Bhairav's eyes, two pairs of hands, and two dogs and his faithful companions. At present, perhaps to discourage theft, the ground-level shrine is blocked from casual access by a makeshift wooden barricade. The temple is dedicated to lord Bhairav, which is supposed to be the most ferocious form of Lord Shiva. The Bhairavanath established in this temple is a formidable incarnation of lord shiva, who also prefers to name Kasi Vishwanath and Aakash bhairava. He is somehow famous for his obstreperous and stubborn character. Bhairav has a particular fascination with machines and is often thought to inhabit wheels, with different versions of the god inhabiting different wheels on the same chariot. At the Bhairavanath temple, a chariot used in the annual Bisket-Jatra festival is stored, dismantled, against the temple's north wall. Bhairavanath's association with the chariot used in the festival highlights his connection to the annual Bisket-Jatra festival. The statue of Lord Bhairav is about 12 feet long and is one of the largest statues in Kathmandu Valley. Thousands of people visit Bhairavanath temple during Bhairav Ashtami or Bhairav Jayanthi as it is celebrated religiously.  Even though the temple was slightly damaged during the earthquake in November 2015, it still has retrained most of structure. The Renovative history of Bhairavanath Temple says that The temple was first inaugurated by King Ananda Deva in the 13th century. However, that area, before the establishment of the temple was already popular for the Shaivism pilgrims. It was well known as Lalitmaheshwor. Regarding which there are inscriptions found in the temple. But, it was definitely not triple-roofed, then. During the reign of King Vishwa Malla, the temple was gracefully restored in a one-storeyed temple.After, King Jagatjyoti Malla decorated it with golden roofs. Likewise, in N.S. 788, King Jagat Prakash Malla established his own image along with his minister Chandrashekhar in the temple while having a grand worshipping. Later on, King Bhupatindra Malla modified it into a triple roofed temple at around N.S. 837-38 (1718 AD) and added the seven golden pinnacles in it. The reconstruction took time after the engineering of the Nyatapola temple. By worse luck, the devasting earthquake of 1934AD collapsed it.  And optimistically reassembled in the same structure. The ruinous earthquake of April 2015 again, made this temple renovated. It also destroyed the tiny way, passing through the betal temple. That ultimately leads toward the interior part of the Bhairavanath temple. There are legends about the temple. The inner part of the temple consists of the head of Lord Bhairav. There are many stories as to why and how Lord Bhairav’s head was cut off and worshipped here. According to legend, long ago, Kasi Bhairabnath  traveled to Nepal to view either the Bisket Jatra  or the Bal Kaumari Jatra. A tantric priestess in the crowd recognized him for what he was and attempted to immobilize him, but Vishvanath sought to escape by sinking into the ground. As his body descended into the earth, the priestess realized the god was her own husband. To prevent his escape, she ordered his head cut off where it protruded from the ground. Being a god, this was far from a fatal wound, and the priestess enshrined the head in the temple that now stands here. The body, meanwhile, returned to Benares whence it came. Dowman notes that a headless image of Bhairav is still worshipped there even today. Another story about this temple is also interesting, passed orally by our ancestors. According to this, the lord bhairava of Varanasi once visited Bhaktapur to see Bisket jatra. Bisket jatra is one of the biggest jatras of the newar people. During the festival, the lord Bhairava somehow was recognized by a priest and he just cast a decoy spell on him.  As a quick reaction, he started to sink into the terra firma to go back to Varanasi. But the priest didnot let him go. As if, he grabs the head of Bhairava in his hand and decollates him with his sword. That is why people say that the head doesnot match the body of Kasi Vishwanath. It is also believed that the head is still treasured in a box of this temple.\", \"Bhairavanath temple is one of the temples that lies at the central of Bhaktapur, Taumadhii Square and Bhairavanath Temple is built in the pagoda style and It is three-storey. It is one of the temple devoted to Lord Bhairava is one of the rectangular based temples of Bhaktapur. Curiously, there is no entrance on the temple's lengthy west facade that faces the square. Instead, priests access the interior from the south. The west facade is largely symmetrical and features a ground-level shrine with Bhairav depicted in miniature on a small metal throne. Michael Hutt notes that this small statue is frequently stolen and replaced. To either side of the deity are hammered copper plates depicting Bhairav's eyes, two pairs of hands, and two dogs and his faithful companions. At present, perhaps to discourage theft, the ground-level shrine is blocked from casual access by a makeshift wooden barricade. The temple is dedicated to lord Bhairav, which is supposed to be the most ferocious form of Lord Shiva. The Bhairavanath established in this temple is a formidable incarnation of lord shiva, who also prefers to name Kasi Vishwanath and Aakash bhairava. He is somehow famous for his obstreperous and stubborn character. Bhairav has a particular fascination with machines and is often thought to inhabit wheels, with different versions of the god inhabiting different wheels on the same chariot. At the Bhairavanath temple, a chariot used in the annual Bisket-Jatra festival is stored, dismantled, against the temple's north wall. Bhairavanath's association with the chariot used in the festival highlights his connection to the annual Bisket-Jatra festival. The statue of Lord Bhairav is about 12 feet long and is one of the largest statues in Kathmandu Valley. Thousands of people visit Bhairavanath temple during Bhairav Ashtami or Bhairav Jayanthi as it is celebrated religiously.  Even though the temple was slightly damaged during the earthquake in November 2015, it still has retrained most of structure. The Renovative history of Bhairavanath Temple says that The temple was first inaugurated by King Ananda Deva in the 13th century. However, that area, before the establishment of the temple was already popular for the Shaivism pilgrims. It was well known as Lalitmaheshwor. Regarding which there are inscriptions found in the temple. But, it was definitely not triple-roofed, then. During the reign of King Vishwa Malla, the temple was gracefully restored in a one-storeyed temple.After, King Jagatjyoti Malla decorated it with golden roofs. Likewise, in N.S. 788, King Jagat Prakash Malla established his own image along with his minister Chandrashekhar in the temple while having a grand worshipping. Later on, King Bhupatindra Malla modified it into a triple roofed temple at around N.S. 837-38 (1718 AD) and added the seven golden pinnacles in it. The reconstruction took time after the engineering of the Nyatapola temple. By worse luck, the devasting earthquake of 1934AD collapsed it.  And optimistically reassembled in the same structure. The ruinous earthquake of April 2015 again, made this temple renovated. It also destroyed the tiny way, passing through the betal temple. That ultimately leads toward the interior part of the Bhairavanath temple. There are legends about the temple. The inner part of the temple consists of the head of Lord Bhairav. There are many stories as to why and how Lord Bhairav’s head was cut off and worshipped here. According to legend, long ago, Kasi Bhairabnath  traveled to Nepal to view either the Bisket Jatra  or the Bal Kaumari Jatra. A tantric priestess in the crowd recognized him for what he was and attempted to immobilize him, but Vishvanath sought to escape by sinking into the ground. As his body descended into the earth, the priestess realized the god was her own husband. To prevent his escape, she ordered his head cut off where it protruded from the ground. Being a god, this was far from a fatal wound, and the priestess enshrined the head in the temple that now stands here. The body, meanwhile, returned to Benares whence it came. Dowman notes that a headless image of Bhairav is still worshipped there even today. Another story about this temple is also interesting, passed orally by our ancestors. According to this, the lord bhairava of Varanasi once visited Bhaktapur to see Bisket jatra. Bisket jatra is one of the biggest jatras of the newar people. During the festival, the lord Bhairava somehow was recognized by a priest and he just cast a decoy spell on him.  As a quick reaction, he started to sink into the terra firma to go back to Varanasi. But the priest didnot let him go. As if, he grabs the head of Bhairava in his hand and decollates him with his sword. That is why people say that the head doesnot match the body of Kasi Vishwanath. It is also believed that the head is still treasured in a box of this temple.\", \"Bhairavanath temple is one of the temples that lies at the central of Bhaktapur, Taumadhii Square and Bhairavanath Temple is built in the pagoda style and It is three-storey. It is one of the temple devoted to Lord Bhairava is one of the rectangular based temples of Bhaktapur. Curiously, there is no entrance on the temple's lengthy west facade that faces the square. Instead, priests access the interior from the south. The west facade is largely symmetrical and features a ground-level shrine with Bhairav depicted in miniature on a small metal throne. Michael Hutt notes that this small statue is frequently stolen and replaced. To either side of the deity are hammered copper plates depicting Bhairav's eyes, two pairs of hands, and two dogs and his faithful companions. At present, perhaps to discourage theft, the ground-level shrine is blocked from casual access by a makeshift wooden barricade. The temple is dedicated to lord Bhairav, which is supposed to be the most ferocious form of Lord Shiva. The Bhairavanath established in this temple is a formidable incarnation of lord shiva, who also prefers to name Kasi Vishwanath and Aakash bhairava. He is somehow famous for his obstreperous and stubborn character. Bhairav has a particular fascination with machines and is often thought to inhabit wheels, with different versions of the god inhabiting different wheels on the same chariot. At the Bhairavanath temple, a chariot used in the annual Bisket-Jatra festival is stored, dismantled, against the temple's north wall. Bhairavanath's association with the chariot used in the festival highlights his connection to the annual Bisket-Jatra festival. The statue of Lord Bhairav is about 12 feet long and is one of the largest statues in Kathmandu Valley. Thousands of people visit Bhairavanath temple during Bhairav Ashtami or Bhairav Jayanthi as it is celebrated religiously.  Even though the temple was slightly damaged during the earthquake in November 2015, it still has retrained most of structure. The Renovative history of Bhairavanath Temple says that The temple was first inaugurated by King Ananda Deva in the 13th century. However, that area, before the establishment of the temple was already popular for the Shaivism pilgrims. It was well known as Lalitmaheshwor. Regarding which there are inscriptions found in the temple. But, it was definitely not triple-roofed, then. During the reign of King Vishwa Malla, the temple was gracefully restored in a one-storeyed temple.After, King Jagatjyoti Malla decorated it with golden roofs. Likewise, in N.S. 788, King Jagat Prakash Malla established his own image along with his minister Chandrashekhar in the temple while having a grand worshipping. Later on, King Bhupatindra Malla modified it into a triple roofed temple at around N.S. 837-38 (1718 AD) and added the seven golden pinnacles in it. The reconstruction took time after the engineering of the Nyatapola temple. By worse luck, the devasting earthquake of 1934AD collapsed it.  And optimistically reassembled in the same structure. The ruinous earthquake of April 2015 again, made this temple renovated. It also destroyed the tiny way, passing through the betal temple. That ultimately leads toward the interior part of the Bhairavanath temple. There are legends about the temple. The inner part of the temple consists of the head of Lord Bhairav. There are many stories as to why and how Lord Bhairav’s head was cut off and worshipped here. According to legend, long ago, Kasi Bhairabnath  traveled to Nepal to view either the Bisket Jatra  or the Bal Kaumari Jatra. A tantric priestess in the crowd recognized him for what he was and attempted to immobilize him, but Vishvanath sought to escape by sinking into the ground. As his body descended into the earth, the priestess realized the god was her own husband. To prevent his escape, she ordered his head cut off where it protruded from the ground. Being a god, this was far from a fatal wound, and the priestess enshrined the head in the temple that now stands here. The body, meanwhile, returned to Benares whence it came. Dowman notes that a headless image of Bhairav is still worshipped there even today. Another story about this temple is also interesting, passed orally by our ancestors. According to this, the lord bhairava of Varanasi once visited Bhaktapur to see Bisket jatra. Bisket jatra is one of the biggest jatras of the newar people. During the festival, the lord Bhairava somehow was recognized by a priest and he just cast a decoy spell on him.  As a quick reaction, he started to sink into the terra firma to go back to Varanasi. But the priest didnot let him go. As if, he grabs the head of Bhairava in his hand and decollates him with his sword. That is why people say that the head doesnot match the body of Kasi Vishwanath. It is also believed that the head is still treasured in a box of this temple.\", \"Bhairavanath temple is one of the temples that lies at the central of Bhaktapur, Taumadhii Square and Bhairavanath Temple is built in the pagoda style and It is three-storey. It is one of the temple devoted to Lord Bhairava is one of the rectangular based temples of Bhaktapur. Curiously, there is no entrance on the temple's lengthy west facade that faces the square. Instead, priests access the interior from the south. The west facade is largely symmetrical and features a ground-level shrine with Bhairav depicted in miniature on a small metal throne. Michael Hutt notes that this small statue is frequently stolen and replaced. To either side of the deity are hammered copper plates depicting Bhairav's eyes, two pairs of hands, and two dogs and his faithful companions. At present, perhaps to discourage theft, the ground-level shrine is blocked from casual access by a makeshift wooden barricade. The temple is dedicated to lord Bhairav, which is supposed to be the most ferocious form of Lord Shiva. The Bhairavanath established in this temple is a formidable incarnation of lord shiva, who also prefers to name Kasi Vishwanath and Aakash bhairava. He is somehow famous for his obstreperous and stubborn character. Bhairav has a particular fascination with machines and is often thought to inhabit wheels, with different versions of the god inhabiting different wheels on the same chariot. At the Bhairavanath temple, a chariot used in the annual Bisket-Jatra festival is stored, dismantled, against the temple's north wall. Bhairavanath's association with the chariot used in the festival highlights his connection to the annual Bisket-Jatra festival. The statue of Lord Bhairav is about 12 feet long and is one of the largest statues in Kathmandu Valley. Thousands of people visit Bhairavanath temple during Bhairav Ashtami or Bhairav Jayanthi as it is celebrated religiously.  Even though the temple was slightly damaged during the earthquake in November 2015, it still has retrained most of structure. The Renovative history of Bhairavanath Temple says that The temple was first inaugurated by King Ananda Deva in the 13th century. However, that area, before the establishment of the temple was already popular for the Shaivism pilgrims. It was well known as Lalitmaheshwor. Regarding which there are inscriptions found in the temple. But, it was definitely not triple-roofed, then. During the reign of King Vishwa Malla, the temple was gracefully restored in a one-storeyed temple.After, King Jagatjyoti Malla decorated it with golden roofs. Likewise, in N.S. 788, King Jagat Prakash Malla established his own image along with his minister Chandrashekhar in the temple while having a grand worshipping. Later on, King Bhupatindra Malla modified it into a triple roofed temple at around N.S. 837-38 (1718 AD) and added the seven golden pinnacles in it. The reconstruction took time after the engineering of the Nyatapola temple. By worse luck, the devasting earthquake of 1934AD collapsed it.  And optimistically reassembled in the same structure. The ruinous earthquake of April 2015 again, made this temple renovated. It also destroyed the tiny way, passing through the betal temple. That ultimately leads toward the interior part of the Bhairavanath temple. There are legends about the temple. The inner part of the temple consists of the head of Lord Bhairav. There are many stories as to why and how Lord Bhairav’s head was cut off and worshipped here. According to legend, long ago, Kasi Bhairabnath  traveled to Nepal to view either the Bisket Jatra  or the Bal Kaumari Jatra. A tantric priestess in the crowd recognized him for what he was and attempted to immobilize him, but Vishvanath sought to escape by sinking into the ground. As his body descended into the earth, the priestess realized the god was her own husband. To prevent his escape, she ordered his head cut off where it protruded from the ground. Being a god, this was far from a fatal wound, and the priestess enshrined the head in the temple that now stands here. The body, meanwhile, returned to Benares whence it came. Dowman notes that a headless image of Bhairav is still worshipped there even today. Another story about this temple is also interesting, passed orally by our ancestors. According to this, the lord bhairava of Varanasi once visited Bhaktapur to see Bisket jatra. Bisket jatra is one of the biggest jatras of the newar people. During the festival, the lord Bhairava somehow was recognized by a priest and he just cast a decoy spell on him.  As a quick reaction, he started to sink into the terra firma to go back to Varanasi. But the priest didnot let him go. As if, he grabs the head of Bhairava in his hand and decollates him with his sword. That is why people say that the head doesnot match the body of Kasi Vishwanath. It is also believed that the head is still treasured in a box of this temple.\", \"Bhairavanath temple is one of the temples that lies at the central of Bhaktapur, Taumadhii Square and Bhairavanath Temple is built in the pagoda style and It is three-storey. It is one of the temple devoted to Lord Bhairava is one of the rectangular based temples of Bhaktapur. Curiously, there is no entrance on the temple's lengthy west facade that faces the square. Instead, priests access the interior from the south. The west facade is largely symmetrical and features a ground-level shrine with Bhairav depicted in miniature on a small metal throne. Michael Hutt notes that this small statue is frequently stolen and replaced. To either side of the deity are hammered copper plates depicting Bhairav's eyes, two pairs of hands, and two dogs and his faithful companions. At present, perhaps to discourage theft, the ground-level shrine is blocked from casual access by a makeshift wooden barricade. The temple is dedicated to lord Bhairav, which is supposed to be the most ferocious form of Lord Shiva. The Bhairavanath established in this temple is a formidable incarnation of lord shiva, who also prefers to name Kasi Vishwanath and Aakash bhairava. He is somehow famous for his obstreperous and stubborn character. Bhairav has a particular fascination with machines and is often thought to inhabit wheels, with different versions of the god inhabiting different wheels on the same chariot. At the Bhairavanath temple, a chariot used in the annual Bisket-Jatra festival is stored, dismantled, against the temple's north wall. Bhairavanath's association with the chariot used in the festival highlights his connection to the annual Bisket-Jatra festival. The statue of Lord Bhairav is about 12 feet long and is one of the largest statues in Kathmandu Valley. Thousands of people visit Bhairavanath temple during Bhairav Ashtami or Bhairav Jayanthi as it is celebrated religiously.  Even though the temple was slightly damaged during the earthquake in November 2015, it still has retrained most of structure. The Renovative history of Bhairavanath Temple says that The temple was first inaugurated by King Ananda Deva in the 13th century. However, that area, before the establishment of the temple was already popular for the Shaivism pilgrims. It was well known as Lalitmaheshwor. Regarding which there are inscriptions found in the temple. But, it was definitely not triple-roofed, then. During the reign of King Vishwa Malla, the temple was gracefully restored in a one-storeyed temple.After, King Jagatjyoti Malla decorated it with golden roofs. Likewise, in N.S. 788, King Jagat Prakash Malla established his own image along with his minister Chandrashekhar in the temple while having a grand worshipping. Later on, King Bhupatindra Malla modified it into a triple roofed temple at around N.S. 837-38 (1718 AD) and added the seven golden pinnacles in it. The reconstruction took time after the engineering of the Nyatapola temple. By worse luck, the devasting earthquake of 1934AD collapsed it.  And optimistically reassembled in the same structure. The ruinous earthquake of April 2015 again, made this temple renovated. It also destroyed the tiny way, passing through the betal temple. That ultimately leads toward the interior part of the Bhairavanath temple. There are legends about the temple. The inner part of the temple consists of the head of Lord Bhairav. There are many stories as to why and how Lord Bhairav’s head was cut off and worshipped here. According to legend, long ago, Kasi Bhairabnath  traveled to Nepal to view either the Bisket Jatra  or the Bal Kaumari Jatra. A tantric priestess in the crowd recognized him for what he was and attempted to immobilize him, but Vishvanath sought to escape by sinking into the ground. As his body descended into the earth, the priestess realized the god was her own husband. To prevent his escape, she ordered his head cut off where it protruded from the ground. Being a god, this was far from a fatal wound, and the priestess enshrined the head in the temple that now stands here. The body, meanwhile, returned to Benares whence it came. Dowman notes that a headless image of Bhairav is still worshipped there even today. Another story about this temple is also interesting, passed orally by our ancestors. According to this, the lord bhairava of Varanasi once visited Bhaktapur to see Bisket jatra. Bisket jatra is one of the biggest jatras of the newar people. During the festival, the lord Bhairava somehow was recognized by a priest and he just cast a decoy spell on him.  As a quick reaction, he started to sink into the terra firma to go back to Varanasi. But the priest didnot let him go. As if, he grabs the head of Bhairava in his hand and decollates him with his sword. That is why people say that the head doesnot match the body of Kasi Vishwanath. It is also believed that the head is still treasured in a box of this temple.\", \"Bhairavanath temple is one of the temples that lies at the central of Bhaktapur, Taumadhii Square and Bhairavanath Temple is built in the pagoda style and It is three-storey. It is one of the temple devoted to Lord Bhairava is one of the rectangular based temples of Bhaktapur. Curiously, there is no entrance on the temple's lengthy west facade that faces the square. Instead, priests access the interior from the south. The west facade is largely symmetrical and features a ground-level shrine with Bhairav depicted in miniature on a small metal throne. Michael Hutt notes that this small statue is frequently stolen and replaced. To either side of the deity are hammered copper plates depicting Bhairav's eyes, two pairs of hands, and two dogs and his faithful companions. At present, perhaps to discourage theft, the ground-level shrine is blocked from casual access by a makeshift wooden barricade. The temple is dedicated to lord Bhairav, which is supposed to be the most ferocious form of Lord Shiva. The Bhairavanath established in this temple is a formidable incarnation of lord shiva, who also prefers to name Kasi Vishwanath and Aakash bhairava. He is somehow famous for his obstreperous and stubborn character. Bhairav has a particular fascination with machines and is often thought to inhabit wheels, with different versions of the god inhabiting different wheels on the same chariot. At the Bhairavanath temple, a chariot used in the annual Bisket-Jatra festival is stored, dismantled, against the temple's north wall. Bhairavanath's association with the chariot used in the festival highlights his connection to the annual Bisket-Jatra festival. The statue of Lord Bhairav is about 12 feet long and is one of the largest statues in Kathmandu Valley. Thousands of people visit Bhairavanath temple during Bhairav Ashtami or Bhairav Jayanthi as it is celebrated religiously.  Even though the temple was slightly damaged during the earthquake in November 2015, it still has retrained most of structure. The Renovative history of Bhairavanath Temple says that The temple was first inaugurated by King Ananda Deva in the 13th century. However, that area, before the establishment of the temple was already popular for the Shaivism pilgrims. It was well known as Lalitmaheshwor. Regarding which there are inscriptions found in the temple. But, it was definitely not triple-roofed, then. During the reign of King Vishwa Malla, the temple was gracefully restored in a one-storeyed temple.After, King Jagatjyoti Malla decorated it with golden roofs. Likewise, in N.S. 788, King Jagat Prakash Malla established his own image along with his minister Chandrashekhar in the temple while having a grand worshipping. Later on, King Bhupatindra Malla modified it into a triple roofed temple at around N.S. 837-38 (1718 AD) and added the seven golden pinnacles in it. The reconstruction took time after the engineering of the Nyatapola temple. By worse luck, the devasting earthquake of 1934AD collapsed it.  And optimistically reassembled in the same structure. The ruinous earthquake of April 2015 again, made this temple renovated. It also destroyed the tiny way, passing through the betal temple. That ultimately leads toward the interior part of the Bhairavanath temple. There are legends about the temple. The inner part of the temple consists of the head of Lord Bhairav. There are many stories as to why and how Lord Bhairav’s head was cut off and worshipped here. According to legend, long ago, Kasi Bhairabnath  traveled to Nepal to view either the Bisket Jatra  or the Bal Kaumari Jatra. A tantric priestess in the crowd recognized him for what he was and attempted to immobilize him, but Vishvanath sought to escape by sinking into the ground. As his body descended into the earth, the priestess realized the god was her own husband. To prevent his escape, she ordered his head cut off where it protruded from the ground. Being a god, this was far from a fatal wound, and the priestess enshrined the head in the temple that now stands here. The body, meanwhile, returned to Benares whence it came. Dowman notes that a headless image of Bhairav is still worshipped there even today. Another story about this temple is also interesting, passed orally by our ancestors. According to this, the lord bhairava of Varanasi once visited Bhaktapur to see Bisket jatra. Bisket jatra is one of the biggest jatras of the newar people. During the festival, the lord Bhairava somehow was recognized by a priest and he just cast a decoy spell on him.  As a quick reaction, he started to sink into the terra firma to go back to Varanasi. But the priest didnot let him go. As if, he grabs the head of Bhairava in his hand and decollates him with his sword. That is why people say that the head doesnot match the body of Kasi Vishwanath. It is also believed that the head is still treasured in a box of this temple.\", \"Bhairavanath temple is one of the temples that lies at the central of Bhaktapur, Taumadhii Square and Bhairavanath Temple is built in the pagoda style and It is three-storey. It is one of the temple devoted to Lord Bhairava is one of the rectangular based temples of Bhaktapur. Curiously, there is no entrance on the temple's lengthy west facade that faces the square. Instead, priests access the interior from the south. The west facade is largely symmetrical and features a ground-level shrine with Bhairav depicted in miniature on a small metal throne. Michael Hutt notes that this small statue is frequently stolen and replaced. To either side of the deity are hammered copper plates depicting Bhairav's eyes, two pairs of hands, and two dogs and his faithful companions. At present, perhaps to discourage theft, the ground-level shrine is blocked from casual access by a makeshift wooden barricade. The temple is dedicated to lord Bhairav, which is supposed to be the most ferocious form of Lord Shiva. The Bhairavanath established in this temple is a formidable incarnation of lord shiva, who also prefers to name Kasi Vishwanath and Aakash bhairava. He is somehow famous for his obstreperous and stubborn character. Bhairav has a particular fascination with machines and is often thought to inhabit wheels, with different versions of the god inhabiting different wheels on the same chariot. At the Bhairavanath temple, a chariot used in the annual Bisket-Jatra festival is stored, dismantled, against the temple's north wall. Bhairavanath's association with the chariot used in the festival highlights his connection to the annual Bisket-Jatra festival. The statue of Lord Bhairav is about 12 feet long and is one of the largest statues in Kathmandu Valley. Thousands of people visit Bhairavanath temple during Bhairav Ashtami or Bhairav Jayanthi as it is celebrated religiously.  Even though the temple was slightly damaged during the earthquake in November 2015, it still has retrained most of structure. The Renovative history of Bhairavanath Temple says that The temple was first inaugurated by King Ananda Deva in the 13th century. However, that area, before the establishment of the temple was already popular for the Shaivism pilgrims. It was well known as Lalitmaheshwor. Regarding which there are inscriptions found in the temple. But, it was definitely not triple-roofed, then. During the reign of King Vishwa Malla, the temple was gracefully restored in a one-storeyed temple.After, King Jagatjyoti Malla decorated it with golden roofs. Likewise, in N.S. 788, King Jagat Prakash Malla established his own image along with his minister Chandrashekhar in the temple while having a grand worshipping. Later on, King Bhupatindra Malla modified it into a triple roofed temple at around N.S. 837-38 (1718 AD) and added the seven golden pinnacles in it. The reconstruction took time after the engineering of the Nyatapola temple. By worse luck, the devasting earthquake of 1934AD collapsed it.  And optimistically reassembled in the same structure. The ruinous earthquake of April 2015 again, made this temple renovated. It also destroyed the tiny way, passing through the betal temple. That ultimately leads toward the interior part of the Bhairavanath temple. There are legends about the temple. The inner part of the temple consists of the head of Lord Bhairav. There are many stories as to why and how Lord Bhairav’s head was cut off and worshipped here. According to legend, long ago, Kasi Bhairabnath  traveled to Nepal to view either the Bisket Jatra  or the Bal Kaumari Jatra. A tantric priestess in the crowd recognized him for what he was and attempted to immobilize him, but Vishvanath sought to escape by sinking into the ground. As his body descended into the earth, the priestess realized the god was her own husband. To prevent his escape, she ordered his head cut off where it protruded from the ground. Being a god, this was far from a fatal wound, and the priestess enshrined the head in the temple that now stands here. The body, meanwhile, returned to Benares whence it came. Dowman notes that a headless image of Bhairav is still worshipped there even today. Another story about this temple is also interesting, passed orally by our ancestors. According to this, the lord bhairava of Varanasi once visited Bhaktapur to see Bisket jatra. Bisket jatra is one of the biggest jatras of the newar people. During the festival, the lord Bhairava somehow was recognized by a priest and he just cast a decoy spell on him.  As a quick reaction, he started to sink into the terra firma to go back to Varanasi. But the priest didnot let him go. As if, he grabs the head of Bhairava in his hand and decollates him with his sword. That is why people say that the head doesnot match the body of Kasi Vishwanath. It is also believed that the head is still treasured in a box of this temple.\", \"Bhairavanath temple is one of the temples that lies at the central of Bhaktapur, Taumadhii Square and Bhairavanath Temple is built in the pagoda style and It is three-storey. It is one of the temple devoted to Lord Bhairava is one of the rectangular based temples of Bhaktapur. Curiously, there is no entrance on the temple's lengthy west facade that faces the square. Instead, priests access the interior from the south. The west facade is largely symmetrical and features a ground-level shrine with Bhairav depicted in miniature on a small metal throne. Michael Hutt notes that this small statue is frequently stolen and replaced. To either side of the deity are hammered copper plates depicting Bhairav's eyes, two pairs of hands, and two dogs and his faithful companions. At present, perhaps to discourage theft, the ground-level shrine is blocked from casual access by a makeshift wooden barricade. The temple is dedicated to lord Bhairav, which is supposed to be the most ferocious form of Lord Shiva. The Bhairavanath established in this temple is a formidable incarnation of lord shiva, who also prefers to name Kasi Vishwanath and Aakash bhairava. He is somehow famous for his obstreperous and stubborn character. Bhairav has a particular fascination with machines and is often thought to inhabit wheels, with different versions of the god inhabiting different wheels on the same chariot. At the Bhairavanath temple, a chariot used in the annual Bisket-Jatra festival is stored, dismantled, against the temple's north wall. Bhairavanath's association with the chariot used in the festival highlights his connection to the annual Bisket-Jatra festival. The statue of Lord Bhairav is about 12 feet long and is one of the largest statues in Kathmandu Valley. Thousands of people visit Bhairavanath temple during Bhairav Ashtami or Bhairav Jayanthi as it is celebrated religiously.  Even though the temple was slightly damaged during the earthquake in November 2015, it still has retrained most of structure. The Renovative history of Bhairavanath Temple says that The temple was first inaugurated by King Ananda Deva in the 13th century. However, that area, before the establishment of the temple was already popular for the Shaivism pilgrims. It was well known as Lalitmaheshwor. Regarding which there are inscriptions found in the temple. But, it was definitely not triple-roofed, then. During the reign of King Vishwa Malla, the temple was gracefully restored in a one-storeyed temple.After, King Jagatjyoti Malla decorated it with golden roofs. Likewise, in N.S. 788, King Jagat Prakash Malla established his own image along with his minister Chandrashekhar in the temple while having a grand worshipping. Later on, King Bhupatindra Malla modified it into a triple roofed temple at around N.S. 837-38 (1718 AD) and added the seven golden pinnacles in it. The reconstruction took time after the engineering of the Nyatapola temple. By worse luck, the devasting earthquake of 1934AD collapsed it.  And optimistically reassembled in the same structure. The ruinous earthquake of April 2015 again, made this temple renovated. It also destroyed the tiny way, passing through the betal temple. That ultimately leads toward the interior part of the Bhairavanath temple. There are legends about the temple. The inner part of the temple consists of the head of Lord Bhairav. There are many stories as to why and how Lord Bhairav’s head was cut off and worshipped here. According to legend, long ago, Kasi Bhairabnath  traveled to Nepal to view either the Bisket Jatra  or the Bal Kaumari Jatra. A tantric priestess in the crowd recognized him for what he was and attempted to immobilize him, but Vishvanath sought to escape by sinking into the ground. As his body descended into the earth, the priestess realized the god was her own husband. To prevent his escape, she ordered his head cut off where it protruded from the ground. Being a god, this was far from a fatal wound, and the priestess enshrined the head in the temple that now stands here. The body, meanwhile, returned to Benares whence it came. Dowman notes that a headless image of Bhairav is still worshipped there even today. Another story about this temple is also interesting, passed orally by our ancestors. According to this, the lord bhairava of Varanasi once visited Bhaktapur to see Bisket jatra. Bisket jatra is one of the biggest jatras of the newar people. During the festival, the lord Bhairava somehow was recognized by a priest and he just cast a decoy spell on him.  As a quick reaction, he started to sink into the terra firma to go back to Varanasi. But the priest didnot let him go. As if, he grabs the head of Bhairava in his hand and decollates him with his sword. That is why people say that the head doesnot match the body of Kasi Vishwanath. It is also believed that the head is still treasured in a box of this temple.\", \"Bhairavanath temple is one of the temples that lies at the central of Bhaktapur, Taumadhii Square and Bhairavanath Temple is built in the pagoda style and It is three-storey. It is one of the temple devoted to Lord Bhairava is one of the rectangular based temples of Bhaktapur. Curiously, there is no entrance on the temple's lengthy west facade that faces the square. Instead, priests access the interior from the south. The west facade is largely symmetrical and features a ground-level shrine with Bhairav depicted in miniature on a small metal throne. Michael Hutt notes that this small statue is frequently stolen and replaced. To either side of the deity are hammered copper plates depicting Bhairav's eyes, two pairs of hands, and two dogs and his faithful companions. At present, perhaps to discourage theft, the ground-level shrine is blocked from casual access by a makeshift wooden barricade. The temple is dedicated to lord Bhairav, which is supposed to be the most ferocious form of Lord Shiva. The Bhairavanath established in this temple is a formidable incarnation of lord shiva, who also prefers to name Kasi Vishwanath and Aakash bhairava. He is somehow famous for his obstreperous and stubborn character. Bhairav has a particular fascination with machines and is often thought to inhabit wheels, with different versions of the god inhabiting different wheels on the same chariot. At the Bhairavanath temple, a chariot used in the annual Bisket-Jatra festival is stored, dismantled, against the temple's north wall. Bhairavanath's association with the chariot used in the festival highlights his connection to the annual Bisket-Jatra festival. The statue of Lord Bhairav is about 12 feet long and is one of the largest statues in Kathmandu Valley. Thousands of people visit Bhairavanath temple during Bhairav Ashtami or Bhairav Jayanthi as it is celebrated religiously.  Even though the temple was slightly damaged during the earthquake in November 2015, it still has retrained most of structure. The Renovative history of Bhairavanath Temple says that The temple was first inaugurated by King Ananda Deva in the 13th century. However, that area, before the establishment of the temple was already popular for the Shaivism pilgrims. It was well known as Lalitmaheshwor. Regarding which there are inscriptions found in the temple. But, it was definitely not triple-roofed, then. During the reign of King Vishwa Malla, the temple was gracefully restored in a one-storeyed temple.After, King Jagatjyoti Malla decorated it with golden roofs. Likewise, in N.S. 788, King Jagat Prakash Malla established his own image along with his minister Chandrashekhar in the temple while having a grand worshipping. Later on, King Bhupatindra Malla modified it into a triple roofed temple at around N.S. 837-38 (1718 AD) and added the seven golden pinnacles in it. The reconstruction took time after the engineering of the Nyatapola temple. By worse luck, the devasting earthquake of 1934AD collapsed it.  And optimistically reassembled in the same structure. The ruinous earthquake of April 2015 again, made this temple renovated. It also destroyed the tiny way, passing through the betal temple. That ultimately leads toward the interior part of the Bhairavanath temple. There are legends about the temple. The inner part of the temple consists of the head of Lord Bhairav. There are many stories as to why and how Lord Bhairav’s head was cut off and worshipped here. According to legend, long ago, Kasi Bhairabnath  traveled to Nepal to view either the Bisket Jatra  or the Bal Kaumari Jatra. A tantric priestess in the crowd recognized him for what he was and attempted to immobilize him, but Vishvanath sought to escape by sinking into the ground. As his body descended into the earth, the priestess realized the god was her own husband. To prevent his escape, she ordered his head cut off where it protruded from the ground. Being a god, this was far from a fatal wound, and the priestess enshrined the head in the temple that now stands here. The body, meanwhile, returned to Benares whence it came. Dowman notes that a headless image of Bhairav is still worshipped there even today. Another story about this temple is also interesting, passed orally by our ancestors. According to this, the lord bhairava of Varanasi once visited Bhaktapur to see Bisket jatra. Bisket jatra is one of the biggest jatras of the newar people. During the festival, the lord Bhairava somehow was recognized by a priest and he just cast a decoy spell on him.  As a quick reaction, he started to sink into the terra firma to go back to Varanasi. But the priest didnot let him go. As if, he grabs the head of Bhairava in his hand and decollates him with his sword. That is why people say that the head doesnot match the body of Kasi Vishwanath. It is also believed that the head is still treasured in a box of this temple.\", \"Bhairavanath temple is one of the temples that lies at the central of Bhaktapur, Taumadhii Square and Bhairavanath Temple is built in the pagoda style and It is three-storey. It is one of the temple devoted to Lord Bhairava is one of the rectangular based temples of Bhaktapur. Curiously, there is no entrance on the temple's lengthy west facade that faces the square. Instead, priests access the interior from the south. The west facade is largely symmetrical and features a ground-level shrine with Bhairav depicted in miniature on a small metal throne. Michael Hutt notes that this small statue is frequently stolen and replaced. To either side of the deity are hammered copper plates depicting Bhairav's eyes, two pairs of hands, and two dogs and his faithful companions. At present, perhaps to discourage theft, the ground-level shrine is blocked from casual access by a makeshift wooden barricade. The temple is dedicated to lord Bhairav, which is supposed to be the most ferocious form of Lord Shiva. The Bhairavanath established in this temple is a formidable incarnation of lord shiva, who also prefers to name Kasi Vishwanath and Aakash bhairava. He is somehow famous for his obstreperous and stubborn character. Bhairav has a particular fascination with machines and is often thought to inhabit wheels, with different versions of the god inhabiting different wheels on the same chariot. At the Bhairavanath temple, a chariot used in the annual Bisket-Jatra festival is stored, dismantled, against the temple's north wall. Bhairavanath's association with the chariot used in the festival highlights his connection to the annual Bisket-Jatra festival. The statue of Lord Bhairav is about 12 feet long and is one of the largest statues in Kathmandu Valley. Thousands of people visit Bhairavanath temple during Bhairav Ashtami or Bhairav Jayanthi as it is celebrated religiously.  Even though the temple was slightly damaged during the earthquake in November 2015, it still has retrained most of structure. The Renovative history of Bhairavanath Temple says that The temple was first inaugurated by King Ananda Deva in the 13th century. However, that area, before the establishment of the temple was already popular for the Shaivism pilgrims. It was well known as Lalitmaheshwor. Regarding which there are inscriptions found in the temple. But, it was definitely not triple-roofed, then. During the reign of King Vishwa Malla, the temple was gracefully restored in a one-storeyed temple.After, King Jagatjyoti Malla decorated it with golden roofs. Likewise, in N.S. 788, King Jagat Prakash Malla established his own image along with his minister Chandrashekhar in the temple while having a grand worshipping. Later on, King Bhupatindra Malla modified it into a triple roofed temple at around N.S. 837-38 (1718 AD) and added the seven golden pinnacles in it. The reconstruction took time after the engineering of the Nyatapola temple. By worse luck, the devasting earthquake of 1934AD collapsed it.  And optimistically reassembled in the same structure. The ruinous earthquake of April 2015 again, made this temple renovated. It also destroyed the tiny way, passing through the betal temple. That ultimately leads toward the interior part of the Bhairavanath temple. There are legends about the temple. The inner part of the temple consists of the head of Lord Bhairav. There are many stories as to why and how Lord Bhairav’s head was cut off and worshipped here. According to legend, long ago, Kasi Bhairabnath  traveled to Nepal to view either the Bisket Jatra  or the Bal Kaumari Jatra. A tantric priestess in the crowd recognized him for what he was and attempted to immobilize him, but Vishvanath sought to escape by sinking into the ground. As his body descended into the earth, the priestess realized the god was her own husband. To prevent his escape, she ordered his head cut off where it protruded from the ground. Being a god, this was far from a fatal wound, and the priestess enshrined the head in the temple that now stands here. The body, meanwhile, returned to Benares whence it came. Dowman notes that a headless image of Bhairav is still worshipped there even today. Another story about this temple is also interesting, passed orally by our ancestors. According to this, the lord bhairava of Varanasi once visited Bhaktapur to see Bisket jatra. Bisket jatra is one of the biggest jatras of the newar people. During the festival, the lord Bhairava somehow was recognized by a priest and he just cast a decoy spell on him.  As a quick reaction, he started to sink into the terra firma to go back to Varanasi. But the priest didnot let him go. As if, he grabs the head of Bhairava in his hand and decollates him with his sword. That is why people say that the head doesnot match the body of Kasi Vishwanath. It is also believed that the head is still treasured in a box of this temple.\", \"Bhairavanath temple is one of the temples that lies at the central of Bhaktapur, Taumadhii Square and Bhairavanath Temple is built in the pagoda style and It is three-storey. It is one of the temple devoted to Lord Bhairava is one of the rectangular based temples of Bhaktapur. Curiously, there is no entrance on the temple's lengthy west facade that faces the square. Instead, priests access the interior from the south. The west facade is largely symmetrical and features a ground-level shrine with Bhairav depicted in miniature on a small metal throne. Michael Hutt notes that this small statue is frequently stolen and replaced. To either side of the deity are hammered copper plates depicting Bhairav's eyes, two pairs of hands, and two dogs and his faithful companions. At present, perhaps to discourage theft, the ground-level shrine is blocked from casual access by a makeshift wooden barricade. The temple is dedicated to lord Bhairav, which is supposed to be the most ferocious form of Lord Shiva. The Bhairavanath established in this temple is a formidable incarnation of lord shiva, who also prefers to name Kasi Vishwanath and Aakash bhairava. He is somehow famous for his obstreperous and stubborn character. Bhairav has a particular fascination with machines and is often thought to inhabit wheels, with different versions of the god inhabiting different wheels on the same chariot. At the Bhairavanath temple, a chariot used in the annual Bisket-Jatra festival is stored, dismantled, against the temple's north wall. Bhairavanath's association with the chariot used in the festival highlights his connection to the annual Bisket-Jatra festival. The statue of Lord Bhairav is about 12 feet long and is one of the largest statues in Kathmandu Valley. Thousands of people visit Bhairavanath temple during Bhairav Ashtami or Bhairav Jayanthi as it is celebrated religiously.  Even though the temple was slightly damaged during the earthquake in November 2015, it still has retrained most of structure. The Renovative history of Bhairavanath Temple says that The temple was first inaugurated by King Ananda Deva in the 13th century. However, that area, before the establishment of the temple was already popular for the Shaivism pilgrims. It was well known as Lalitmaheshwor. Regarding which there are inscriptions found in the temple. But, it was definitely not triple-roofed, then. During the reign of King Vishwa Malla, the temple was gracefully restored in a one-storeyed temple.After, King Jagatjyoti Malla decorated it with golden roofs. Likewise, in N.S. 788, King Jagat Prakash Malla established his own image along with his minister Chandrashekhar in the temple while having a grand worshipping. Later on, King Bhupatindra Malla modified it into a triple roofed temple at around N.S. 837-38 (1718 AD) and added the seven golden pinnacles in it. The reconstruction took time after the engineering of the Nyatapola temple. By worse luck, the devasting earthquake of 1934AD collapsed it.  And optimistically reassembled in the same structure. The ruinous earthquake of April 2015 again, made this temple renovated. It also destroyed the tiny way, passing through the betal temple. That ultimately leads toward the interior part of the Bhairavanath temple. There are legends about the temple. The inner part of the temple consists of the head of Lord Bhairav. There are many stories as to why and how Lord Bhairav’s head was cut off and worshipped here. According to legend, long ago, Kasi Bhairabnath  traveled to Nepal to view either the Bisket Jatra  or the Bal Kaumari Jatra. A tantric priestess in the crowd recognized him for what he was and attempted to immobilize him, but Vishvanath sought to escape by sinking into the ground. As his body descended into the earth, the priestess realized the god was her own husband. To prevent his escape, she ordered his head cut off where it protruded from the ground. Being a god, this was far from a fatal wound, and the priestess enshrined the head in the temple that now stands here. The body, meanwhile, returned to Benares whence it came. Dowman notes that a headless image of Bhairav is still worshipped there even today. Another story about this temple is also interesting, passed orally by our ancestors. According to this, the lord bhairava of Varanasi once visited Bhaktapur to see Bisket jatra. Bisket jatra is one of the biggest jatras of the newar people. During the festival, the lord Bhairava somehow was recognized by a priest and he just cast a decoy spell on him.  As a quick reaction, he started to sink into the terra firma to go back to Varanasi. But the priest didnot let him go. As if, he grabs the head of Bhairava in his hand and decollates him with his sword. That is why people say that the head doesnot match the body of Kasi Vishwanath. It is also believed that the head is still treasured in a box of this temple.\", \"Bhairavanath temple is one of the temples that lies at the central of Bhaktapur, Taumadhii Square and Bhairavanath Temple is built in the pagoda style and It is three-storey. It is one of the temple devoted to Lord Bhairava is one of the rectangular based temples of Bhaktapur. Curiously, there is no entrance on the temple's lengthy west facade that faces the square. Instead, priests access the interior from the south. The west facade is largely symmetrical and features a ground-level shrine with Bhairav depicted in miniature on a small metal throne. Michael Hutt notes that this small statue is frequently stolen and replaced. To either side of the deity are hammered copper plates depicting Bhairav's eyes, two pairs of hands, and two dogs and his faithful companions. At present, perhaps to discourage theft, the ground-level shrine is blocked from casual access by a makeshift wooden barricade. The temple is dedicated to lord Bhairav, which is supposed to be the most ferocious form of Lord Shiva. The Bhairavanath established in this temple is a formidable incarnation of lord shiva, who also prefers to name Kasi Vishwanath and Aakash bhairava. He is somehow famous for his obstreperous and stubborn character. Bhairav has a particular fascination with machines and is often thought to inhabit wheels, with different versions of the god inhabiting different wheels on the same chariot. At the Bhairavanath temple, a chariot used in the annual Bisket-Jatra festival is stored, dismantled, against the temple's north wall. Bhairavanath's association with the chariot used in the festival highlights his connection to the annual Bisket-Jatra festival. The statue of Lord Bhairav is about 12 feet long and is one of the largest statues in Kathmandu Valley. Thousands of people visit Bhairavanath temple during Bhairav Ashtami or Bhairav Jayanthi as it is celebrated religiously.  Even though the temple was slightly damaged during the earthquake in November 2015, it still has retrained most of structure. The Renovative history of Bhairavanath Temple says that The temple was first inaugurated by King Ananda Deva in the 13th century. However, that area, before the establishment of the temple was already popular for the Shaivism pilgrims. It was well known as Lalitmaheshwor. Regarding which there are inscriptions found in the temple. But, it was definitely not triple-roofed, then. During the reign of King Vishwa Malla, the temple was gracefully restored in a one-storeyed temple.After, King Jagatjyoti Malla decorated it with golden roofs. Likewise, in N.S. 788, King Jagat Prakash Malla established his own image along with his minister Chandrashekhar in the temple while having a grand worshipping. Later on, King Bhupatindra Malla modified it into a triple roofed temple at around N.S. 837-38 (1718 AD) and added the seven golden pinnacles in it. The reconstruction took time after the engineering of the Nyatapola temple. By worse luck, the devasting earthquake of 1934AD collapsed it.  And optimistically reassembled in the same structure. The ruinous earthquake of April 2015 again, made this temple renovated. It also destroyed the tiny way, passing through the betal temple. That ultimately leads toward the interior part of the Bhairavanath temple. There are legends about the temple. The inner part of the temple consists of the head of Lord Bhairav. There are many stories as to why and how Lord Bhairav’s head was cut off and worshipped here. According to legend, long ago, Kasi Bhairabnath  traveled to Nepal to view either the Bisket Jatra  or the Bal Kaumari Jatra. A tantric priestess in the crowd recognized him for what he was and attempted to immobilize him, but Vishvanath sought to escape by sinking into the ground. As his body descended into the earth, the priestess realized the god was her own husband. To prevent his escape, she ordered his head cut off where it protruded from the ground. Being a god, this was far from a fatal wound, and the priestess enshrined the head in the temple that now stands here. The body, meanwhile, returned to Benares whence it came. Dowman notes that a headless image of Bhairav is still worshipped there even today. Another story about this temple is also interesting, passed orally by our ancestors. According to this, the lord bhairava of Varanasi once visited Bhaktapur to see Bisket jatra. Bisket jatra is one of the biggest jatras of the newar people. During the festival, the lord Bhairava somehow was recognized by a priest and he just cast a decoy spell on him.  As a quick reaction, he started to sink into the terra firma to go back to Varanasi. But the priest didnot let him go. As if, he grabs the head of Bhairava in his hand and decollates him with his sword. That is why people say that the head doesnot match the body of Kasi Vishwanath. It is also believed that the head is still treasured in a box of this temple.\", \"Bhairavanath temple is one of the temples that lies at the central of Bhaktapur, Taumadhii Square and Bhairavanath Temple is built in the pagoda style and It is three-storey. It is one of the temple devoted to Lord Bhairava is one of the rectangular based temples of Bhaktapur. Curiously, there is no entrance on the temple's lengthy west facade that faces the square. Instead, priests access the interior from the south. The west facade is largely symmetrical and features a ground-level shrine with Bhairav depicted in miniature on a small metal throne. Michael Hutt notes that this small statue is frequently stolen and replaced. To either side of the deity are hammered copper plates depicting Bhairav's eyes, two pairs of hands, and two dogs and his faithful companions. At present, perhaps to discourage theft, the ground-level shrine is blocked from casual access by a makeshift wooden barricade. The temple is dedicated to lord Bhairav, which is supposed to be the most ferocious form of Lord Shiva. The Bhairavanath established in this temple is a formidable incarnation of lord shiva, who also prefers to name Kasi Vishwanath and Aakash bhairava. He is somehow famous for his obstreperous and stubborn character. Bhairav has a particular fascination with machines and is often thought to inhabit wheels, with different versions of the god inhabiting different wheels on the same chariot. At the Bhairavanath temple, a chariot used in the annual Bisket-Jatra festival is stored, dismantled, against the temple's north wall. Bhairavanath's association with the chariot used in the festival highlights his connection to the annual Bisket-Jatra festival. The statue of Lord Bhairav is about 12 feet long and is one of the largest statues in Kathmandu Valley. Thousands of people visit Bhairavanath temple during Bhairav Ashtami or Bhairav Jayanthi as it is celebrated religiously.  Even though the temple was slightly damaged during the earthquake in November 2015, it still has retrained most of structure. The Renovative history of Bhairavanath Temple says that The temple was first inaugurated by King Ananda Deva in the 13th century. However, that area, before the establishment of the temple was already popular for the Shaivism pilgrims. It was well known as Lalitmaheshwor. Regarding which there are inscriptions found in the temple. But, it was definitely not triple-roofed, then. During the reign of King Vishwa Malla, the temple was gracefully restored in a one-storeyed temple.After, King Jagatjyoti Malla decorated it with golden roofs. Likewise, in N.S. 788, King Jagat Prakash Malla established his own image along with his minister Chandrashekhar in the temple while having a grand worshipping. Later on, King Bhupatindra Malla modified it into a triple roofed temple at around N.S. 837-38 (1718 AD) and added the seven golden pinnacles in it. The reconstruction took time after the engineering of the Nyatapola temple. By worse luck, the devasting earthquake of 1934AD collapsed it.  And optimistically reassembled in the same structure. The ruinous earthquake of April 2015 again, made this temple renovated. It also destroyed the tiny way, passing through the betal temple. That ultimately leads toward the interior part of the Bhairavanath temple. There are legends about the temple. The inner part of the temple consists of the head of Lord Bhairav. There are many stories as to why and how Lord Bhairav’s head was cut off and worshipped here. According to legend, long ago, Kasi Bhairabnath  traveled to Nepal to view either the Bisket Jatra  or the Bal Kaumari Jatra. A tantric priestess in the crowd recognized him for what he was and attempted to immobilize him, but Vishvanath sought to escape by sinking into the ground. As his body descended into the earth, the priestess realized the god was her own husband. To prevent his escape, she ordered his head cut off where it protruded from the ground. Being a god, this was far from a fatal wound, and the priestess enshrined the head in the temple that now stands here. The body, meanwhile, returned to Benares whence it came. Dowman notes that a headless image of Bhairav is still worshipped there even today. Another story about this temple is also interesting, passed orally by our ancestors. According to this, the lord bhairava of Varanasi once visited Bhaktapur to see Bisket jatra. Bisket jatra is one of the biggest jatras of the newar people. During the festival, the lord Bhairava somehow was recognized by a priest and he just cast a decoy spell on him.  As a quick reaction, he started to sink into the terra firma to go back to Varanasi. But the priest didnot let him go. As if, he grabs the head of Bhairava in his hand and decollates him with his sword. That is why people say that the head doesnot match the body of Kasi Vishwanath. It is also believed that the head is still treasured in a box of this temple.\", \"Bhairavanath temple is one of the temples that lies at the central of Bhaktapur, Taumadhii Square and Bhairavanath Temple is built in the pagoda style and It is three-storey. It is one of the temple devoted to Lord Bhairava is one of the rectangular based temples of Bhaktapur. Curiously, there is no entrance on the temple's lengthy west facade that faces the square. Instead, priests access the interior from the south. The west facade is largely symmetrical and features a ground-level shrine with Bhairav depicted in miniature on a small metal throne. Michael Hutt notes that this small statue is frequently stolen and replaced. To either side of the deity are hammered copper plates depicting Bhairav's eyes, two pairs of hands, and two dogs and his faithful companions. At present, perhaps to discourage theft, the ground-level shrine is blocked from casual access by a makeshift wooden barricade. The temple is dedicated to lord Bhairav, which is supposed to be the most ferocious form of Lord Shiva. The Bhairavanath established in this temple is a formidable incarnation of lord shiva, who also prefers to name Kasi Vishwanath and Aakash bhairava. He is somehow famous for his obstreperous and stubborn character. Bhairav has a particular fascination with machines and is often thought to inhabit wheels, with different versions of the god inhabiting different wheels on the same chariot. At the Bhairavanath temple, a chariot used in the annual Bisket-Jatra festival is stored, dismantled, against the temple's north wall. Bhairavanath's association with the chariot used in the festival highlights his connection to the annual Bisket-Jatra festival. The statue of Lord Bhairav is about 12 feet long and is one of the largest statues in Kathmandu Valley. Thousands of people visit Bhairavanath temple during Bhairav Ashtami or Bhairav Jayanthi as it is celebrated religiously.  Even though the temple was slightly damaged during the earthquake in November 2015, it still has retrained most of structure. The Renovative history of Bhairavanath Temple says that The temple was first inaugurated by King Ananda Deva in the 13th century. However, that area, before the establishment of the temple was already popular for the Shaivism pilgrims. It was well known as Lalitmaheshwor. Regarding which there are inscriptions found in the temple. But, it was definitely not triple-roofed, then. During the reign of King Vishwa Malla, the temple was gracefully restored in a one-storeyed temple.After, King Jagatjyoti Malla decorated it with golden roofs. Likewise, in N.S. 788, King Jagat Prakash Malla established his own image along with his minister Chandrashekhar in the temple while having a grand worshipping. Later on, King Bhupatindra Malla modified it into a triple roofed temple at around N.S. 837-38 (1718 AD) and added the seven golden pinnacles in it. The reconstruction took time after the engineering of the Nyatapola temple. By worse luck, the devasting earthquake of 1934AD collapsed it.  And optimistically reassembled in the same structure. The ruinous earthquake of April 2015 again, made this temple renovated. It also destroyed the tiny way, passing through the betal temple. That ultimately leads toward the interior part of the Bhairavanath temple. There are legends about the temple. The inner part of the temple consists of the head of Lord Bhairav. There are many stories as to why and how Lord Bhairav’s head was cut off and worshipped here. According to legend, long ago, Kasi Bhairabnath  traveled to Nepal to view either the Bisket Jatra  or the Bal Kaumari Jatra. A tantric priestess in the crowd recognized him for what he was and attempted to immobilize him, but Vishvanath sought to escape by sinking into the ground. As his body descended into the earth, the priestess realized the god was her own husband. To prevent his escape, she ordered his head cut off where it protruded from the ground. Being a god, this was far from a fatal wound, and the priestess enshrined the head in the temple that now stands here. The body, meanwhile, returned to Benares whence it came. Dowman notes that a headless image of Bhairav is still worshipped there even today. Another story about this temple is also interesting, passed orally by our ancestors. According to this, the lord bhairava of Varanasi once visited Bhaktapur to see Bisket jatra. Bisket jatra is one of the biggest jatras of the newar people. During the festival, the lord Bhairava somehow was recognized by a priest and he just cast a decoy spell on him.  As a quick reaction, he started to sink into the terra firma to go back to Varanasi. But the priest didnot let him go. As if, he grabs the head of Bhairava in his hand and decollates him with his sword. That is why people say that the head doesnot match the body of Kasi Vishwanath. It is also believed that the head is still treasured in a box of this temple.\", \"Bhairavanath temple is one of the temples that lies at the central of Bhaktapur, Taumadhii Square and Bhairavanath Temple is built in the pagoda style and It is three-storey. It is one of the temple devoted to Lord Bhairava is one of the rectangular based temples of Bhaktapur. Curiously, there is no entrance on the temple's lengthy west facade that faces the square. Instead, priests access the interior from the south. The west facade is largely symmetrical and features a ground-level shrine with Bhairav depicted in miniature on a small metal throne. Michael Hutt notes that this small statue is frequently stolen and replaced. To either side of the deity are hammered copper plates depicting Bhairav's eyes, two pairs of hands, and two dogs and his faithful companions. At present, perhaps to discourage theft, the ground-level shrine is blocked from casual access by a makeshift wooden barricade. The temple is dedicated to lord Bhairav, which is supposed to be the most ferocious form of Lord Shiva. The Bhairavanath established in this temple is a formidable incarnation of lord shiva, who also prefers to name Kasi Vishwanath and Aakash bhairava. He is somehow famous for his obstreperous and stubborn character. Bhairav has a particular fascination with machines and is often thought to inhabit wheels, with different versions of the god inhabiting different wheels on the same chariot. At the Bhairavanath temple, a chariot used in the annual Bisket-Jatra festival is stored, dismantled, against the temple's north wall. Bhairavanath's association with the chariot used in the festival highlights his connection to the annual Bisket-Jatra festival. The statue of Lord Bhairav is about 12 feet long and is one of the largest statues in Kathmandu Valley. Thousands of people visit Bhairavanath temple during Bhairav Ashtami or Bhairav Jayanthi as it is celebrated religiously.  Even though the temple was slightly damaged during the earthquake in November 2015, it still has retrained most of structure. The Renovative history of Bhairavanath Temple says that The temple was first inaugurated by King Ananda Deva in the 13th century. However, that area, before the establishment of the temple was already popular for the Shaivism pilgrims. It was well known as Lalitmaheshwor. Regarding which there are inscriptions found in the temple. But, it was definitely not triple-roofed, then. During the reign of King Vishwa Malla, the temple was gracefully restored in a one-storeyed temple.After, King Jagatjyoti Malla decorated it with golden roofs. Likewise, in N.S. 788, King Jagat Prakash Malla established his own image along with his minister Chandrashekhar in the temple while having a grand worshipping. Later on, King Bhupatindra Malla modified it into a triple roofed temple at around N.S. 837-38 (1718 AD) and added the seven golden pinnacles in it. The reconstruction took time after the engineering of the Nyatapola temple. By worse luck, the devasting earthquake of 1934AD collapsed it.  And optimistically reassembled in the same structure. The ruinous earthquake of April 2015 again, made this temple renovated. It also destroyed the tiny way, passing through the betal temple. That ultimately leads toward the interior part of the Bhairavanath temple. There are legends about the temple. The inner part of the temple consists of the head of Lord Bhairav. There are many stories as to why and how Lord Bhairav’s head was cut off and worshipped here. According to legend, long ago, Kasi Bhairabnath  traveled to Nepal to view either the Bisket Jatra  or the Bal Kaumari Jatra. A tantric priestess in the crowd recognized him for what he was and attempted to immobilize him, but Vishvanath sought to escape by sinking into the ground. As his body descended into the earth, the priestess realized the god was her own husband. To prevent his escape, she ordered his head cut off where it protruded from the ground. Being a god, this was far from a fatal wound, and the priestess enshrined the head in the temple that now stands here. The body, meanwhile, returned to Benares whence it came. Dowman notes that a headless image of Bhairav is still worshipped there even today. Another story about this temple is also interesting, passed orally by our ancestors. According to this, the lord bhairava of Varanasi once visited Bhaktapur to see Bisket jatra. Bisket jatra is one of the biggest jatras of the newar people. During the festival, the lord Bhairava somehow was recognized by a priest and he just cast a decoy spell on him.  As a quick reaction, he started to sink into the terra firma to go back to Varanasi. But the priest didnot let him go. As if, he grabs the head of Bhairava in his hand and decollates him with his sword. That is why people say that the head doesnot match the body of Kasi Vishwanath. It is also believed that the head is still treasured in a box of this temple.\", \"Bhairavanath temple is one of the temples that lies at the central of Bhaktapur, Taumadhii Square and Bhairavanath Temple is built in the pagoda style and It is three-storey. It is one of the temple devoted to Lord Bhairava is one of the rectangular based temples of Bhaktapur. Curiously, there is no entrance on the temple's lengthy west facade that faces the square. Instead, priests access the interior from the south. The west facade is largely symmetrical and features a ground-level shrine with Bhairav depicted in miniature on a small metal throne. Michael Hutt notes that this small statue is frequently stolen and replaced. To either side of the deity are hammered copper plates depicting Bhairav's eyes, two pairs of hands, and two dogs and his faithful companions. At present, perhaps to discourage theft, the ground-level shrine is blocked from casual access by a makeshift wooden barricade. The temple is dedicated to lord Bhairav, which is supposed to be the most ferocious form of Lord Shiva. The Bhairavanath established in this temple is a formidable incarnation of lord shiva, who also prefers to name Kasi Vishwanath and Aakash bhairava. He is somehow famous for his obstreperous and stubborn character. Bhairav has a particular fascination with machines and is often thought to inhabit wheels, with different versions of the god inhabiting different wheels on the same chariot. At the Bhairavanath temple, a chariot used in the annual Bisket-Jatra festival is stored, dismantled, against the temple's north wall. Bhairavanath's association with the chariot used in the festival highlights his connection to the annual Bisket-Jatra festival. The statue of Lord Bhairav is about 12 feet long and is one of the largest statues in Kathmandu Valley. Thousands of people visit Bhairavanath temple during Bhairav Ashtami or Bhairav Jayanthi as it is celebrated religiously.  Even though the temple was slightly damaged during the earthquake in November 2015, it still has retrained most of structure. The Renovative history of Bhairavanath Temple says that The temple was first inaugurated by King Ananda Deva in the 13th century. However, that area, before the establishment of the temple was already popular for the Shaivism pilgrims. It was well known as Lalitmaheshwor. Regarding which there are inscriptions found in the temple. But, it was definitely not triple-roofed, then. During the reign of King Vishwa Malla, the temple was gracefully restored in a one-storeyed temple.After, King Jagatjyoti Malla decorated it with golden roofs. Likewise, in N.S. 788, King Jagat Prakash Malla established his own image along with his minister Chandrashekhar in the temple while having a grand worshipping. Later on, King Bhupatindra Malla modified it into a triple roofed temple at around N.S. 837-38 (1718 AD) and added the seven golden pinnacles in it. The reconstruction took time after the engineering of the Nyatapola temple. By worse luck, the devasting earthquake of 1934AD collapsed it.  And optimistically reassembled in the same structure. The ruinous earthquake of April 2015 again, made this temple renovated. It also destroyed the tiny way, passing through the betal temple. That ultimately leads toward the interior part of the Bhairavanath temple. There are legends about the temple. The inner part of the temple consists of the head of Lord Bhairav. There are many stories as to why and how Lord Bhairav’s head was cut off and worshipped here. According to legend, long ago, Kasi Bhairabnath  traveled to Nepal to view either the Bisket Jatra  or the Bal Kaumari Jatra. A tantric priestess in the crowd recognized him for what he was and attempted to immobilize him, but Vishvanath sought to escape by sinking into the ground. As his body descended into the earth, the priestess realized the god was her own husband. To prevent his escape, she ordered his head cut off where it protruded from the ground. Being a god, this was far from a fatal wound, and the priestess enshrined the head in the temple that now stands here. The body, meanwhile, returned to Benares whence it came. Dowman notes that a headless image of Bhairav is still worshipped there even today. Another story about this temple is also interesting, passed orally by our ancestors. According to this, the lord bhairava of Varanasi once visited Bhaktapur to see Bisket jatra. Bisket jatra is one of the biggest jatras of the newar people. During the festival, the lord Bhairava somehow was recognized by a priest and he just cast a decoy spell on him.  As a quick reaction, he started to sink into the terra firma to go back to Varanasi. But the priest didnot let him go. As if, he grabs the head of Bhairava in his hand and decollates him with his sword. That is why people say that the head doesnot match the body of Kasi Vishwanath. It is also believed that the head is still treasured in a box of this temple.\", \"Nyatapola was built back in 1701 by King Bhupatindra Malla with a pretty specific purpose: to rein in the powerful deity Bhairavnath by invoking the tantric goddess Siddhilaxmi. The dedication to precision in its construction is remarkable, from the five Ganesha and tiers to the 108 struts and 360 battens used.Have you heard about the interesting reflection thing? You can actually see the temple's reflection in the Khancha pukhu pond nearby. Pond is around Golmadi area.  The temple stands at a height of 32.19 meters.Yes, Nyatapola Temple is indeed a part of the UNESCO World Heritage site enlisted as Bhaktapur Durbar Square where Nyatapola Temple stands.Nyatapola Temple is a major tourist attraction in Bhaktapur, drawing visitors from around the world due to its architectural beauty and cultural significance. Yes, the temple's architecture embodies principles of Hindu cosmology, with each tier symbolizing different elements and aspects of life. Visitors are generally expected to remove their shoes before entering the temple vicinity and should respect the sanctity of the site.The temple follows a pagoda-style architecture, characterized by its multi-tiered roof and intricate wooden carvings, showcasing exceptional Newari craftsmanship Various Hindu festivals are observed at the temple premises, including special ceremonies during Dashain and other significant religious occasions. No you are not permitted to take pictures inside but it is allowed in the outer areas of the temple. Yes, photography is usually allowed in the outer areas of the temple, but it's best to ask for permission before taking pictures of specific areas or people. Yes, there are usually guides available nearby who can provide detailed information about the temple's history and significance. Visitors are usually expected to remove their shoes before entering the temple premises and to respect the sanctity of the site. Each tier symbolizes a different element and also serves as a representation of the stages of life. Yes, various rituals and festivals are celebrated at Nyatapola Temple throughout the year, including special ceremonies during Dashain and other Hindu festivals. Typically, tourists are not allowed to enter the temple itself, but they can admire its beautiful architecture and explore the area around it. The temple's architecture represents the five basic elements: earth, water, fire, air, and ether, and is dedicated to the goddess Siddhi Lakshmi. The construction work of this temple was completed within eight month. Goddess Shiddhi Laxmi, the powerful tantric goddess, is inside Temple.  The unique features of temple is 5 Ganesha, 5 tiers, 5 plinths, 33 steps, 108 struts, and 360 battens used in the temple. The major propose was to control the aggressive, god Bhairavnath by establishing the tantric goddess Siddhilaxmi according to the inscription. The Nyatapola temple was constructed in 1701 AD by King Bhupatindra Malla. Placing the flag on top of the pinnacle during the establishment day celebration is a symbolic act carried out by the Awals of Tuchimala tole, signifying a tradition and celebration associated with the temple's history and establishment. The Nyatapola temple is a significant heritage site that hosts an annual puja to celebrate its establishment day. It has survived major earthquakes and is supported by the efforts of various individuals and organizations, including the User's Committee. The Gorkha earthquake of 2015 caused partial damage to the top roof tier of the Nyatapola temple.The Nyatapola temple was rebuilt within the years 1951-1955 after being partially affected by the 1934 earthquake. The great Bihar earthquake of 1934 partially affected the Nyatapola temple, causing the collapse of the top roof only. The Nyatapola temple has survived three major earthquakes in Nepal's history. It was partially affected by the great Bihar earthquake of 1934 and suffered partial damage on the top roof tier during the Gorkha earthquake of 2015. They are kept in staircase for guarding. The fifth are stone Byaghrini, two goddesses of supernatural power. The fourth are sarduls or griffins, ten times as strong as the lions.Lions are the guards which are ten times as strong as the elephants. Elephants are the guards which are ten times as strong as the men. The lowest are statues of Jayalla Malla and Patta. Two champions of Bhatgaon Raja, which of whom is said to have had the strength of ten men. The lowest are statues of Jayalla Malla and Patta. Two champions of Bhatgaon Raja, which of whom is said to have had the strength of ten men, The next are elephants, ten times as strong as the men, The third are lions, ten times as strong as the elephants, The fourth are sarduls or griffins, ten times as strong as the lions, And the fifth are stone Byaghrini, two goddesses of supernatural power. There are five carved stones in front of temple. In Nepali language it is commonly interpreted as Five Storey Temple. Four corners are adorned with five miniature shrines in each of the four corners. It has five layers of plinth decks. Five Storey Temple. The temple rests on a square base of five high plinths with five miniature shrines in each of the four corners. The daily Nitya puja is still performed by the authorized Tantric priests, who serve Taleju, the clan deity of the Mallas. Taleju, the clan deity of the Mallas. Nyatapola temple is also regarded as the Agamdyo of Taleju Bhawani of Bhaktapur Durbar square. There are no Jatras are conducted in the name of Nyatapola temple and only limited pujas are offered in the temple. The daily Nitya puja is still performed by the authorized Tantric priests, who serve Taleju, the clan deity of the Mallas. The temple rests on a square base of five high plinths with five miniature shrines in each of the four corners. The Nyatapola temple serves as one of the best amphitheaters during the Jatras to view with its five layers of plinth decks considered as exposed foundation. Nyatapola word consists of two words Nyata means five and Pola literally means roof in Nepal Bhasha is also commonly interpreted as Five Storey Temple.\", \"Nyatapola was built back in 1701 by King Bhupatindra Malla with a pretty specific purpose: to rein in the powerful deity Bhairavnath by invoking the tantric goddess Siddhilaxmi. The dedication to precision in its construction is remarkable, from the five Ganesha and tiers to the 108 struts and 360 battens used.Have you heard about the interesting reflection thing? You can actually see the temple's reflection in the Khancha pukhu pond nearby. Pond is around Golmadi area.  The temple stands at a height of 32.19 meters.Yes, Nyatapola Temple is indeed a part of the UNESCO World Heritage site enlisted as Bhaktapur Durbar Square where Nyatapola Temple stands.Nyatapola Temple is a major tourist attraction in Bhaktapur, drawing visitors from around the world due to its architectural beauty and cultural significance. Yes, the temple's architecture embodies principles of Hindu cosmology, with each tier symbolizing different elements and aspects of life. Visitors are generally expected to remove their shoes before entering the temple vicinity and should respect the sanctity of the site.The temple follows a pagoda-style architecture, characterized by its multi-tiered roof and intricate wooden carvings, showcasing exceptional Newari craftsmanship Various Hindu festivals are observed at the temple premises, including special ceremonies during Dashain and other significant religious occasions. No you are not permitted to take pictures inside but it is allowed in the outer areas of the temple. Yes, photography is usually allowed in the outer areas of the temple, but it's best to ask for permission before taking pictures of specific areas or people. Yes, there are usually guides available nearby who can provide detailed information about the temple's history and significance. Visitors are usually expected to remove their shoes before entering the temple premises and to respect the sanctity of the site. Each tier symbolizes a different element and also serves as a representation of the stages of life. Yes, various rituals and festivals are celebrated at Nyatapola Temple throughout the year, including special ceremonies during Dashain and other Hindu festivals. Typically, tourists are not allowed to enter the temple itself, but they can admire its beautiful architecture and explore the area around it. The temple's architecture represents the five basic elements: earth, water, fire, air, and ether, and is dedicated to the goddess Siddhi Lakshmi. The construction work of this temple was completed within eight month. Goddess Shiddhi Laxmi, the powerful tantric goddess, is inside Temple.  The unique features of temple is 5 Ganesha, 5 tiers, 5 plinths, 33 steps, 108 struts, and 360 battens used in the temple. The major propose was to control the aggressive, god Bhairavnath by establishing the tantric goddess Siddhilaxmi according to the inscription. The Nyatapola temple was constructed in 1701 AD by King Bhupatindra Malla. Placing the flag on top of the pinnacle during the establishment day celebration is a symbolic act carried out by the Awals of Tuchimala tole, signifying a tradition and celebration associated with the temple's history and establishment. The Nyatapola temple is a significant heritage site that hosts an annual puja to celebrate its establishment day. It has survived major earthquakes and is supported by the efforts of various individuals and organizations, including the User's Committee. The Gorkha earthquake of 2015 caused partial damage to the top roof tier of the Nyatapola temple.The Nyatapola temple was rebuilt within the years 1951-1955 after being partially affected by the 1934 earthquake. The great Bihar earthquake of 1934 partially affected the Nyatapola temple, causing the collapse of the top roof only. The Nyatapola temple has survived three major earthquakes in Nepal's history. It was partially affected by the great Bihar earthquake of 1934 and suffered partial damage on the top roof tier during the Gorkha earthquake of 2015. They are kept in staircase for guarding. The fifth are stone Byaghrini, two goddesses of supernatural power. The fourth are sarduls or griffins, ten times as strong as the lions.Lions are the guards which are ten times as strong as the elephants. Elephants are the guards which are ten times as strong as the men. The lowest are statues of Jayalla Malla and Patta. Two champions of Bhatgaon Raja, which of whom is said to have had the strength of ten men. The lowest are statues of Jayalla Malla and Patta. Two champions of Bhatgaon Raja, which of whom is said to have had the strength of ten men, The next are elephants, ten times as strong as the men, The third are lions, ten times as strong as the elephants, The fourth are sarduls or griffins, ten times as strong as the lions, And the fifth are stone Byaghrini, two goddesses of supernatural power. There are five carved stones in front of temple. In Nepali language it is commonly interpreted as Five Storey Temple. Four corners are adorned with five miniature shrines in each of the four corners. It has five layers of plinth decks. Five Storey Temple. The temple rests on a square base of five high plinths with five miniature shrines in each of the four corners. The daily Nitya puja is still performed by the authorized Tantric priests, who serve Taleju, the clan deity of the Mallas. Taleju, the clan deity of the Mallas. Nyatapola temple is also regarded as the Agamdyo of Taleju Bhawani of Bhaktapur Durbar square. There are no Jatras are conducted in the name of Nyatapola temple and only limited pujas are offered in the temple. The daily Nitya puja is still performed by the authorized Tantric priests, who serve Taleju, the clan deity of the Mallas. The temple rests on a square base of five high plinths with five miniature shrines in each of the four corners. The Nyatapola temple serves as one of the best amphitheaters during the Jatras to view with its five layers of plinth decks considered as exposed foundation. Nyatapola word consists of two words Nyata means five and Pola literally means roof in Nepal Bhasha is also commonly interpreted as Five Storey Temple.\", \"Nyatapola was built back in 1701 by King Bhupatindra Malla with a pretty specific purpose: to rein in the powerful deity Bhairavnath by invoking the tantric goddess Siddhilaxmi. The dedication to precision in its construction is remarkable, from the five Ganesha and tiers to the 108 struts and 360 battens used.Have you heard about the interesting reflection thing? You can actually see the temple's reflection in the Khancha pukhu pond nearby. Pond is around Golmadi area.  The temple stands at a height of 32.19 meters.Yes, Nyatapola Temple is indeed a part of the UNESCO World Heritage site enlisted as Bhaktapur Durbar Square where Nyatapola Temple stands.Nyatapola Temple is a major tourist attraction in Bhaktapur, drawing visitors from around the world due to its architectural beauty and cultural significance. Yes, the temple's architecture embodies principles of Hindu cosmology, with each tier symbolizing different elements and aspects of life. Visitors are generally expected to remove their shoes before entering the temple vicinity and should respect the sanctity of the site.The temple follows a pagoda-style architecture, characterized by its multi-tiered roof and intricate wooden carvings, showcasing exceptional Newari craftsmanship Various Hindu festivals are observed at the temple premises, including special ceremonies during Dashain and other significant religious occasions. No you are not permitted to take pictures inside but it is allowed in the outer areas of the temple. Yes, photography is usually allowed in the outer areas of the temple, but it's best to ask for permission before taking pictures of specific areas or people. Yes, there are usually guides available nearby who can provide detailed information about the temple's history and significance. Visitors are usually expected to remove their shoes before entering the temple premises and to respect the sanctity of the site. Each tier symbolizes a different element and also serves as a representation of the stages of life. Yes, various rituals and festivals are celebrated at Nyatapola Temple throughout the year, including special ceremonies during Dashain and other Hindu festivals. Typically, tourists are not allowed to enter the temple itself, but they can admire its beautiful architecture and explore the area around it. The temple's architecture represents the five basic elements: earth, water, fire, air, and ether, and is dedicated to the goddess Siddhi Lakshmi. The construction work of this temple was completed within eight month. Goddess Shiddhi Laxmi, the powerful tantric goddess, is inside Temple.  The unique features of temple is 5 Ganesha, 5 tiers, 5 plinths, 33 steps, 108 struts, and 360 battens used in the temple. The major propose was to control the aggressive, god Bhairavnath by establishing the tantric goddess Siddhilaxmi according to the inscription. The Nyatapola temple was constructed in 1701 AD by King Bhupatindra Malla. Placing the flag on top of the pinnacle during the establishment day celebration is a symbolic act carried out by the Awals of Tuchimala tole, signifying a tradition and celebration associated with the temple's history and establishment. The Nyatapola temple is a significant heritage site that hosts an annual puja to celebrate its establishment day. It has survived major earthquakes and is supported by the efforts of various individuals and organizations, including the User's Committee. The Gorkha earthquake of 2015 caused partial damage to the top roof tier of the Nyatapola temple.The Nyatapola temple was rebuilt within the years 1951-1955 after being partially affected by the 1934 earthquake. The great Bihar earthquake of 1934 partially affected the Nyatapola temple, causing the collapse of the top roof only. The Nyatapola temple has survived three major earthquakes in Nepal's history. It was partially affected by the great Bihar earthquake of 1934 and suffered partial damage on the top roof tier during the Gorkha earthquake of 2015. They are kept in staircase for guarding. The fifth are stone Byaghrini, two goddesses of supernatural power. The fourth are sarduls or griffins, ten times as strong as the lions.Lions are the guards which are ten times as strong as the elephants. Elephants are the guards which are ten times as strong as the men. The lowest are statues of Jayalla Malla and Patta. Two champions of Bhatgaon Raja, which of whom is said to have had the strength of ten men. The lowest are statues of Jayalla Malla and Patta. Two champions of Bhatgaon Raja, which of whom is said to have had the strength of ten men, The next are elephants, ten times as strong as the men, The third are lions, ten times as strong as the elephants, The fourth are sarduls or griffins, ten times as strong as the lions, And the fifth are stone Byaghrini, two goddesses of supernatural power. There are five carved stones in front of temple. In Nepali language it is commonly interpreted as Five Storey Temple. Four corners are adorned with five miniature shrines in each of the four corners. It has five layers of plinth decks. Five Storey Temple. The temple rests on a square base of five high plinths with five miniature shrines in each of the four corners. The daily Nitya puja is still performed by the authorized Tantric priests, who serve Taleju, the clan deity of the Mallas. Taleju, the clan deity of the Mallas. Nyatapola temple is also regarded as the Agamdyo of Taleju Bhawani of Bhaktapur Durbar square. There are no Jatras are conducted in the name of Nyatapola temple and only limited pujas are offered in the temple. The daily Nitya puja is still performed by the authorized Tantric priests, who serve Taleju, the clan deity of the Mallas. The temple rests on a square base of five high plinths with five miniature shrines in each of the four corners. The Nyatapola temple serves as one of the best amphitheaters during the Jatras to view with its five layers of plinth decks considered as exposed foundation. Nyatapola word consists of two words Nyata means five and Pola literally means roof in Nepal Bhasha is also commonly interpreted as Five Storey Temple.\", \"Nyatapola was built back in 1701 by King Bhupatindra Malla with a pretty specific purpose: to rein in the powerful deity Bhairavnath by invoking the tantric goddess Siddhilaxmi. The dedication to precision in its construction is remarkable, from the five Ganesha and tiers to the 108 struts and 360 battens used.Have you heard about the interesting reflection thing? You can actually see the temple's reflection in the Khancha pukhu pond nearby. Pond is around Golmadi area.  The temple stands at a height of 32.19 meters.Yes, Nyatapola Temple is indeed a part of the UNESCO World Heritage site enlisted as Bhaktapur Durbar Square where Nyatapola Temple stands.Nyatapola Temple is a major tourist attraction in Bhaktapur, drawing visitors from around the world due to its architectural beauty and cultural significance. Yes, the temple's architecture embodies principles of Hindu cosmology, with each tier symbolizing different elements and aspects of life. Visitors are generally expected to remove their shoes before entering the temple vicinity and should respect the sanctity of the site.The temple follows a pagoda-style architecture, characterized by its multi-tiered roof and intricate wooden carvings, showcasing exceptional Newari craftsmanship Various Hindu festivals are observed at the temple premises, including special ceremonies during Dashain and other significant religious occasions. No you are not permitted to take pictures inside but it is allowed in the outer areas of the temple. Yes, photography is usually allowed in the outer areas of the temple, but it's best to ask for permission before taking pictures of specific areas or people. Yes, there are usually guides available nearby who can provide detailed information about the temple's history and significance. Visitors are usually expected to remove their shoes before entering the temple premises and to respect the sanctity of the site. Each tier symbolizes a different element and also serves as a representation of the stages of life. Yes, various rituals and festivals are celebrated at Nyatapola Temple throughout the year, including special ceremonies during Dashain and other Hindu festivals. Typically, tourists are not allowed to enter the temple itself, but they can admire its beautiful architecture and explore the area around it. The temple's architecture represents the five basic elements: earth, water, fire, air, and ether, and is dedicated to the goddess Siddhi Lakshmi. The construction work of this temple was completed within eight month. Goddess Shiddhi Laxmi, the powerful tantric goddess, is inside Temple.  The unique features of temple is 5 Ganesha, 5 tiers, 5 plinths, 33 steps, 108 struts, and 360 battens used in the temple. The major propose was to control the aggressive, god Bhairavnath by establishing the tantric goddess Siddhilaxmi according to the inscription. The Nyatapola temple was constructed in 1701 AD by King Bhupatindra Malla. Placing the flag on top of the pinnacle during the establishment day celebration is a symbolic act carried out by the Awals of Tuchimala tole, signifying a tradition and celebration associated with the temple's history and establishment. The Nyatapola temple is a significant heritage site that hosts an annual puja to celebrate its establishment day. It has survived major earthquakes and is supported by the efforts of various individuals and organizations, including the User's Committee. The Gorkha earthquake of 2015 caused partial damage to the top roof tier of the Nyatapola temple.The Nyatapola temple was rebuilt within the years 1951-1955 after being partially affected by the 1934 earthquake. The great Bihar earthquake of 1934 partially affected the Nyatapola temple, causing the collapse of the top roof only. The Nyatapola temple has survived three major earthquakes in Nepal's history. It was partially affected by the great Bihar earthquake of 1934 and suffered partial damage on the top roof tier during the Gorkha earthquake of 2015. They are kept in staircase for guarding. The fifth are stone Byaghrini, two goddesses of supernatural power. The fourth are sarduls or griffins, ten times as strong as the lions.Lions are the guards which are ten times as strong as the elephants. Elephants are the guards which are ten times as strong as the men. The lowest are statues of Jayalla Malla and Patta. Two champions of Bhatgaon Raja, which of whom is said to have had the strength of ten men. The lowest are statues of Jayalla Malla and Patta. Two champions of Bhatgaon Raja, which of whom is said to have had the strength of ten men, The next are elephants, ten times as strong as the men, The third are lions, ten times as strong as the elephants, The fourth are sarduls or griffins, ten times as strong as the lions, And the fifth are stone Byaghrini, two goddesses of supernatural power. There are five carved stones in front of temple. In Nepali language it is commonly interpreted as Five Storey Temple. Four corners are adorned with five miniature shrines in each of the four corners. It has five layers of plinth decks. Five Storey Temple. The temple rests on a square base of five high plinths with five miniature shrines in each of the four corners. The daily Nitya puja is still performed by the authorized Tantric priests, who serve Taleju, the clan deity of the Mallas. Taleju, the clan deity of the Mallas. Nyatapola temple is also regarded as the Agamdyo of Taleju Bhawani of Bhaktapur Durbar square. There are no Jatras are conducted in the name of Nyatapola temple and only limited pujas are offered in the temple. The daily Nitya puja is still performed by the authorized Tantric priests, who serve Taleju, the clan deity of the Mallas. The temple rests on a square base of five high plinths with five miniature shrines in each of the four corners. The Nyatapola temple serves as one of the best amphitheaters during the Jatras to view with its five layers of plinth decks considered as exposed foundation. Nyatapola word consists of two words Nyata means five and Pola literally means roof in Nepal Bhasha is also commonly interpreted as Five Storey Temple.\", \"Nyatapola was built back in 1701 by King Bhupatindra Malla with a pretty specific purpose: to rein in the powerful deity Bhairavnath by invoking the tantric goddess Siddhilaxmi. The dedication to precision in its construction is remarkable, from the five Ganesha and tiers to the 108 struts and 360 battens used.Have you heard about the interesting reflection thing? You can actually see the temple's reflection in the Khancha pukhu pond nearby. Pond is around Golmadi area.  The temple stands at a height of 32.19 meters.Yes, Nyatapola Temple is indeed a part of the UNESCO World Heritage site enlisted as Bhaktapur Durbar Square where Nyatapola Temple stands.Nyatapola Temple is a major tourist attraction in Bhaktapur, drawing visitors from around the world due to its architectural beauty and cultural significance. Yes, the temple's architecture embodies principles of Hindu cosmology, with each tier symbolizing different elements and aspects of life. Visitors are generally expected to remove their shoes before entering the temple vicinity and should respect the sanctity of the site.The temple follows a pagoda-style architecture, characterized by its multi-tiered roof and intricate wooden carvings, showcasing exceptional Newari craftsmanship Various Hindu festivals are observed at the temple premises, including special ceremonies during Dashain and other significant religious occasions. No you are not permitted to take pictures inside but it is allowed in the outer areas of the temple. Yes, photography is usually allowed in the outer areas of the temple, but it's best to ask for permission before taking pictures of specific areas or people. Yes, there are usually guides available nearby who can provide detailed information about the temple's history and significance. Visitors are usually expected to remove their shoes before entering the temple premises and to respect the sanctity of the site. Each tier symbolizes a different element and also serves as a representation of the stages of life. Yes, various rituals and festivals are celebrated at Nyatapola Temple throughout the year, including special ceremonies during Dashain and other Hindu festivals. Typically, tourists are not allowed to enter the temple itself, but they can admire its beautiful architecture and explore the area around it. The temple's architecture represents the five basic elements: earth, water, fire, air, and ether, and is dedicated to the goddess Siddhi Lakshmi. The construction work of this temple was completed within eight month. Goddess Shiddhi Laxmi, the powerful tantric goddess, is inside Temple.  The unique features of temple is 5 Ganesha, 5 tiers, 5 plinths, 33 steps, 108 struts, and 360 battens used in the temple. The major propose was to control the aggressive, god Bhairavnath by establishing the tantric goddess Siddhilaxmi according to the inscription. The Nyatapola temple was constructed in 1701 AD by King Bhupatindra Malla. Placing the flag on top of the pinnacle during the establishment day celebration is a symbolic act carried out by the Awals of Tuchimala tole, signifying a tradition and celebration associated with the temple's history and establishment. The Nyatapola temple is a significant heritage site that hosts an annual puja to celebrate its establishment day. It has survived major earthquakes and is supported by the efforts of various individuals and organizations, including the User's Committee. The Gorkha earthquake of 2015 caused partial damage to the top roof tier of the Nyatapola temple.The Nyatapola temple was rebuilt within the years 1951-1955 after being partially affected by the 1934 earthquake. The great Bihar earthquake of 1934 partially affected the Nyatapola temple, causing the collapse of the top roof only. The Nyatapola temple has survived three major earthquakes in Nepal's history. It was partially affected by the great Bihar earthquake of 1934 and suffered partial damage on the top roof tier during the Gorkha earthquake of 2015. They are kept in staircase for guarding. The fifth are stone Byaghrini, two goddesses of supernatural power. The fourth are sarduls or griffins, ten times as strong as the lions.Lions are the guards which are ten times as strong as the elephants. Elephants are the guards which are ten times as strong as the men. The lowest are statues of Jayalla Malla and Patta. Two champions of Bhatgaon Raja, which of whom is said to have had the strength of ten men. The lowest are statues of Jayalla Malla and Patta. Two champions of Bhatgaon Raja, which of whom is said to have had the strength of ten men, The next are elephants, ten times as strong as the men, The third are lions, ten times as strong as the elephants, The fourth are sarduls or griffins, ten times as strong as the lions, And the fifth are stone Byaghrini, two goddesses of supernatural power. There are five carved stones in front of temple. In Nepali language it is commonly interpreted as Five Storey Temple. Four corners are adorned with five miniature shrines in each of the four corners. It has five layers of plinth decks. Five Storey Temple. The temple rests on a square base of five high plinths with five miniature shrines in each of the four corners. The daily Nitya puja is still performed by the authorized Tantric priests, who serve Taleju, the clan deity of the Mallas. Taleju, the clan deity of the Mallas. Nyatapola temple is also regarded as the Agamdyo of Taleju Bhawani of Bhaktapur Durbar square. There are no Jatras are conducted in the name of Nyatapola temple and only limited pujas are offered in the temple. The daily Nitya puja is still performed by the authorized Tantric priests, who serve Taleju, the clan deity of the Mallas. The temple rests on a square base of five high plinths with five miniature shrines in each of the four corners. The Nyatapola temple serves as one of the best amphitheaters during the Jatras to view with its five layers of plinth decks considered as exposed foundation. Nyatapola word consists of two words Nyata means five and Pola literally means roof in Nepal Bhasha is also commonly interpreted as Five Storey Temple.\", \"Nyatapola was built back in 1701 by King Bhupatindra Malla with a pretty specific purpose: to rein in the powerful deity Bhairavnath by invoking the tantric goddess Siddhilaxmi. The dedication to precision in its construction is remarkable, from the five Ganesha and tiers to the 108 struts and 360 battens used.Have you heard about the interesting reflection thing? You can actually see the temple's reflection in the Khancha pukhu pond nearby. Pond is around Golmadi area.  The temple stands at a height of 32.19 meters.Yes, Nyatapola Temple is indeed a part of the UNESCO World Heritage site enlisted as Bhaktapur Durbar Square where Nyatapola Temple stands.Nyatapola Temple is a major tourist attraction in Bhaktapur, drawing visitors from around the world due to its architectural beauty and cultural significance. Yes, the temple's architecture embodies principles of Hindu cosmology, with each tier symbolizing different elements and aspects of life. Visitors are generally expected to remove their shoes before entering the temple vicinity and should respect the sanctity of the site.The temple follows a pagoda-style architecture, characterized by its multi-tiered roof and intricate wooden carvings, showcasing exceptional Newari craftsmanship Various Hindu festivals are observed at the temple premises, including special ceremonies during Dashain and other significant religious occasions. No you are not permitted to take pictures inside but it is allowed in the outer areas of the temple. Yes, photography is usually allowed in the outer areas of the temple, but it's best to ask for permission before taking pictures of specific areas or people. Yes, there are usually guides available nearby who can provide detailed information about the temple's history and significance. Visitors are usually expected to remove their shoes before entering the temple premises and to respect the sanctity of the site. Each tier symbolizes a different element and also serves as a representation of the stages of life. Yes, various rituals and festivals are celebrated at Nyatapola Temple throughout the year, including special ceremonies during Dashain and other Hindu festivals. Typically, tourists are not allowed to enter the temple itself, but they can admire its beautiful architecture and explore the area around it. The temple's architecture represents the five basic elements: earth, water, fire, air, and ether, and is dedicated to the goddess Siddhi Lakshmi. The construction work of this temple was completed within eight month. Goddess Shiddhi Laxmi, the powerful tantric goddess, is inside Temple.  The unique features of temple is 5 Ganesha, 5 tiers, 5 plinths, 33 steps, 108 struts, and 360 battens used in the temple. The major propose was to control the aggressive, god Bhairavnath by establishing the tantric goddess Siddhilaxmi according to the inscription. The Nyatapola temple was constructed in 1701 AD by King Bhupatindra Malla. Placing the flag on top of the pinnacle during the establishment day celebration is a symbolic act carried out by the Awals of Tuchimala tole, signifying a tradition and celebration associated with the temple's history and establishment. The Nyatapola temple is a significant heritage site that hosts an annual puja to celebrate its establishment day. It has survived major earthquakes and is supported by the efforts of various individuals and organizations, including the User's Committee. The Gorkha earthquake of 2015 caused partial damage to the top roof tier of the Nyatapola temple.The Nyatapola temple was rebuilt within the years 1951-1955 after being partially affected by the 1934 earthquake. The great Bihar earthquake of 1934 partially affected the Nyatapola temple, causing the collapse of the top roof only. The Nyatapola temple has survived three major earthquakes in Nepal's history. It was partially affected by the great Bihar earthquake of 1934 and suffered partial damage on the top roof tier during the Gorkha earthquake of 2015. They are kept in staircase for guarding. The fifth are stone Byaghrini, two goddesses of supernatural power. The fourth are sarduls or griffins, ten times as strong as the lions.Lions are the guards which are ten times as strong as the elephants. Elephants are the guards which are ten times as strong as the men. The lowest are statues of Jayalla Malla and Patta. Two champions of Bhatgaon Raja, which of whom is said to have had the strength of ten men. The lowest are statues of Jayalla Malla and Patta. Two champions of Bhatgaon Raja, which of whom is said to have had the strength of ten men, The next are elephants, ten times as strong as the men, The third are lions, ten times as strong as the elephants, The fourth are sarduls or griffins, ten times as strong as the lions, And the fifth are stone Byaghrini, two goddesses of supernatural power. There are five carved stones in front of temple. In Nepali language it is commonly interpreted as Five Storey Temple. Four corners are adorned with five miniature shrines in each of the four corners. It has five layers of plinth decks. Five Storey Temple. The temple rests on a square base of five high plinths with five miniature shrines in each of the four corners. The daily Nitya puja is still performed by the authorized Tantric priests, who serve Taleju, the clan deity of the Mallas. Taleju, the clan deity of the Mallas. Nyatapola temple is also regarded as the Agamdyo of Taleju Bhawani of Bhaktapur Durbar square. There are no Jatras are conducted in the name of Nyatapola temple and only limited pujas are offered in the temple. The daily Nitya puja is still performed by the authorized Tantric priests, who serve Taleju, the clan deity of the Mallas. The temple rests on a square base of five high plinths with five miniature shrines in each of the four corners. The Nyatapola temple serves as one of the best amphitheaters during the Jatras to view with its five layers of plinth decks considered as exposed foundation. Nyatapola word consists of two words Nyata means five and Pola literally means roof in Nepal Bhasha is also commonly interpreted as Five Storey Temple.\", \"Nyatapola was built back in 1701 by King Bhupatindra Malla with a pretty specific purpose: to rein in the powerful deity Bhairavnath by invoking the tantric goddess Siddhilaxmi. The dedication to precision in its construction is remarkable, from the five Ganesha and tiers to the 108 struts and 360 battens used.Have you heard about the interesting reflection thing? You can actually see the temple's reflection in the Khancha pukhu pond nearby. Pond is around Golmadi area.  The temple stands at a height of 32.19 meters.Yes, Nyatapola Temple is indeed a part of the UNESCO World Heritage site enlisted as Bhaktapur Durbar Square where Nyatapola Temple stands.Nyatapola Temple is a major tourist attraction in Bhaktapur, drawing visitors from around the world due to its architectural beauty and cultural significance. Yes, the temple's architecture embodies principles of Hindu cosmology, with each tier symbolizing different elements and aspects of life. Visitors are generally expected to remove their shoes before entering the temple vicinity and should respect the sanctity of the site.The temple follows a pagoda-style architecture, characterized by its multi-tiered roof and intricate wooden carvings, showcasing exceptional Newari craftsmanship Various Hindu festivals are observed at the temple premises, including special ceremonies during Dashain and other significant religious occasions. No you are not permitted to take pictures inside but it is allowed in the outer areas of the temple. Yes, photography is usually allowed in the outer areas of the temple, but it's best to ask for permission before taking pictures of specific areas or people. Yes, there are usually guides available nearby who can provide detailed information about the temple's history and significance. Visitors are usually expected to remove their shoes before entering the temple premises and to respect the sanctity of the site. Each tier symbolizes a different element and also serves as a representation of the stages of life. Yes, various rituals and festivals are celebrated at Nyatapola Temple throughout the year, including special ceremonies during Dashain and other Hindu festivals. Typically, tourists are not allowed to enter the temple itself, but they can admire its beautiful architecture and explore the area around it. The temple's architecture represents the five basic elements: earth, water, fire, air, and ether, and is dedicated to the goddess Siddhi Lakshmi. The construction work of this temple was completed within eight month. Goddess Shiddhi Laxmi, the powerful tantric goddess, is inside Temple.  The unique features of temple is 5 Ganesha, 5 tiers, 5 plinths, 33 steps, 108 struts, and 360 battens used in the temple. The major propose was to control the aggressive, god Bhairavnath by establishing the tantric goddess Siddhilaxmi according to the inscription. The Nyatapola temple was constructed in 1701 AD by King Bhupatindra Malla. Placing the flag on top of the pinnacle during the establishment day celebration is a symbolic act carried out by the Awals of Tuchimala tole, signifying a tradition and celebration associated with the temple's history and establishment. The Nyatapola temple is a significant heritage site that hosts an annual puja to celebrate its establishment day. It has survived major earthquakes and is supported by the efforts of various individuals and organizations, including the User's Committee. The Gorkha earthquake of 2015 caused partial damage to the top roof tier of the Nyatapola temple.The Nyatapola temple was rebuilt within the years 1951-1955 after being partially affected by the 1934 earthquake. The great Bihar earthquake of 1934 partially affected the Nyatapola temple, causing the collapse of the top roof only. The Nyatapola temple has survived three major earthquakes in Nepal's history. It was partially affected by the great Bihar earthquake of 1934 and suffered partial damage on the top roof tier during the Gorkha earthquake of 2015. They are kept in staircase for guarding. The fifth are stone Byaghrini, two goddesses of supernatural power. The fourth are sarduls or griffins, ten times as strong as the lions.Lions are the guards which are ten times as strong as the elephants. Elephants are the guards which are ten times as strong as the men. The lowest are statues of Jayalla Malla and Patta. Two champions of Bhatgaon Raja, which of whom is said to have had the strength of ten men. The lowest are statues of Jayalla Malla and Patta. Two champions of Bhatgaon Raja, which of whom is said to have had the strength of ten men, The next are elephants, ten times as strong as the men, The third are lions, ten times as strong as the elephants, The fourth are sarduls or griffins, ten times as strong as the lions, And the fifth are stone Byaghrini, two goddesses of supernatural power. There are five carved stones in front of temple. In Nepali language it is commonly interpreted as Five Storey Temple. Four corners are adorned with five miniature shrines in each of the four corners. It has five layers of plinth decks. Five Storey Temple. The temple rests on a square base of five high plinths with five miniature shrines in each of the four corners. The daily Nitya puja is still performed by the authorized Tantric priests, who serve Taleju, the clan deity of the Mallas. Taleju, the clan deity of the Mallas. Nyatapola temple is also regarded as the Agamdyo of Taleju Bhawani of Bhaktapur Durbar square. There are no Jatras are conducted in the name of Nyatapola temple and only limited pujas are offered in the temple. The daily Nitya puja is still performed by the authorized Tantric priests, who serve Taleju, the clan deity of the Mallas. The temple rests on a square base of five high plinths with five miniature shrines in each of the four corners. The Nyatapola temple serves as one of the best amphitheaters during the Jatras to view with its five layers of plinth decks considered as exposed foundation. Nyatapola word consists of two words Nyata means five and Pola literally means roof in Nepal Bhasha is also commonly interpreted as Five Storey Temple.\", \"Nyatapola was built back in 1701 by King Bhupatindra Malla with a pretty specific purpose: to rein in the powerful deity Bhairavnath by invoking the tantric goddess Siddhilaxmi. The dedication to precision in its construction is remarkable, from the five Ganesha and tiers to the 108 struts and 360 battens used.Have you heard about the interesting reflection thing? You can actually see the temple's reflection in the Khancha pukhu pond nearby. Pond is around Golmadi area.  The temple stands at a height of 32.19 meters.Yes, Nyatapola Temple is indeed a part of the UNESCO World Heritage site enlisted as Bhaktapur Durbar Square where Nyatapola Temple stands.Nyatapola Temple is a major tourist attraction in Bhaktapur, drawing visitors from around the world due to its architectural beauty and cultural significance. Yes, the temple's architecture embodies principles of Hindu cosmology, with each tier symbolizing different elements and aspects of life. Visitors are generally expected to remove their shoes before entering the temple vicinity and should respect the sanctity of the site.The temple follows a pagoda-style architecture, characterized by its multi-tiered roof and intricate wooden carvings, showcasing exceptional Newari craftsmanship Various Hindu festivals are observed at the temple premises, including special ceremonies during Dashain and other significant religious occasions. No you are not permitted to take pictures inside but it is allowed in the outer areas of the temple. Yes, photography is usually allowed in the outer areas of the temple, but it's best to ask for permission before taking pictures of specific areas or people. Yes, there are usually guides available nearby who can provide detailed information about the temple's history and significance. Visitors are usually expected to remove their shoes before entering the temple premises and to respect the sanctity of the site. Each tier symbolizes a different element and also serves as a representation of the stages of life. Yes, various rituals and festivals are celebrated at Nyatapola Temple throughout the year, including special ceremonies during Dashain and other Hindu festivals. Typically, tourists are not allowed to enter the temple itself, but they can admire its beautiful architecture and explore the area around it. The temple's architecture represents the five basic elements: earth, water, fire, air, and ether, and is dedicated to the goddess Siddhi Lakshmi. The construction work of this temple was completed within eight month. Goddess Shiddhi Laxmi, the powerful tantric goddess, is inside Temple.  The unique features of temple is 5 Ganesha, 5 tiers, 5 plinths, 33 steps, 108 struts, and 360 battens used in the temple. The major propose was to control the aggressive, god Bhairavnath by establishing the tantric goddess Siddhilaxmi according to the inscription. The Nyatapola temple was constructed in 1701 AD by King Bhupatindra Malla. Placing the flag on top of the pinnacle during the establishment day celebration is a symbolic act carried out by the Awals of Tuchimala tole, signifying a tradition and celebration associated with the temple's history and establishment. The Nyatapola temple is a significant heritage site that hosts an annual puja to celebrate its establishment day. It has survived major earthquakes and is supported by the efforts of various individuals and organizations, including the User's Committee. The Gorkha earthquake of 2015 caused partial damage to the top roof tier of the Nyatapola temple.The Nyatapola temple was rebuilt within the years 1951-1955 after being partially affected by the 1934 earthquake. The great Bihar earthquake of 1934 partially affected the Nyatapola temple, causing the collapse of the top roof only. The Nyatapola temple has survived three major earthquakes in Nepal's history. It was partially affected by the great Bihar earthquake of 1934 and suffered partial damage on the top roof tier during the Gorkha earthquake of 2015. They are kept in staircase for guarding. The fifth are stone Byaghrini, two goddesses of supernatural power. The fourth are sarduls or griffins, ten times as strong as the lions.Lions are the guards which are ten times as strong as the elephants. Elephants are the guards which are ten times as strong as the men. The lowest are statues of Jayalla Malla and Patta. Two champions of Bhatgaon Raja, which of whom is said to have had the strength of ten men. The lowest are statues of Jayalla Malla and Patta. Two champions of Bhatgaon Raja, which of whom is said to have had the strength of ten men, The next are elephants, ten times as strong as the men, The third are lions, ten times as strong as the elephants, The fourth are sarduls or griffins, ten times as strong as the lions, And the fifth are stone Byaghrini, two goddesses of supernatural power. There are five carved stones in front of temple. In Nepali language it is commonly interpreted as Five Storey Temple. Four corners are adorned with five miniature shrines in each of the four corners. It has five layers of plinth decks. Five Storey Temple. The temple rests on a square base of five high plinths with five miniature shrines in each of the four corners. The daily Nitya puja is still performed by the authorized Tantric priests, who serve Taleju, the clan deity of the Mallas. Taleju, the clan deity of the Mallas. Nyatapola temple is also regarded as the Agamdyo of Taleju Bhawani of Bhaktapur Durbar square. There are no Jatras are conducted in the name of Nyatapola temple and only limited pujas are offered in the temple. The daily Nitya puja is still performed by the authorized Tantric priests, who serve Taleju, the clan deity of the Mallas. The temple rests on a square base of five high plinths with five miniature shrines in each of the four corners. The Nyatapola temple serves as one of the best amphitheaters during the Jatras to view with its five layers of plinth decks considered as exposed foundation. Nyatapola word consists of two words Nyata means five and Pola literally means roof in Nepal Bhasha is also commonly interpreted as Five Storey Temple.\", \"Nyatapola was built back in 1701 by King Bhupatindra Malla with a pretty specific purpose: to rein in the powerful deity Bhairavnath by invoking the tantric goddess Siddhilaxmi. The dedication to precision in its construction is remarkable, from the five Ganesha and tiers to the 108 struts and 360 battens used.Have you heard about the interesting reflection thing? You can actually see the temple's reflection in the Khancha pukhu pond nearby. Pond is around Golmadi area.  The temple stands at a height of 32.19 meters.Yes, Nyatapola Temple is indeed a part of the UNESCO World Heritage site enlisted as Bhaktapur Durbar Square where Nyatapola Temple stands.Nyatapola Temple is a major tourist attraction in Bhaktapur, drawing visitors from around the world due to its architectural beauty and cultural significance. Yes, the temple's architecture embodies principles of Hindu cosmology, with each tier symbolizing different elements and aspects of life. Visitors are generally expected to remove their shoes before entering the temple vicinity and should respect the sanctity of the site.The temple follows a pagoda-style architecture, characterized by its multi-tiered roof and intricate wooden carvings, showcasing exceptional Newari craftsmanship Various Hindu festivals are observed at the temple premises, including special ceremonies during Dashain and other significant religious occasions. No you are not permitted to take pictures inside but it is allowed in the outer areas of the temple. Yes, photography is usually allowed in the outer areas of the temple, but it's best to ask for permission before taking pictures of specific areas or people. Yes, there are usually guides available nearby who can provide detailed information about the temple's history and significance. Visitors are usually expected to remove their shoes before entering the temple premises and to respect the sanctity of the site. Each tier symbolizes a different element and also serves as a representation of the stages of life. Yes, various rituals and festivals are celebrated at Nyatapola Temple throughout the year, including special ceremonies during Dashain and other Hindu festivals. Typically, tourists are not allowed to enter the temple itself, but they can admire its beautiful architecture and explore the area around it. The temple's architecture represents the five basic elements: earth, water, fire, air, and ether, and is dedicated to the goddess Siddhi Lakshmi. The construction work of this temple was completed within eight month. Goddess Shiddhi Laxmi, the powerful tantric goddess, is inside Temple.  The unique features of temple is 5 Ganesha, 5 tiers, 5 plinths, 33 steps, 108 struts, and 360 battens used in the temple. The major propose was to control the aggressive, god Bhairavnath by establishing the tantric goddess Siddhilaxmi according to the inscription. The Nyatapola temple was constructed in 1701 AD by King Bhupatindra Malla. Placing the flag on top of the pinnacle during the establishment day celebration is a symbolic act carried out by the Awals of Tuchimala tole, signifying a tradition and celebration associated with the temple's history and establishment. The Nyatapola temple is a significant heritage site that hosts an annual puja to celebrate its establishment day. It has survived major earthquakes and is supported by the efforts of various individuals and organizations, including the User's Committee. The Gorkha earthquake of 2015 caused partial damage to the top roof tier of the Nyatapola temple.The Nyatapola temple was rebuilt within the years 1951-1955 after being partially affected by the 1934 earthquake. The great Bihar earthquake of 1934 partially affected the Nyatapola temple, causing the collapse of the top roof only. The Nyatapola temple has survived three major earthquakes in Nepal's history. It was partially affected by the great Bihar earthquake of 1934 and suffered partial damage on the top roof tier during the Gorkha earthquake of 2015. They are kept in staircase for guarding. The fifth are stone Byaghrini, two goddesses of supernatural power. The fourth are sarduls or griffins, ten times as strong as the lions.Lions are the guards which are ten times as strong as the elephants. Elephants are the guards which are ten times as strong as the men. The lowest are statues of Jayalla Malla and Patta. Two champions of Bhatgaon Raja, which of whom is said to have had the strength of ten men. The lowest are statues of Jayalla Malla and Patta. Two champions of Bhatgaon Raja, which of whom is said to have had the strength of ten men, The next are elephants, ten times as strong as the men, The third are lions, ten times as strong as the elephants, The fourth are sarduls or griffins, ten times as strong as the lions, And the fifth are stone Byaghrini, two goddesses of supernatural power. There are five carved stones in front of temple. In Nepali language it is commonly interpreted as Five Storey Temple. Four corners are adorned with five miniature shrines in each of the four corners. It has five layers of plinth decks. Five Storey Temple. The temple rests on a square base of five high plinths with five miniature shrines in each of the four corners. The daily Nitya puja is still performed by the authorized Tantric priests, who serve Taleju, the clan deity of the Mallas. Taleju, the clan deity of the Mallas. Nyatapola temple is also regarded as the Agamdyo of Taleju Bhawani of Bhaktapur Durbar square. There are no Jatras are conducted in the name of Nyatapola temple and only limited pujas are offered in the temple. The daily Nitya puja is still performed by the authorized Tantric priests, who serve Taleju, the clan deity of the Mallas. The temple rests on a square base of five high plinths with five miniature shrines in each of the four corners. The Nyatapola temple serves as one of the best amphitheaters during the Jatras to view with its five layers of plinth decks considered as exposed foundation. Nyatapola word consists of two words Nyata means five and Pola literally means roof in Nepal Bhasha is also commonly interpreted as Five Storey Temple.\", \"Nyatapola was built back in 1701 by King Bhupatindra Malla with a pretty specific purpose: to rein in the powerful deity Bhairavnath by invoking the tantric goddess Siddhilaxmi. The dedication to precision in its construction is remarkable, from the five Ganesha and tiers to the 108 struts and 360 battens used.Have you heard about the interesting reflection thing? You can actually see the temple's reflection in the Khancha pukhu pond nearby. Pond is around Golmadi area.  The temple stands at a height of 32.19 meters.Yes, Nyatapola Temple is indeed a part of the UNESCO World Heritage site enlisted as Bhaktapur Durbar Square where Nyatapola Temple stands.Nyatapola Temple is a major tourist attraction in Bhaktapur, drawing visitors from around the world due to its architectural beauty and cultural significance. Yes, the temple's architecture embodies principles of Hindu cosmology, with each tier symbolizing different elements and aspects of life. Visitors are generally expected to remove their shoes before entering the temple vicinity and should respect the sanctity of the site.The temple follows a pagoda-style architecture, characterized by its multi-tiered roof and intricate wooden carvings, showcasing exceptional Newari craftsmanship Various Hindu festivals are observed at the temple premises, including special ceremonies during Dashain and other significant religious occasions. No you are not permitted to take pictures inside but it is allowed in the outer areas of the temple. Yes, photography is usually allowed in the outer areas of the temple, but it's best to ask for permission before taking pictures of specific areas or people. Yes, there are usually guides available nearby who can provide detailed information about the temple's history and significance. Visitors are usually expected to remove their shoes before entering the temple premises and to respect the sanctity of the site. Each tier symbolizes a different element and also serves as a representation of the stages of life. Yes, various rituals and festivals are celebrated at Nyatapola Temple throughout the year, including special ceremonies during Dashain and other Hindu festivals. Typically, tourists are not allowed to enter the temple itself, but they can admire its beautiful architecture and explore the area around it. The temple's architecture represents the five basic elements: earth, water, fire, air, and ether, and is dedicated to the goddess Siddhi Lakshmi. The construction work of this temple was completed within eight month. Goddess Shiddhi Laxmi, the powerful tantric goddess, is inside Temple.  The unique features of temple is 5 Ganesha, 5 tiers, 5 plinths, 33 steps, 108 struts, and 360 battens used in the temple. The major propose was to control the aggressive, god Bhairavnath by establishing the tantric goddess Siddhilaxmi according to the inscription. The Nyatapola temple was constructed in 1701 AD by King Bhupatindra Malla. Placing the flag on top of the pinnacle during the establishment day celebration is a symbolic act carried out by the Awals of Tuchimala tole, signifying a tradition and celebration associated with the temple's history and establishment. The Nyatapola temple is a significant heritage site that hosts an annual puja to celebrate its establishment day. It has survived major earthquakes and is supported by the efforts of various individuals and organizations, including the User's Committee. The Gorkha earthquake of 2015 caused partial damage to the top roof tier of the Nyatapola temple.The Nyatapola temple was rebuilt within the years 1951-1955 after being partially affected by the 1934 earthquake. The great Bihar earthquake of 1934 partially affected the Nyatapola temple, causing the collapse of the top roof only. The Nyatapola temple has survived three major earthquakes in Nepal's history. It was partially affected by the great Bihar earthquake of 1934 and suffered partial damage on the top roof tier during the Gorkha earthquake of 2015. They are kept in staircase for guarding. The fifth are stone Byaghrini, two goddesses of supernatural power. The fourth are sarduls or griffins, ten times as strong as the lions.Lions are the guards which are ten times as strong as the elephants. Elephants are the guards which are ten times as strong as the men. The lowest are statues of Jayalla Malla and Patta. Two champions of Bhatgaon Raja, which of whom is said to have had the strength of ten men. The lowest are statues of Jayalla Malla and Patta. Two champions of Bhatgaon Raja, which of whom is said to have had the strength of ten men, The next are elephants, ten times as strong as the men, The third are lions, ten times as strong as the elephants, The fourth are sarduls or griffins, ten times as strong as the lions, And the fifth are stone Byaghrini, two goddesses of supernatural power. There are five carved stones in front of temple. In Nepali language it is commonly interpreted as Five Storey Temple. Four corners are adorned with five miniature shrines in each of the four corners. It has five layers of plinth decks. Five Storey Temple. The temple rests on a square base of five high plinths with five miniature shrines in each of the four corners. The daily Nitya puja is still performed by the authorized Tantric priests, who serve Taleju, the clan deity of the Mallas. Taleju, the clan deity of the Mallas. Nyatapola temple is also regarded as the Agamdyo of Taleju Bhawani of Bhaktapur Durbar square. There are no Jatras are conducted in the name of Nyatapola temple and only limited pujas are offered in the temple. The daily Nitya puja is still performed by the authorized Tantric priests, who serve Taleju, the clan deity of the Mallas. The temple rests on a square base of five high plinths with five miniature shrines in each of the four corners. The Nyatapola temple serves as one of the best amphitheaters during the Jatras to view with its five layers of plinth decks considered as exposed foundation. Nyatapola word consists of two words Nyata means five and Pola literally means roof in Nepal Bhasha is also commonly interpreted as Five Storey Temple.\", \"Nyatapola was built back in 1701 by King Bhupatindra Malla with a pretty specific purpose: to rein in the powerful deity Bhairavnath by invoking the tantric goddess Siddhilaxmi. The dedication to precision in its construction is remarkable, from the five Ganesha and tiers to the 108 struts and 360 battens used.Have you heard about the interesting reflection thing? You can actually see the temple's reflection in the Khancha pukhu pond nearby. Pond is around Golmadi area.  The temple stands at a height of 32.19 meters.Yes, Nyatapola Temple is indeed a part of the UNESCO World Heritage site enlisted as Bhaktapur Durbar Square where Nyatapola Temple stands.Nyatapola Temple is a major tourist attraction in Bhaktapur, drawing visitors from around the world due to its architectural beauty and cultural significance. Yes, the temple's architecture embodies principles of Hindu cosmology, with each tier symbolizing different elements and aspects of life. Visitors are generally expected to remove their shoes before entering the temple vicinity and should respect the sanctity of the site.The temple follows a pagoda-style architecture, characterized by its multi-tiered roof and intricate wooden carvings, showcasing exceptional Newari craftsmanship Various Hindu festivals are observed at the temple premises, including special ceremonies during Dashain and other significant religious occasions. No you are not permitted to take pictures inside but it is allowed in the outer areas of the temple. Yes, photography is usually allowed in the outer areas of the temple, but it's best to ask for permission before taking pictures of specific areas or people. Yes, there are usually guides available nearby who can provide detailed information about the temple's history and significance. Visitors are usually expected to remove their shoes before entering the temple premises and to respect the sanctity of the site. Each tier symbolizes a different element and also serves as a representation of the stages of life. Yes, various rituals and festivals are celebrated at Nyatapola Temple throughout the year, including special ceremonies during Dashain and other Hindu festivals. Typically, tourists are not allowed to enter the temple itself, but they can admire its beautiful architecture and explore the area around it. The temple's architecture represents the five basic elements: earth, water, fire, air, and ether, and is dedicated to the goddess Siddhi Lakshmi. The construction work of this temple was completed within eight month. Goddess Shiddhi Laxmi, the powerful tantric goddess, is inside Temple.  The unique features of temple is 5 Ganesha, 5 tiers, 5 plinths, 33 steps, 108 struts, and 360 battens used in the temple. The major propose was to control the aggressive, god Bhairavnath by establishing the tantric goddess Siddhilaxmi according to the inscription. The Nyatapola temple was constructed in 1701 AD by King Bhupatindra Malla. Placing the flag on top of the pinnacle during the establishment day celebration is a symbolic act carried out by the Awals of Tuchimala tole, signifying a tradition and celebration associated with the temple's history and establishment. The Nyatapola temple is a significant heritage site that hosts an annual puja to celebrate its establishment day. It has survived major earthquakes and is supported by the efforts of various individuals and organizations, including the User's Committee. The Gorkha earthquake of 2015 caused partial damage to the top roof tier of the Nyatapola temple.The Nyatapola temple was rebuilt within the years 1951-1955 after being partially affected by the 1934 earthquake. The great Bihar earthquake of 1934 partially affected the Nyatapola temple, causing the collapse of the top roof only. The Nyatapola temple has survived three major earthquakes in Nepal's history. It was partially affected by the great Bihar earthquake of 1934 and suffered partial damage on the top roof tier during the Gorkha earthquake of 2015. They are kept in staircase for guarding. The fifth are stone Byaghrini, two goddesses of supernatural power. The fourth are sarduls or griffins, ten times as strong as the lions.Lions are the guards which are ten times as strong as the elephants. Elephants are the guards which are ten times as strong as the men. The lowest are statues of Jayalla Malla and Patta. Two champions of Bhatgaon Raja, which of whom is said to have had the strength of ten men. The lowest are statues of Jayalla Malla and Patta. Two champions of Bhatgaon Raja, which of whom is said to have had the strength of ten men, The next are elephants, ten times as strong as the men, The third are lions, ten times as strong as the elephants, The fourth are sarduls or griffins, ten times as strong as the lions, And the fifth are stone Byaghrini, two goddesses of supernatural power. There are five carved stones in front of temple. In Nepali language it is commonly interpreted as Five Storey Temple. Four corners are adorned with five miniature shrines in each of the four corners. It has five layers of plinth decks. Five Storey Temple. The temple rests on a square base of five high plinths with five miniature shrines in each of the four corners. The daily Nitya puja is still performed by the authorized Tantric priests, who serve Taleju, the clan deity of the Mallas. Taleju, the clan deity of the Mallas. Nyatapola temple is also regarded as the Agamdyo of Taleju Bhawani of Bhaktapur Durbar square. There are no Jatras are conducted in the name of Nyatapola temple and only limited pujas are offered in the temple. The daily Nitya puja is still performed by the authorized Tantric priests, who serve Taleju, the clan deity of the Mallas. The temple rests on a square base of five high plinths with five miniature shrines in each of the four corners. The Nyatapola temple serves as one of the best amphitheaters during the Jatras to view with its five layers of plinth decks considered as exposed foundation. Nyatapola word consists of two words Nyata means five and Pola literally means roof in Nepal Bhasha is also commonly interpreted as Five Storey Temple.\", \"Nyatapola was built back in 1701 by King Bhupatindra Malla with a pretty specific purpose: to rein in the powerful deity Bhairavnath by invoking the tantric goddess Siddhilaxmi. The dedication to precision in its construction is remarkable, from the five Ganesha and tiers to the 108 struts and 360 battens used.Have you heard about the interesting reflection thing? You can actually see the temple's reflection in the Khancha pukhu pond nearby. Pond is around Golmadi area.  The temple stands at a height of 32.19 meters.Yes, Nyatapola Temple is indeed a part of the UNESCO World Heritage site enlisted as Bhaktapur Durbar Square where Nyatapola Temple stands.Nyatapola Temple is a major tourist attraction in Bhaktapur, drawing visitors from around the world due to its architectural beauty and cultural significance. Yes, the temple's architecture embodies principles of Hindu cosmology, with each tier symbolizing different elements and aspects of life. Visitors are generally expected to remove their shoes before entering the temple vicinity and should respect the sanctity of the site.The temple follows a pagoda-style architecture, characterized by its multi-tiered roof and intricate wooden carvings, showcasing exceptional Newari craftsmanship Various Hindu festivals are observed at the temple premises, including special ceremonies during Dashain and other significant religious occasions. No you are not permitted to take pictures inside but it is allowed in the outer areas of the temple. Yes, photography is usually allowed in the outer areas of the temple, but it's best to ask for permission before taking pictures of specific areas or people. Yes, there are usually guides available nearby who can provide detailed information about the temple's history and significance. Visitors are usually expected to remove their shoes before entering the temple premises and to respect the sanctity of the site. Each tier symbolizes a different element and also serves as a representation of the stages of life. Yes, various rituals and festivals are celebrated at Nyatapola Temple throughout the year, including special ceremonies during Dashain and other Hindu festivals. Typically, tourists are not allowed to enter the temple itself, but they can admire its beautiful architecture and explore the area around it. The temple's architecture represents the five basic elements: earth, water, fire, air, and ether, and is dedicated to the goddess Siddhi Lakshmi. The construction work of this temple was completed within eight month. Goddess Shiddhi Laxmi, the powerful tantric goddess, is inside Temple.  The unique features of temple is 5 Ganesha, 5 tiers, 5 plinths, 33 steps, 108 struts, and 360 battens used in the temple. The major propose was to control the aggressive, god Bhairavnath by establishing the tantric goddess Siddhilaxmi according to the inscription. The Nyatapola temple was constructed in 1701 AD by King Bhupatindra Malla. Placing the flag on top of the pinnacle during the establishment day celebration is a symbolic act carried out by the Awals of Tuchimala tole, signifying a tradition and celebration associated with the temple's history and establishment. The Nyatapola temple is a significant heritage site that hosts an annual puja to celebrate its establishment day. It has survived major earthquakes and is supported by the efforts of various individuals and organizations, including the User's Committee. The Gorkha earthquake of 2015 caused partial damage to the top roof tier of the Nyatapola temple.The Nyatapola temple was rebuilt within the years 1951-1955 after being partially affected by the 1934 earthquake. The great Bihar earthquake of 1934 partially affected the Nyatapola temple, causing the collapse of the top roof only. The Nyatapola temple has survived three major earthquakes in Nepal's history. It was partially affected by the great Bihar earthquake of 1934 and suffered partial damage on the top roof tier during the Gorkha earthquake of 2015. They are kept in staircase for guarding. The fifth are stone Byaghrini, two goddesses of supernatural power. The fourth are sarduls or griffins, ten times as strong as the lions.Lions are the guards which are ten times as strong as the elephants. Elephants are the guards which are ten times as strong as the men. The lowest are statues of Jayalla Malla and Patta. Two champions of Bhatgaon Raja, which of whom is said to have had the strength of ten men. The lowest are statues of Jayalla Malla and Patta. Two champions of Bhatgaon Raja, which of whom is said to have had the strength of ten men, The next are elephants, ten times as strong as the men, The third are lions, ten times as strong as the elephants, The fourth are sarduls or griffins, ten times as strong as the lions, And the fifth are stone Byaghrini, two goddesses of supernatural power. There are five carved stones in front of temple. In Nepali language it is commonly interpreted as Five Storey Temple. Four corners are adorned with five miniature shrines in each of the four corners. It has five layers of plinth decks. Five Storey Temple. The temple rests on a square base of five high plinths with five miniature shrines in each of the four corners. The daily Nitya puja is still performed by the authorized Tantric priests, who serve Taleju, the clan deity of the Mallas. Taleju, the clan deity of the Mallas. Nyatapola temple is also regarded as the Agamdyo of Taleju Bhawani of Bhaktapur Durbar square. There are no Jatras are conducted in the name of Nyatapola temple and only limited pujas are offered in the temple. The daily Nitya puja is still performed by the authorized Tantric priests, who serve Taleju, the clan deity of the Mallas. The temple rests on a square base of five high plinths with five miniature shrines in each of the four corners. The Nyatapola temple serves as one of the best amphitheaters during the Jatras to view with its five layers of plinth decks considered as exposed foundation. Nyatapola word consists of two words Nyata means five and Pola literally means roof in Nepal Bhasha is also commonly interpreted as Five Storey Temple.\", \"Nyatapola was built back in 1701 by King Bhupatindra Malla with a pretty specific purpose: to rein in the powerful deity Bhairavnath by invoking the tantric goddess Siddhilaxmi. The dedication to precision in its construction is remarkable, from the five Ganesha and tiers to the 108 struts and 360 battens used.Have you heard about the interesting reflection thing? You can actually see the temple's reflection in the Khancha pukhu pond nearby. Pond is around Golmadi area.  The temple stands at a height of 32.19 meters.Yes, Nyatapola Temple is indeed a part of the UNESCO World Heritage site enlisted as Bhaktapur Durbar Square where Nyatapola Temple stands.Nyatapola Temple is a major tourist attraction in Bhaktapur, drawing visitors from around the world due to its architectural beauty and cultural significance. Yes, the temple's architecture embodies principles of Hindu cosmology, with each tier symbolizing different elements and aspects of life. Visitors are generally expected to remove their shoes before entering the temple vicinity and should respect the sanctity of the site.The temple follows a pagoda-style architecture, characterized by its multi-tiered roof and intricate wooden carvings, showcasing exceptional Newari craftsmanship Various Hindu festivals are observed at the temple premises, including special ceremonies during Dashain and other significant religious occasions. No you are not permitted to take pictures inside but it is allowed in the outer areas of the temple. Yes, photography is usually allowed in the outer areas of the temple, but it's best to ask for permission before taking pictures of specific areas or people. Yes, there are usually guides available nearby who can provide detailed information about the temple's history and significance. Visitors are usually expected to remove their shoes before entering the temple premises and to respect the sanctity of the site. Each tier symbolizes a different element and also serves as a representation of the stages of life. Yes, various rituals and festivals are celebrated at Nyatapola Temple throughout the year, including special ceremonies during Dashain and other Hindu festivals. Typically, tourists are not allowed to enter the temple itself, but they can admire its beautiful architecture and explore the area around it. The temple's architecture represents the five basic elements: earth, water, fire, air, and ether, and is dedicated to the goddess Siddhi Lakshmi. The construction work of this temple was completed within eight month. Goddess Shiddhi Laxmi, the powerful tantric goddess, is inside Temple.  The unique features of temple is 5 Ganesha, 5 tiers, 5 plinths, 33 steps, 108 struts, and 360 battens used in the temple. The major propose was to control the aggressive, god Bhairavnath by establishing the tantric goddess Siddhilaxmi according to the inscription. The Nyatapola temple was constructed in 1701 AD by King Bhupatindra Malla. Placing the flag on top of the pinnacle during the establishment day celebration is a symbolic act carried out by the Awals of Tuchimala tole, signifying a tradition and celebration associated with the temple's history and establishment. The Nyatapola temple is a significant heritage site that hosts an annual puja to celebrate its establishment day. It has survived major earthquakes and is supported by the efforts of various individuals and organizations, including the User's Committee. The Gorkha earthquake of 2015 caused partial damage to the top roof tier of the Nyatapola temple.The Nyatapola temple was rebuilt within the years 1951-1955 after being partially affected by the 1934 earthquake. The great Bihar earthquake of 1934 partially affected the Nyatapola temple, causing the collapse of the top roof only. The Nyatapola temple has survived three major earthquakes in Nepal's history. It was partially affected by the great Bihar earthquake of 1934 and suffered partial damage on the top roof tier during the Gorkha earthquake of 2015. They are kept in staircase for guarding. The fifth are stone Byaghrini, two goddesses of supernatural power. The fourth are sarduls or griffins, ten times as strong as the lions.Lions are the guards which are ten times as strong as the elephants. Elephants are the guards which are ten times as strong as the men. The lowest are statues of Jayalla Malla and Patta. Two champions of Bhatgaon Raja, which of whom is said to have had the strength of ten men. The lowest are statues of Jayalla Malla and Patta. Two champions of Bhatgaon Raja, which of whom is said to have had the strength of ten men, The next are elephants, ten times as strong as the men, The third are lions, ten times as strong as the elephants, The fourth are sarduls or griffins, ten times as strong as the lions, And the fifth are stone Byaghrini, two goddesses of supernatural power. There are five carved stones in front of temple. In Nepali language it is commonly interpreted as Five Storey Temple. Four corners are adorned with five miniature shrines in each of the four corners. It has five layers of plinth decks. Five Storey Temple. The temple rests on a square base of five high plinths with five miniature shrines in each of the four corners. The daily Nitya puja is still performed by the authorized Tantric priests, who serve Taleju, the clan deity of the Mallas. Taleju, the clan deity of the Mallas. Nyatapola temple is also regarded as the Agamdyo of Taleju Bhawani of Bhaktapur Durbar square. There are no Jatras are conducted in the name of Nyatapola temple and only limited pujas are offered in the temple. The daily Nitya puja is still performed by the authorized Tantric priests, who serve Taleju, the clan deity of the Mallas. The temple rests on a square base of five high plinths with five miniature shrines in each of the four corners. The Nyatapola temple serves as one of the best amphitheaters during the Jatras to view with its five layers of plinth decks considered as exposed foundation. Nyatapola word consists of two words Nyata means five and Pola literally means roof in Nepal Bhasha is also commonly interpreted as Five Storey Temple.\", \"Nyatapola was built back in 1701 by King Bhupatindra Malla with a pretty specific purpose: to rein in the powerful deity Bhairavnath by invoking the tantric goddess Siddhilaxmi. The dedication to precision in its construction is remarkable, from the five Ganesha and tiers to the 108 struts and 360 battens used.Have you heard about the interesting reflection thing? You can actually see the temple's reflection in the Khancha pukhu pond nearby. Pond is around Golmadi area.  The temple stands at a height of 32.19 meters.Yes, Nyatapola Temple is indeed a part of the UNESCO World Heritage site enlisted as Bhaktapur Durbar Square where Nyatapola Temple stands.Nyatapola Temple is a major tourist attraction in Bhaktapur, drawing visitors from around the world due to its architectural beauty and cultural significance. Yes, the temple's architecture embodies principles of Hindu cosmology, with each tier symbolizing different elements and aspects of life. Visitors are generally expected to remove their shoes before entering the temple vicinity and should respect the sanctity of the site.The temple follows a pagoda-style architecture, characterized by its multi-tiered roof and intricate wooden carvings, showcasing exceptional Newari craftsmanship Various Hindu festivals are observed at the temple premises, including special ceremonies during Dashain and other significant religious occasions. No you are not permitted to take pictures inside but it is allowed in the outer areas of the temple. Yes, photography is usually allowed in the outer areas of the temple, but it's best to ask for permission before taking pictures of specific areas or people. Yes, there are usually guides available nearby who can provide detailed information about the temple's history and significance. Visitors are usually expected to remove their shoes before entering the temple premises and to respect the sanctity of the site. Each tier symbolizes a different element and also serves as a representation of the stages of life. Yes, various rituals and festivals are celebrated at Nyatapola Temple throughout the year, including special ceremonies during Dashain and other Hindu festivals. Typically, tourists are not allowed to enter the temple itself, but they can admire its beautiful architecture and explore the area around it. The temple's architecture represents the five basic elements: earth, water, fire, air, and ether, and is dedicated to the goddess Siddhi Lakshmi. The construction work of this temple was completed within eight month. Goddess Shiddhi Laxmi, the powerful tantric goddess, is inside Temple.  The unique features of temple is 5 Ganesha, 5 tiers, 5 plinths, 33 steps, 108 struts, and 360 battens used in the temple. The major propose was to control the aggressive, god Bhairavnath by establishing the tantric goddess Siddhilaxmi according to the inscription. The Nyatapola temple was constructed in 1701 AD by King Bhupatindra Malla. Placing the flag on top of the pinnacle during the establishment day celebration is a symbolic act carried out by the Awals of Tuchimala tole, signifying a tradition and celebration associated with the temple's history and establishment. The Nyatapola temple is a significant heritage site that hosts an annual puja to celebrate its establishment day. It has survived major earthquakes and is supported by the efforts of various individuals and organizations, including the User's Committee. The Gorkha earthquake of 2015 caused partial damage to the top roof tier of the Nyatapola temple.The Nyatapola temple was rebuilt within the years 1951-1955 after being partially affected by the 1934 earthquake. The great Bihar earthquake of 1934 partially affected the Nyatapola temple, causing the collapse of the top roof only. The Nyatapola temple has survived three major earthquakes in Nepal's history. It was partially affected by the great Bihar earthquake of 1934 and suffered partial damage on the top roof tier during the Gorkha earthquake of 2015. They are kept in staircase for guarding. The fifth are stone Byaghrini, two goddesses of supernatural power. The fourth are sarduls or griffins, ten times as strong as the lions.Lions are the guards which are ten times as strong as the elephants. Elephants are the guards which are ten times as strong as the men. The lowest are statues of Jayalla Malla and Patta. Two champions of Bhatgaon Raja, which of whom is said to have had the strength of ten men. The lowest are statues of Jayalla Malla and Patta. Two champions of Bhatgaon Raja, which of whom is said to have had the strength of ten men, The next are elephants, ten times as strong as the men, The third are lions, ten times as strong as the elephants, The fourth are sarduls or griffins, ten times as strong as the lions, And the fifth are stone Byaghrini, two goddesses of supernatural power. There are five carved stones in front of temple. In Nepali language it is commonly interpreted as Five Storey Temple. Four corners are adorned with five miniature shrines in each of the four corners. It has five layers of plinth decks. Five Storey Temple. The temple rests on a square base of five high plinths with five miniature shrines in each of the four corners. The daily Nitya puja is still performed by the authorized Tantric priests, who serve Taleju, the clan deity of the Mallas. Taleju, the clan deity of the Mallas. Nyatapola temple is also regarded as the Agamdyo of Taleju Bhawani of Bhaktapur Durbar square. There are no Jatras are conducted in the name of Nyatapola temple and only limited pujas are offered in the temple. The daily Nitya puja is still performed by the authorized Tantric priests, who serve Taleju, the clan deity of the Mallas. The temple rests on a square base of five high plinths with five miniature shrines in each of the four corners. The Nyatapola temple serves as one of the best amphitheaters during the Jatras to view with its five layers of plinth decks considered as exposed foundation. Nyatapola word consists of two words Nyata means five and Pola literally means roof in Nepal Bhasha is also commonly interpreted as Five Storey Temple.\", \"Nyatapola was built back in 1701 by King Bhupatindra Malla with a pretty specific purpose: to rein in the powerful deity Bhairavnath by invoking the tantric goddess Siddhilaxmi. The dedication to precision in its construction is remarkable, from the five Ganesha and tiers to the 108 struts and 360 battens used.Have you heard about the interesting reflection thing? You can actually see the temple's reflection in the Khancha pukhu pond nearby. Pond is around Golmadi area.  The temple stands at a height of 32.19 meters.Yes, Nyatapola Temple is indeed a part of the UNESCO World Heritage site enlisted as Bhaktapur Durbar Square where Nyatapola Temple stands.Nyatapola Temple is a major tourist attraction in Bhaktapur, drawing visitors from around the world due to its architectural beauty and cultural significance. Yes, the temple's architecture embodies principles of Hindu cosmology, with each tier symbolizing different elements and aspects of life. Visitors are generally expected to remove their shoes before entering the temple vicinity and should respect the sanctity of the site.The temple follows a pagoda-style architecture, characterized by its multi-tiered roof and intricate wooden carvings, showcasing exceptional Newari craftsmanship Various Hindu festivals are observed at the temple premises, including special ceremonies during Dashain and other significant religious occasions. No you are not permitted to take pictures inside but it is allowed in the outer areas of the temple. Yes, photography is usually allowed in the outer areas of the temple, but it's best to ask for permission before taking pictures of specific areas or people. Yes, there are usually guides available nearby who can provide detailed information about the temple's history and significance. Visitors are usually expected to remove their shoes before entering the temple premises and to respect the sanctity of the site. Each tier symbolizes a different element and also serves as a representation of the stages of life. Yes, various rituals and festivals are celebrated at Nyatapola Temple throughout the year, including special ceremonies during Dashain and other Hindu festivals. Typically, tourists are not allowed to enter the temple itself, but they can admire its beautiful architecture and explore the area around it. The temple's architecture represents the five basic elements: earth, water, fire, air, and ether, and is dedicated to the goddess Siddhi Lakshmi. The construction work of this temple was completed within eight month. Goddess Shiddhi Laxmi, the powerful tantric goddess, is inside Temple.  The unique features of temple is 5 Ganesha, 5 tiers, 5 plinths, 33 steps, 108 struts, and 360 battens used in the temple. The major propose was to control the aggressive, god Bhairavnath by establishing the tantric goddess Siddhilaxmi according to the inscription. The Nyatapola temple was constructed in 1701 AD by King Bhupatindra Malla. Placing the flag on top of the pinnacle during the establishment day celebration is a symbolic act carried out by the Awals of Tuchimala tole, signifying a tradition and celebration associated with the temple's history and establishment. The Nyatapola temple is a significant heritage site that hosts an annual puja to celebrate its establishment day. It has survived major earthquakes and is supported by the efforts of various individuals and organizations, including the User's Committee. The Gorkha earthquake of 2015 caused partial damage to the top roof tier of the Nyatapola temple.The Nyatapola temple was rebuilt within the years 1951-1955 after being partially affected by the 1934 earthquake. The great Bihar earthquake of 1934 partially affected the Nyatapola temple, causing the collapse of the top roof only. The Nyatapola temple has survived three major earthquakes in Nepal's history. It was partially affected by the great Bihar earthquake of 1934 and suffered partial damage on the top roof tier during the Gorkha earthquake of 2015. They are kept in staircase for guarding. The fifth are stone Byaghrini, two goddesses of supernatural power. The fourth are sarduls or griffins, ten times as strong as the lions.Lions are the guards which are ten times as strong as the elephants. Elephants are the guards which are ten times as strong as the men. The lowest are statues of Jayalla Malla and Patta. Two champions of Bhatgaon Raja, which of whom is said to have had the strength of ten men. The lowest are statues of Jayalla Malla and Patta. Two champions of Bhatgaon Raja, which of whom is said to have had the strength of ten men, The next are elephants, ten times as strong as the men, The third are lions, ten times as strong as the elephants, The fourth are sarduls or griffins, ten times as strong as the lions, And the fifth are stone Byaghrini, two goddesses of supernatural power. There are five carved stones in front of temple. In Nepali language it is commonly interpreted as Five Storey Temple. Four corners are adorned with five miniature shrines in each of the four corners. It has five layers of plinth decks. Five Storey Temple. The temple rests on a square base of five high plinths with five miniature shrines in each of the four corners. The daily Nitya puja is still performed by the authorized Tantric priests, who serve Taleju, the clan deity of the Mallas. Taleju, the clan deity of the Mallas. Nyatapola temple is also regarded as the Agamdyo of Taleju Bhawani of Bhaktapur Durbar square. There are no Jatras are conducted in the name of Nyatapola temple and only limited pujas are offered in the temple. The daily Nitya puja is still performed by the authorized Tantric priests, who serve Taleju, the clan deity of the Mallas. The temple rests on a square base of five high plinths with five miniature shrines in each of the four corners. The Nyatapola temple serves as one of the best amphitheaters during the Jatras to view with its five layers of plinth decks considered as exposed foundation. Nyatapola word consists of two words Nyata means five and Pola literally means roof in Nepal Bhasha is also commonly interpreted as Five Storey Temple.\", \"Nyatapola was built back in 1701 by King Bhupatindra Malla with a pretty specific purpose: to rein in the powerful deity Bhairavnath by invoking the tantric goddess Siddhilaxmi. The dedication to precision in its construction is remarkable, from the five Ganesha and tiers to the 108 struts and 360 battens used.Have you heard about the interesting reflection thing? You can actually see the temple's reflection in the Khancha pukhu pond nearby. Pond is around Golmadi area.  The temple stands at a height of 32.19 meters.Yes, Nyatapola Temple is indeed a part of the UNESCO World Heritage site enlisted as Bhaktapur Durbar Square where Nyatapola Temple stands.Nyatapola Temple is a major tourist attraction in Bhaktapur, drawing visitors from around the world due to its architectural beauty and cultural significance. Yes, the temple's architecture embodies principles of Hindu cosmology, with each tier symbolizing different elements and aspects of life. Visitors are generally expected to remove their shoes before entering the temple vicinity and should respect the sanctity of the site.The temple follows a pagoda-style architecture, characterized by its multi-tiered roof and intricate wooden carvings, showcasing exceptional Newari craftsmanship Various Hindu festivals are observed at the temple premises, including special ceremonies during Dashain and other significant religious occasions. No you are not permitted to take pictures inside but it is allowed in the outer areas of the temple. Yes, photography is usually allowed in the outer areas of the temple, but it's best to ask for permission before taking pictures of specific areas or people. Yes, there are usually guides available nearby who can provide detailed information about the temple's history and significance. Visitors are usually expected to remove their shoes before entering the temple premises and to respect the sanctity of the site. Each tier symbolizes a different element and also serves as a representation of the stages of life. Yes, various rituals and festivals are celebrated at Nyatapola Temple throughout the year, including special ceremonies during Dashain and other Hindu festivals. Typically, tourists are not allowed to enter the temple itself, but they can admire its beautiful architecture and explore the area around it. The temple's architecture represents the five basic elements: earth, water, fire, air, and ether, and is dedicated to the goddess Siddhi Lakshmi. The construction work of this temple was completed within eight month. Goddess Shiddhi Laxmi, the powerful tantric goddess, is inside Temple.  The unique features of temple is 5 Ganesha, 5 tiers, 5 plinths, 33 steps, 108 struts, and 360 battens used in the temple. The major propose was to control the aggressive, god Bhairavnath by establishing the tantric goddess Siddhilaxmi according to the inscription. The Nyatapola temple was constructed in 1701 AD by King Bhupatindra Malla. Placing the flag on top of the pinnacle during the establishment day celebration is a symbolic act carried out by the Awals of Tuchimala tole, signifying a tradition and celebration associated with the temple's history and establishment. The Nyatapola temple is a significant heritage site that hosts an annual puja to celebrate its establishment day. It has survived major earthquakes and is supported by the efforts of various individuals and organizations, including the User's Committee. The Gorkha earthquake of 2015 caused partial damage to the top roof tier of the Nyatapola temple.The Nyatapola temple was rebuilt within the years 1951-1955 after being partially affected by the 1934 earthquake. The great Bihar earthquake of 1934 partially affected the Nyatapola temple, causing the collapse of the top roof only. The Nyatapola temple has survived three major earthquakes in Nepal's history. It was partially affected by the great Bihar earthquake of 1934 and suffered partial damage on the top roof tier during the Gorkha earthquake of 2015. They are kept in staircase for guarding. The fifth are stone Byaghrini, two goddesses of supernatural power. The fourth are sarduls or griffins, ten times as strong as the lions.Lions are the guards which are ten times as strong as the elephants. Elephants are the guards which are ten times as strong as the men. The lowest are statues of Jayalla Malla and Patta. Two champions of Bhatgaon Raja, which of whom is said to have had the strength of ten men. The lowest are statues of Jayalla Malla and Patta. Two champions of Bhatgaon Raja, which of whom is said to have had the strength of ten men, The next are elephants, ten times as strong as the men, The third are lions, ten times as strong as the elephants, The fourth are sarduls or griffins, ten times as strong as the lions, And the fifth are stone Byaghrini, two goddesses of supernatural power. There are five carved stones in front of temple. In Nepali language it is commonly interpreted as Five Storey Temple. Four corners are adorned with five miniature shrines in each of the four corners. It has five layers of plinth decks. Five Storey Temple. The temple rests on a square base of five high plinths with five miniature shrines in each of the four corners. The daily Nitya puja is still performed by the authorized Tantric priests, who serve Taleju, the clan deity of the Mallas. Taleju, the clan deity of the Mallas. Nyatapola temple is also regarded as the Agamdyo of Taleju Bhawani of Bhaktapur Durbar square. There are no Jatras are conducted in the name of Nyatapola temple and only limited pujas are offered in the temple. The daily Nitya puja is still performed by the authorized Tantric priests, who serve Taleju, the clan deity of the Mallas. The temple rests on a square base of five high plinths with five miniature shrines in each of the four corners. The Nyatapola temple serves as one of the best amphitheaters during the Jatras to view with its five layers of plinth decks considered as exposed foundation. Nyatapola word consists of two words Nyata means five and Pola literally means roof in Nepal Bhasha is also commonly interpreted as Five Storey Temple.\", \"Nyatapola was built back in 1701 by King Bhupatindra Malla with a pretty specific purpose: to rein in the powerful deity Bhairavnath by invoking the tantric goddess Siddhilaxmi. The dedication to precision in its construction is remarkable, from the five Ganesha and tiers to the 108 struts and 360 battens used.Have you heard about the interesting reflection thing? You can actually see the temple's reflection in the Khancha pukhu pond nearby. Pond is around Golmadi area.  The temple stands at a height of 32.19 meters.Yes, Nyatapola Temple is indeed a part of the UNESCO World Heritage site enlisted as Bhaktapur Durbar Square where Nyatapola Temple stands.Nyatapola Temple is a major tourist attraction in Bhaktapur, drawing visitors from around the world due to its architectural beauty and cultural significance. Yes, the temple's architecture embodies principles of Hindu cosmology, with each tier symbolizing different elements and aspects of life. Visitors are generally expected to remove their shoes before entering the temple vicinity and should respect the sanctity of the site.The temple follows a pagoda-style architecture, characterized by its multi-tiered roof and intricate wooden carvings, showcasing exceptional Newari craftsmanship Various Hindu festivals are observed at the temple premises, including special ceremonies during Dashain and other significant religious occasions. No you are not permitted to take pictures inside but it is allowed in the outer areas of the temple. Yes, photography is usually allowed in the outer areas of the temple, but it's best to ask for permission before taking pictures of specific areas or people. Yes, there are usually guides available nearby who can provide detailed information about the temple's history and significance. Visitors are usually expected to remove their shoes before entering the temple premises and to respect the sanctity of the site. Each tier symbolizes a different element and also serves as a representation of the stages of life. Yes, various rituals and festivals are celebrated at Nyatapola Temple throughout the year, including special ceremonies during Dashain and other Hindu festivals. Typically, tourists are not allowed to enter the temple itself, but they can admire its beautiful architecture and explore the area around it. The temple's architecture represents the five basic elements: earth, water, fire, air, and ether, and is dedicated to the goddess Siddhi Lakshmi. The construction work of this temple was completed within eight month. Goddess Shiddhi Laxmi, the powerful tantric goddess, is inside Temple.  The unique features of temple is 5 Ganesha, 5 tiers, 5 plinths, 33 steps, 108 struts, and 360 battens used in the temple. The major propose was to control the aggressive, god Bhairavnath by establishing the tantric goddess Siddhilaxmi according to the inscription. The Nyatapola temple was constructed in 1701 AD by King Bhupatindra Malla. Placing the flag on top of the pinnacle during the establishment day celebration is a symbolic act carried out by the Awals of Tuchimala tole, signifying a tradition and celebration associated with the temple's history and establishment. The Nyatapola temple is a significant heritage site that hosts an annual puja to celebrate its establishment day. It has survived major earthquakes and is supported by the efforts of various individuals and organizations, including the User's Committee. The Gorkha earthquake of 2015 caused partial damage to the top roof tier of the Nyatapola temple.The Nyatapola temple was rebuilt within the years 1951-1955 after being partially affected by the 1934 earthquake. The great Bihar earthquake of 1934 partially affected the Nyatapola temple, causing the collapse of the top roof only. The Nyatapola temple has survived three major earthquakes in Nepal's history. It was partially affected by the great Bihar earthquake of 1934 and suffered partial damage on the top roof tier during the Gorkha earthquake of 2015. They are kept in staircase for guarding. The fifth are stone Byaghrini, two goddesses of supernatural power. The fourth are sarduls or griffins, ten times as strong as the lions.Lions are the guards which are ten times as strong as the elephants. Elephants are the guards which are ten times as strong as the men. The lowest are statues of Jayalla Malla and Patta. Two champions of Bhatgaon Raja, which of whom is said to have had the strength of ten men. The lowest are statues of Jayalla Malla and Patta. Two champions of Bhatgaon Raja, which of whom is said to have had the strength of ten men, The next are elephants, ten times as strong as the men, The third are lions, ten times as strong as the elephants, The fourth are sarduls or griffins, ten times as strong as the lions, And the fifth are stone Byaghrini, two goddesses of supernatural power. There are five carved stones in front of temple. In Nepali language it is commonly interpreted as Five Storey Temple. Four corners are adorned with five miniature shrines in each of the four corners. It has five layers of plinth decks. Five Storey Temple. The temple rests on a square base of five high plinths with five miniature shrines in each of the four corners. The daily Nitya puja is still performed by the authorized Tantric priests, who serve Taleju, the clan deity of the Mallas. Taleju, the clan deity of the Mallas. Nyatapola temple is also regarded as the Agamdyo of Taleju Bhawani of Bhaktapur Durbar square. There are no Jatras are conducted in the name of Nyatapola temple and only limited pujas are offered in the temple. The daily Nitya puja is still performed by the authorized Tantric priests, who serve Taleju, the clan deity of the Mallas. The temple rests on a square base of five high plinths with five miniature shrines in each of the four corners. The Nyatapola temple serves as one of the best amphitheaters during the Jatras to view with its five layers of plinth decks considered as exposed foundation. Nyatapola word consists of two words Nyata means five and Pola literally means roof in Nepal Bhasha is also commonly interpreted as Five Storey Temple.\", \"Nyatapola was built back in 1701 by King Bhupatindra Malla with a pretty specific purpose: to rein in the powerful deity Bhairavnath by invoking the tantric goddess Siddhilaxmi. The dedication to precision in its construction is remarkable, from the five Ganesha and tiers to the 108 struts and 360 battens used.Have you heard about the interesting reflection thing? You can actually see the temple's reflection in the Khancha pukhu pond nearby. Pond is around Golmadi area.  The temple stands at a height of 32.19 meters.Yes, Nyatapola Temple is indeed a part of the UNESCO World Heritage site enlisted as Bhaktapur Durbar Square where Nyatapola Temple stands.Nyatapola Temple is a major tourist attraction in Bhaktapur, drawing visitors from around the world due to its architectural beauty and cultural significance. Yes, the temple's architecture embodies principles of Hindu cosmology, with each tier symbolizing different elements and aspects of life. Visitors are generally expected to remove their shoes before entering the temple vicinity and should respect the sanctity of the site.The temple follows a pagoda-style architecture, characterized by its multi-tiered roof and intricate wooden carvings, showcasing exceptional Newari craftsmanship Various Hindu festivals are observed at the temple premises, including special ceremonies during Dashain and other significant religious occasions. No you are not permitted to take pictures inside but it is allowed in the outer areas of the temple. Yes, photography is usually allowed in the outer areas of the temple, but it's best to ask for permission before taking pictures of specific areas or people. Yes, there are usually guides available nearby who can provide detailed information about the temple's history and significance. Visitors are usually expected to remove their shoes before entering the temple premises and to respect the sanctity of the site. Each tier symbolizes a different element and also serves as a representation of the stages of life. Yes, various rituals and festivals are celebrated at Nyatapola Temple throughout the year, including special ceremonies during Dashain and other Hindu festivals. Typically, tourists are not allowed to enter the temple itself, but they can admire its beautiful architecture and explore the area around it. The temple's architecture represents the five basic elements: earth, water, fire, air, and ether, and is dedicated to the goddess Siddhi Lakshmi. The construction work of this temple was completed within eight month. Goddess Shiddhi Laxmi, the powerful tantric goddess, is inside Temple.  The unique features of temple is 5 Ganesha, 5 tiers, 5 plinths, 33 steps, 108 struts, and 360 battens used in the temple. The major propose was to control the aggressive, god Bhairavnath by establishing the tantric goddess Siddhilaxmi according to the inscription. The Nyatapola temple was constructed in 1701 AD by King Bhupatindra Malla. Placing the flag on top of the pinnacle during the establishment day celebration is a symbolic act carried out by the Awals of Tuchimala tole, signifying a tradition and celebration associated with the temple's history and establishment. The Nyatapola temple is a significant heritage site that hosts an annual puja to celebrate its establishment day. It has survived major earthquakes and is supported by the efforts of various individuals and organizations, including the User's Committee. The Gorkha earthquake of 2015 caused partial damage to the top roof tier of the Nyatapola temple.The Nyatapola temple was rebuilt within the years 1951-1955 after being partially affected by the 1934 earthquake. The great Bihar earthquake of 1934 partially affected the Nyatapola temple, causing the collapse of the top roof only. The Nyatapola temple has survived three major earthquakes in Nepal's history. It was partially affected by the great Bihar earthquake of 1934 and suffered partial damage on the top roof tier during the Gorkha earthquake of 2015. They are kept in staircase for guarding. The fifth are stone Byaghrini, two goddesses of supernatural power. The fourth are sarduls or griffins, ten times as strong as the lions.Lions are the guards which are ten times as strong as the elephants. Elephants are the guards which are ten times as strong as the men. The lowest are statues of Jayalla Malla and Patta. Two champions of Bhatgaon Raja, which of whom is said to have had the strength of ten men. The lowest are statues of Jayalla Malla and Patta. Two champions of Bhatgaon Raja, which of whom is said to have had the strength of ten men, The next are elephants, ten times as strong as the men, The third are lions, ten times as strong as the elephants, The fourth are sarduls or griffins, ten times as strong as the lions, And the fifth are stone Byaghrini, two goddesses of supernatural power. There are five carved stones in front of temple. In Nepali language it is commonly interpreted as Five Storey Temple. Four corners are adorned with five miniature shrines in each of the four corners. It has five layers of plinth decks. Five Storey Temple. The temple rests on a square base of five high plinths with five miniature shrines in each of the four corners. The daily Nitya puja is still performed by the authorized Tantric priests, who serve Taleju, the clan deity of the Mallas. Taleju, the clan deity of the Mallas. Nyatapola temple is also regarded as the Agamdyo of Taleju Bhawani of Bhaktapur Durbar square. There are no Jatras are conducted in the name of Nyatapola temple and only limited pujas are offered in the temple. The daily Nitya puja is still performed by the authorized Tantric priests, who serve Taleju, the clan deity of the Mallas. The temple rests on a square base of five high plinths with five miniature shrines in each of the four corners. The Nyatapola temple serves as one of the best amphitheaters during the Jatras to view with its five layers of plinth decks considered as exposed foundation. Nyatapola word consists of two words Nyata means five and Pola literally means roof in Nepal Bhasha is also commonly interpreted as Five Storey Temple.\", \"Nyatapola was built back in 1701 by King Bhupatindra Malla with a pretty specific purpose: to rein in the powerful deity Bhairavnath by invoking the tantric goddess Siddhilaxmi. The dedication to precision in its construction is remarkable, from the five Ganesha and tiers to the 108 struts and 360 battens used.Have you heard about the interesting reflection thing? You can actually see the temple's reflection in the Khancha pukhu pond nearby. Pond is around Golmadi area.  The temple stands at a height of 32.19 meters.Yes, Nyatapola Temple is indeed a part of the UNESCO World Heritage site enlisted as Bhaktapur Durbar Square where Nyatapola Temple stands.Nyatapola Temple is a major tourist attraction in Bhaktapur, drawing visitors from around the world due to its architectural beauty and cultural significance. Yes, the temple's architecture embodies principles of Hindu cosmology, with each tier symbolizing different elements and aspects of life. Visitors are generally expected to remove their shoes before entering the temple vicinity and should respect the sanctity of the site.The temple follows a pagoda-style architecture, characterized by its multi-tiered roof and intricate wooden carvings, showcasing exceptional Newari craftsmanship Various Hindu festivals are observed at the temple premises, including special ceremonies during Dashain and other significant religious occasions. No you are not permitted to take pictures inside but it is allowed in the outer areas of the temple. Yes, photography is usually allowed in the outer areas of the temple, but it's best to ask for permission before taking pictures of specific areas or people. Yes, there are usually guides available nearby who can provide detailed information about the temple's history and significance. Visitors are usually expected to remove their shoes before entering the temple premises and to respect the sanctity of the site. Each tier symbolizes a different element and also serves as a representation of the stages of life. Yes, various rituals and festivals are celebrated at Nyatapola Temple throughout the year, including special ceremonies during Dashain and other Hindu festivals. Typically, tourists are not allowed to enter the temple itself, but they can admire its beautiful architecture and explore the area around it. The temple's architecture represents the five basic elements: earth, water, fire, air, and ether, and is dedicated to the goddess Siddhi Lakshmi. The construction work of this temple was completed within eight month. Goddess Shiddhi Laxmi, the powerful tantric goddess, is inside Temple.  The unique features of temple is 5 Ganesha, 5 tiers, 5 plinths, 33 steps, 108 struts, and 360 battens used in the temple. The major propose was to control the aggressive, god Bhairavnath by establishing the tantric goddess Siddhilaxmi according to the inscription. The Nyatapola temple was constructed in 1701 AD by King Bhupatindra Malla. Placing the flag on top of the pinnacle during the establishment day celebration is a symbolic act carried out by the Awals of Tuchimala tole, signifying a tradition and celebration associated with the temple's history and establishment. The Nyatapola temple is a significant heritage site that hosts an annual puja to celebrate its establishment day. It has survived major earthquakes and is supported by the efforts of various individuals and organizations, including the User's Committee. The Gorkha earthquake of 2015 caused partial damage to the top roof tier of the Nyatapola temple.The Nyatapola temple was rebuilt within the years 1951-1955 after being partially affected by the 1934 earthquake. The great Bihar earthquake of 1934 partially affected the Nyatapola temple, causing the collapse of the top roof only. The Nyatapola temple has survived three major earthquakes in Nepal's history. It was partially affected by the great Bihar earthquake of 1934 and suffered partial damage on the top roof tier during the Gorkha earthquake of 2015. They are kept in staircase for guarding. The fifth are stone Byaghrini, two goddesses of supernatural power. The fourth are sarduls or griffins, ten times as strong as the lions.Lions are the guards which are ten times as strong as the elephants. Elephants are the guards which are ten times as strong as the men. The lowest are statues of Jayalla Malla and Patta. Two champions of Bhatgaon Raja, which of whom is said to have had the strength of ten men. The lowest are statues of Jayalla Malla and Patta. Two champions of Bhatgaon Raja, which of whom is said to have had the strength of ten men, The next are elephants, ten times as strong as the men, The third are lions, ten times as strong as the elephants, The fourth are sarduls or griffins, ten times as strong as the lions, And the fifth are stone Byaghrini, two goddesses of supernatural power. There are five carved stones in front of temple. In Nepali language it is commonly interpreted as Five Storey Temple. Four corners are adorned with five miniature shrines in each of the four corners. It has five layers of plinth decks. Five Storey Temple. The temple rests on a square base of five high plinths with five miniature shrines in each of the four corners. The daily Nitya puja is still performed by the authorized Tantric priests, who serve Taleju, the clan deity of the Mallas. Taleju, the clan deity of the Mallas. Nyatapola temple is also regarded as the Agamdyo of Taleju Bhawani of Bhaktapur Durbar square. There are no Jatras are conducted in the name of Nyatapola temple and only limited pujas are offered in the temple. The daily Nitya puja is still performed by the authorized Tantric priests, who serve Taleju, the clan deity of the Mallas. The temple rests on a square base of five high plinths with five miniature shrines in each of the four corners. The Nyatapola temple serves as one of the best amphitheaters during the Jatras to view with its five layers of plinth decks considered as exposed foundation. Nyatapola word consists of two words Nyata means five and Pola literally means roof in Nepal Bhasha is also commonly interpreted as Five Storey Temple.\", \"Nyatapola was built back in 1701 by King Bhupatindra Malla with a pretty specific purpose: to rein in the powerful deity Bhairavnath by invoking the tantric goddess Siddhilaxmi. The dedication to precision in its construction is remarkable, from the five Ganesha and tiers to the 108 struts and 360 battens used.Have you heard about the interesting reflection thing? You can actually see the temple's reflection in the Khancha pukhu pond nearby. Pond is around Golmadi area.  The temple stands at a height of 32.19 meters.Yes, Nyatapola Temple is indeed a part of the UNESCO World Heritage site enlisted as Bhaktapur Durbar Square where Nyatapola Temple stands.Nyatapola Temple is a major tourist attraction in Bhaktapur, drawing visitors from around the world due to its architectural beauty and cultural significance. Yes, the temple's architecture embodies principles of Hindu cosmology, with each tier symbolizing different elements and aspects of life. Visitors are generally expected to remove their shoes before entering the temple vicinity and should respect the sanctity of the site.The temple follows a pagoda-style architecture, characterized by its multi-tiered roof and intricate wooden carvings, showcasing exceptional Newari craftsmanship Various Hindu festivals are observed at the temple premises, including special ceremonies during Dashain and other significant religious occasions. No you are not permitted to take pictures inside but it is allowed in the outer areas of the temple. Yes, photography is usually allowed in the outer areas of the temple, but it's best to ask for permission before taking pictures of specific areas or people. Yes, there are usually guides available nearby who can provide detailed information about the temple's history and significance. Visitors are usually expected to remove their shoes before entering the temple premises and to respect the sanctity of the site. Each tier symbolizes a different element and also serves as a representation of the stages of life. Yes, various rituals and festivals are celebrated at Nyatapola Temple throughout the year, including special ceremonies during Dashain and other Hindu festivals. Typically, tourists are not allowed to enter the temple itself, but they can admire its beautiful architecture and explore the area around it. The temple's architecture represents the five basic elements: earth, water, fire, air, and ether, and is dedicated to the goddess Siddhi Lakshmi. The construction work of this temple was completed within eight month. Goddess Shiddhi Laxmi, the powerful tantric goddess, is inside Temple.  The unique features of temple is 5 Ganesha, 5 tiers, 5 plinths, 33 steps, 108 struts, and 360 battens used in the temple. The major propose was to control the aggressive, god Bhairavnath by establishing the tantric goddess Siddhilaxmi according to the inscription. The Nyatapola temple was constructed in 1701 AD by King Bhupatindra Malla. Placing the flag on top of the pinnacle during the establishment day celebration is a symbolic act carried out by the Awals of Tuchimala tole, signifying a tradition and celebration associated with the temple's history and establishment. The Nyatapola temple is a significant heritage site that hosts an annual puja to celebrate its establishment day. It has survived major earthquakes and is supported by the efforts of various individuals and organizations, including the User's Committee. The Gorkha earthquake of 2015 caused partial damage to the top roof tier of the Nyatapola temple.The Nyatapola temple was rebuilt within the years 1951-1955 after being partially affected by the 1934 earthquake. The great Bihar earthquake of 1934 partially affected the Nyatapola temple, causing the collapse of the top roof only. The Nyatapola temple has survived three major earthquakes in Nepal's history. It was partially affected by the great Bihar earthquake of 1934 and suffered partial damage on the top roof tier during the Gorkha earthquake of 2015. They are kept in staircase for guarding. The fifth are stone Byaghrini, two goddesses of supernatural power. The fourth are sarduls or griffins, ten times as strong as the lions.Lions are the guards which are ten times as strong as the elephants. Elephants are the guards which are ten times as strong as the men. The lowest are statues of Jayalla Malla and Patta. Two champions of Bhatgaon Raja, which of whom is said to have had the strength of ten men. The lowest are statues of Jayalla Malla and Patta. Two champions of Bhatgaon Raja, which of whom is said to have had the strength of ten men, The next are elephants, ten times as strong as the men, The third are lions, ten times as strong as the elephants, The fourth are sarduls or griffins, ten times as strong as the lions, And the fifth are stone Byaghrini, two goddesses of supernatural power. There are five carved stones in front of temple. In Nepali language it is commonly interpreted as Five Storey Temple. Four corners are adorned with five miniature shrines in each of the four corners. It has five layers of plinth decks. Five Storey Temple. The temple rests on a square base of five high plinths with five miniature shrines in each of the four corners. The daily Nitya puja is still performed by the authorized Tantric priests, who serve Taleju, the clan deity of the Mallas. Taleju, the clan deity of the Mallas. Nyatapola temple is also regarded as the Agamdyo of Taleju Bhawani of Bhaktapur Durbar square. There are no Jatras are conducted in the name of Nyatapola temple and only limited pujas are offered in the temple. The daily Nitya puja is still performed by the authorized Tantric priests, who serve Taleju, the clan deity of the Mallas. The temple rests on a square base of five high plinths with five miniature shrines in each of the four corners. The Nyatapola temple serves as one of the best amphitheaters during the Jatras to view with its five layers of plinth decks considered as exposed foundation. Nyatapola word consists of two words Nyata means five and Pola literally means roof in Nepal Bhasha is also commonly interpreted as Five Storey Temple.\", \"Nyatapola was built back in 1701 by King Bhupatindra Malla with a pretty specific purpose: to rein in the powerful deity Bhairavnath by invoking the tantric goddess Siddhilaxmi. The dedication to precision in its construction is remarkable, from the five Ganesha and tiers to the 108 struts and 360 battens used.Have you heard about the interesting reflection thing? You can actually see the temple's reflection in the Khancha pukhu pond nearby. Pond is around Golmadi area.  The temple stands at a height of 32.19 meters.Yes, Nyatapola Temple is indeed a part of the UNESCO World Heritage site enlisted as Bhaktapur Durbar Square where Nyatapola Temple stands.Nyatapola Temple is a major tourist attraction in Bhaktapur, drawing visitors from around the world due to its architectural beauty and cultural significance. Yes, the temple's architecture embodies principles of Hindu cosmology, with each tier symbolizing different elements and aspects of life. Visitors are generally expected to remove their shoes before entering the temple vicinity and should respect the sanctity of the site.The temple follows a pagoda-style architecture, characterized by its multi-tiered roof and intricate wooden carvings, showcasing exceptional Newari craftsmanship Various Hindu festivals are observed at the temple premises, including special ceremonies during Dashain and other significant religious occasions. No you are not permitted to take pictures inside but it is allowed in the outer areas of the temple. Yes, photography is usually allowed in the outer areas of the temple, but it's best to ask for permission before taking pictures of specific areas or people. Yes, there are usually guides available nearby who can provide detailed information about the temple's history and significance. Visitors are usually expected to remove their shoes before entering the temple premises and to respect the sanctity of the site. Each tier symbolizes a different element and also serves as a representation of the stages of life. Yes, various rituals and festivals are celebrated at Nyatapola Temple throughout the year, including special ceremonies during Dashain and other Hindu festivals. Typically, tourists are not allowed to enter the temple itself, but they can admire its beautiful architecture and explore the area around it. The temple's architecture represents the five basic elements: earth, water, fire, air, and ether, and is dedicated to the goddess Siddhi Lakshmi. The construction work of this temple was completed within eight month. Goddess Shiddhi Laxmi, the powerful tantric goddess, is inside Temple.  The unique features of temple is 5 Ganesha, 5 tiers, 5 plinths, 33 steps, 108 struts, and 360 battens used in the temple. The major propose was to control the aggressive, god Bhairavnath by establishing the tantric goddess Siddhilaxmi according to the inscription. The Nyatapola temple was constructed in 1701 AD by King Bhupatindra Malla. Placing the flag on top of the pinnacle during the establishment day celebration is a symbolic act carried out by the Awals of Tuchimala tole, signifying a tradition and celebration associated with the temple's history and establishment. The Nyatapola temple is a significant heritage site that hosts an annual puja to celebrate its establishment day. It has survived major earthquakes and is supported by the efforts of various individuals and organizations, including the User's Committee. The Gorkha earthquake of 2015 caused partial damage to the top roof tier of the Nyatapola temple.The Nyatapola temple was rebuilt within the years 1951-1955 after being partially affected by the 1934 earthquake. The great Bihar earthquake of 1934 partially affected the Nyatapola temple, causing the collapse of the top roof only. The Nyatapola temple has survived three major earthquakes in Nepal's history. It was partially affected by the great Bihar earthquake of 1934 and suffered partial damage on the top roof tier during the Gorkha earthquake of 2015. They are kept in staircase for guarding. The fifth are stone Byaghrini, two goddesses of supernatural power. The fourth are sarduls or griffins, ten times as strong as the lions.Lions are the guards which are ten times as strong as the elephants. Elephants are the guards which are ten times as strong as the men. The lowest are statues of Jayalla Malla and Patta. Two champions of Bhatgaon Raja, which of whom is said to have had the strength of ten men. The lowest are statues of Jayalla Malla and Patta. Two champions of Bhatgaon Raja, which of whom is said to have had the strength of ten men, The next are elephants, ten times as strong as the men, The third are lions, ten times as strong as the elephants, The fourth are sarduls or griffins, ten times as strong as the lions, And the fifth are stone Byaghrini, two goddesses of supernatural power. There are five carved stones in front of temple. In Nepali language it is commonly interpreted as Five Storey Temple. Four corners are adorned with five miniature shrines in each of the four corners. It has five layers of plinth decks. Five Storey Temple. The temple rests on a square base of five high plinths with five miniature shrines in each of the four corners. The daily Nitya puja is still performed by the authorized Tantric priests, who serve Taleju, the clan deity of the Mallas. Taleju, the clan deity of the Mallas. Nyatapola temple is also regarded as the Agamdyo of Taleju Bhawani of Bhaktapur Durbar square. There are no Jatras are conducted in the name of Nyatapola temple and only limited pujas are offered in the temple. The daily Nitya puja is still performed by the authorized Tantric priests, who serve Taleju, the clan deity of the Mallas. The temple rests on a square base of five high plinths with five miniature shrines in each of the four corners. The Nyatapola temple serves as one of the best amphitheaters during the Jatras to view with its five layers of plinth decks considered as exposed foundation. Nyatapola word consists of two words Nyata means five and Pola literally means roof in Nepal Bhasha is also commonly interpreted as Five Storey Temple.\", \"Nyatapola was built back in 1701 by King Bhupatindra Malla with a pretty specific purpose: to rein in the powerful deity Bhairavnath by invoking the tantric goddess Siddhilaxmi. The dedication to precision in its construction is remarkable, from the five Ganesha and tiers to the 108 struts and 360 battens used.Have you heard about the interesting reflection thing? You can actually see the temple's reflection in the Khancha pukhu pond nearby. Pond is around Golmadi area.  The temple stands at a height of 32.19 meters.Yes, Nyatapola Temple is indeed a part of the UNESCO World Heritage site enlisted as Bhaktapur Durbar Square where Nyatapola Temple stands.Nyatapola Temple is a major tourist attraction in Bhaktapur, drawing visitors from around the world due to its architectural beauty and cultural significance. Yes, the temple's architecture embodies principles of Hindu cosmology, with each tier symbolizing different elements and aspects of life. Visitors are generally expected to remove their shoes before entering the temple vicinity and should respect the sanctity of the site.The temple follows a pagoda-style architecture, characterized by its multi-tiered roof and intricate wooden carvings, showcasing exceptional Newari craftsmanship Various Hindu festivals are observed at the temple premises, including special ceremonies during Dashain and other significant religious occasions. No you are not permitted to take pictures inside but it is allowed in the outer areas of the temple. Yes, photography is usually allowed in the outer areas of the temple, but it's best to ask for permission before taking pictures of specific areas or people. Yes, there are usually guides available nearby who can provide detailed information about the temple's history and significance. Visitors are usually expected to remove their shoes before entering the temple premises and to respect the sanctity of the site. Each tier symbolizes a different element and also serves as a representation of the stages of life. Yes, various rituals and festivals are celebrated at Nyatapola Temple throughout the year, including special ceremonies during Dashain and other Hindu festivals. Typically, tourists are not allowed to enter the temple itself, but they can admire its beautiful architecture and explore the area around it. The temple's architecture represents the five basic elements: earth, water, fire, air, and ether, and is dedicated to the goddess Siddhi Lakshmi. The construction work of this temple was completed within eight month. Goddess Shiddhi Laxmi, the powerful tantric goddess, is inside Temple.  The unique features of temple is 5 Ganesha, 5 tiers, 5 plinths, 33 steps, 108 struts, and 360 battens used in the temple. The major propose was to control the aggressive, god Bhairavnath by establishing the tantric goddess Siddhilaxmi according to the inscription. The Nyatapola temple was constructed in 1701 AD by King Bhupatindra Malla. Placing the flag on top of the pinnacle during the establishment day celebration is a symbolic act carried out by the Awals of Tuchimala tole, signifying a tradition and celebration associated with the temple's history and establishment. The Nyatapola temple is a significant heritage site that hosts an annual puja to celebrate its establishment day. It has survived major earthquakes and is supported by the efforts of various individuals and organizations, including the User's Committee. The Gorkha earthquake of 2015 caused partial damage to the top roof tier of the Nyatapola temple.The Nyatapola temple was rebuilt within the years 1951-1955 after being partially affected by the 1934 earthquake. The great Bihar earthquake of 1934 partially affected the Nyatapola temple, causing the collapse of the top roof only. The Nyatapola temple has survived three major earthquakes in Nepal's history. It was partially affected by the great Bihar earthquake of 1934 and suffered partial damage on the top roof tier during the Gorkha earthquake of 2015. They are kept in staircase for guarding. The fifth are stone Byaghrini, two goddesses of supernatural power. The fourth are sarduls or griffins, ten times as strong as the lions.Lions are the guards which are ten times as strong as the elephants. Elephants are the guards which are ten times as strong as the men. The lowest are statues of Jayalla Malla and Patta. Two champions of Bhatgaon Raja, which of whom is said to have had the strength of ten men. The lowest are statues of Jayalla Malla and Patta. Two champions of Bhatgaon Raja, which of whom is said to have had the strength of ten men, The next are elephants, ten times as strong as the men, The third are lions, ten times as strong as the elephants, The fourth are sarduls or griffins, ten times as strong as the lions, And the fifth are stone Byaghrini, two goddesses of supernatural power. There are five carved stones in front of temple. In Nepali language it is commonly interpreted as Five Storey Temple. Four corners are adorned with five miniature shrines in each of the four corners. It has five layers of plinth decks. Five Storey Temple. The temple rests on a square base of five high plinths with five miniature shrines in each of the four corners. The daily Nitya puja is still performed by the authorized Tantric priests, who serve Taleju, the clan deity of the Mallas. Taleju, the clan deity of the Mallas. Nyatapola temple is also regarded as the Agamdyo of Taleju Bhawani of Bhaktapur Durbar square. There are no Jatras are conducted in the name of Nyatapola temple and only limited pujas are offered in the temple. The daily Nitya puja is still performed by the authorized Tantric priests, who serve Taleju, the clan deity of the Mallas. The temple rests on a square base of five high plinths with five miniature shrines in each of the four corners. The Nyatapola temple serves as one of the best amphitheaters during the Jatras to view with its five layers of plinth decks considered as exposed foundation. Nyatapola word consists of two words Nyata means five and Pola literally means roof in Nepal Bhasha is also commonly interpreted as Five Storey Temple.\", \"Nyatapola was built back in 1701 by King Bhupatindra Malla with a pretty specific purpose: to rein in the powerful deity Bhairavnath by invoking the tantric goddess Siddhilaxmi. The dedication to precision in its construction is remarkable, from the five Ganesha and tiers to the 108 struts and 360 battens used.Have you heard about the interesting reflection thing? You can actually see the temple's reflection in the Khancha pukhu pond nearby. Pond is around Golmadi area.  The temple stands at a height of 32.19 meters.Yes, Nyatapola Temple is indeed a part of the UNESCO World Heritage site enlisted as Bhaktapur Durbar Square where Nyatapola Temple stands.Nyatapola Temple is a major tourist attraction in Bhaktapur, drawing visitors from around the world due to its architectural beauty and cultural significance. Yes, the temple's architecture embodies principles of Hindu cosmology, with each tier symbolizing different elements and aspects of life. Visitors are generally expected to remove their shoes before entering the temple vicinity and should respect the sanctity of the site.The temple follows a pagoda-style architecture, characterized by its multi-tiered roof and intricate wooden carvings, showcasing exceptional Newari craftsmanship Various Hindu festivals are observed at the temple premises, including special ceremonies during Dashain and other significant religious occasions. No you are not permitted to take pictures inside but it is allowed in the outer areas of the temple. Yes, photography is usually allowed in the outer areas of the temple, but it's best to ask for permission before taking pictures of specific areas or people. Yes, there are usually guides available nearby who can provide detailed information about the temple's history and significance. Visitors are usually expected to remove their shoes before entering the temple premises and to respect the sanctity of the site. Each tier symbolizes a different element and also serves as a representation of the stages of life. Yes, various rituals and festivals are celebrated at Nyatapola Temple throughout the year, including special ceremonies during Dashain and other Hindu festivals. Typically, tourists are not allowed to enter the temple itself, but they can admire its beautiful architecture and explore the area around it. The temple's architecture represents the five basic elements: earth, water, fire, air, and ether, and is dedicated to the goddess Siddhi Lakshmi. The construction work of this temple was completed within eight month. Goddess Shiddhi Laxmi, the powerful tantric goddess, is inside Temple.  The unique features of temple is 5 Ganesha, 5 tiers, 5 plinths, 33 steps, 108 struts, and 360 battens used in the temple. The major propose was to control the aggressive, god Bhairavnath by establishing the tantric goddess Siddhilaxmi according to the inscription. The Nyatapola temple was constructed in 1701 AD by King Bhupatindra Malla. Placing the flag on top of the pinnacle during the establishment day celebration is a symbolic act carried out by the Awals of Tuchimala tole, signifying a tradition and celebration associated with the temple's history and establishment. The Nyatapola temple is a significant heritage site that hosts an annual puja to celebrate its establishment day. It has survived major earthquakes and is supported by the efforts of various individuals and organizations, including the User's Committee. The Gorkha earthquake of 2015 caused partial damage to the top roof tier of the Nyatapola temple.The Nyatapola temple was rebuilt within the years 1951-1955 after being partially affected by the 1934 earthquake. The great Bihar earthquake of 1934 partially affected the Nyatapola temple, causing the collapse of the top roof only. The Nyatapola temple has survived three major earthquakes in Nepal's history. It was partially affected by the great Bihar earthquake of 1934 and suffered partial damage on the top roof tier during the Gorkha earthquake of 2015. They are kept in staircase for guarding. The fifth are stone Byaghrini, two goddesses of supernatural power. The fourth are sarduls or griffins, ten times as strong as the lions.Lions are the guards which are ten times as strong as the elephants. Elephants are the guards which are ten times as strong as the men. The lowest are statues of Jayalla Malla and Patta. Two champions of Bhatgaon Raja, which of whom is said to have had the strength of ten men. The lowest are statues of Jayalla Malla and Patta. Two champions of Bhatgaon Raja, which of whom is said to have had the strength of ten men, The next are elephants, ten times as strong as the men, The third are lions, ten times as strong as the elephants, The fourth are sarduls or griffins, ten times as strong as the lions, And the fifth are stone Byaghrini, two goddesses of supernatural power. There are five carved stones in front of temple. In Nepali language it is commonly interpreted as Five Storey Temple. Four corners are adorned with five miniature shrines in each of the four corners. It has five layers of plinth decks. Five Storey Temple. The temple rests on a square base of five high plinths with five miniature shrines in each of the four corners. The daily Nitya puja is still performed by the authorized Tantric priests, who serve Taleju, the clan deity of the Mallas. Taleju, the clan deity of the Mallas. Nyatapola temple is also regarded as the Agamdyo of Taleju Bhawani of Bhaktapur Durbar square. There are no Jatras are conducted in the name of Nyatapola temple and only limited pujas are offered in the temple. The daily Nitya puja is still performed by the authorized Tantric priests, who serve Taleju, the clan deity of the Mallas. The temple rests on a square base of five high plinths with five miniature shrines in each of the four corners. The Nyatapola temple serves as one of the best amphitheaters during the Jatras to view with its five layers of plinth decks considered as exposed foundation. Nyatapola word consists of two words Nyata means five and Pola literally means roof in Nepal Bhasha is also commonly interpreted as Five Storey Temple.\", \"Nyatapola was built back in 1701 by King Bhupatindra Malla with a pretty specific purpose: to rein in the powerful deity Bhairavnath by invoking the tantric goddess Siddhilaxmi. The dedication to precision in its construction is remarkable, from the five Ganesha and tiers to the 108 struts and 360 battens used.Have you heard about the interesting reflection thing? You can actually see the temple's reflection in the Khancha pukhu pond nearby. Pond is around Golmadi area.  The temple stands at a height of 32.19 meters.Yes, Nyatapola Temple is indeed a part of the UNESCO World Heritage site enlisted as Bhaktapur Durbar Square where Nyatapola Temple stands.Nyatapola Temple is a major tourist attraction in Bhaktapur, drawing visitors from around the world due to its architectural beauty and cultural significance. Yes, the temple's architecture embodies principles of Hindu cosmology, with each tier symbolizing different elements and aspects of life. Visitors are generally expected to remove their shoes before entering the temple vicinity and should respect the sanctity of the site.The temple follows a pagoda-style architecture, characterized by its multi-tiered roof and intricate wooden carvings, showcasing exceptional Newari craftsmanship Various Hindu festivals are observed at the temple premises, including special ceremonies during Dashain and other significant religious occasions. No you are not permitted to take pictures inside but it is allowed in the outer areas of the temple. Yes, photography is usually allowed in the outer areas of the temple, but it's best to ask for permission before taking pictures of specific areas or people. Yes, there are usually guides available nearby who can provide detailed information about the temple's history and significance. Visitors are usually expected to remove their shoes before entering the temple premises and to respect the sanctity of the site. Each tier symbolizes a different element and also serves as a representation of the stages of life. Yes, various rituals and festivals are celebrated at Nyatapola Temple throughout the year, including special ceremonies during Dashain and other Hindu festivals. Typically, tourists are not allowed to enter the temple itself, but they can admire its beautiful architecture and explore the area around it. The temple's architecture represents the five basic elements: earth, water, fire, air, and ether, and is dedicated to the goddess Siddhi Lakshmi. The construction work of this temple was completed within eight month. Goddess Shiddhi Laxmi, the powerful tantric goddess, is inside Temple.  The unique features of temple is 5 Ganesha, 5 tiers, 5 plinths, 33 steps, 108 struts, and 360 battens used in the temple. The major propose was to control the aggressive, god Bhairavnath by establishing the tantric goddess Siddhilaxmi according to the inscription. The Nyatapola temple was constructed in 1701 AD by King Bhupatindra Malla. Placing the flag on top of the pinnacle during the establishment day celebration is a symbolic act carried out by the Awals of Tuchimala tole, signifying a tradition and celebration associated with the temple's history and establishment. The Nyatapola temple is a significant heritage site that hosts an annual puja to celebrate its establishment day. It has survived major earthquakes and is supported by the efforts of various individuals and organizations, including the User's Committee. The Gorkha earthquake of 2015 caused partial damage to the top roof tier of the Nyatapola temple.The Nyatapola temple was rebuilt within the years 1951-1955 after being partially affected by the 1934 earthquake. The great Bihar earthquake of 1934 partially affected the Nyatapola temple, causing the collapse of the top roof only. The Nyatapola temple has survived three major earthquakes in Nepal's history. It was partially affected by the great Bihar earthquake of 1934 and suffered partial damage on the top roof tier during the Gorkha earthquake of 2015. They are kept in staircase for guarding. The fifth are stone Byaghrini, two goddesses of supernatural power. The fourth are sarduls or griffins, ten times as strong as the lions.Lions are the guards which are ten times as strong as the elephants. Elephants are the guards which are ten times as strong as the men. The lowest are statues of Jayalla Malla and Patta. Two champions of Bhatgaon Raja, which of whom is said to have had the strength of ten men. The lowest are statues of Jayalla Malla and Patta. Two champions of Bhatgaon Raja, which of whom is said to have had the strength of ten men, The next are elephants, ten times as strong as the men, The third are lions, ten times as strong as the elephants, The fourth are sarduls or griffins, ten times as strong as the lions, And the fifth are stone Byaghrini, two goddesses of supernatural power. There are five carved stones in front of temple. In Nepali language it is commonly interpreted as Five Storey Temple. Four corners are adorned with five miniature shrines in each of the four corners. It has five layers of plinth decks. Five Storey Temple. The temple rests on a square base of five high plinths with five miniature shrines in each of the four corners. The daily Nitya puja is still performed by the authorized Tantric priests, who serve Taleju, the clan deity of the Mallas. Taleju, the clan deity of the Mallas. Nyatapola temple is also regarded as the Agamdyo of Taleju Bhawani of Bhaktapur Durbar square. There are no Jatras are conducted in the name of Nyatapola temple and only limited pujas are offered in the temple. The daily Nitya puja is still performed by the authorized Tantric priests, who serve Taleju, the clan deity of the Mallas. The temple rests on a square base of five high plinths with five miniature shrines in each of the four corners. The Nyatapola temple serves as one of the best amphitheaters during the Jatras to view with its five layers of plinth decks considered as exposed foundation. Nyatapola word consists of two words Nyata means five and Pola literally means roof in Nepal Bhasha is also commonly interpreted as Five Storey Temple.\", \"Nyatapola was built back in 1701 by King Bhupatindra Malla with a pretty specific purpose: to rein in the powerful deity Bhairavnath by invoking the tantric goddess Siddhilaxmi. The dedication to precision in its construction is remarkable, from the five Ganesha and tiers to the 108 struts and 360 battens used.Have you heard about the interesting reflection thing? You can actually see the temple's reflection in the Khancha pukhu pond nearby. Pond is around Golmadi area.  The temple stands at a height of 32.19 meters.Yes, Nyatapola Temple is indeed a part of the UNESCO World Heritage site enlisted as Bhaktapur Durbar Square where Nyatapola Temple stands.Nyatapola Temple is a major tourist attraction in Bhaktapur, drawing visitors from around the world due to its architectural beauty and cultural significance. Yes, the temple's architecture embodies principles of Hindu cosmology, with each tier symbolizing different elements and aspects of life. Visitors are generally expected to remove their shoes before entering the temple vicinity and should respect the sanctity of the site.The temple follows a pagoda-style architecture, characterized by its multi-tiered roof and intricate wooden carvings, showcasing exceptional Newari craftsmanship Various Hindu festivals are observed at the temple premises, including special ceremonies during Dashain and other significant religious occasions. No you are not permitted to take pictures inside but it is allowed in the outer areas of the temple. Yes, photography is usually allowed in the outer areas of the temple, but it's best to ask for permission before taking pictures of specific areas or people. Yes, there are usually guides available nearby who can provide detailed information about the temple's history and significance. Visitors are usually expected to remove their shoes before entering the temple premises and to respect the sanctity of the site. Each tier symbolizes a different element and also serves as a representation of the stages of life. Yes, various rituals and festivals are celebrated at Nyatapola Temple throughout the year, including special ceremonies during Dashain and other Hindu festivals. Typically, tourists are not allowed to enter the temple itself, but they can admire its beautiful architecture and explore the area around it. The temple's architecture represents the five basic elements: earth, water, fire, air, and ether, and is dedicated to the goddess Siddhi Lakshmi. The construction work of this temple was completed within eight month. Goddess Shiddhi Laxmi, the powerful tantric goddess, is inside Temple.  The unique features of temple is 5 Ganesha, 5 tiers, 5 plinths, 33 steps, 108 struts, and 360 battens used in the temple. The major propose was to control the aggressive, god Bhairavnath by establishing the tantric goddess Siddhilaxmi according to the inscription. The Nyatapola temple was constructed in 1701 AD by King Bhupatindra Malla. Placing the flag on top of the pinnacle during the establishment day celebration is a symbolic act carried out by the Awals of Tuchimala tole, signifying a tradition and celebration associated with the temple's history and establishment. The Nyatapola temple is a significant heritage site that hosts an annual puja to celebrate its establishment day. It has survived major earthquakes and is supported by the efforts of various individuals and organizations, including the User's Committee. The Gorkha earthquake of 2015 caused partial damage to the top roof tier of the Nyatapola temple.The Nyatapola temple was rebuilt within the years 1951-1955 after being partially affected by the 1934 earthquake. The great Bihar earthquake of 1934 partially affected the Nyatapola temple, causing the collapse of the top roof only. The Nyatapola temple has survived three major earthquakes in Nepal's history. It was partially affected by the great Bihar earthquake of 1934 and suffered partial damage on the top roof tier during the Gorkha earthquake of 2015. They are kept in staircase for guarding. The fifth are stone Byaghrini, two goddesses of supernatural power. The fourth are sarduls or griffins, ten times as strong as the lions.Lions are the guards which are ten times as strong as the elephants. Elephants are the guards which are ten times as strong as the men. The lowest are statues of Jayalla Malla and Patta. Two champions of Bhatgaon Raja, which of whom is said to have had the strength of ten men. The lowest are statues of Jayalla Malla and Patta. Two champions of Bhatgaon Raja, which of whom is said to have had the strength of ten men, The next are elephants, ten times as strong as the men, The third are lions, ten times as strong as the elephants, The fourth are sarduls or griffins, ten times as strong as the lions, And the fifth are stone Byaghrini, two goddesses of supernatural power. There are five carved stones in front of temple. In Nepali language it is commonly interpreted as Five Storey Temple. Four corners are adorned with five miniature shrines in each of the four corners. It has five layers of plinth decks. Five Storey Temple. The temple rests on a square base of five high plinths with five miniature shrines in each of the four corners. The daily Nitya puja is still performed by the authorized Tantric priests, who serve Taleju, the clan deity of the Mallas. Taleju, the clan deity of the Mallas. Nyatapola temple is also regarded as the Agamdyo of Taleju Bhawani of Bhaktapur Durbar square. There are no Jatras are conducted in the name of Nyatapola temple and only limited pujas are offered in the temple. The daily Nitya puja is still performed by the authorized Tantric priests, who serve Taleju, the clan deity of the Mallas. The temple rests on a square base of five high plinths with five miniature shrines in each of the four corners. The Nyatapola temple serves as one of the best amphitheaters during the Jatras to view with its five layers of plinth decks considered as exposed foundation. Nyatapola word consists of two words Nyata means five and Pola literally means roof in Nepal Bhasha is also commonly interpreted as Five Storey Temple.\", \"Nyatapola was built back in 1701 by King Bhupatindra Malla with a pretty specific purpose: to rein in the powerful deity Bhairavnath by invoking the tantric goddess Siddhilaxmi. The dedication to precision in its construction is remarkable, from the five Ganesha and tiers to the 108 struts and 360 battens used.Have you heard about the interesting reflection thing? You can actually see the temple's reflection in the Khancha pukhu pond nearby. Pond is around Golmadi area.  The temple stands at a height of 32.19 meters.Yes, Nyatapola Temple is indeed a part of the UNESCO World Heritage site enlisted as Bhaktapur Durbar Square where Nyatapola Temple stands.Nyatapola Temple is a major tourist attraction in Bhaktapur, drawing visitors from around the world due to its architectural beauty and cultural significance. Yes, the temple's architecture embodies principles of Hindu cosmology, with each tier symbolizing different elements and aspects of life. Visitors are generally expected to remove their shoes before entering the temple vicinity and should respect the sanctity of the site.The temple follows a pagoda-style architecture, characterized by its multi-tiered roof and intricate wooden carvings, showcasing exceptional Newari craftsmanship Various Hindu festivals are observed at the temple premises, including special ceremonies during Dashain and other significant religious occasions. No you are not permitted to take pictures inside but it is allowed in the outer areas of the temple. Yes, photography is usually allowed in the outer areas of the temple, but it's best to ask for permission before taking pictures of specific areas or people. Yes, there are usually guides available nearby who can provide detailed information about the temple's history and significance. Visitors are usually expected to remove their shoes before entering the temple premises and to respect the sanctity of the site. Each tier symbolizes a different element and also serves as a representation of the stages of life. Yes, various rituals and festivals are celebrated at Nyatapola Temple throughout the year, including special ceremonies during Dashain and other Hindu festivals. Typically, tourists are not allowed to enter the temple itself, but they can admire its beautiful architecture and explore the area around it. The temple's architecture represents the five basic elements: earth, water, fire, air, and ether, and is dedicated to the goddess Siddhi Lakshmi. The construction work of this temple was completed within eight month. Goddess Shiddhi Laxmi, the powerful tantric goddess, is inside Temple.  The unique features of temple is 5 Ganesha, 5 tiers, 5 plinths, 33 steps, 108 struts, and 360 battens used in the temple. The major propose was to control the aggressive, god Bhairavnath by establishing the tantric goddess Siddhilaxmi according to the inscription. The Nyatapola temple was constructed in 1701 AD by King Bhupatindra Malla. Placing the flag on top of the pinnacle during the establishment day celebration is a symbolic act carried out by the Awals of Tuchimala tole, signifying a tradition and celebration associated with the temple's history and establishment. The Nyatapola temple is a significant heritage site that hosts an annual puja to celebrate its establishment day. It has survived major earthquakes and is supported by the efforts of various individuals and organizations, including the User's Committee. The Gorkha earthquake of 2015 caused partial damage to the top roof tier of the Nyatapola temple.The Nyatapola temple was rebuilt within the years 1951-1955 after being partially affected by the 1934 earthquake. The great Bihar earthquake of 1934 partially affected the Nyatapola temple, causing the collapse of the top roof only. The Nyatapola temple has survived three major earthquakes in Nepal's history. It was partially affected by the great Bihar earthquake of 1934 and suffered partial damage on the top roof tier during the Gorkha earthquake of 2015. They are kept in staircase for guarding. The fifth are stone Byaghrini, two goddesses of supernatural power. The fourth are sarduls or griffins, ten times as strong as the lions.Lions are the guards which are ten times as strong as the elephants. Elephants are the guards which are ten times as strong as the men. The lowest are statues of Jayalla Malla and Patta. Two champions of Bhatgaon Raja, which of whom is said to have had the strength of ten men. The lowest are statues of Jayalla Malla and Patta. Two champions of Bhatgaon Raja, which of whom is said to have had the strength of ten men, The next are elephants, ten times as strong as the men, The third are lions, ten times as strong as the elephants, The fourth are sarduls or griffins, ten times as strong as the lions, And the fifth are stone Byaghrini, two goddesses of supernatural power. There are five carved stones in front of temple. In Nepali language it is commonly interpreted as Five Storey Temple. Four corners are adorned with five miniature shrines in each of the four corners. It has five layers of plinth decks. Five Storey Temple. The temple rests on a square base of five high plinths with five miniature shrines in each of the four corners. The daily Nitya puja is still performed by the authorized Tantric priests, who serve Taleju, the clan deity of the Mallas. Taleju, the clan deity of the Mallas. Nyatapola temple is also regarded as the Agamdyo of Taleju Bhawani of Bhaktapur Durbar square. There are no Jatras are conducted in the name of Nyatapola temple and only limited pujas are offered in the temple. The daily Nitya puja is still performed by the authorized Tantric priests, who serve Taleju, the clan deity of the Mallas. The temple rests on a square base of five high plinths with five miniature shrines in each of the four corners. The Nyatapola temple serves as one of the best amphitheaters during the Jatras to view with its five layers of plinth decks considered as exposed foundation. Nyatapola word consists of two words Nyata means five and Pola literally means roof in Nepal Bhasha is also commonly interpreted as Five Storey Temple.\", \"Nyatapola was built back in 1701 by King Bhupatindra Malla with a pretty specific purpose: to rein in the powerful deity Bhairavnath by invoking the tantric goddess Siddhilaxmi. The dedication to precision in its construction is remarkable, from the five Ganesha and tiers to the 108 struts and 360 battens used.Have you heard about the interesting reflection thing? You can actually see the temple's reflection in the Khancha pukhu pond nearby. Pond is around Golmadi area.  The temple stands at a height of 32.19 meters.Yes, Nyatapola Temple is indeed a part of the UNESCO World Heritage site enlisted as Bhaktapur Durbar Square where Nyatapola Temple stands.Nyatapola Temple is a major tourist attraction in Bhaktapur, drawing visitors from around the world due to its architectural beauty and cultural significance. Yes, the temple's architecture embodies principles of Hindu cosmology, with each tier symbolizing different elements and aspects of life. Visitors are generally expected to remove their shoes before entering the temple vicinity and should respect the sanctity of the site.The temple follows a pagoda-style architecture, characterized by its multi-tiered roof and intricate wooden carvings, showcasing exceptional Newari craftsmanship Various Hindu festivals are observed at the temple premises, including special ceremonies during Dashain and other significant religious occasions. No you are not permitted to take pictures inside but it is allowed in the outer areas of the temple. Yes, photography is usually allowed in the outer areas of the temple, but it's best to ask for permission before taking pictures of specific areas or people. Yes, there are usually guides available nearby who can provide detailed information about the temple's history and significance. Visitors are usually expected to remove their shoes before entering the temple premises and to respect the sanctity of the site. Each tier symbolizes a different element and also serves as a representation of the stages of life. Yes, various rituals and festivals are celebrated at Nyatapola Temple throughout the year, including special ceremonies during Dashain and other Hindu festivals. Typically, tourists are not allowed to enter the temple itself, but they can admire its beautiful architecture and explore the area around it. The temple's architecture represents the five basic elements: earth, water, fire, air, and ether, and is dedicated to the goddess Siddhi Lakshmi. The construction work of this temple was completed within eight month. Goddess Shiddhi Laxmi, the powerful tantric goddess, is inside Temple.  The unique features of temple is 5 Ganesha, 5 tiers, 5 plinths, 33 steps, 108 struts, and 360 battens used in the temple. The major propose was to control the aggressive, god Bhairavnath by establishing the tantric goddess Siddhilaxmi according to the inscription. The Nyatapola temple was constructed in 1701 AD by King Bhupatindra Malla. Placing the flag on top of the pinnacle during the establishment day celebration is a symbolic act carried out by the Awals of Tuchimala tole, signifying a tradition and celebration associated with the temple's history and establishment. The Nyatapola temple is a significant heritage site that hosts an annual puja to celebrate its establishment day. It has survived major earthquakes and is supported by the efforts of various individuals and organizations, including the User's Committee. The Gorkha earthquake of 2015 caused partial damage to the top roof tier of the Nyatapola temple.The Nyatapola temple was rebuilt within the years 1951-1955 after being partially affected by the 1934 earthquake. The great Bihar earthquake of 1934 partially affected the Nyatapola temple, causing the collapse of the top roof only. The Nyatapola temple has survived three major earthquakes in Nepal's history. It was partially affected by the great Bihar earthquake of 1934 and suffered partial damage on the top roof tier during the Gorkha earthquake of 2015. They are kept in staircase for guarding. The fifth are stone Byaghrini, two goddesses of supernatural power. The fourth are sarduls or griffins, ten times as strong as the lions.Lions are the guards which are ten times as strong as the elephants. Elephants are the guards which are ten times as strong as the men. The lowest are statues of Jayalla Malla and Patta. Two champions of Bhatgaon Raja, which of whom is said to have had the strength of ten men. The lowest are statues of Jayalla Malla and Patta. Two champions of Bhatgaon Raja, which of whom is said to have had the strength of ten men, The next are elephants, ten times as strong as the men, The third are lions, ten times as strong as the elephants, The fourth are sarduls or griffins, ten times as strong as the lions, And the fifth are stone Byaghrini, two goddesses of supernatural power. There are five carved stones in front of temple. In Nepali language it is commonly interpreted as Five Storey Temple. Four corners are adorned with five miniature shrines in each of the four corners. It has five layers of plinth decks. Five Storey Temple. The temple rests on a square base of five high plinths with five miniature shrines in each of the four corners. The daily Nitya puja is still performed by the authorized Tantric priests, who serve Taleju, the clan deity of the Mallas. Taleju, the clan deity of the Mallas. Nyatapola temple is also regarded as the Agamdyo of Taleju Bhawani of Bhaktapur Durbar square. There are no Jatras are conducted in the name of Nyatapola temple and only limited pujas are offered in the temple. The daily Nitya puja is still performed by the authorized Tantric priests, who serve Taleju, the clan deity of the Mallas. The temple rests on a square base of five high plinths with five miniature shrines in each of the four corners. The Nyatapola temple serves as one of the best amphitheaters during the Jatras to view with its five layers of plinth decks considered as exposed foundation. Nyatapola word consists of two words Nyata means five and Pola literally means roof in Nepal Bhasha is also commonly interpreted as Five Storey Temple.\", \"Nyatapola was built back in 1701 by King Bhupatindra Malla with a pretty specific purpose: to rein in the powerful deity Bhairavnath by invoking the tantric goddess Siddhilaxmi. The dedication to precision in its construction is remarkable, from the five Ganesha and tiers to the 108 struts and 360 battens used.Have you heard about the interesting reflection thing? You can actually see the temple's reflection in the Khancha pukhu pond nearby. Pond is around Golmadi area.  The temple stands at a height of 32.19 meters.Yes, Nyatapola Temple is indeed a part of the UNESCO World Heritage site enlisted as Bhaktapur Durbar Square where Nyatapola Temple stands.Nyatapola Temple is a major tourist attraction in Bhaktapur, drawing visitors from around the world due to its architectural beauty and cultural significance. Yes, the temple's architecture embodies principles of Hindu cosmology, with each tier symbolizing different elements and aspects of life. Visitors are generally expected to remove their shoes before entering the temple vicinity and should respect the sanctity of the site.The temple follows a pagoda-style architecture, characterized by its multi-tiered roof and intricate wooden carvings, showcasing exceptional Newari craftsmanship Various Hindu festivals are observed at the temple premises, including special ceremonies during Dashain and other significant religious occasions. No you are not permitted to take pictures inside but it is allowed in the outer areas of the temple. Yes, photography is usually allowed in the outer areas of the temple, but it's best to ask for permission before taking pictures of specific areas or people. Yes, there are usually guides available nearby who can provide detailed information about the temple's history and significance. Visitors are usually expected to remove their shoes before entering the temple premises and to respect the sanctity of the site. Each tier symbolizes a different element and also serves as a representation of the stages of life. Yes, various rituals and festivals are celebrated at Nyatapola Temple throughout the year, including special ceremonies during Dashain and other Hindu festivals. Typically, tourists are not allowed to enter the temple itself, but they can admire its beautiful architecture and explore the area around it. The temple's architecture represents the five basic elements: earth, water, fire, air, and ether, and is dedicated to the goddess Siddhi Lakshmi. The construction work of this temple was completed within eight month. Goddess Shiddhi Laxmi, the powerful tantric goddess, is inside Temple.  The unique features of temple is 5 Ganesha, 5 tiers, 5 plinths, 33 steps, 108 struts, and 360 battens used in the temple. The major propose was to control the aggressive, god Bhairavnath by establishing the tantric goddess Siddhilaxmi according to the inscription. The Nyatapola temple was constructed in 1701 AD by King Bhupatindra Malla. Placing the flag on top of the pinnacle during the establishment day celebration is a symbolic act carried out by the Awals of Tuchimala tole, signifying a tradition and celebration associated with the temple's history and establishment. The Nyatapola temple is a significant heritage site that hosts an annual puja to celebrate its establishment day. It has survived major earthquakes and is supported by the efforts of various individuals and organizations, including the User's Committee. The Gorkha earthquake of 2015 caused partial damage to the top roof tier of the Nyatapola temple.The Nyatapola temple was rebuilt within the years 1951-1955 after being partially affected by the 1934 earthquake. The great Bihar earthquake of 1934 partially affected the Nyatapola temple, causing the collapse of the top roof only. The Nyatapola temple has survived three major earthquakes in Nepal's history. It was partially affected by the great Bihar earthquake of 1934 and suffered partial damage on the top roof tier during the Gorkha earthquake of 2015. They are kept in staircase for guarding. The fifth are stone Byaghrini, two goddesses of supernatural power. The fourth are sarduls or griffins, ten times as strong as the lions.Lions are the guards which are ten times as strong as the elephants. Elephants are the guards which are ten times as strong as the men. The lowest are statues of Jayalla Malla and Patta. Two champions of Bhatgaon Raja, which of whom is said to have had the strength of ten men. The lowest are statues of Jayalla Malla and Patta. Two champions of Bhatgaon Raja, which of whom is said to have had the strength of ten men, The next are elephants, ten times as strong as the men, The third are lions, ten times as strong as the elephants, The fourth are sarduls or griffins, ten times as strong as the lions, And the fifth are stone Byaghrini, two goddesses of supernatural power. There are five carved stones in front of temple. In Nepali language it is commonly interpreted as Five Storey Temple. Four corners are adorned with five miniature shrines in each of the four corners. It has five layers of plinth decks. Five Storey Temple. The temple rests on a square base of five high plinths with five miniature shrines in each of the four corners. The daily Nitya puja is still performed by the authorized Tantric priests, who serve Taleju, the clan deity of the Mallas. Taleju, the clan deity of the Mallas. Nyatapola temple is also regarded as the Agamdyo of Taleju Bhawani of Bhaktapur Durbar square. There are no Jatras are conducted in the name of Nyatapola temple and only limited pujas are offered in the temple. The daily Nitya puja is still performed by the authorized Tantric priests, who serve Taleju, the clan deity of the Mallas. The temple rests on a square base of five high plinths with five miniature shrines in each of the four corners. The Nyatapola temple serves as one of the best amphitheaters during the Jatras to view with its five layers of plinth decks considered as exposed foundation. Nyatapola word consists of two words Nyata means five and Pola literally means roof in Nepal Bhasha is also commonly interpreted as Five Storey Temple.\", \"Nyatapola was built back in 1701 by King Bhupatindra Malla with a pretty specific purpose: to rein in the powerful deity Bhairavnath by invoking the tantric goddess Siddhilaxmi. The dedication to precision in its construction is remarkable, from the five Ganesha and tiers to the 108 struts and 360 battens used.Have you heard about the interesting reflection thing? You can actually see the temple's reflection in the Khancha pukhu pond nearby. Pond is around Golmadi area.  The temple stands at a height of 32.19 meters.Yes, Nyatapola Temple is indeed a part of the UNESCO World Heritage site enlisted as Bhaktapur Durbar Square where Nyatapola Temple stands.Nyatapola Temple is a major tourist attraction in Bhaktapur, drawing visitors from around the world due to its architectural beauty and cultural significance. Yes, the temple's architecture embodies principles of Hindu cosmology, with each tier symbolizing different elements and aspects of life. Visitors are generally expected to remove their shoes before entering the temple vicinity and should respect the sanctity of the site.The temple follows a pagoda-style architecture, characterized by its multi-tiered roof and intricate wooden carvings, showcasing exceptional Newari craftsmanship Various Hindu festivals are observed at the temple premises, including special ceremonies during Dashain and other significant religious occasions. No you are not permitted to take pictures inside but it is allowed in the outer areas of the temple. Yes, photography is usually allowed in the outer areas of the temple, but it's best to ask for permission before taking pictures of specific areas or people. Yes, there are usually guides available nearby who can provide detailed information about the temple's history and significance. Visitors are usually expected to remove their shoes before entering the temple premises and to respect the sanctity of the site. Each tier symbolizes a different element and also serves as a representation of the stages of life. Yes, various rituals and festivals are celebrated at Nyatapola Temple throughout the year, including special ceremonies during Dashain and other Hindu festivals. Typically, tourists are not allowed to enter the temple itself, but they can admire its beautiful architecture and explore the area around it. The temple's architecture represents the five basic elements: earth, water, fire, air, and ether, and is dedicated to the goddess Siddhi Lakshmi. The construction work of this temple was completed within eight month. Goddess Shiddhi Laxmi, the powerful tantric goddess, is inside Temple.  The unique features of temple is 5 Ganesha, 5 tiers, 5 plinths, 33 steps, 108 struts, and 360 battens used in the temple. The major propose was to control the aggressive, god Bhairavnath by establishing the tantric goddess Siddhilaxmi according to the inscription. The Nyatapola temple was constructed in 1701 AD by King Bhupatindra Malla. Placing the flag on top of the pinnacle during the establishment day celebration is a symbolic act carried out by the Awals of Tuchimala tole, signifying a tradition and celebration associated with the temple's history and establishment. The Nyatapola temple is a significant heritage site that hosts an annual puja to celebrate its establishment day. It has survived major earthquakes and is supported by the efforts of various individuals and organizations, including the User's Committee. The Gorkha earthquake of 2015 caused partial damage to the top roof tier of the Nyatapola temple.The Nyatapola temple was rebuilt within the years 1951-1955 after being partially affected by the 1934 earthquake. The great Bihar earthquake of 1934 partially affected the Nyatapola temple, causing the collapse of the top roof only. The Nyatapola temple has survived three major earthquakes in Nepal's history. It was partially affected by the great Bihar earthquake of 1934 and suffered partial damage on the top roof tier during the Gorkha earthquake of 2015. They are kept in staircase for guarding. The fifth are stone Byaghrini, two goddesses of supernatural power. The fourth are sarduls or griffins, ten times as strong as the lions.Lions are the guards which are ten times as strong as the elephants. Elephants are the guards which are ten times as strong as the men. The lowest are statues of Jayalla Malla and Patta. Two champions of Bhatgaon Raja, which of whom is said to have had the strength of ten men. The lowest are statues of Jayalla Malla and Patta. Two champions of Bhatgaon Raja, which of whom is said to have had the strength of ten men, The next are elephants, ten times as strong as the men, The third are lions, ten times as strong as the elephants, The fourth are sarduls or griffins, ten times as strong as the lions, And the fifth are stone Byaghrini, two goddesses of supernatural power. There are five carved stones in front of temple. In Nepali language it is commonly interpreted as Five Storey Temple. Four corners are adorned with five miniature shrines in each of the four corners. It has five layers of plinth decks. Five Storey Temple. The temple rests on a square base of five high plinths with five miniature shrines in each of the four corners. The daily Nitya puja is still performed by the authorized Tantric priests, who serve Taleju, the clan deity of the Mallas. Taleju, the clan deity of the Mallas. Nyatapola temple is also regarded as the Agamdyo of Taleju Bhawani of Bhaktapur Durbar square. There are no Jatras are conducted in the name of Nyatapola temple and only limited pujas are offered in the temple. The daily Nitya puja is still performed by the authorized Tantric priests, who serve Taleju, the clan deity of the Mallas. The temple rests on a square base of five high plinths with five miniature shrines in each of the four corners. The Nyatapola temple serves as one of the best amphitheaters during the Jatras to view with its five layers of plinth decks considered as exposed foundation. Nyatapola word consists of two words Nyata means five and Pola literally means roof in Nepal Bhasha is also commonly interpreted as Five Storey Temple.\", \"Nyatapola was built back in 1701 by King Bhupatindra Malla with a pretty specific purpose: to rein in the powerful deity Bhairavnath by invoking the tantric goddess Siddhilaxmi. The dedication to precision in its construction is remarkable, from the five Ganesha and tiers to the 108 struts and 360 battens used.Have you heard about the interesting reflection thing? You can actually see the temple's reflection in the Khancha pukhu pond nearby. Pond is around Golmadi area.  The temple stands at a height of 32.19 meters.Yes, Nyatapola Temple is indeed a part of the UNESCO World Heritage site enlisted as Bhaktapur Durbar Square where Nyatapola Temple stands.Nyatapola Temple is a major tourist attraction in Bhaktapur, drawing visitors from around the world due to its architectural beauty and cultural significance. Yes, the temple's architecture embodies principles of Hindu cosmology, with each tier symbolizing different elements and aspects of life. Visitors are generally expected to remove their shoes before entering the temple vicinity and should respect the sanctity of the site.The temple follows a pagoda-style architecture, characterized by its multi-tiered roof and intricate wooden carvings, showcasing exceptional Newari craftsmanship Various Hindu festivals are observed at the temple premises, including special ceremonies during Dashain and other significant religious occasions. No you are not permitted to take pictures inside but it is allowed in the outer areas of the temple. Yes, photography is usually allowed in the outer areas of the temple, but it's best to ask for permission before taking pictures of specific areas or people. Yes, there are usually guides available nearby who can provide detailed information about the temple's history and significance. Visitors are usually expected to remove their shoes before entering the temple premises and to respect the sanctity of the site. Each tier symbolizes a different element and also serves as a representation of the stages of life. Yes, various rituals and festivals are celebrated at Nyatapola Temple throughout the year, including special ceremonies during Dashain and other Hindu festivals. Typically, tourists are not allowed to enter the temple itself, but they can admire its beautiful architecture and explore the area around it. The temple's architecture represents the five basic elements: earth, water, fire, air, and ether, and is dedicated to the goddess Siddhi Lakshmi. The construction work of this temple was completed within eight month. Goddess Shiddhi Laxmi, the powerful tantric goddess, is inside Temple.  The unique features of temple is 5 Ganesha, 5 tiers, 5 plinths, 33 steps, 108 struts, and 360 battens used in the temple. The major propose was to control the aggressive, god Bhairavnath by establishing the tantric goddess Siddhilaxmi according to the inscription. The Nyatapola temple was constructed in 1701 AD by King Bhupatindra Malla. Placing the flag on top of the pinnacle during the establishment day celebration is a symbolic act carried out by the Awals of Tuchimala tole, signifying a tradition and celebration associated with the temple's history and establishment. The Nyatapola temple is a significant heritage site that hosts an annual puja to celebrate its establishment day. It has survived major earthquakes and is supported by the efforts of various individuals and organizations, including the User's Committee. The Gorkha earthquake of 2015 caused partial damage to the top roof tier of the Nyatapola temple.The Nyatapola temple was rebuilt within the years 1951-1955 after being partially affected by the 1934 earthquake. The great Bihar earthquake of 1934 partially affected the Nyatapola temple, causing the collapse of the top roof only. The Nyatapola temple has survived three major earthquakes in Nepal's history. It was partially affected by the great Bihar earthquake of 1934 and suffered partial damage on the top roof tier during the Gorkha earthquake of 2015. They are kept in staircase for guarding. The fifth are stone Byaghrini, two goddesses of supernatural power. The fourth are sarduls or griffins, ten times as strong as the lions.Lions are the guards which are ten times as strong as the elephants. Elephants are the guards which are ten times as strong as the men. The lowest are statues of Jayalla Malla and Patta. Two champions of Bhatgaon Raja, which of whom is said to have had the strength of ten men. The lowest are statues of Jayalla Malla and Patta. Two champions of Bhatgaon Raja, which of whom is said to have had the strength of ten men, The next are elephants, ten times as strong as the men, The third are lions, ten times as strong as the elephants, The fourth are sarduls or griffins, ten times as strong as the lions, And the fifth are stone Byaghrini, two goddesses of supernatural power. There are five carved stones in front of temple. In Nepali language it is commonly interpreted as Five Storey Temple. Four corners are adorned with five miniature shrines in each of the four corners. It has five layers of plinth decks. Five Storey Temple. The temple rests on a square base of five high plinths with five miniature shrines in each of the four corners. The daily Nitya puja is still performed by the authorized Tantric priests, who serve Taleju, the clan deity of the Mallas. Taleju, the clan deity of the Mallas. Nyatapola temple is also regarded as the Agamdyo of Taleju Bhawani of Bhaktapur Durbar square. There are no Jatras are conducted in the name of Nyatapola temple and only limited pujas are offered in the temple. The daily Nitya puja is still performed by the authorized Tantric priests, who serve Taleju, the clan deity of the Mallas. The temple rests on a square base of five high plinths with five miniature shrines in each of the four corners. The Nyatapola temple serves as one of the best amphitheaters during the Jatras to view with its five layers of plinth decks considered as exposed foundation. Nyatapola word consists of two words Nyata means five and Pola literally means roof in Nepal Bhasha is also commonly interpreted as Five Storey Temple.\", \"Nyatapola was built back in 1701 by King Bhupatindra Malla with a pretty specific purpose: to rein in the powerful deity Bhairavnath by invoking the tantric goddess Siddhilaxmi. The dedication to precision in its construction is remarkable, from the five Ganesha and tiers to the 108 struts and 360 battens used.Have you heard about the interesting reflection thing? You can actually see the temple's reflection in the Khancha pukhu pond nearby. Pond is around Golmadi area.  The temple stands at a height of 32.19 meters.Yes, Nyatapola Temple is indeed a part of the UNESCO World Heritage site enlisted as Bhaktapur Durbar Square where Nyatapola Temple stands.Nyatapola Temple is a major tourist attraction in Bhaktapur, drawing visitors from around the world due to its architectural beauty and cultural significance. Yes, the temple's architecture embodies principles of Hindu cosmology, with each tier symbolizing different elements and aspects of life. Visitors are generally expected to remove their shoes before entering the temple vicinity and should respect the sanctity of the site.The temple follows a pagoda-style architecture, characterized by its multi-tiered roof and intricate wooden carvings, showcasing exceptional Newari craftsmanship Various Hindu festivals are observed at the temple premises, including special ceremonies during Dashain and other significant religious occasions. No you are not permitted to take pictures inside but it is allowed in the outer areas of the temple. Yes, photography is usually allowed in the outer areas of the temple, but it's best to ask for permission before taking pictures of specific areas or people. Yes, there are usually guides available nearby who can provide detailed information about the temple's history and significance. Visitors are usually expected to remove their shoes before entering the temple premises and to respect the sanctity of the site. Each tier symbolizes a different element and also serves as a representation of the stages of life. Yes, various rituals and festivals are celebrated at Nyatapola Temple throughout the year, including special ceremonies during Dashain and other Hindu festivals. Typically, tourists are not allowed to enter the temple itself, but they can admire its beautiful architecture and explore the area around it. The temple's architecture represents the five basic elements: earth, water, fire, air, and ether, and is dedicated to the goddess Siddhi Lakshmi. The construction work of this temple was completed within eight month. Goddess Shiddhi Laxmi, the powerful tantric goddess, is inside Temple.  The unique features of temple is 5 Ganesha, 5 tiers, 5 plinths, 33 steps, 108 struts, and 360 battens used in the temple. The major propose was to control the aggressive, god Bhairavnath by establishing the tantric goddess Siddhilaxmi according to the inscription. The Nyatapola temple was constructed in 1701 AD by King Bhupatindra Malla. Placing the flag on top of the pinnacle during the establishment day celebration is a symbolic act carried out by the Awals of Tuchimala tole, signifying a tradition and celebration associated with the temple's history and establishment. The Nyatapola temple is a significant heritage site that hosts an annual puja to celebrate its establishment day. It has survived major earthquakes and is supported by the efforts of various individuals and organizations, including the User's Committee. The Gorkha earthquake of 2015 caused partial damage to the top roof tier of the Nyatapola temple.The Nyatapola temple was rebuilt within the years 1951-1955 after being partially affected by the 1934 earthquake. The great Bihar earthquake of 1934 partially affected the Nyatapola temple, causing the collapse of the top roof only. The Nyatapola temple has survived three major earthquakes in Nepal's history. It was partially affected by the great Bihar earthquake of 1934 and suffered partial damage on the top roof tier during the Gorkha earthquake of 2015. They are kept in staircase for guarding. The fifth are stone Byaghrini, two goddesses of supernatural power. The fourth are sarduls or griffins, ten times as strong as the lions.Lions are the guards which are ten times as strong as the elephants. Elephants are the guards which are ten times as strong as the men. The lowest are statues of Jayalla Malla and Patta. Two champions of Bhatgaon Raja, which of whom is said to have had the strength of ten men. The lowest are statues of Jayalla Malla and Patta. Two champions of Bhatgaon Raja, which of whom is said to have had the strength of ten men, The next are elephants, ten times as strong as the men, The third are lions, ten times as strong as the elephants, The fourth are sarduls or griffins, ten times as strong as the lions, And the fifth are stone Byaghrini, two goddesses of supernatural power. There are five carved stones in front of temple. In Nepali language it is commonly interpreted as Five Storey Temple. Four corners are adorned with five miniature shrines in each of the four corners. It has five layers of plinth decks. Five Storey Temple. The temple rests on a square base of five high plinths with five miniature shrines in each of the four corners. The daily Nitya puja is still performed by the authorized Tantric priests, who serve Taleju, the clan deity of the Mallas. Taleju, the clan deity of the Mallas. Nyatapola temple is also regarded as the Agamdyo of Taleju Bhawani of Bhaktapur Durbar square. There are no Jatras are conducted in the name of Nyatapola temple and only limited pujas are offered in the temple. The daily Nitya puja is still performed by the authorized Tantric priests, who serve Taleju, the clan deity of the Mallas. The temple rests on a square base of five high plinths with five miniature shrines in each of the four corners. The Nyatapola temple serves as one of the best amphitheaters during the Jatras to view with its five layers of plinth decks considered as exposed foundation. Nyatapola word consists of two words Nyata means five and Pola literally means roof in Nepal Bhasha is also commonly interpreted as Five Storey Temple.\"]\n"
          ]
        }
      ]
    },
    {
      "cell_type": "markdown",
      "source": [
        "### Tokenization\n",
        "As we know we have to tokenize our data in form that is acceptable for the BERT model. We are going to use the BertTokenizerFast instead of BertTokenizer as the first one is much faster. Since we are going to train our model in batches we need to set padding=True\n",
        "\n",
        "Models based on the transformers architecture have become a state-of-the-art solution in NLP. The word “transformer” is indeed what the letter “T” stands for in the names of the famous BERT, GPT3 and the massively popular nowadays ChatGPT. The common obstacle while applying these models is the constraint on the input length. For example, the BERT model cannot process texts which are longer than 512 tokens (roughly speaking, one token is associated with one word).\n",
        "\n",
        "The method to overcome this issue was proposed by Devlin (one of the authors of BERT) in the discussion. In this article, we will describe in detail how to modify the process of fine-tuning a pre-trained BERT model for the classification task. The code is available as open source here."
      ],
      "metadata": {
        "id": "d-9AAcKF1uBQ"
      }
    },
    {
      "cell_type": "code",
      "source": [
        "from transformers import BertTokenizerFast\n",
        "max_length = 1536\n",
        "\n",
        "tokenizer = BertTokenizerFast.from_pretrained('bert-base-uncased')\n",
        "tokenizer.model_max_length = max_length\n",
        "\n",
        "\n",
        "train_encodings = tokenizer(train_contexts, train_questions, truncation=True, padding=True)\n",
        "valid_encodings = tokenizer(valid_contexts, valid_questions, truncation=True, padding=True)"
      ],
      "metadata": {
        "id": "I-Z58sDl0tBr"
      },
      "execution_count": null,
      "outputs": []
    },
    {
      "cell_type": "code",
      "source": [
        "#tokens = tokenizer(train_contexts, add_special_tokens=False, truncation=False, return_tensors=\"pt\")"
      ],
      "metadata": {
        "id": "KUnV90K9GXr5"
      },
      "execution_count": null,
      "outputs": []
    },
    {
      "cell_type": "code",
      "source": [],
      "metadata": {
        "colab": {
          "base_uri": "https://localhost:8080/",
          "height": 140
        },
        "id": "cYENDHpJHYpx",
        "outputId": "ec507512-0c76-4b76-9085-4e8f99a985a8"
      },
      "execution_count": null,
      "outputs": [
        {
          "output_type": "error",
          "ename": "SyntaxError",
          "evalue": "ignored",
          "traceback": [
            "\u001b[0;36m  File \u001b[0;32m\"<ipython-input-23-b998dae0d192>\"\u001b[0;36m, line \u001b[0;32m1\u001b[0m\n\u001b[0;31m    try:\u001b[0m\n\u001b[0m        ^\u001b[0m\n\u001b[0;31mSyntaxError\u001b[0m\u001b[0;31m:\u001b[0m incomplete input\n"
          ]
        }
      ]
    },
    {
      "cell_type": "markdown",
      "source": [
        "Let's see what we got after tokenizing our data.\n",
        "\n"
      ],
      "metadata": {
        "id": "ScEMQmFQ2Dw6"
      }
    },
    {
      "cell_type": "code",
      "source": [
        "#train_encodings[\"input_ids\"]"
      ],
      "metadata": {
        "id": "NguS84F0mN6L"
      },
      "execution_count": null,
      "outputs": []
    },
    {
      "cell_type": "code",
      "source": [
        "train_encodings.keys()"
      ],
      "metadata": {
        "colab": {
          "base_uri": "https://localhost:8080/"
        },
        "id": "iOU3TQ652Bh6",
        "outputId": "2e6883c7-d8e4-4ca7-bc1f-20af029404f2"
      },
      "execution_count": null,
      "outputs": [
        {
          "output_type": "execute_result",
          "data": {
            "text/plain": [
              "dict_keys(['input_ids', 'token_type_ids', 'attention_mask'])"
            ]
          },
          "metadata": {},
          "execution_count": 38
        }
      ]
    },
    {
      "cell_type": "code",
      "source": [
        "no_of_encodings = len(train_encodings['input_ids'])\n",
        "print(f'We have {no_of_encodings} context-question pairs')"
      ],
      "metadata": {
        "colab": {
          "base_uri": "https://localhost:8080/"
        },
        "id": "8wwaemWa2IyS",
        "outputId": "c4806379-c849-4a0f-d2fe-2af1cf7887cf"
      },
      "execution_count": null,
      "outputs": [
        {
          "output_type": "stream",
          "name": "stdout",
          "text": [
            "We have 303 context-question pairs\n"
          ]
        }
      ]
    },
    {
      "cell_type": "code",
      "source": [
        "train_encodings['input_ids'][0]\n"
      ],
      "metadata": {
        "colab": {
          "base_uri": "https://localhost:8080/"
        },
        "id": "Z2X4a-QG2Lcx",
        "outputId": "9c26333f-9bba-4a24-f5a6-4afecde349e1"
      },
      "execution_count": null,
      "outputs": [
        {
          "output_type": "execute_result",
          "data": {
            "text/plain": [
              "[101,\n",
              " 1038,\n",
              " 26227,\n",
              " 12462,\n",
              " 16207,\n",
              " 3379,\n",
              " 2003,\n",
              " 2028,\n",
              " 1997,\n",
              " 1996,\n",
              " 8436,\n",
              " 2008,\n",
              " 3658,\n",
              " 2012,\n",
              " 1996,\n",
              " 2430,\n",
              " 1997,\n",
              " 1038,\n",
              " 20459,\n",
              " 2696,\n",
              " 5311,\n",
              " 1010,\n",
              " 19982,\n",
              " 25666,\n",
              " 4048,\n",
              " 2072,\n",
              " 2675,\n",
              " 1998,\n",
              " 1038,\n",
              " 26227,\n",
              " 12462,\n",
              " 16207,\n",
              " 3379,\n",
              " 2003,\n",
              " 2328,\n",
              " 1999,\n",
              " 1996,\n",
              " 27387,\n",
              " 2806,\n",
              " 1998,\n",
              " 2009,\n",
              " 2003,\n",
              " 2093,\n",
              " 1011,\n",
              " 11676,\n",
              " 1012,\n",
              " 2009,\n",
              " 2003,\n",
              " 2028,\n",
              " 1997,\n",
              " 1996,\n",
              " 3379,\n",
              " 7422,\n",
              " 2000,\n",
              " 2935,\n",
              " 1038,\n",
              " 26227,\n",
              " 12462,\n",
              " 2003,\n",
              " 2028,\n",
              " 1997,\n",
              " 1996,\n",
              " 10806,\n",
              " 2241,\n",
              " 8436,\n",
              " 1997,\n",
              " 1038,\n",
              " 20459,\n",
              " 2696,\n",
              " 5311,\n",
              " 1012,\n",
              " 16484,\n",
              " 1010,\n",
              " 2045,\n",
              " 2003,\n",
              " 2053,\n",
              " 4211,\n",
              " 2006,\n",
              " 1996,\n",
              " 3379,\n",
              " 1005,\n",
              " 1055,\n",
              " 12401,\n",
              " 2225,\n",
              " 8508,\n",
              " 2008,\n",
              " 5344,\n",
              " 1996,\n",
              " 2675,\n",
              " 1012,\n",
              " 2612,\n",
              " 1010,\n",
              " 8656,\n",
              " 3229,\n",
              " 1996,\n",
              " 4592,\n",
              " 2013,\n",
              " 1996,\n",
              " 2148,\n",
              " 1012,\n",
              " 1996,\n",
              " 2225,\n",
              " 8508,\n",
              " 2003,\n",
              " 4321,\n",
              " 23476,\n",
              " 1998,\n",
              " 2838,\n",
              " 1037,\n",
              " 2598,\n",
              " 1011,\n",
              " 2504,\n",
              " 9571,\n",
              " 2007,\n",
              " 1038,\n",
              " 26227,\n",
              " 11431,\n",
              " 8212,\n",
              " 1999,\n",
              " 12973,\n",
              " 2006,\n",
              " 1037,\n",
              " 2235,\n",
              " 3384,\n",
              " 6106,\n",
              " 1012,\n",
              " 2745,\n",
              " 12570,\n",
              " 2102,\n",
              " 3964,\n",
              " 2008,\n",
              " 2023,\n",
              " 2235,\n",
              " 6231,\n",
              " 2003,\n",
              " 4703,\n",
              " 7376,\n",
              " 1998,\n",
              " 2999,\n",
              " 1012,\n",
              " 2000,\n",
              " 2593,\n",
              " 2217,\n",
              " 1997,\n",
              " 1996,\n",
              " 12764,\n",
              " 2024,\n",
              " 25756,\n",
              " 6967,\n",
              " 7766,\n",
              " 10775,\n",
              " 1038,\n",
              " 26227,\n",
              " 11431,\n",
              " 1005,\n",
              " 1055,\n",
              " 2159,\n",
              " 1010,\n",
              " 2048,\n",
              " 7689,\n",
              " 1997,\n",
              " 2398,\n",
              " 1010,\n",
              " 1998,\n",
              " 2048,\n",
              " 6077,\n",
              " 1998,\n",
              " 2010,\n",
              " 11633,\n",
              " 11946,\n",
              " 1012,\n",
              " 2012,\n",
              " 2556,\n",
              " 1010,\n",
              " 3383,\n",
              " 2000,\n",
              " 28085,\n",
              " 11933,\n",
              " 1010,\n",
              " 1996,\n",
              " 2598,\n",
              " 1011,\n",
              " 2504,\n",
              " 9571,\n",
              " 2003,\n",
              " 8534,\n",
              " 2013,\n",
              " 10017,\n",
              " 3229,\n",
              " 2011,\n",
              " 1037,\n",
              " 19368,\n",
              " 4799,\n",
              " 19820,\n",
              " 5555,\n",
              " 3207,\n",
              " 1012,\n",
              " 1996,\n",
              " 3379,\n",
              " 2003,\n",
              " 4056,\n",
              " 2000,\n",
              " 2935,\n",
              " 1038,\n",
              " 26227,\n",
              " 11431,\n",
              " 1010,\n",
              " 2029,\n",
              " 2003,\n",
              " 4011,\n",
              " 2000,\n",
              " 2022,\n",
              " 1996,\n",
              " 2087,\n",
              " 27863,\n",
              " 2433,\n",
              " 1997,\n",
              " 2935,\n",
              " 12535,\n",
              " 1012,\n",
              " 1996,\n",
              " 1038,\n",
              " 26227,\n",
              " 12462,\n",
              " 16207,\n",
              " 2511,\n",
              " 1999,\n",
              " 2023,\n",
              " 3379,\n",
              " 2003,\n",
              " 1037,\n",
              " 18085,\n",
              " 15715,\n",
              " 1997,\n",
              " 2935,\n",
              " 12535,\n",
              " 1010,\n",
              " 2040,\n",
              " 2036,\n",
              " 19233,\n",
              " 2000,\n",
              " 2171,\n",
              " 10556,\n",
              " 5332,\n",
              " 25292,\n",
              " 18663,\n",
              " 16207,\n",
              " 1998,\n",
              " 9779,\n",
              " 13716,\n",
              " 2232,\n",
              " 1038,\n",
              " 26227,\n",
              " 12462,\n",
              " 1012,\n",
              " 2002,\n",
              " 2003,\n",
              " 5064,\n",
              " 3297,\n",
              " 2005,\n",
              " 2010,\n",
              " 27885,\n",
              " 3367,\n",
              " 2890,\n",
              " 4842,\n",
              " 3560,\n",
              " 1998,\n",
              " 14205,\n",
              " 2839,\n",
              " 1012,\n",
              " 1038,\n",
              " 26227,\n",
              " 11431,\n",
              " 2038,\n",
              " 1037,\n",
              " 3327,\n",
              " 18987,\n",
              " 2007,\n",
              " 6681,\n",
              " 1998,\n",
              " 2003,\n",
              " 2411,\n",
              " 2245,\n",
              " 2000,\n",
              " 21490,\n",
              " 7787,\n",
              " 1010,\n",
              " 2007,\n",
              " 2367,\n",
              " 4617,\n",
              " 1997,\n",
              " 1996,\n",
              " 2643,\n",
              " 21490,\n",
              " 2075,\n",
              " 2367,\n",
              " 7787,\n",
              " 2006,\n",
              " 1996,\n",
              " 2168,\n",
              " 23507,\n",
              " 1012,\n",
              " 2012,\n",
              " 1996,\n",
              " 1038,\n",
              " 26227,\n",
              " 12462,\n",
              " 16207,\n",
              " 3379,\n",
              " 1010,\n",
              " 1037,\n",
              " 23507,\n",
              " 2109,\n",
              " 1999,\n",
              " 1996,\n",
              " 3296,\n",
              " 20377,\n",
              " 3489,\n",
              " 2102,\n",
              " 1011,\n",
              " 14855,\n",
              " 6494,\n",
              " 2782,\n",
              " 2003,\n",
              " 8250,\n",
              " 1010,\n",
              " 17293,\n",
              " 1010,\n",
              " 2114,\n",
              " 1996,\n",
              " 3379,\n",
              " 1005,\n",
              " 1055,\n",
              " 2167,\n",
              " 2813,\n",
              " 1012,\n",
              " 1038,\n",
              " 26227,\n",
              " 12462,\n",
              " 16207,\n",
              " 1005,\n",
              " 1055,\n",
              " 2523,\n",
              " 2007,\n",
              " 1996,\n",
              " 23507,\n",
              " 2109,\n",
              " 1999,\n",
              " 1996,\n",
              " 2782,\n",
              " 11637,\n",
              " 2010,\n",
              " 4434,\n",
              " 2000,\n",
              " 1996,\n",
              " 3296,\n",
              " 20377,\n",
              " 3489,\n",
              " 2102,\n",
              " 1011,\n",
              " 14855,\n",
              " 6494,\n",
              " 2782,\n",
              " 1012,\n",
              " 1996,\n",
              " 6231,\n",
              " 1997,\n",
              " 2935,\n",
              " 1038,\n",
              " 26227,\n",
              " 11431,\n",
              " 2003,\n",
              " 2055,\n",
              " 2260,\n",
              " 2519,\n",
              " 2146,\n",
              " 1998,\n",
              " 2003,\n",
              " 2028,\n",
              " 1997,\n",
              " 1996,\n",
              " 2922,\n",
              " 11342,\n",
              " 1999,\n",
              " 28045,\n",
              " 3028,\n",
              " 1012,\n",
              " 5190,\n",
              " 1997,\n",
              " 2111,\n",
              " 3942,\n",
              " 1038,\n",
              " 26227,\n",
              " 12462,\n",
              " 16207,\n",
              " 3379,\n",
              " 2076,\n",
              " 1038,\n",
              " 26227,\n",
              " 11431,\n",
              " 6683,\n",
              " 15464,\n",
              " 2072,\n",
              " 2030,\n",
              " 1038,\n",
              " 26227,\n",
              " 11431,\n",
              " 24120,\n",
              " 3372,\n",
              " 4048,\n",
              " 2004,\n",
              " 2009,\n",
              " 2003,\n",
              " 6334,\n",
              " 3412,\n",
              " 2135,\n",
              " 1012,\n",
              " 2130,\n",
              " 2295,\n",
              " 1996,\n",
              " 3379,\n",
              " 2001,\n",
              " 3621,\n",
              " 5591,\n",
              " 2076,\n",
              " 1996,\n",
              " 8372,\n",
              " 1999,\n",
              " 2281,\n",
              " 2325,\n",
              " 1010,\n",
              " 2009,\n",
              " 2145,\n",
              " 2038,\n",
              " 2128,\n",
              " 23654,\n",
              " 2098,\n",
              " 2087,\n",
              " 1997,\n",
              " 3252,\n",
              " 1012,\n",
              " 1996,\n",
              " 17738,\n",
              " 20203,\n",
              " 3726,\n",
              " 2381,\n",
              " 1997,\n",
              " 1038,\n",
              " 26227,\n",
              " 12462,\n",
              " 16207,\n",
              " 3379,\n",
              " 2758,\n",
              " 2008,\n",
              " 1996,\n",
              " 3379,\n",
              " 2001,\n",
              " 2034,\n",
              " 11070,\n",
              " 2011,\n",
              " 2332,\n",
              " 18887,\n",
              " 2050,\n",
              " 16475,\n",
              " 2050,\n",
              " 1999,\n",
              " 1996,\n",
              " 6122,\n",
              " 2301,\n",
              " 1012,\n",
              " 2174,\n",
              " 1010,\n",
              " 2008,\n",
              " 2181,\n",
              " 1010,\n",
              " 2077,\n",
              " 1996,\n",
              " 5069,\n",
              " 1997,\n",
              " 1996,\n",
              " 3379,\n",
              " 2001,\n",
              " 2525,\n",
              " 2759,\n",
              " 2005,\n",
              " 1996,\n",
              " 21146,\n",
              " 22486,\n",
              " 17992,\n",
              " 1012,\n",
              " 2009,\n",
              " 2001,\n",
              " 2092,\n",
              " 2124,\n",
              " 2004,\n",
              " 21348,\n",
              " 4183,\n",
              " 25687,\n",
              " 9953,\n",
              " 12155,\n",
              " 2099,\n",
              " 1012,\n",
              " 4953,\n",
              " 2029,\n",
              " 2045,\n",
              " 2024,\n",
              " 12920,\n",
              " 2179,\n",
              " 1999,\n",
              " 1996,\n",
              " 3379,\n",
              " 1012,\n",
              " 2021,\n",
              " 1010,\n",
              " 2009,\n",
              " 2001,\n",
              " 5791,\n",
              " 2025,\n",
              " 6420,\n",
              " 1011,\n",
              " 26080,\n",
              " 1010,\n",
              " 2059,\n",
              " 1012,\n",
              " 2076,\n",
              " 1996,\n",
              " 5853,\n",
              " 1997,\n",
              " 2332,\n",
              " 25292,\n",
              " 18663,\n",
              " 6670,\n",
              " 2050,\n",
              " 1010,\n",
              " 1996,\n",
              " 3379,\n",
              " 2001,\n",
              " 28266,\n",
              " 5854,\n",
              " 1999,\n",
              " 1037,\n",
              " 2028,\n",
              " 1011,\n",
              " 11676,\n",
              " 2098,\n",
              " 3379,\n",
              " 1012,\n",
              " 2044,\n",
              " 1010,\n",
              " 2332,\n",
              " 14855,\n",
              " 20697,\n",
              " 3501,\n",
              " 7677,\n",
              " 3775,\n",
              " 6670,\n",
              " 2050,\n",
              " 7429,\n",
              " 2009,\n",
              " 2007,\n",
              " 3585,\n",
              " 15753,\n",
              " 1012,\n",
              " 10655,\n",
              " 1010,\n",
              " 1999,\n",
              " 1050,\n",
              " 1012,\n",
              " 1055,\n",
              " 1012,\n",
              " 6275,\n",
              " 2620,\n",
              " 1010,\n",
              " 2332,\n",
              " 14855,\n",
              " 20697,\n",
              " 22233,\n",
              " 6670,\n",
              " 2050,\n",
              " 2511,\n",
              " 2010,\n",
              " 2219,\n",
              " 3746,\n",
              " 2247,\n",
              " 2007,\n",
              " 2010,\n",
              " 2704,\n",
              " 16469,\n",
              " 4095,\n",
              " 5937,\n",
              " 8167,\n",
              " 1999,\n",
              " 1996,\n",
              " 3379,\n",
              " 2096,\n",
              " 2383,\n",
              " 1037,\n",
              " 2882,\n",
              " 7425,\n",
              " 4691,\n",
              " 1012,\n",
              " 2101,\n",
              " 2006,\n",
              " 1010,\n",
              " 2332,\n",
              " 1038,\n",
              " 6979,\n",
              " 24952,\n",
              " 17670,\n",
              " 6670,\n",
              " 2050,\n",
              " 6310,\n",
              " 2009,\n",
              " 2046,\n",
              " 1037,\n",
              " 6420,\n",
              " 26080,\n",
              " 3379,\n",
              " 2012,\n",
              " 2105,\n",
              " 1050,\n",
              " 1012,\n",
              " 1055,\n",
              " 1012,\n",
              " 6640,\n",
              " 2581,\n",
              " 1011,\n",
              " 4229,\n",
              " 1006,\n",
              " 26995,\n",
              " 4748,\n",
              " 1007,\n",
              " 1998,\n",
              " 2794,\n",
              " 1996,\n",
              " 2698,\n",
              " 3585,\n",
              " 26007,\n",
              " 2015,\n",
              " 1999,\n",
              " 2009,\n",
              " 1012,\n",
              " 1996,\n",
              " 8735,\n",
              " 2165,\n",
              " 2051,\n",
              " 2044,\n",
              " 1996,\n",
              " 3330,\n",
              " 1997,\n",
              " 1996,\n",
              " 6396,\n",
              " 6790,\n",
              " 18155,\n",
              " 2050,\n",
              " 3379,\n",
              " 1012,\n",
              " 2011,\n",
              " 4788,\n",
              " 6735,\n",
              " 1010,\n",
              " 1996,\n",
              " 16475,\n",
              " 14083,\n",
              " 2075,\n",
              " 8372,\n",
              " 1997,\n",
              " 4579,\n",
              " 4215,\n",
              " 7798,\n",
              " 2009,\n",
              " 1012,\n",
              " 1998,\n",
              " 21931,\n",
              " 3973,\n",
              " 2128,\n",
              " 27241,\n",
              " 23931,\n",
              " 1999,\n",
              " 1996,\n",
              " 2168,\n",
              " 3252,\n",
              " 1012,\n",
              " 1996,\n",
              " 10083,\n",
              " 3560,\n",
              " 8372,\n",
              " 1997,\n",
              " 2258,\n",
              " 2325,\n",
              " 2153,\n",
              " 1010,\n",
              " 2081,\n",
              " 2023,\n",
              " 3379,\n",
              " 10601,\n",
              " 1012,\n",
              " 2009,\n",
              " 2036,\n",
              " 3908,\n",
              " 1996,\n",
              " 4714,\n",
              " 2126,\n",
              " 1010,\n",
              " 4458,\n",
              " 2083,\n",
              " 1996,\n",
              " 8247,\n",
              " 2140,\n",
              " 3379,\n",
              " 1012,\n",
              " 2008,\n",
              " 4821,\n",
              " 5260,\n",
              " 2646,\n",
              " 1996,\n",
              " 4592,\n",
              " 2112,\n",
              " 1997,\n",
              " 1996,\n",
              " 1038,\n",
              " 26227,\n",
              " 12462,\n",
              " 16207,\n",
              " 3379,\n",
              " 1012,\n",
              " 2045,\n",
              " 2024,\n",
              " 9489,\n",
              " 2055,\n",
              " 1996,\n",
              " 3379,\n",
              " 1012,\n",
              " 1996,\n",
              " 5110,\n",
              " 2112,\n",
              " 1997,\n",
              " 1996,\n",
              " 3379,\n",
              " 3774,\n",
              " 1997,\n",
              " 1996,\n",
              " 2132,\n",
              " 1997,\n",
              " 2935,\n",
              " 1038,\n",
              " 26227,\n",
              " 11431,\n",
              " 1012,\n",
              " 2045,\n",
              " 2024,\n",
              " 2116,\n",
              " 3441,\n",
              " 2004,\n",
              " 2000,\n",
              " 2339,\n",
              " 1998,\n",
              " 2129,\n",
              " 2935,\n",
              " 1038,\n",
              " 26227,\n",
              " 11431,\n",
              " 1521,\n",
              " 1055,\n",
              " 2132,\n",
              " 2001,\n",
              " 3013,\n",
              " 2125,\n",
              " 1998,\n",
              " 22876,\n",
              " 2182,\n",
              " 1012,\n",
              " 2429,\n",
              " 2000,\n",
              " 5722,\n",
              " 1010,\n",
              " 2146,\n",
              " 3283,\n",
              " 1010,\n",
              " 10556,\n",
              " 5332,\n",
              " 1038,\n",
              " 26227,\n",
              " 7875,\n",
              " 16207,\n",
              " 6158,\n",
              " 2000,\n",
              " 8222,\n",
              " 2000,\n",
              " 3193,\n",
              " 2593,\n",
              " 1996,\n",
              " 20377,\n",
              " 3489,\n",
              " 2102,\n",
              " 14855,\n",
              " 6494,\n",
              " 2030,\n",
              " 1996,\n",
              " 28352,\n",
              " 10556,\n",
              " 12248,\n",
              " 3089,\n",
              " 14855,\n",
              " 6494,\n",
              " 1012,\n",
              " 1037,\n",
              " 9092,\n",
              " 12412,\n",
              " 27677,\n",
              " 1999,\n",
              " 1996,\n",
              " 4306,\n",
              " 3858,\n",
              " 2032,\n",
              " 2005,\n",
              " 2054,\n",
              " 2002,\n",
              " 2001,\n",
              " 1998,\n",
              " 4692,\n",
              " 2000,\n",
              " 10047,\n",
              " 5302,\n",
              " 14454,\n",
              " 4697,\n",
              " 2032,\n",
              " 1010,\n",
              " 2021,\n",
              " 25292,\n",
              " 2232,\n",
              " 27313,\n",
              " 2705,\n",
              " 4912,\n",
              " 2000,\n",
              " 4019,\n",
              " 2011,\n",
              " 10186,\n",
              " 2046,\n",
              " 1996,\n",
              " 2598,\n",
              " 1012,\n",
              " 2004,\n",
              " 2010,\n",
              " 2303,\n",
              " 9287,\n",
              " 2046,\n",
              " 1996,\n",
              " 3011,\n",
              " 1010,\n",
              " 1996,\n",
              " 27677,\n",
              " 3651,\n",
              " 1996,\n",
              " 2643,\n",
              " 2001,\n",
              " 2014,\n",
              " 2219,\n",
              " 3129,\n",
              " 1012,\n",
              " 2000,\n",
              " 4652,\n",
              " 2010,\n",
              " 4019,\n",
              " 1010,\n",
              " 2016,\n",
              " 3641,\n",
              " 2010,\n",
              " 2132,\n",
              " 3013,\n",
              " 2125,\n",
              " 2073,\n",
              " 2009,\n",
              " 4013,\n",
              " 16344,\n",
              " 13936,\n",
              " 2013,\n",
              " 1996,\n",
              " 2598,\n",
              " 1012,\n",
              " 2108,\n",
              " 1037,\n",
              " 2643,\n",
              " 1010,\n",
              " 2023,\n",
              " 2001,\n",
              " 2521,\n",
              " 2013,\n",
              " 1037,\n",
              " 10611,\n",
              " 6357,\n",
              " 1010,\n",
              " 1998,\n",
              " 1996,\n",
              " 27677,\n",
              " 4372,\n",
              " 4095,\n",
              " 11467,\n",
              " 2094,\n",
              " 1996,\n",
              " 2132,\n",
              " 1999,\n",
              " 1996,\n",
              " 3379,\n",
              " 2008,\n",
              " 2085,\n",
              " 4832,\n",
              " 2182,\n",
              " 1012,\n",
              " 1996,\n",
              " 2303,\n",
              " 1010,\n",
              " 5564,\n",
              " 1010,\n",
              " 2513,\n",
              " 2000,\n",
              " 3841,\n",
              " 17933,\n",
              " 2043,\n",
              " 3401,\n",
              " 2009,\n",
              " 2234,\n",
              " 1012,\n",
              " 23268,\n",
              " 2386,\n",
              " 3964,\n",
              " 2008,\n",
              " 1037,\n",
              " 2132,\n",
              " 3238,\n",
              " 3746,\n",
              " 1997,\n",
              " 1038,\n",
              " 26227,\n",
              " 11431,\n",
              " 2003,\n",
              " 2145,\n",
              " 22876,\n",
              " 2045,\n",
              " 2130,\n",
              " 2651,\n",
              " 1012,\n",
              " 2178,\n",
              " 2466,\n",
              " 2055,\n",
              " 2023,\n",
              " 3379,\n",
              " 2003,\n",
              " 2036,\n",
              " 5875,\n",
              " 1010,\n",
              " 2979,\n",
              " 8700,\n",
              " 2135,\n",
              " 2011,\n",
              " 2256,\n",
              " 10748,\n",
              " 1012,\n",
              " 2429,\n",
              " 2000,\n",
              " 2023,\n",
              " 1010,\n",
              " 1996,\n",
              " 2935,\n",
              " 1038,\n",
              " 26227,\n",
              " 12462,\n",
              " 1997,\n",
              " 13075,\n",
              " 5162,\n",
              " 5332,\n",
              " 2320,\n",
              " 4716,\n",
              " 1038,\n",
              " 20459,\n",
              " 2696,\n",
              " 5311,\n",
              " 2000,\n",
              " 2156,\n",
              " 20377,\n",
              " 3489,\n",
              " 2102,\n",
              " 14855,\n",
              " 6494,\n",
              " 1012,\n",
              " 20377,\n",
              " 3489,\n",
              " 2102,\n",
              " 14855,\n",
              " 6494,\n",
              " 2003,\n",
              " 2028,\n",
              " 1997,\n",
              " 1996,\n",
              " 5221,\n",
              " 14855,\n",
              " 6494,\n",
              " 2015,\n",
              " 1997,\n",
              " 1996,\n",
              " ...]"
            ]
          },
          "metadata": {},
          "execution_count": 40
        }
      ]
    },
    {
      "cell_type": "markdown",
      "source": [
        "Let's decode the first pair of context-question encoded pair and look into it.\n",
        "\n"
      ],
      "metadata": {
        "id": "RRL_nWlA2a17"
      }
    },
    {
      "cell_type": "code",
      "source": [
        "tokenizer.decode(train_encodings['input_ids'][0])\n"
      ],
      "metadata": {
        "colab": {
          "base_uri": "https://localhost:8080/",
          "height": 1000
        },
        "id": "VkYIApzt2OIK",
        "outputId": "90021ac4-8ede-449f-8115-60c6812b211e"
      },
      "execution_count": null,
      "outputs": [
        {
          "output_type": "execute_result",
          "data": {
            "text/plain": [
              "\"[CLS] bhairavanath temple is one of the temples that lies at the central of bhaktapur, taumadhii square and bhairavanath temple is built in the pagoda style and it is three - storey. it is one of the temple devoted to lord bhairava is one of the rectangular based temples of bhaktapur. curiously, there is no entrance on the temple's lengthy west facade that faces the square. instead, priests access the interior from the south. the west facade is largely symmetrical and features a ground - level shrine with bhairav depicted in miniature on a small metal throne. michael hutt notes that this small statue is frequently stolen and replaced. to either side of the deity are hammered copper plates depicting bhairav's eyes, two pairs of hands, and two dogs and his faithful companions. at present, perhaps to discourage theft, the ground - level shrine is blocked from casual access by a makeshift wooden barricade. the temple is dedicated to lord bhairav, which is supposed to be the most ferocious form of lord shiva. the bhairavanath established in this temple is a formidable incarnation of lord shiva, who also prefers to name kasi vishwanath and aakash bhairava. he is somehow famous for his obstreperous and stubborn character. bhairav has a particular fascination with machines and is often thought to inhabit wheels, with different versions of the god inhabiting different wheels on the same chariot. at the bhairavanath temple, a chariot used in the annual bisket - jatra festival is stored, dismantled, against the temple's north wall. bhairavanath's association with the chariot used in the festival highlights his connection to the annual bisket - jatra festival. the statue of lord bhairav is about 12 feet long and is one of the largest statues in kathmandu valley. thousands of people visit bhairavanath temple during bhairav ashtami or bhairav jayanthi as it is celebrated religiously. even though the temple was slightly damaged during the earthquake in november 2015, it still has retrained most of structure. the renovative history of bhairavanath temple says that the temple was first inaugurated by king ananda deva in the 13th century. however, that area, before the establishment of the temple was already popular for the shaivism pilgrims. it was well known as lalitmaheshwor. regarding which there are inscriptions found in the temple. but, it was definitely not triple - roofed, then. during the reign of king vishwa malla, the temple was gracefully restored in a one - storeyed temple. after, king jagatjyoti malla decorated it with golden roofs. likewise, in n. s. 788, king jagat prakash malla established his own image along with his minister chandrashekhar in the temple while having a grand worshipping. later on, king bhupatindra malla modified it into a triple roofed temple at around n. s. 837 - 38 ( 1718 ad ) and added the seven golden pinnacles in it. the reconstruction took time after the engineering of the nyatapola temple. by worse luck, the devasting earthquake of 1934ad collapsed it. and optimistically reassembled in the same structure. the ruinous earthquake of april 2015 again, made this temple renovated. it also destroyed the tiny way, passing through the betal temple. that ultimately leads toward the interior part of the bhairavanath temple. there are legends about the temple. the inner part of the temple consists of the head of lord bhairav. there are many stories as to why and how lord bhairav ’ s head was cut off and worshipped here. according to legend, long ago, kasi bhairabnath traveled to nepal to view either the bisket jatra or the bal kaumari jatra. a tantric priestess in the crowd recognized him for what he was and attempted to immobilize him, but vishvanath sought to escape by sinking into the ground. as his body descended into the earth, the priestess realized the god was her own husband. to prevent his escape, she ordered his head cut off where it protruded from the ground. being a god, this was far from a fatal wound, and the priestess enshrined the head in the temple that now stands here. the body, meanwhile, returned to benares whence it came. dowman notes that a headless image of bhairav is still worshipped there even today. another story about this temple is also interesting, passed orally by our ancestors. according to this, the lord bhairava of varanasi once visited bhaktapur to see bisket jatra. bisket jatra is one of the biggest jatras of the newar people. during the festival, the lord bhairava somehow was recognized by a priest and he just cast a decoy spell on him. as a quick reaction, he started to sink into the terra firma to go back to varanasi. but the priest didnot let him go. as if, he grabs the head of bhairava in his hand and decollates him with his sword. that is why people say that the head doesnot match the body of kasi vishwanath. it is also believed that the head is still treasured in a box of this temple. [SEP] what is the location of bhairavanath temple within bhaktapur? [SEP] [PAD] [PAD] [PAD] [PAD] [PAD] [PAD] [PAD] [PAD] [PAD] [PAD] [PAD] [PAD] [PAD] [PAD] [PAD] [PAD] [PAD] [PAD] [PAD] [PAD] [PAD] [PAD] [PAD] [PAD] [PAD] [PAD] [PAD] [PAD] [PAD] [PAD] [PAD] [PAD] [PAD] [PAD] [PAD] [PAD] [PAD] [PAD] [PAD] [PAD] [PAD] [PAD] [PAD] [PAD] [PAD] [PAD] [PAD] [PAD] [PAD] [PAD] [PAD] [PAD] [PAD] [PAD] [PAD] [PAD] [PAD] [PAD] [PAD] [PAD] [PAD] [PAD] [PAD] [PAD] [PAD] [PAD] [PAD] [PAD] [PAD] [PAD] [PAD] [PAD] [PAD] [PAD] [PAD] [PAD] [PAD] [PAD] [PAD] [PAD] [PAD] [PAD] [PAD] [PAD] [PAD] [PAD] [PAD] [PAD] [PAD] [PAD] [PAD] [PAD] [PAD] [PAD] [PAD] [PAD] [PAD] [PAD] [PAD] [PAD] [PAD] [PAD] [PAD] [PAD] [PAD] [PAD] [PAD] [PAD] [PAD] [PAD] [PAD] [PAD] [PAD] [PAD] [PAD] [PAD] [PAD] [PAD] [PAD] [PAD] [PAD] [PAD] [PAD] [PAD] [PAD] [PAD] [PAD] [PAD] [PAD] [PAD] [PAD] [PAD] [PAD] [PAD] [PAD] [PAD] [PAD] [PAD] [PAD] [PAD] [PAD] [PAD] [PAD] [PAD] [PAD] [PAD] [PAD] [PAD] [PAD] [PAD] [PAD] [PAD] [PAD] [PAD] [PAD] [PAD] [PAD] [PAD] [PAD] [PAD] [PAD] [PAD] [PAD] [PAD] [PAD] [PAD] [PAD] [PAD] [PAD] [PAD] [PAD] [PAD] [PAD] [PAD] [PAD] [PAD] [PAD] [PAD] [PAD] [PAD] [PAD] [PAD] [PAD] [PAD] [PAD] [PAD] [PAD] [PAD] [PAD] [PAD] [PAD] [PAD] [PAD] [PAD] [PAD] [PAD] [PAD] [PAD] [PAD] [PAD] [PAD] [PAD] [PAD] [PAD] [PAD] [PAD] [PAD] [PAD] [PAD] [PAD]\""
            ],
            "application/vnd.google.colaboratory.intrinsic+json": {
              "type": "string"
            }
          },
          "metadata": {},
          "execution_count": 41
        }
      ]
    },
    {
      "cell_type": "markdown",
      "source": [
        "Next we need to convert our character start/end positions to token start/end positions. Why is that? Because our words converted into tokens, so the answer start/end needs to show the index of start/end token which contains the answer and not the specific characters in the context.\n",
        "\n"
      ],
      "metadata": {
        "id": "ZlAlO2vv2pBa"
      }
    },
    {
      "cell_type": "code",
      "source": [
        "# List to store indices where 'answer_end' is missing\n",
        "missing_indices = []\n",
        "\n",
        "# Loop through train_answers to find dictionaries without 'answer_end'\n",
        "for idx, answer in enumerate(valid_answers):\n",
        "    if 'answer_end' not in answer:\n",
        "        missing_indices.append(idx)\n",
        "\n",
        "# Display indices where 'answer_end' is missing\n",
        "if len(missing_indices) > 0:\n",
        "    print(\"Indices where 'answer_end' is missing:\")\n",
        "    print(missing_indices)\n",
        "else:\n",
        "    print(\"All dictionaries have 'answer_end' key.\")"
      ],
      "metadata": {
        "colab": {
          "base_uri": "https://localhost:8080/"
        },
        "id": "v0YpVT0I4ugi",
        "outputId": "629cd692-c1be-429f-d621-63f787212576"
      },
      "execution_count": null,
      "outputs": [
        {
          "output_type": "stream",
          "name": "stdout",
          "text": [
            "All dictionaries have 'answer_end' key.\n"
          ]
        }
      ]
    },
    {
      "cell_type": "code",
      "source": [
        "# import json\n",
        "# import os\n",
        "\n",
        "# # Define the directory path where you want to save the file\n",
        "# directory_path = '/content/drive/MyDrive/chatbot/testingfiles/'\n",
        "\n",
        "# # Ensure the directory exists or create it if it doesn't\n",
        "# if not os.path.exists(directory_path):\n",
        "#     os.makedirs(directory_path)\n",
        "\n",
        "# # Specify the file path within the directory\n",
        "# file_path = os.path.join(directory_path, 'valid_answers.json')\n",
        "\n",
        "# # Save train_answers to the specified file path as a JSON file\n",
        "# with open(file_path, 'w') as file:\n",
        "#     json.dump(valid_answers, file)"
      ],
      "metadata": {
        "id": "ZaaKc7JT6W9Y"
      },
      "execution_count": null,
      "outputs": []
    },
    {
      "cell_type": "code",
      "source": [
        "def add_token_positions(encodings, answers):\n",
        "  start_positions = []\n",
        "  end_positions = []\n",
        "  for i in range(len(answers)):\n",
        "    start_positions.append(encodings.char_to_token(i, answers[i]['answer_start']))\n",
        "    end_positions.append(encodings.char_to_token(i, answers[i]['answer_end'] - 1))\n",
        "\n",
        "    # if start position is None, the answer passage has been truncated\n",
        "    if start_positions[-1] is None:\n",
        "      start_positions[-1] = tokenizer.model_max_length\n",
        "    if end_positions[-1] is None:\n",
        "      end_positions[-1] = tokenizer.model_max_length\n",
        "\n",
        "  encodings.update({'start_positions': start_positions, 'end_positions': end_positions})\n",
        "\n",
        "add_token_positions(train_encodings, train_answers)\n",
        "add_token_positions(valid_encodings, valid_answers)"
      ],
      "metadata": {
        "id": "QMbdOyq72cyC"
      },
      "execution_count": null,
      "outputs": []
    },
    {
      "cell_type": "code",
      "source": [
        "\n",
        "train_encodings['start_positions'][:10]"
      ],
      "metadata": {
        "colab": {
          "base_uri": "https://localhost:8080/"
        },
        "id": "YLzperYo2sxx",
        "outputId": "41759374-b4ad-4454-91bb-79b510201a22"
      },
      "execution_count": null,
      "outputs": [
        {
          "output_type": "execute_result",
          "data": {
            "text/plain": [
              "[1, 1, 1, 1, 1, 28, 28, 28, 28, 28]"
            ]
          },
          "metadata": {},
          "execution_count": 43
        }
      ]
    },
    {
      "cell_type": "markdown",
      "source": [
        "### Dataset defination\n",
        "We have to define our dataset using the PyTorch Dataset class from torch.utils in order create our dataloaders after that."
      ],
      "metadata": {
        "id": "a3YvtZcKR3jE"
      }
    },
    {
      "cell_type": "code",
      "source": [
        "class SQuAD_Dataset(torch.utils.data.Dataset):\n",
        "  def __init__(self, encodings):\n",
        "    self.encodings = encodings\n",
        "  def __getitem__(self, idx):\n",
        "    return {key: torch.tensor(val[idx]) for key, val in self.encodings.items()}\n",
        "  def __len__(self):\n",
        "    return len(self.encodings.input_ids)"
      ],
      "metadata": {
        "id": "yFl749I_R1aJ"
      },
      "execution_count": null,
      "outputs": []
    },
    {
      "cell_type": "code",
      "source": [
        "train_dataset = SQuAD_Dataset(train_encodings)\n",
        "valid_dataset = SQuAD_Dataset(valid_encodings)"
      ],
      "metadata": {
        "id": "uAztwkomSCkp"
      },
      "execution_count": null,
      "outputs": []
    },
    {
      "cell_type": "markdown",
      "source": [
        "### Dataloaders"
      ],
      "metadata": {
        "id": "IAQgYEKGSGta"
      }
    },
    {
      "cell_type": "code",
      "source": [
        "from torch.utils.data import DataLoader\n",
        "\n",
        "# Define the dataloaders\n",
        "train_loader = DataLoader(train_dataset, batch_size=16, shuffle=True)\n",
        "valid_loader = DataLoader(valid_dataset, batch_size=16)"
      ],
      "metadata": {
        "id": "EEUec8-CSFig"
      },
      "execution_count": null,
      "outputs": []
    },
    {
      "cell_type": "markdown",
      "source": [
        "### Fine-tuning\n",
        "\n",
        "### model defination\n",
        "\n",
        "We are going to use the bert-case-uncased from the huggingface transformers"
      ],
      "metadata": {
        "id": "dbhZ6PuCSOUg"
      }
    },
    {
      "cell_type": "code",
      "source": [
        "from transformers import BertForQuestionAnswering\n",
        "\n",
        "model = BertForQuestionAnswering.from_pretrained(\"bert-base-uncased\")\n",
        "model.config.max_position_embeddings = max_length\n",
        "model.base_model.embeddings.position_ids = torch.arange(max_length).expand((1, -1))\n",
        "model.base_model.embeddings.token_type_ids = torch.zeros(max_length).expand((1, -1))\n",
        "orig_pos_emb = model.base_model.embeddings.position_embeddings.weight\n",
        "model.base_model.embeddings.position_embeddings.weight = torch.nn.Parameter(torch.cat((orig_pos_emb, orig_pos_emb)))"
      ],
      "metadata": {
        "colab": {
          "base_uri": "https://localhost:8080/"
        },
        "id": "2Z96cIQ-SMxP",
        "outputId": "7ef1b893-ecd4-4232-a9f4-c26609513232"
      },
      "execution_count": null,
      "outputs": [
        {
          "output_type": "stream",
          "name": "stderr",
          "text": [
            "Some weights of BertForQuestionAnswering were not initialized from the model checkpoint at bert-base-uncased and are newly initialized: ['qa_outputs.bias', 'qa_outputs.weight']\n",
            "You should probably TRAIN this model on a down-stream task to be able to use it for predictions and inference.\n"
          ]
        }
      ]
    },
    {
      "cell_type": "markdown",
      "source": [
        "### Training\n",
        "Μy choices for some parameters:\n",
        "\n",
        "Use of AdamW which is a stochastic optimization method that modifies the typical implementation of weight decay in Adam, by decoupling weight decay from the gradient update. This helps to avoid overfitting which is necessary in this case were the model is very complex.\n",
        "\n",
        "Set the lr=5e-5 as I read that this is the best value for the learning rate for this task."
      ],
      "metadata": {
        "id": "8if6tw57SlWh"
      }
    },
    {
      "cell_type": "code",
      "source": [
        "# Check on the available device - use GPU\n",
        "device = torch.device('cuda') if torch.cuda.is_available() else torch.device('cpu')\n",
        "print(f'Working on {device}')"
      ],
      "metadata": {
        "colab": {
          "base_uri": "https://localhost:8080/"
        },
        "id": "3shDgl5_Sgex",
        "outputId": "8ade7ab0-5ba8-4a88-ed64-f385b19ac759"
      },
      "execution_count": null,
      "outputs": [
        {
          "output_type": "stream",
          "name": "stdout",
          "text": [
            "Working on cuda\n"
          ]
        }
      ]
    },
    {
      "cell_type": "code",
      "source": [
        "input_ids = input_ids.to(torch.long) # Convert to Long type and move to CPU\n",
        "\n"
      ],
      "metadata": {
        "id": "o6rFa-qNOS7w"
      },
      "execution_count": null,
      "outputs": []
    },
    {
      "cell_type": "code",
      "source": [
        "from transformers import AdamW\n",
        "\n",
        "N_EPOCHS = 5\n",
        "optim = AdamW(model.parameters(), lr=5e-5)\n",
        "\n",
        "model.to(device)\n",
        "model.train()\n",
        "\n",
        "for epoch in range(N_EPOCHS):\n",
        "  loop = tqdm(train_loader, leave=True)\n",
        "  for batch in loop:\n",
        "    optim.zero_grad()\n",
        "    input_ids = batch['input_ids'].to(device)\n",
        "    attention_mask = batch['attention_mask'].to(device)\n",
        "    start_positions = batch['start_positions'].to(device)\n",
        "    end_positions = batch['end_positions'].to(device)\n",
        "    outputs = model(input_ids, attention_mask=attention_mask, start_positions=start_positions, end_positions=end_positions)\n",
        "    loss = outputs[0]\n",
        "    loss.backward()\n",
        "    optim.step()\n",
        "\n",
        "    loop.set_description(f'Epoch {epoch+1}')\n",
        "    loop.set_postfix(loss=loss.item())"
      ],
      "metadata": {
        "colab": {
          "base_uri": "https://localhost:8080/",
          "height": 459
        },
        "id": "gHe9eOoBSyMo",
        "outputId": "1d12ac21-be14-4ae0-f81f-68cc661817e9"
      },
      "execution_count": null,
      "outputs": [
        {
          "output_type": "stream",
          "name": "stderr",
          "text": [
            "  0%|          | 0/19 [00:00<?, ?it/s]\n"
          ]
        },
        {
          "output_type": "error",
          "ename": "RuntimeError",
          "evalue": "ignored",
          "traceback": [
            "\u001b[0;31m---------------------------------------------------------------------------\u001b[0m",
            "\u001b[0;31mRuntimeError\u001b[0m                              Traceback (most recent call last)",
            "\u001b[0;32m<ipython-input-71-ff9fccda87ea>\u001b[0m in \u001b[0;36m<cell line: 9>\u001b[0;34m()\u001b[0m\n\u001b[1;32m     15\u001b[0m     \u001b[0mstart_positions\u001b[0m \u001b[0;34m=\u001b[0m \u001b[0mbatch\u001b[0m\u001b[0;34m[\u001b[0m\u001b[0;34m'start_positions'\u001b[0m\u001b[0;34m]\u001b[0m\u001b[0;34m.\u001b[0m\u001b[0mto\u001b[0m\u001b[0;34m(\u001b[0m\u001b[0mdevice\u001b[0m\u001b[0;34m)\u001b[0m\u001b[0;34m\u001b[0m\u001b[0;34m\u001b[0m\u001b[0m\n\u001b[1;32m     16\u001b[0m     \u001b[0mend_positions\u001b[0m \u001b[0;34m=\u001b[0m \u001b[0mbatch\u001b[0m\u001b[0;34m[\u001b[0m\u001b[0;34m'end_positions'\u001b[0m\u001b[0;34m]\u001b[0m\u001b[0;34m.\u001b[0m\u001b[0mto\u001b[0m\u001b[0;34m(\u001b[0m\u001b[0mdevice\u001b[0m\u001b[0;34m)\u001b[0m\u001b[0;34m\u001b[0m\u001b[0;34m\u001b[0m\u001b[0m\n\u001b[0;32m---> 17\u001b[0;31m     \u001b[0moutputs\u001b[0m \u001b[0;34m=\u001b[0m \u001b[0mmodel\u001b[0m\u001b[0;34m(\u001b[0m\u001b[0minput_ids\u001b[0m\u001b[0;34m,\u001b[0m \u001b[0mattention_mask\u001b[0m\u001b[0;34m=\u001b[0m\u001b[0mattention_mask\u001b[0m\u001b[0;34m,\u001b[0m \u001b[0mstart_positions\u001b[0m\u001b[0;34m=\u001b[0m\u001b[0mstart_positions\u001b[0m\u001b[0;34m,\u001b[0m \u001b[0mend_positions\u001b[0m\u001b[0;34m=\u001b[0m\u001b[0mend_positions\u001b[0m\u001b[0;34m)\u001b[0m\u001b[0;34m\u001b[0m\u001b[0;34m\u001b[0m\u001b[0m\n\u001b[0m\u001b[1;32m     18\u001b[0m     \u001b[0mloss\u001b[0m \u001b[0;34m=\u001b[0m \u001b[0moutputs\u001b[0m\u001b[0;34m[\u001b[0m\u001b[0;36m0\u001b[0m\u001b[0;34m]\u001b[0m\u001b[0;34m\u001b[0m\u001b[0;34m\u001b[0m\u001b[0m\n\u001b[1;32m     19\u001b[0m     \u001b[0mloss\u001b[0m\u001b[0;34m.\u001b[0m\u001b[0mbackward\u001b[0m\u001b[0;34m(\u001b[0m\u001b[0;34m)\u001b[0m\u001b[0;34m\u001b[0m\u001b[0;34m\u001b[0m\u001b[0m\n",
            "\u001b[0;32m/usr/local/lib/python3.10/dist-packages/torch/nn/modules/module.py\u001b[0m in \u001b[0;36m_wrapped_call_impl\u001b[0;34m(self, *args, **kwargs)\u001b[0m\n\u001b[1;32m   1516\u001b[0m             \u001b[0;32mreturn\u001b[0m \u001b[0mself\u001b[0m\u001b[0;34m.\u001b[0m\u001b[0m_compiled_call_impl\u001b[0m\u001b[0;34m(\u001b[0m\u001b[0;34m*\u001b[0m\u001b[0margs\u001b[0m\u001b[0;34m,\u001b[0m \u001b[0;34m**\u001b[0m\u001b[0mkwargs\u001b[0m\u001b[0;34m)\u001b[0m  \u001b[0;31m# type: ignore[misc]\u001b[0m\u001b[0;34m\u001b[0m\u001b[0;34m\u001b[0m\u001b[0m\n\u001b[1;32m   1517\u001b[0m         \u001b[0;32melse\u001b[0m\u001b[0;34m:\u001b[0m\u001b[0;34m\u001b[0m\u001b[0;34m\u001b[0m\u001b[0m\n\u001b[0;32m-> 1518\u001b[0;31m             \u001b[0;32mreturn\u001b[0m \u001b[0mself\u001b[0m\u001b[0;34m.\u001b[0m\u001b[0m_call_impl\u001b[0m\u001b[0;34m(\u001b[0m\u001b[0;34m*\u001b[0m\u001b[0margs\u001b[0m\u001b[0;34m,\u001b[0m \u001b[0;34m**\u001b[0m\u001b[0mkwargs\u001b[0m\u001b[0;34m)\u001b[0m\u001b[0;34m\u001b[0m\u001b[0;34m\u001b[0m\u001b[0m\n\u001b[0m\u001b[1;32m   1519\u001b[0m \u001b[0;34m\u001b[0m\u001b[0m\n\u001b[1;32m   1520\u001b[0m     \u001b[0;32mdef\u001b[0m \u001b[0m_call_impl\u001b[0m\u001b[0;34m(\u001b[0m\u001b[0mself\u001b[0m\u001b[0;34m,\u001b[0m \u001b[0;34m*\u001b[0m\u001b[0margs\u001b[0m\u001b[0;34m,\u001b[0m \u001b[0;34m**\u001b[0m\u001b[0mkwargs\u001b[0m\u001b[0;34m)\u001b[0m\u001b[0;34m:\u001b[0m\u001b[0;34m\u001b[0m\u001b[0;34m\u001b[0m\u001b[0m\n",
            "\u001b[0;32m/usr/local/lib/python3.10/dist-packages/torch/nn/modules/module.py\u001b[0m in \u001b[0;36m_call_impl\u001b[0;34m(self, *args, **kwargs)\u001b[0m\n\u001b[1;32m   1525\u001b[0m                 \u001b[0;32mor\u001b[0m \u001b[0m_global_backward_pre_hooks\u001b[0m \u001b[0;32mor\u001b[0m \u001b[0m_global_backward_hooks\u001b[0m\u001b[0;34m\u001b[0m\u001b[0;34m\u001b[0m\u001b[0m\n\u001b[1;32m   1526\u001b[0m                 or _global_forward_hooks or _global_forward_pre_hooks):\n\u001b[0;32m-> 1527\u001b[0;31m             \u001b[0;32mreturn\u001b[0m \u001b[0mforward_call\u001b[0m\u001b[0;34m(\u001b[0m\u001b[0;34m*\u001b[0m\u001b[0margs\u001b[0m\u001b[0;34m,\u001b[0m \u001b[0;34m**\u001b[0m\u001b[0mkwargs\u001b[0m\u001b[0;34m)\u001b[0m\u001b[0;34m\u001b[0m\u001b[0;34m\u001b[0m\u001b[0m\n\u001b[0m\u001b[1;32m   1528\u001b[0m \u001b[0;34m\u001b[0m\u001b[0m\n\u001b[1;32m   1529\u001b[0m         \u001b[0;32mtry\u001b[0m\u001b[0;34m:\u001b[0m\u001b[0;34m\u001b[0m\u001b[0;34m\u001b[0m\u001b[0m\n",
            "\u001b[0;32m/usr/local/lib/python3.10/dist-packages/transformers/models/bert/modeling_bert.py\u001b[0m in \u001b[0;36mforward\u001b[0;34m(self, input_ids, attention_mask, token_type_ids, position_ids, head_mask, inputs_embeds, start_positions, end_positions, output_attentions, output_hidden_states, return_dict)\u001b[0m\n\u001b[1;32m   1844\u001b[0m         \"\"\"\n\u001b[1;32m   1845\u001b[0m         \u001b[0mreturn_dict\u001b[0m \u001b[0;34m=\u001b[0m \u001b[0mreturn_dict\u001b[0m \u001b[0;32mif\u001b[0m \u001b[0mreturn_dict\u001b[0m \u001b[0;32mis\u001b[0m \u001b[0;32mnot\u001b[0m \u001b[0;32mNone\u001b[0m \u001b[0;32melse\u001b[0m \u001b[0mself\u001b[0m\u001b[0;34m.\u001b[0m\u001b[0mconfig\u001b[0m\u001b[0;34m.\u001b[0m\u001b[0muse_return_dict\u001b[0m\u001b[0;34m\u001b[0m\u001b[0;34m\u001b[0m\u001b[0m\n\u001b[0;32m-> 1846\u001b[0;31m \u001b[0;34m\u001b[0m\u001b[0m\n\u001b[0m\u001b[1;32m   1847\u001b[0m         outputs = self.bert(\n\u001b[1;32m   1848\u001b[0m             \u001b[0minput_ids\u001b[0m\u001b[0;34m,\u001b[0m\u001b[0;34m\u001b[0m\u001b[0;34m\u001b[0m\u001b[0m\n",
            "\u001b[0;32m/usr/local/lib/python3.10/dist-packages/torch/nn/modules/module.py\u001b[0m in \u001b[0;36m_wrapped_call_impl\u001b[0;34m(self, *args, **kwargs)\u001b[0m\n\u001b[1;32m   1516\u001b[0m             \u001b[0;32mreturn\u001b[0m \u001b[0mself\u001b[0m\u001b[0;34m.\u001b[0m\u001b[0m_compiled_call_impl\u001b[0m\u001b[0;34m(\u001b[0m\u001b[0;34m*\u001b[0m\u001b[0margs\u001b[0m\u001b[0;34m,\u001b[0m \u001b[0;34m**\u001b[0m\u001b[0mkwargs\u001b[0m\u001b[0;34m)\u001b[0m  \u001b[0;31m# type: ignore[misc]\u001b[0m\u001b[0;34m\u001b[0m\u001b[0;34m\u001b[0m\u001b[0m\n\u001b[1;32m   1517\u001b[0m         \u001b[0;32melse\u001b[0m\u001b[0;34m:\u001b[0m\u001b[0;34m\u001b[0m\u001b[0;34m\u001b[0m\u001b[0m\n\u001b[0;32m-> 1518\u001b[0;31m             \u001b[0;32mreturn\u001b[0m \u001b[0mself\u001b[0m\u001b[0;34m.\u001b[0m\u001b[0m_call_impl\u001b[0m\u001b[0;34m(\u001b[0m\u001b[0;34m*\u001b[0m\u001b[0margs\u001b[0m\u001b[0;34m,\u001b[0m \u001b[0;34m**\u001b[0m\u001b[0mkwargs\u001b[0m\u001b[0;34m)\u001b[0m\u001b[0;34m\u001b[0m\u001b[0;34m\u001b[0m\u001b[0m\n\u001b[0m\u001b[1;32m   1519\u001b[0m \u001b[0;34m\u001b[0m\u001b[0m\n\u001b[1;32m   1520\u001b[0m     \u001b[0;32mdef\u001b[0m \u001b[0m_call_impl\u001b[0m\u001b[0;34m(\u001b[0m\u001b[0mself\u001b[0m\u001b[0;34m,\u001b[0m \u001b[0;34m*\u001b[0m\u001b[0margs\u001b[0m\u001b[0;34m,\u001b[0m \u001b[0;34m**\u001b[0m\u001b[0mkwargs\u001b[0m\u001b[0;34m)\u001b[0m\u001b[0;34m:\u001b[0m\u001b[0;34m\u001b[0m\u001b[0;34m\u001b[0m\u001b[0m\n",
            "\u001b[0;32m/usr/local/lib/python3.10/dist-packages/torch/nn/modules/module.py\u001b[0m in \u001b[0;36m_call_impl\u001b[0;34m(self, *args, **kwargs)\u001b[0m\n\u001b[1;32m   1525\u001b[0m                 \u001b[0;32mor\u001b[0m \u001b[0m_global_backward_pre_hooks\u001b[0m \u001b[0;32mor\u001b[0m \u001b[0m_global_backward_hooks\u001b[0m\u001b[0;34m\u001b[0m\u001b[0;34m\u001b[0m\u001b[0m\n\u001b[1;32m   1526\u001b[0m                 or _global_forward_hooks or _global_forward_pre_hooks):\n\u001b[0;32m-> 1527\u001b[0;31m             \u001b[0;32mreturn\u001b[0m \u001b[0mforward_call\u001b[0m\u001b[0;34m(\u001b[0m\u001b[0;34m*\u001b[0m\u001b[0margs\u001b[0m\u001b[0;34m,\u001b[0m \u001b[0;34m**\u001b[0m\u001b[0mkwargs\u001b[0m\u001b[0;34m)\u001b[0m\u001b[0;34m\u001b[0m\u001b[0;34m\u001b[0m\u001b[0m\n\u001b[0m\u001b[1;32m   1528\u001b[0m \u001b[0;34m\u001b[0m\u001b[0m\n\u001b[1;32m   1529\u001b[0m         \u001b[0;32mtry\u001b[0m\u001b[0;34m:\u001b[0m\u001b[0;34m\u001b[0m\u001b[0;34m\u001b[0m\u001b[0m\n",
            "\u001b[0;32m/usr/local/lib/python3.10/dist-packages/transformers/models/bert/modeling_bert.py\u001b[0m in \u001b[0;36mforward\u001b[0;34m(self, input_ids, attention_mask, token_type_ids, position_ids, head_mask, inputs_embeds, encoder_hidden_states, encoder_attention_mask, past_key_values, use_cache, output_attentions, output_hidden_states, return_dict)\u001b[0m\n\u001b[1;32m   1004\u001b[0m         \u001b[0mhead_mask\u001b[0m \u001b[0;34m=\u001b[0m \u001b[0mself\u001b[0m\u001b[0;34m.\u001b[0m\u001b[0mget_head_mask\u001b[0m\u001b[0;34m(\u001b[0m\u001b[0mhead_mask\u001b[0m\u001b[0;34m,\u001b[0m \u001b[0mself\u001b[0m\u001b[0;34m.\u001b[0m\u001b[0mconfig\u001b[0m\u001b[0;34m.\u001b[0m\u001b[0mnum_hidden_layers\u001b[0m\u001b[0;34m)\u001b[0m\u001b[0;34m\u001b[0m\u001b[0;34m\u001b[0m\u001b[0m\n\u001b[1;32m   1005\u001b[0m         \u001b[0minput_ids\u001b[0m \u001b[0;34m=\u001b[0m \u001b[0minput_ids\u001b[0m\u001b[0;34m.\u001b[0m\u001b[0mto\u001b[0m\u001b[0;34m(\u001b[0m\u001b[0mtorch\u001b[0m\u001b[0;34m.\u001b[0m\u001b[0mlong\u001b[0m\u001b[0;34m)\u001b[0m\u001b[0;34m\u001b[0m\u001b[0;34m\u001b[0m\u001b[0m\n\u001b[0;32m-> 1006\u001b[0;31m         embedding_output = self.embeddings(\n\u001b[0m\u001b[1;32m   1007\u001b[0m \u001b[0;34m\u001b[0m\u001b[0m\n\u001b[1;32m   1008\u001b[0m             \u001b[0minput_ids\u001b[0m\u001b[0;34m=\u001b[0m\u001b[0minput_ids\u001b[0m\u001b[0;34m,\u001b[0m\u001b[0;34m\u001b[0m\u001b[0;34m\u001b[0m\u001b[0m\n",
            "\u001b[0;32m/usr/local/lib/python3.10/dist-packages/torch/nn/modules/module.py\u001b[0m in \u001b[0;36m_wrapped_call_impl\u001b[0;34m(self, *args, **kwargs)\u001b[0m\n\u001b[1;32m   1516\u001b[0m             \u001b[0;32mreturn\u001b[0m \u001b[0mself\u001b[0m\u001b[0;34m.\u001b[0m\u001b[0m_compiled_call_impl\u001b[0m\u001b[0;34m(\u001b[0m\u001b[0;34m*\u001b[0m\u001b[0margs\u001b[0m\u001b[0;34m,\u001b[0m \u001b[0;34m**\u001b[0m\u001b[0mkwargs\u001b[0m\u001b[0;34m)\u001b[0m  \u001b[0;31m# type: ignore[misc]\u001b[0m\u001b[0;34m\u001b[0m\u001b[0;34m\u001b[0m\u001b[0m\n\u001b[1;32m   1517\u001b[0m         \u001b[0;32melse\u001b[0m\u001b[0;34m:\u001b[0m\u001b[0;34m\u001b[0m\u001b[0;34m\u001b[0m\u001b[0m\n\u001b[0;32m-> 1518\u001b[0;31m             \u001b[0;32mreturn\u001b[0m \u001b[0mself\u001b[0m\u001b[0;34m.\u001b[0m\u001b[0m_call_impl\u001b[0m\u001b[0;34m(\u001b[0m\u001b[0;34m*\u001b[0m\u001b[0margs\u001b[0m\u001b[0;34m,\u001b[0m \u001b[0;34m**\u001b[0m\u001b[0mkwargs\u001b[0m\u001b[0;34m)\u001b[0m\u001b[0;34m\u001b[0m\u001b[0;34m\u001b[0m\u001b[0m\n\u001b[0m\u001b[1;32m   1519\u001b[0m \u001b[0;34m\u001b[0m\u001b[0m\n\u001b[1;32m   1520\u001b[0m     \u001b[0;32mdef\u001b[0m \u001b[0m_call_impl\u001b[0m\u001b[0;34m(\u001b[0m\u001b[0mself\u001b[0m\u001b[0;34m,\u001b[0m \u001b[0;34m*\u001b[0m\u001b[0margs\u001b[0m\u001b[0;34m,\u001b[0m \u001b[0;34m**\u001b[0m\u001b[0mkwargs\u001b[0m\u001b[0;34m)\u001b[0m\u001b[0;34m:\u001b[0m\u001b[0;34m\u001b[0m\u001b[0;34m\u001b[0m\u001b[0m\n",
            "\u001b[0;32m/usr/local/lib/python3.10/dist-packages/torch/nn/modules/module.py\u001b[0m in \u001b[0;36m_call_impl\u001b[0;34m(self, *args, **kwargs)\u001b[0m\n\u001b[1;32m   1525\u001b[0m                 \u001b[0;32mor\u001b[0m \u001b[0m_global_backward_pre_hooks\u001b[0m \u001b[0;32mor\u001b[0m \u001b[0m_global_backward_hooks\u001b[0m\u001b[0;34m\u001b[0m\u001b[0;34m\u001b[0m\u001b[0m\n\u001b[1;32m   1526\u001b[0m                 or _global_forward_hooks or _global_forward_pre_hooks):\n\u001b[0;32m-> 1527\u001b[0;31m             \u001b[0;32mreturn\u001b[0m \u001b[0mforward_call\u001b[0m\u001b[0;34m(\u001b[0m\u001b[0;34m*\u001b[0m\u001b[0margs\u001b[0m\u001b[0;34m,\u001b[0m \u001b[0;34m**\u001b[0m\u001b[0mkwargs\u001b[0m\u001b[0;34m)\u001b[0m\u001b[0;34m\u001b[0m\u001b[0;34m\u001b[0m\u001b[0m\n\u001b[0m\u001b[1;32m   1528\u001b[0m \u001b[0;34m\u001b[0m\u001b[0m\n\u001b[1;32m   1529\u001b[0m         \u001b[0;32mtry\u001b[0m\u001b[0;34m:\u001b[0m\u001b[0;34m\u001b[0m\u001b[0;34m\u001b[0m\u001b[0m\n",
            "\u001b[0;32m/usr/local/lib/python3.10/dist-packages/transformers/models/bert/modeling_bert.py\u001b[0m in \u001b[0;36mforward\u001b[0;34m(self, input_ids, token_type_ids, position_ids, inputs_embeds, past_key_values_length)\u001b[0m\n\u001b[1;32m    231\u001b[0m         \u001b[0;32mif\u001b[0m \u001b[0minputs_embeds\u001b[0m \u001b[0;32mis\u001b[0m \u001b[0;32mNone\u001b[0m\u001b[0;34m:\u001b[0m\u001b[0;34m\u001b[0m\u001b[0;34m\u001b[0m\u001b[0m\n\u001b[1;32m    232\u001b[0m             \u001b[0minputs_embeds\u001b[0m \u001b[0;34m=\u001b[0m \u001b[0mself\u001b[0m\u001b[0;34m.\u001b[0m\u001b[0mword_embeddings\u001b[0m\u001b[0;34m(\u001b[0m\u001b[0minput_ids\u001b[0m\u001b[0;34m)\u001b[0m\u001b[0;34m\u001b[0m\u001b[0;34m\u001b[0m\u001b[0m\n\u001b[0;32m--> 233\u001b[0;31m         \u001b[0mtoken_type_embeddings\u001b[0m \u001b[0;34m=\u001b[0m \u001b[0mself\u001b[0m\u001b[0;34m.\u001b[0m\u001b[0mtoken_type_embeddings\u001b[0m\u001b[0;34m(\u001b[0m\u001b[0mtoken_type_ids\u001b[0m\u001b[0;34m)\u001b[0m\u001b[0;34m\u001b[0m\u001b[0;34m\u001b[0m\u001b[0m\n\u001b[0m\u001b[1;32m    234\u001b[0m \u001b[0;34m\u001b[0m\u001b[0m\n\u001b[1;32m    235\u001b[0m         \u001b[0membeddings\u001b[0m \u001b[0;34m=\u001b[0m \u001b[0minputs_embeds\u001b[0m \u001b[0;34m+\u001b[0m \u001b[0mtoken_type_embeddings\u001b[0m\u001b[0;34m\u001b[0m\u001b[0;34m\u001b[0m\u001b[0m\n",
            "\u001b[0;32m/usr/local/lib/python3.10/dist-packages/torch/nn/modules/module.py\u001b[0m in \u001b[0;36m_wrapped_call_impl\u001b[0;34m(self, *args, **kwargs)\u001b[0m\n\u001b[1;32m   1516\u001b[0m             \u001b[0;32mreturn\u001b[0m \u001b[0mself\u001b[0m\u001b[0;34m.\u001b[0m\u001b[0m_compiled_call_impl\u001b[0m\u001b[0;34m(\u001b[0m\u001b[0;34m*\u001b[0m\u001b[0margs\u001b[0m\u001b[0;34m,\u001b[0m \u001b[0;34m**\u001b[0m\u001b[0mkwargs\u001b[0m\u001b[0;34m)\u001b[0m  \u001b[0;31m# type: ignore[misc]\u001b[0m\u001b[0;34m\u001b[0m\u001b[0;34m\u001b[0m\u001b[0m\n\u001b[1;32m   1517\u001b[0m         \u001b[0;32melse\u001b[0m\u001b[0;34m:\u001b[0m\u001b[0;34m\u001b[0m\u001b[0;34m\u001b[0m\u001b[0m\n\u001b[0;32m-> 1518\u001b[0;31m             \u001b[0;32mreturn\u001b[0m \u001b[0mself\u001b[0m\u001b[0;34m.\u001b[0m\u001b[0m_call_impl\u001b[0m\u001b[0;34m(\u001b[0m\u001b[0;34m*\u001b[0m\u001b[0margs\u001b[0m\u001b[0;34m,\u001b[0m \u001b[0;34m**\u001b[0m\u001b[0mkwargs\u001b[0m\u001b[0;34m)\u001b[0m\u001b[0;34m\u001b[0m\u001b[0;34m\u001b[0m\u001b[0m\n\u001b[0m\u001b[1;32m   1519\u001b[0m \u001b[0;34m\u001b[0m\u001b[0m\n\u001b[1;32m   1520\u001b[0m     \u001b[0;32mdef\u001b[0m \u001b[0m_call_impl\u001b[0m\u001b[0;34m(\u001b[0m\u001b[0mself\u001b[0m\u001b[0;34m,\u001b[0m \u001b[0;34m*\u001b[0m\u001b[0margs\u001b[0m\u001b[0;34m,\u001b[0m \u001b[0;34m**\u001b[0m\u001b[0mkwargs\u001b[0m\u001b[0;34m)\u001b[0m\u001b[0;34m:\u001b[0m\u001b[0;34m\u001b[0m\u001b[0;34m\u001b[0m\u001b[0m\n",
            "\u001b[0;32m/usr/local/lib/python3.10/dist-packages/torch/nn/modules/module.py\u001b[0m in \u001b[0;36m_call_impl\u001b[0;34m(self, *args, **kwargs)\u001b[0m\n\u001b[1;32m   1525\u001b[0m                 \u001b[0;32mor\u001b[0m \u001b[0m_global_backward_pre_hooks\u001b[0m \u001b[0;32mor\u001b[0m \u001b[0m_global_backward_hooks\u001b[0m\u001b[0;34m\u001b[0m\u001b[0;34m\u001b[0m\u001b[0m\n\u001b[1;32m   1526\u001b[0m                 or _global_forward_hooks or _global_forward_pre_hooks):\n\u001b[0;32m-> 1527\u001b[0;31m             \u001b[0;32mreturn\u001b[0m \u001b[0mforward_call\u001b[0m\u001b[0;34m(\u001b[0m\u001b[0;34m*\u001b[0m\u001b[0margs\u001b[0m\u001b[0;34m,\u001b[0m \u001b[0;34m**\u001b[0m\u001b[0mkwargs\u001b[0m\u001b[0;34m)\u001b[0m\u001b[0;34m\u001b[0m\u001b[0;34m\u001b[0m\u001b[0m\n\u001b[0m\u001b[1;32m   1528\u001b[0m \u001b[0;34m\u001b[0m\u001b[0m\n\u001b[1;32m   1529\u001b[0m         \u001b[0;32mtry\u001b[0m\u001b[0;34m:\u001b[0m\u001b[0;34m\u001b[0m\u001b[0;34m\u001b[0m\u001b[0m\n",
            "\u001b[0;32m/usr/local/lib/python3.10/dist-packages/torch/nn/modules/sparse.py\u001b[0m in \u001b[0;36mforward\u001b[0;34m(self, input)\u001b[0m\n\u001b[1;32m    160\u001b[0m \u001b[0;34m\u001b[0m\u001b[0m\n\u001b[1;32m    161\u001b[0m     \u001b[0;32mdef\u001b[0m \u001b[0mforward\u001b[0m\u001b[0;34m(\u001b[0m\u001b[0mself\u001b[0m\u001b[0;34m,\u001b[0m \u001b[0minput\u001b[0m\u001b[0;34m:\u001b[0m \u001b[0mTensor\u001b[0m\u001b[0;34m)\u001b[0m \u001b[0;34m->\u001b[0m \u001b[0mTensor\u001b[0m\u001b[0;34m:\u001b[0m\u001b[0;34m\u001b[0m\u001b[0;34m\u001b[0m\u001b[0m\n\u001b[0;32m--> 162\u001b[0;31m         return F.embedding(\n\u001b[0m\u001b[1;32m    163\u001b[0m             \u001b[0minput\u001b[0m\u001b[0;34m,\u001b[0m \u001b[0mself\u001b[0m\u001b[0;34m.\u001b[0m\u001b[0mweight\u001b[0m\u001b[0;34m,\u001b[0m \u001b[0mself\u001b[0m\u001b[0;34m.\u001b[0m\u001b[0mpadding_idx\u001b[0m\u001b[0;34m,\u001b[0m \u001b[0mself\u001b[0m\u001b[0;34m.\u001b[0m\u001b[0mmax_norm\u001b[0m\u001b[0;34m,\u001b[0m\u001b[0;34m\u001b[0m\u001b[0;34m\u001b[0m\u001b[0m\n\u001b[1;32m    164\u001b[0m             self.norm_type, self.scale_grad_by_freq, self.sparse)\n",
            "\u001b[0;32m/usr/local/lib/python3.10/dist-packages/torch/nn/functional.py\u001b[0m in \u001b[0;36membedding\u001b[0;34m(input, weight, padding_idx, max_norm, norm_type, scale_grad_by_freq, sparse)\u001b[0m\n\u001b[1;32m   2231\u001b[0m         \u001b[0;31m#   torch.embedding_renorm_\u001b[0m\u001b[0;34m\u001b[0m\u001b[0;34m\u001b[0m\u001b[0m\n\u001b[1;32m   2232\u001b[0m         \u001b[0;31m# remove once script supports set_grad_enabled\u001b[0m\u001b[0;34m\u001b[0m\u001b[0;34m\u001b[0m\u001b[0m\n\u001b[0;32m-> 2233\u001b[0;31m         \u001b[0m_no_grad_embedding_renorm_\u001b[0m\u001b[0;34m(\u001b[0m\u001b[0mweight\u001b[0m\u001b[0;34m,\u001b[0m \u001b[0minput\u001b[0m\u001b[0;34m,\u001b[0m \u001b[0mmax_norm\u001b[0m\u001b[0;34m,\u001b[0m \u001b[0mnorm_type\u001b[0m\u001b[0;34m)\u001b[0m\u001b[0;34m\u001b[0m\u001b[0;34m\u001b[0m\u001b[0m\n\u001b[0m\u001b[1;32m   2234\u001b[0m     \u001b[0;32mreturn\u001b[0m \u001b[0mtorch\u001b[0m\u001b[0;34m.\u001b[0m\u001b[0membedding\u001b[0m\u001b[0;34m(\u001b[0m\u001b[0mweight\u001b[0m\u001b[0;34m,\u001b[0m \u001b[0minput\u001b[0m\u001b[0;34m,\u001b[0m \u001b[0mpadding_idx\u001b[0m\u001b[0;34m,\u001b[0m \u001b[0mscale_grad_by_freq\u001b[0m\u001b[0;34m,\u001b[0m \u001b[0msparse\u001b[0m\u001b[0;34m)\u001b[0m\u001b[0;34m\u001b[0m\u001b[0;34m\u001b[0m\u001b[0m\n\u001b[1;32m   2235\u001b[0m \u001b[0;34m\u001b[0m\u001b[0m\n",
            "\u001b[0;31mRuntimeError\u001b[0m: Expected tensor for argument #1 'indices' to have one of the following scalar types: Long, Int; but got torch.cuda.FloatTensor instead (while checking arguments for embedding)"
          ]
        }
      ]
    },
    {
      "cell_type": "markdown",
      "source": [
        "## save the model in my drive\n"
      ],
      "metadata": {
        "id": "Rkjblfei67m-"
      }
    },
    {
      "cell_type": "code",
      "source": [
        "model_path = '/content/drive/MyDrive/BERT-SQuAD'\n",
        "model.save_pretrained(model_path)\n",
        "tokenizer.save_pretrained(model_path)"
      ],
      "metadata": {
        "id": "6bw5qHdFS6r5",
        "colab": {
          "base_uri": "https://localhost:8080/"
        },
        "outputId": "a234400b-2161-4e73-c2a2-6b80553d9ccd"
      },
      "execution_count": null,
      "outputs": [
        {
          "output_type": "execute_result",
          "data": {
            "text/plain": [
              "('/content/drive/MyDrive/BERT-SQuAD/tokenizer_config.json',\n",
              " '/content/drive/MyDrive/BERT-SQuAD/special_tokens_map.json',\n",
              " '/content/drive/MyDrive/BERT-SQuAD/vocab.txt',\n",
              " '/content/drive/MyDrive/BERT-SQuAD/added_tokens.json',\n",
              " '/content/drive/MyDrive/BERT-SQuAD/tokenizer.json')"
            ]
          },
          "metadata": {},
          "execution_count": 29
        }
      ]
    },
    {
      "cell_type": "markdown",
      "source": [
        "Respectively load the saved model"
      ],
      "metadata": {
        "id": "DOiW4tx-7gMi"
      }
    },
    {
      "cell_type": "code",
      "source": [
        "\n",
        "from transformers import BertForQuestionAnswering, BertTokenizerFast\n",
        "\n",
        "model_path = '/content/drive/MyDrive/BERT-SQuAD'\n",
        "model = BertForQuestionAnswering.from_pretrained(model_path)\n",
        "tokenizer = BertTokenizerFast.from_pretrained(model_path)\n",
        "\n",
        "device = torch.device('cuda') if torch.cuda.is_available() else torch.device('cpu')\n",
        "print(f'Working on {device}')\n",
        "\n",
        "model = model.to(device)\n"
      ],
      "metadata": {
        "colab": {
          "base_uri": "https://localhost:8080/"
        },
        "id": "hmokyFIM7doO",
        "outputId": "d8433396-b2b7-4f05-9683-d0324cd2776a"
      },
      "execution_count": null,
      "outputs": [
        {
          "output_type": "stream",
          "name": "stdout",
          "text": [
            "Working on cuda\n"
          ]
        }
      ]
    },
    {
      "cell_type": "markdown",
      "source": [
        "### Testing\n",
        "We are evaluating the model on the validation set by checking the model's predictions for the answer's start and end indexes and comparing with the true ones.\n",
        "\n"
      ],
      "metadata": {
        "id": "egRGCppp7pvD"
      }
    },
    {
      "cell_type": "code",
      "source": [
        "model.eval()\n",
        "\n",
        "acc = []\n",
        "\n",
        "for batch in tqdm(valid_loader):\n",
        "  with torch.no_grad():\n",
        "    input_ids = batch['input_ids'].to(device)\n",
        "    attention_mask = batch['attention_mask'].to(device)\n",
        "    start_true = batch['start_positions'].to(device)\n",
        "    end_true = batch['end_positions'].to(device)\n",
        "\n",
        "    outputs = model(input_ids, attention_mask=attention_mask)\n",
        "\n",
        "    start_pred = torch.argmax(outputs['start_logits'], dim=1)\n",
        "    end_pred = torch.argmax(outputs['end_logits'], dim=1)\n",
        "\n",
        "    acc.append(((start_pred == start_true).sum()/len(start_pred)).item())\n",
        "    acc.append(((end_pred == end_true).sum()/len(end_pred)).item())\n",
        "\n",
        "acc = sum(acc)/len(acc)\n",
        "\n",
        "print(\"\\n\\nT/P\\tanswer_start\\tanswer_end\\n\")\n",
        "for i in range(len(start_true)):\n",
        "  print(f\"true\\t{start_true[i]}\\t{end_true[i]}\\n\"\n",
        "        f\"pred\\t{start_pred[i]}\\t{end_pred[i]}\\n\")"
      ],
      "metadata": {
        "colab": {
          "base_uri": "https://localhost:8080/"
        },
        "id": "GCUstuw17mpc",
        "outputId": "9af4aadb-9230-45c8-b14d-e4eab8e6f021"
      },
      "execution_count": null,
      "outputs": [
        {
          "output_type": "stream",
          "name": "stderr",
          "text": [
            "100%|██████████| 5/5 [00:02<00:00,  2.27it/s]"
          ]
        },
        {
          "output_type": "stream",
          "name": "stdout",
          "text": [
            "\n",
            "\n",
            "T/P\tanswer_start\tanswer_end\n",
            "\n",
            "true\t114\t125\n",
            "pred\t87\t191\n",
            "\n"
          ]
        },
        {
          "output_type": "stream",
          "name": "stderr",
          "text": [
            "\n"
          ]
        }
      ]
    },
    {
      "cell_type": "markdown",
      "source": [
        "### Ask\n",
        "We are going to use some functions from the official Evaluation Script v2.0 of SQuAD in order to test the fine-tuned model by asking some questions given a context. I have also looked at this notebook which evaluates BERT on SQuAD.\n",
        "\n"
      ],
      "metadata": {
        "id": "SzsyTDB28Beq"
      }
    },
    {
      "cell_type": "code",
      "source": [
        "def get_prediction(context, question):\n",
        "  inputs = tokenizer.encode_plus(question, context, return_tensors='pt').to(device)\n",
        "  outputs = model(**inputs)\n",
        "\n",
        "  answer_start = torch.argmax(outputs[0])\n",
        "  answer_end = torch.argmax(outputs[1]) + 1\n",
        "\n",
        "  answer = tokenizer.convert_tokens_to_string(tokenizer.convert_ids_to_tokens(inputs['input_ids'][0][answer_start:answer_end]))\n",
        "\n",
        "  return answer"
      ],
      "metadata": {
        "id": "CFooI7eL70e4"
      },
      "execution_count": null,
      "outputs": []
    },
    {
      "cell_type": "markdown",
      "source": [
        "this is the google wala code"
      ],
      "metadata": {
        "id": "VVPM4AsNh_Bt"
      }
    },
    {
      "cell_type": "code",
      "source": [
        "# import torch\n",
        "\n",
        "# def get_prediction(context, question):\n",
        "#     inputs = tokenizer.encode_plus(question, context, return_tensors='pt')\n",
        "\n",
        "#     # Move inputs to the same device as the model\n",
        "#     inputs = {key: tensor.to(model.device) for key, tensor in inputs.items()}\n",
        "\n",
        "#     with torch.no_grad():\n",
        "#         outputs = model(**inputs)\n",
        "\n",
        "#     start_scores = outputs.start_logits\n",
        "#     end_scores = outputs.end_logits\n",
        "\n",
        "#     # Get the most likely answer using the start and end scores\n",
        "#     all_tokens = tokenizer.convert_ids_to_tokens(inputs['input_ids'][0].tolist())\n",
        "#     answer_tokens = all_tokens[torch.argmax(start_scores) : torch.argmax(end_scores)+1]\n",
        "#     answer = tokenizer.decode(tokenizer.convert_tokens_to_ids(answer_tokens))\n",
        "\n",
        "#     return answer"
      ],
      "metadata": {
        "id": "F-VyitlsiChS"
      },
      "execution_count": null,
      "outputs": []
    },
    {
      "cell_type": "code",
      "source": [
        "# # Example context\n",
        "# context = \"Bhairavanath temple is one of the temples that lies at the central of Bhaktapur, Taumadhii Square and Bhairavanath Temple is built in the pagoda style and It is three-storey. It is one of the temple devoted to Lord Bhairava is one of the rectangular based temples of Bhaktapur. Curiously, there is no entrance on the temple's lengthy west facade that faces the square. Instead, priests access the interior from the south. The west facade is largely symmetrical and features a ground-level shrine with Bhairav depicted in miniature on a small metal throne. Michael Hutt notes that this small statue is frequently stolen and replaced. To either side of the deity are hammered copper plates depicting Bhairav's eyes, two pairs of hands, and two dogs and his faithful companions. At present, perhaps to discourage theft, the ground-level shrine is blocked from casual access by a makeshift wooden barricade. The temple is dedicated to lord Bhairav, which is supposed to be the most ferocious form of Lord Shiva. The Bhairavanath established in this temple is a formidable incarnation of lord shiva, who also prefers to name Kasi Vishwanath and Aakash bhairava. He is somehow famous for his obstreperous and stubborn character. Bhairav has a particular fascination with machines and is often thought to inhabit wheels, with different versions of the god inhabiting different wheels on the same chariot. At the Bhairavanath temple, a chariot used in the annual Bisket-Jatra festival is stored, dismantled, against the temple's north wall. Bhairavanath's association with the chariot used in the festival highlights his connection to the annual Bisket-Jatra festival. The statue of Lord Bhairav is about 12 feet long and is one of the largest statues in Kathmandu Valley. Thousands of people visit Bhairavanath temple during Bhairav Ashtami or Bhairav Jayanthi as it is celebrated religiously.  Even though the temple was slightly damaged during the earthquake in November 2015, it still has retrained most of structure. The Renovative history of Bhairavanath Temple says that The temple was first inaugurated by King Ananda Deva in the 13th century.\"\n",
        "\n",
        "# # Ask a question\n",
        "# question = \"Where is Bhairavanath located?\"\n",
        "# answer = get_prediction(context, question)\n",
        "# print(\"Answer:\", answer)"
      ],
      "metadata": {
        "colab": {
          "base_uri": "https://localhost:8080/"
        },
        "id": "uPr7U5ghiGjC",
        "outputId": "df51829d-6fde-4306-c178-29fd8ab0024b"
      },
      "execution_count": null,
      "outputs": [
        {
          "output_type": "stream",
          "name": "stdout",
          "text": [
            "Answer: \n"
          ]
        }
      ]
    },
    {
      "cell_type": "code",
      "source": [
        "def normalize_text(s):\n",
        "  \"\"\"Removing articles and punctuation, and standardizing whitespace are all typical text processing steps.\"\"\"\n",
        "  import string, re\n",
        "  def remove_articles(text):\n",
        "    regex = re.compile(r\"\\b(a|an|the)\\b\", re.UNICODE)\n",
        "    return re.sub(regex, \" \", text)\n",
        "  def white_space_fix(text):\n",
        "    return \" \".join(text.split())\n",
        "  def remove_punc(text):\n",
        "    exclude = set(string.punctuation)\n",
        "    return \"\".join(ch for ch in text if ch not in exclude)\n",
        "  def lower(text):\n",
        "    return text.lower()\n",
        "\n",
        "  return white_space_fix(remove_articles(remove_punc(lower(s))))\n"
      ],
      "metadata": {
        "id": "tQG6EdDh8TCn"
      },
      "execution_count": null,
      "outputs": []
    },
    {
      "cell_type": "code",
      "source": [
        "def exact_match(prediction, truth):\n",
        "    return bool(normalize_text(prediction) == normalize_text(truth))\n"
      ],
      "metadata": {
        "id": "i9xmWXhf8W7m"
      },
      "execution_count": null,
      "outputs": []
    },
    {
      "cell_type": "code",
      "source": [
        "def compute_f1(prediction, truth):\n",
        "  pred_tokens = normalize_text(prediction).split()\n",
        "  truth_tokens = normalize_text(truth).split()\n",
        "\n",
        "  # if either the prediction or the truth is no-answer then f1 = 1 if they agree, 0 otherwise\n",
        "  if len(pred_tokens) == 0 or len(truth_tokens) == 0:\n",
        "    return int(pred_tokens == truth_tokens)\n",
        "\n",
        "  common_tokens = set(pred_tokens) & set(truth_tokens)\n",
        "\n",
        "  # if there are no common tokens then f1 = 0\n",
        "  if len(common_tokens) == 0:\n",
        "    return 0\n",
        "\n",
        "  prec = len(common_tokens) / len(pred_tokens)\n",
        "  rec = len(common_tokens) / len(truth_tokens)\n",
        "\n",
        "  return round(2 * (prec * rec) / (prec + rec), 2)"
      ],
      "metadata": {
        "id": "B4nUOeOR8ZyW"
      },
      "execution_count": null,
      "outputs": []
    },
    {
      "cell_type": "code",
      "source": [
        "def question_answer(context, question,answer):\n",
        "  prediction = get_prediction(context,question)\n",
        "  em_score = exact_match(prediction, answer)\n",
        "  f1_score = compute_f1(prediction, answer)\n",
        "\n",
        "  print(f'Question: {question}')\n",
        "  print(f'Prediction: {prediction}')\n",
        "  print(f'True Answer: {answer}')\n",
        "  print(f'Exact match: {em_score}')\n",
        "  print(f'F1 score: {f1_score}\\n')"
      ],
      "metadata": {
        "id": "o4LHPa598cRI"
      },
      "execution_count": null,
      "outputs": []
    },
    {
      "cell_type": "markdown",
      "source": [
        "### Bhairavanath"
      ],
      "metadata": {
        "id": "gGpjTQN48yEl"
      }
    },
    {
      "cell_type": "code",
      "source": [
        "context = \"\"\"Bhairavanath temple is one of the temples that lies at the central of Bhaktapur, Taumadhii Square and Bhairavanath Temple is built in the pagoda style and It is three-storey. It is one of the temple devoted to Lord Bhairava is one of the rectangular based temples of Bhaktapur. Curiously, there is no entrance on the temple's lengthy west facade that faces the square. Instead, priests access the interior from the south. The west facade is largely symmetrical and features a ground-level shrine with Bhairav depicted in miniature on a small metal throne. Michael Hutt notes that this small statue is frequently stolen and replaced. To either side of the deity are hammered copper plates depicting Bhairav's eyes, two pairs of hands, and two dogs and his faithful companions. At present, perhaps to discourage theft, the ground-level shrine is blocked from casual access by a makeshift wooden barricade. The temple is dedicated to lord Bhairav, which is supposed to be the most ferocious form of Lord Shiva. The Bhairavanath established in this temple is a formidable incarnation of lord shiva, who also prefers to name Kasi Vishwanath and Aakash bhairava. He is somehow famous for his obstreperous and stubborn character. Bhairav has a particular fascination with machines and is often thought to inhabit wheels, with different versions of the god inhabiting different wheels on the same chariot. At the Bhairavanath temple, a chariot used in the annual Bisket-Jatra festival is stored, dismantled, against the temple's north wall. Bhairavanath's association with the chariot used in the festival highlights his connection to the annual Bisket-Jatra festival. The statue of Lord Bhairav is about 12 feet long and is one of the largest statues in Kathmandu Valley. Thousands of people visit Bhairavanath temple during Bhairav Ashtami or Bhairav Jayanthi as it is celebrated religiously.  Even though the temple was slightly damaged during the earthquake in November 2015, it still has retrained most of structure. The Renovative history of Bhairavanath Temple says that The temple was first inaugurated by King Ananda Deva in the 13th century.\"\"\"\n",
        "questions=[\"Where is Bhairavanath located?\",\n",
        "           \"Tell me the legends about the temple?\",\n",
        "           \"what deity is the temple dedicated to?\"]\n",
        "answers=[\"Bhairavanath temple is one of the temples that lies at the central of Bhaktapur, Taumadhii Square\",\n",
        "         \"There are legends about the temple. The inner part of the temple consists of the head of Lord Bhairav. There are many stories as to why and how Lord Bhairav\\u2019s head was cut off and worshipped here. According to legend, long ago, Kasi Bhairabnath  traveled to Nepal to view either the Bisket Jatra  or the Bal Kaumari Jatra. A tantric priestess in the crowd recognized him for what he was and attempted to immobilize him, but Vishvanath sought to escape by sinking into the ground. As his body descended into the earth, the priestess realized the god was her own husband. To prevent his escape, she ordered his head cut off where it protruded from the ground. Being a god, this was far from a fatal wound, and the priestess enshrined the head in the temple that now stands here. The body, meanwhile, returned to Benares whence it came. Dowman notes that a headless image of Bhairav is still worshipped there even today. Another story about this temple is also interesting, passed orally by our ancestors. According to this, the lord bhairava of Varanasi once visited Bhaktapur to see Bisket jatra. Bisket jatra is one of the biggest jatras of the newar people. During the festival, the lord Bhairava somehow was recognized by a priest and he just cast a decoy spell on him.  As a quick reaction, he started to sink into the terra firma to go back to Varanasi. But the priest didnot let him go. As if, he grabs the head of Bhairava in his hand and decollates him with his sword. That is why people say that the head doesnot match the body of Kasi Vishwanath. It is also believed that the head is still treasured in a box of this temple.\",\n",
        "         \"The temple is dedicated to lord Bhairav, which is supposed to be the most ferocious form of Lord Shiva\"]\n",
        "for question, answer in zip(questions, answers):\n",
        "  question_answer(context, question, answer)"
      ],
      "metadata": {
        "colab": {
          "base_uri": "https://localhost:8080/"
        },
        "id": "YWST_h5I8l64",
        "outputId": "df468485-e1bd-4ca7-fa68-539a3aad347f"
      },
      "execution_count": null,
      "outputs": [
        {
          "output_type": "stream",
          "name": "stdout",
          "text": [
            "Question: Where is Bhairavanath located?\n",
            "Prediction: \n",
            "True Answer: Bhairavanath temple is one of the temples that lies at the central of Bhaktapur, Taumadhii Square\n",
            "Exact match: False\n",
            "F1 score: 0\n",
            "\n",
            "Question: Tell me the legends about the temple?\n",
            "Prediction: \n",
            "True Answer: There are legends about the temple. The inner part of the temple consists of the head of Lord Bhairav. There are many stories as to why and how Lord Bhairav’s head was cut off and worshipped here. According to legend, long ago, Kasi Bhairabnath  traveled to Nepal to view either the Bisket Jatra  or the Bal Kaumari Jatra. A tantric priestess in the crowd recognized him for what he was and attempted to immobilize him, but Vishvanath sought to escape by sinking into the ground. As his body descended into the earth, the priestess realized the god was her own husband. To prevent his escape, she ordered his head cut off where it protruded from the ground. Being a god, this was far from a fatal wound, and the priestess enshrined the head in the temple that now stands here. The body, meanwhile, returned to Benares whence it came. Dowman notes that a headless image of Bhairav is still worshipped there even today. Another story about this temple is also interesting, passed orally by our ancestors. According to this, the lord bhairava of Varanasi once visited Bhaktapur to see Bisket jatra. Bisket jatra is one of the biggest jatras of the newar people. During the festival, the lord Bhairava somehow was recognized by a priest and he just cast a decoy spell on him.  As a quick reaction, he started to sink into the terra firma to go back to Varanasi. But the priest didnot let him go. As if, he grabs the head of Bhairava in his hand and decollates him with his sword. That is why people say that the head doesnot match the body of Kasi Vishwanath. It is also believed that the head is still treasured in a box of this temple.\n",
            "Exact match: False\n",
            "F1 score: 0\n",
            "\n",
            "Question: what deity is the temple dedicated to?\n",
            "Prediction: \n",
            "True Answer: The temple is dedicated to lord Bhairav, which is supposed to be the most ferocious form of Lord Shiva\n",
            "Exact match: False\n",
            "F1 score: 0\n",
            "\n"
          ]
        }
      ]
    },
    {
      "cell_type": "code",
      "source": [
        "context = \"\"\"Beyoncé Giselle Knowles-Carter (/biːˈjɒnseɪ/ bee-YON-say) (born September 4, 1981) is an American singer,\n",
        "          songwriter, record producer and actress. Born and raised in Houston, Texas, she performed in various singing\n",
        "          and dancing competitions as a child, and rose to fame in the late 1990s as lead singer of R&B girl-group Destiny\\'s Child.\n",
        "          Managed by her father, Mathew Knowles, the group became one of the world\\'s best-selling girl groups of all time.\n",
        "          Their hiatus saw the release of Beyoncé\\'s debut album, Dangerously in Love (2003), which established her as a solo artist worldwide,\n",
        "          earned five Grammy Awards and featured the Billboard Hot 100 number-one singles \"Crazy in Love\" and \"Baby Boy\".\"\"\"\n",
        "\n",
        "\n",
        "questions = [\"For whom the passage is talking about?\",\n",
        "             \"When did Beyonce born?\",\n",
        "             \"Where did Beyonce born?\",\n",
        "             \"What is Beyonce's nationality?\",\n",
        "             \"Who was the Destiny's group manager?\",\n",
        "             \"What name has the Beyoncé's debut album?\",\n",
        "             \"How many Grammy Awards did Beyonce earn?\",\n",
        "             \"When did the Beyoncé's debut album release?\",\n",
        "             \"Who was the lead singer of R&B girl-group Destiny's Child?\"]\n",
        "\n",
        "answers = [\"Beyonce Giselle Knowles - Carter\", \"September 4, 1981\", \"Houston, Texas\",\n",
        "           \"American\", \"Mathew Knowles\", \"Dangerously in Love\", \"five\", \"2003\",\n",
        "           \"Beyonce Giselle Knowles - Carter\"]\n",
        "\n",
        "for question, answer in zip(questions, answers):\n",
        "  question_answer(context, question, answer)"
      ],
      "metadata": {
        "id": "vC6dLLZU83mv",
        "colab": {
          "base_uri": "https://localhost:8080/"
        },
        "outputId": "5d7d240b-84dd-4912-8902-ee9ce53b3bb1"
      },
      "execution_count": null,
      "outputs": [
        {
          "output_type": "stream",
          "name": "stdout",
          "text": [
            "Question: For whom the passage is talking about?\n",
            "Prediction: the group became one of the world ' s best - selling girl groups of all time. their hiatus saw the release of beyonce ' s debut album, dangerously in love ( 2003 ), which established her as a solo artist worldwide, earned five grammy awards and featured the billboard hot 100 number - one singles \" crazy in love \" and \" baby boy \".\n",
            "True Answer: Beyonce Giselle Knowles - Carter\n",
            "Exact match: False\n",
            "F1 score: 0.04\n",
            "\n",
            "Question: When did Beyonce born?\n",
            "Prediction: the group became one of the world ' s best - selling girl groups of all time. their hiatus saw the release of beyonce ' s debut album, dangerously in love ( 2003 ), which established her as a solo artist worldwide, earned five grammy awards and featured the billboard hot 100 number - one singles \" crazy in love \" and \" baby boy \".\n",
            "True Answer: September 4, 1981\n",
            "Exact match: False\n",
            "F1 score: 0\n",
            "\n",
            "Question: Where did Beyonce born?\n",
            "Prediction: the group became one of the world ' s best - selling girl groups of all time. their hiatus saw the release of beyonce ' s debut album, dangerously in love ( 2003 ), which established her as a solo artist worldwide, earned five grammy awards and featured the billboard hot 100 number - one singles \" crazy in love \" and \" baby boy \".\n",
            "True Answer: Houston, Texas\n",
            "Exact match: False\n",
            "F1 score: 0\n",
            "\n",
            "Question: What is Beyonce's nationality?\n",
            "Prediction: the group became one of the world ' s best - selling girl groups of all time. their hiatus saw the release of beyonce ' s debut album, dangerously in love ( 2003 ), which established her as a solo artist worldwide, earned five grammy awards and featured the billboard hot 100 number - one singles \" crazy in love \" and \" baby boy \".\n",
            "True Answer: American\n",
            "Exact match: False\n",
            "F1 score: 0\n",
            "\n",
            "Question: Who was the Destiny's group manager?\n",
            "Prediction: the group became one of the world ' s best - selling girl groups of all time. their hiatus saw the release of beyonce ' s debut album, dangerously in love ( 2003 ), which established her as a solo artist worldwide, earned five grammy awards and featured the billboard hot 100 number - one singles \" crazy in love \" and \" baby boy \".\n",
            "True Answer: Mathew Knowles\n",
            "Exact match: False\n",
            "F1 score: 0\n",
            "\n",
            "Question: What name has the Beyoncé's debut album?\n",
            "Prediction: the group became one of the world ' s best - selling girl groups of all time. their hiatus saw the release of beyonce ' s debut album, dangerously in love ( 2003 ), which established her as a solo artist worldwide, earned five grammy awards and featured the billboard hot 100 number - one singles \" crazy in love \" and \" baby boy \".\n",
            "True Answer: Dangerously in Love\n",
            "Exact match: False\n",
            "F1 score: 0.11\n",
            "\n",
            "Question: How many Grammy Awards did Beyonce earn?\n",
            "Prediction: the group became one of the world ' s best - selling girl groups of all time. their hiatus saw the release of beyonce ' s debut album, dangerously in love ( 2003 ), which established her as a solo artist worldwide, earned five grammy awards and featured the billboard hot 100 number - one singles \" crazy in love \" and \" baby boy \".\n",
            "True Answer: five\n",
            "Exact match: False\n",
            "F1 score: 0.04\n",
            "\n",
            "Question: When did the Beyoncé's debut album release?\n",
            "Prediction: the group became one of the world ' s best - selling girl groups of all time. their hiatus saw the release of beyonce ' s debut album, dangerously in love ( 2003 ), which established her as a solo artist worldwide, earned five grammy awards and featured the billboard hot 100 number - one singles \" crazy in love \" and \" baby boy \".\n",
            "True Answer: 2003\n",
            "Exact match: False\n",
            "F1 score: 0.04\n",
            "\n",
            "Question: Who was the lead singer of R&B girl-group Destiny's Child?\n",
            "Prediction: the group became one of the world ' s best - selling girl groups of all time. their hiatus saw the release of beyonce ' s debut album, dangerously in love ( 2003 ), which established her as a solo artist worldwide, earned five grammy awards and featured the billboard hot 100 number - one singles \" crazy in love \" and \" baby boy \".\n",
            "True Answer: Beyonce Giselle Knowles - Carter\n",
            "Exact match: False\n",
            "F1 score: 0.04\n",
            "\n"
          ]
        }
      ]
    },
    {
      "cell_type": "code",
      "source": [
        "context = \"\"\"Athens is the capital and largest city of Greece. Athens dominates the Attica region and is one of the world's oldest cities,\n",
        "             with its recorded history spanning over 3,400 years and its earliest human presence starting somewhere between the 11th and 7th millennium BC.\n",
        "             Classical Athens was a powerful city-state. It was a center for the arts, learning and philosophy, and the home of Plato's Academy and Aristotle's Lyceum.\n",
        "             It is widely referred to as the cradle of Western civilization and the birthplace of democracy, largely because of its cultural and political impact on the European continent—particularly Ancient Rome.\n",
        "             In modern times, Athens is a large cosmopolitan metropolis and central to economic, financial, industrial, maritime, political and cultural life in Greece.\n",
        "             In 2021, Athens' urban area hosted more than three and a half million people, which is around 35% of the entire population of Greece.\n",
        "             Athens is a Beta global city according to the Globalization and World Cities Research Network, and is one of the biggest economic centers in Southeastern Europe.\n",
        "             It also has a large financial sector, and its port Piraeus is both the largest passenger port in Europe, and the second largest in the world.\"\"\"\n",
        "\n",
        "questions = [\"Which is the largest city in Greece?\",\n",
        "             \"For what was the Athens center?\",\n",
        "             \"Which city was the home of Plato's Academy?\"]\n",
        "\n",
        "answers = [\"Athens\", \"center for the arts, learning and philosophy\", \"Athens\"]\n",
        "\n",
        "for question, answer in zip(questions, answers):\n",
        "  question_answer(context, question, answer)"
      ],
      "metadata": {
        "colab": {
          "base_uri": "https://localhost:8080/"
        },
        "id": "qYb8b7OjZMsl",
        "outputId": "e4383d79-342a-46ba-96c6-d4179d11c07c"
      },
      "execution_count": null,
      "outputs": [
        {
          "output_type": "stream",
          "name": "stdout",
          "text": [
            "Question: Which is the largest city in Greece?\n",
            "Prediction: in modern times, athens is a large cosmopolitan metropolis and central to economic, financial, industrial, maritime, political and cultural life in greece. in 2021, athens ' urban area hosted more than three and a half million people, which is around 35 % of the entire population of greece.\n",
            "True Answer: Athens\n",
            "Exact match: False\n",
            "F1 score: 0.05\n",
            "\n",
            "Question: For what was the Athens center?\n",
            "Prediction: in modern times, athens is a large cosmopolitan metropolis and central to economic, financial, industrial, maritime, political and cultural life in greece. in 2021, athens ' urban area hosted more than three and a half million people, which is around 35 % of the entire population of greece.\n",
            "True Answer: center for the arts, learning and philosophy\n",
            "Exact match: False\n",
            "F1 score: 0.04\n",
            "\n",
            "Question: Which city was the home of Plato's Academy?\n",
            "Prediction: in modern times, athens is a large cosmopolitan metropolis and central to economic, financial, industrial, maritime, political and cultural life in greece. in 2021, athens ' urban area hosted more than three and a half million people, which is around 35 % of the entire population of greece.\n",
            "True Answer: Athens\n",
            "Exact match: False\n",
            "F1 score: 0.05\n",
            "\n"
          ]
        }
      ]
    },
    {
      "cell_type": "code",
      "source": [],
      "metadata": {
        "id": "WJqWczh_fdrN"
      },
      "execution_count": null,
      "outputs": []
    }
  ]
}