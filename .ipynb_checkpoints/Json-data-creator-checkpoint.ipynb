{
 "cells": [
  {
   "cell_type": "code",
   "execution_count": 1,
   "id": "8f6a4733-35a7-4aef-97fb-949c8ebc5f3f",
   "metadata": {},
   "outputs": [],
   "source": [
    "import json\n",
    "import os\n",
    "def append_data_to_file(new_data, filename):\n",
    "    try:\n",
    "        with open(filename, 'r') as file:\n",
    "            existing_data = json.load(file)\n",
    "    except FileNotFoundError:\n",
    "        existing_data = []\n",
    "\n",
    "    existing_data.append(new_data)\n",
    "\n",
    "    with open(filename, 'w') as file:\n",
    "        json.dump(existing_data, file, indent=4)"
   ]
  },
  {
   "cell_type": "code",
   "execution_count": 2,
   "id": "3605a3b1-860e-4bc8-b768-f554aac3ac32",
   "metadata": {},
   "outputs": [],
   "source": [
    "def find_index_using_find(input_paragraph, input_string):\n",
    "    index = input_paragraph.find(input_string)\n",
    "    return index\n",
    "\n",
    "\n",
    "paragraph =\"\"\n",
    "def give_index(answer):\n",
    "    \n",
    "    return find_index_using_find(paragraph, answer)\n"
   ]
  },
  {
   "cell_type": "code",
   "execution_count": 39,
   "id": "cc64acb6-f5e3-4b72-a72f-c9933779ec47",
   "metadata": {},
   "outputs": [],
   "source": [
    "def ret_qas():\n",
    "    qas=[]\n",
    "    def ret_qas_more(answers):\n",
    "        print('Answer wont be changed for paraphased qn')\n",
    "        data_={ \n",
    "            \"id\":'dummy_id',  \n",
    "            \"is_impossible\": False,  \n",
    "            \"question\": input(\"Enter Question: \"),  \n",
    "            \"answers\":answers\n",
    "        }\n",
    "        return data_\n",
    "    def ret_ans():\n",
    "        nested=[]\n",
    "        more_ans='yes'\n",
    "        while (more_ans =='yes'):\n",
    "            answer=input(\"Enter Answer: \")\n",
    "            instant={ \n",
    "                    \"text\": answer,  \n",
    "                    \"answer_start\": int( give_index(answer)),\n",
    "                } \n",
    "            nested.append(instant)\n",
    "            more_ans=input(\"More answer?\")\n",
    "        return nested\n",
    "    rem='yes'\n",
    "    while rem !='no':\n",
    "        data_={ \n",
    "            \"id\":'dummy_id',  \n",
    "            \"is_impossible\": False,  \n",
    "            \"question\": input(\"Enter Question: \"),  \n",
    "            \"answers\":ret_ans()\n",
    "        }\n",
    "        qas.append(data_)\n",
    "        gate=input('Paraphased question remaining')\n",
    "        while gate=='y':\n",
    "            qas.append(ret_qas_more(data_['answers']))\n",
    "            gate=input('Paraphased question remaining')\n",
    "    \n",
    "        rem=input('Remaining?')\n",
    "    return qas\n",
    "    \n",
    "        "
   ]
  },
  {
   "cell_type": "code",
   "execution_count": null,
   "id": "b2fd6da8-9f63-4ee8-96e4-b515cec7d2f4",
   "metadata": {},
   "outputs": [],
   "source": [
    "\n",
    "    "
   ]
  },
  {
   "cell_type": "code",
   "execution_count": 40,
   "id": "c38ab14e-adf7-4ae3-94c1-928a94140d41",
   "metadata": {},
   "outputs": [
    {
     "name": "stdin",
     "output_type": "stream",
     "text": [
      "Enter Question:  qn\n",
      "Enter Answer:  temple was constructed\n",
      "More answer? \n",
      "Paraphased question remaining \n",
      "Remaining? no\n"
     ]
    },
    {
     "data": {
      "text/plain": [
       "{'qas': [{'id': 'dummy_id',\n",
       "   'is_impossible': False,\n",
       "   'question': 'qn',\n",
       "   'answers': [{'text': 'temple was constructed', 'answer_start': 14}]}]}"
      ]
     },
     "execution_count": 40,
     "metadata": {},
     "output_type": "execute_result"
    }
   ],
   "source": [
    "data_inst={ \n",
    " \"qas\":ret_qas()\n",
    "} \n",
    "data_inst\n"
   ]
  },
  {
   "cell_type": "code",
   "execution_count": 30,
   "id": "b849f563-c532-4771-a5c8-b1e122b105c2",
   "metadata": {},
   "outputs": [],
   "source": [
    "append_data_to_file(data_inst, 'Data_2.json')"
   ]
  },
  {
   "cell_type": "code",
   "execution_count": null,
   "id": "d1a13b7b-c112-445e-b2a2-8a94d4ac18ab",
   "metadata": {},
   "outputs": [],
   "source": []
  }
 ],
 "metadata": {
  "kernelspec": {
   "display_name": "Python 3 (ipykernel)",
   "language": "python",
   "name": "python3"
  },
  "language_info": {
   "codemirror_mode": {
    "name": "ipython",
    "version": 3
   },
   "file_extension": ".py",
   "mimetype": "text/x-python",
   "name": "python",
   "nbconvert_exporter": "python",
   "pygments_lexer": "ipython3",
   "version": "3.9.5"
  }
 },
 "nbformat": 4,
 "nbformat_minor": 5
}
